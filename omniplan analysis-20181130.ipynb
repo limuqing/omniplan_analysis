{
 "cells": [
  {
   "cell_type": "code",
   "execution_count": 3,
   "metadata": {
    "scrolled": true
   },
   "outputs": [
    {
     "data": {
      "text/html": [
       "<script type=\"text/javascript\">window.PlotlyConfig = {MathJaxConfig: 'local'};</script><script type=\"text/javascript\">if (window.MathJax) {MathJax.Hub.Config({SVG: {font: \"STIX-Web\"}});}</script><script>requirejs.config({paths: { 'plotly': ['https://cdn.plot.ly/plotly-latest.min']},});if(!window._Plotly) {require(['plotly'],function(plotly) {window._Plotly=plotly;});}</script>"
      ],
      "text/vnd.plotly.v1+html": [
       "<script type=\"text/javascript\">window.PlotlyConfig = {MathJaxConfig: 'local'};</script><script type=\"text/javascript\">if (window.MathJax) {MathJax.Hub.Config({SVG: {font: \"STIX-Web\"}});}</script><script>requirejs.config({paths: { 'plotly': ['https://cdn.plot.ly/plotly-latest.min']},});if(!window._Plotly) {require(['plotly'],function(plotly) {window._Plotly=plotly;});}</script>"
      ]
     },
     "metadata": {},
     "output_type": "display_data"
    }
   ],
   "source": [
    "from lxml import etree, objectify\n",
    "import os\n",
    "import glob\n",
    "from datetime import datetime\n",
    "import dateutil.parser\n",
    "import pytz\n",
    "import time\n",
    "import pprint\n",
    "from business_calendar import Calendar\n",
    "from ldap3 import Server, Connection, SUBTREE\n",
    "import numpy as np\n",
    "import pandas as pd\n",
    "#import matplotlib.pyplot as plt\n",
    "#import seaborn as sns\n",
    "#%matplotlib inline\n",
    "from pyecharts import Bar, Pie, Bar3D\n",
    "#from ipywidgets import interact\n",
    "#import ipywidgets as widgets\n",
    "import plotly.offline as py\n",
    "py.offline.init_notebook_mode(connected=True)\n",
    "import plotly.figure_factory as ff\n",
    "import plotly.graph_objs as go\n",
    "from plotly.graph_objs import Histogram, Bar, Scatter, Box, Layout, Figure\n",
    "import math"
   ]
  },
  {
   "cell_type": "markdown",
   "metadata": {},
   "source": [
    "## 1. omniplan数据解析及处理"
   ]
  },
  {
   "cell_type": "code",
   "execution_count": 4,
   "metadata": {},
   "outputs": [],
   "source": [
    "class ldapc:\n",
    "    def __init__(self, ldap_url, ldap_user, ldap_password):\n",
    "        self.c = self.__init_connection(ldap_url, ldap_user, ldap_password)\n",
    "    \n",
    "    def __init_connection(self, ldap_url, ldap_user, ldap_password):\n",
    "        try:\n",
    "            server = Server(ldap_url)\n",
    "            conn = Connection(server, user=ldap_user, password=ldap_password)\n",
    "            conn.open()\n",
    "            conn.bind()\n",
    "        except Exception as e:\n",
    "            raise e\n",
    "        return conn\n",
    "\n",
    "    def search(self, base_dn, condition, attr):\n",
    "        res = self.c.search(\n",
    "            search_base = base_dn,\n",
    "            search_filter = condition, \n",
    "            search_scope = SUBTREE, \n",
    "            attributes = attr,\n",
    "            paged_size = 5\n",
    "        )\n",
    "        if res:\n",
    "            entry = self.c.response[0]\n",
    "            return entry\n",
    "    \n",
    "    def find_all_map(self, base_dn, attr):\n",
    "        res = self.c.search(\n",
    "            search_base = base_dn,\n",
    "            search_filter = '(displayName=*)', \n",
    "            search_scope = SUBTREE, \n",
    "            attributes = attr,\n",
    "            paged_size = 10000\n",
    "        )\n",
    "        if res:\n",
    "            users = self.c.response\n",
    "            user_map = {}\n",
    "            for user in users:\n",
    "                if 'attributes' in user: \n",
    "                    user = user['attributes']\n",
    "                    user_map[user['displayName']] = user\n",
    "            return user_map\n",
    "        \n",
    "ldap_url='172.20.27.199'\n",
    "ldap_authuser='CN=dev,CN=Users,DC=ldap,DC=cai-inc,DC=com'\n",
    "ldap_authpass='ReadOnly@ZcyDEVUser'\n",
    "base_dn='DC=ldap,DC=cai-inc,DC=com'\n",
    "ldap_context = ldapc(ldap_url, ldap_authuser, ldap_authpass)\n",
    "# attributes = ['department', 'displayName', 'mail', 'sAMAccountName', 'employeeID']\n",
    "attributes = ['department', 'displayName']\n",
    "user_map = ldap_context.find_all_map(base_dn, attributes)\n"
   ]
  },
  {
   "cell_type": "code",
   "execution_count": 5,
   "metadata": {},
   "outputs": [
    {
     "name": "stdout",
     "output_type": "stream",
     "text": [
      "/Users/limuqing/Desktop/omniplan-analysis-python/\n"
     ]
    }
   ],
   "source": [
    "cur_path = os.path.abspath('.') + '/'\n",
    "print (cur_path)"
   ]
  },
  {
   "cell_type": "code",
   "execution_count": 6,
   "metadata": {},
   "outputs": [],
   "source": [
    "def cal_effort(tasks):\n",
    "    '计算每个员工所花工时'\n",
    "    \n",
    "    total_effort = 0\n",
    "    cur_start = 0\n",
    "    cur_end = 0\n",
    "    cur_task = {}\n",
    "    for index in range(len(tasks)):\n",
    "        task = tasks[index]\n",
    "        start = task['start_timestamp']\n",
    "        end = task['end_timestamp']\n",
    "        effort = task['effort']\n",
    "        if index == 0:\n",
    "            cur_start = start\n",
    "            cur_end = end\n",
    "            total_effort += effort\n",
    "        else:\n",
    "            if start >= cur_end:\n",
    "                total_effort += effort\n",
    "                cur_start = start\n",
    "                cur_end = end\n",
    "            elif end > cur_end:\n",
    "                cal = Calendar()\n",
    "                total_effort += abs(cal.workdaycount(task['end_local_time'], cur_task['end_local_time']) * 8 * 3600)\n",
    "                cur_end = end\n",
    "                cur_start = start\n",
    "            else: \n",
    "                cur_start = start\n",
    "        cur_task = task\n",
    "                \n",
    "    return int(total_effort / 3600 / 8)"
   ]
  },
  {
   "cell_type": "code",
   "execution_count": 7,
   "metadata": {},
   "outputs": [],
   "source": [
    "def parseFile(oplxFileName):\n",
    "    '解析xml文件，转化为保存每个员工ID、姓名、部门以及工时的dateframe'\n",
    "    \n",
    "    metadata = cur_path + oplxFileName + '/Actual.xml'\n",
    "    parser = etree.XMLParser(remove_blank_text=True)\n",
    "    tree = etree.parse(metadata, parser) #lxml.etree._ElementTree对象\n",
    "    root = tree.getroot()#lxml.etree._Element对象\n",
    "    #去除tag前面的命名空间\n",
    "    for elem in root.iter():\n",
    "        i = elem.tag.find('}')\n",
    "        if i >= 0:\n",
    "            elem.tag = elem.tag[i+1:]\n",
    "\n",
    "            \n",
    "    resources = []\n",
    "    for staff in root.xpath(\"//resource/type[text()='Staff']/..\"):\n",
    "        staff_id = staff.get('id')\n",
    "        staff_name = staff.find('name').text\n",
    "        try:\n",
    "            ldap_user = user_map[staff_name] #ldap-user为一个字典，如{'displayName': '一休', 'department': '政采云有限公司,运营部,交易运营,浙江区域及垂管运营'}\n",
    "            staff = {\n",
    "                'id': staff_id,\n",
    "                'name': staff_name\n",
    "            }\n",
    "            if 'department' in ldap_user:\n",
    "                if not isinstance(ldap_user['department'], list):\n",
    "                    depts_list = ldap_user['department'].split(',')\n",
    "                    ldap_user['department'] = depts_list[len(depts_list) - 1]\n",
    "                    staff = dict(**staff, **ldap_user)\n",
    "                    resources.append(staff)\n",
    "            else:\n",
    "                print('Error: {}员工缺少部门信息'.format(ldap_user['displayName']))\n",
    "        \n",
    "        except KeyError:\n",
    "            print('Error: 员工不存在, 文件: {}, 员工名称:{}'.format(oplxFileName, staff_name))\n",
    "\n",
    "            \n",
    "    for staff in resources:\n",
    "        tasks = root.xpath(\"//task/assignment[@idref='\" + staff['id'] + \"']/..\")\n",
    "        staff_tasks = []\n",
    "        for task in tasks:\n",
    "            try:\n",
    "                assignment_count = len(task.findall('assignment'))\n",
    "                effort = int(int(task.find('effort').text) / assignment_count)\n",
    "                start_local_time = dateutil.parser.parse(task.find('start-constraint-date').text).astimezone(pytz.timezone('Asia/Shanghai')).date()\n",
    "                cal = Calendar()\n",
    "                end_local_time = cal.addworkdays(start_local_time, int(effort / 3600 / 8))\n",
    "                start_timestamp = int(time.mktime(start_local_time.timetuple()))\n",
    "                end_timestamp = int(time.mktime(end_local_time.timetuple()))\n",
    "                staff_tasks.append({\n",
    "                    'start_timestamp': start_timestamp,\n",
    "                    'start_local_time': start_local_time,\n",
    "                    'end_timestamp': end_timestamp,\n",
    "                    'end_local_time': end_local_time,\n",
    "                    'title': task.find('title').text,\n",
    "                    'effort': effort\n",
    "                })\n",
    "            except AttributeError as e:\n",
    "                print('Error: 属性缺失, 文件: {}, 任务名称: {}'.format(oplxFileName, task.find('title').text))\n",
    "        staff_tasks = sorted(staff_tasks, key=lambda k: k['end_timestamp'], reverse=True)\n",
    "        staff['tasks'] = sorted(staff_tasks, key=lambda k: k['start_timestamp'])\n",
    "        staff['effort'] = cal_effort(staff['tasks'])\n",
    "        \n",
    "    df = pd.DataFrame(resources)\n",
    "    df = df.dropna(subset=['department'])\n",
    "    return df"
   ]
  },
  {
   "cell_type": "code",
   "execution_count": 8,
   "metadata": {
    "scrolled": true
   },
   "outputs": [
    {
     "name": "stdout",
     "output_type": "stream",
     "text": [
      "Error: 员工不存在, 文件: 青松-201811.oplx, 员工名称:资源 1\n",
      "Error: 员工不存在, 文件: 青松-201811.oplx, 员工名称:陈龙\n",
      "Error: 员工不存在, 文件: 青松-201811.oplx, 员工名称:韦凯驿\n",
      "Error: 属性缺失, 文件: 青松-201811.oplx, 任务名称: 协议供货_20181106\n",
      "Error: 属性缺失, 文件: 青松-201811.oplx, 任务名称: 在线询价_20181115\n",
      "Error: 属性缺失, 文件: 青松-201811.oplx, 任务名称: 在线询价_20181115\n",
      "Error: 属性缺失, 文件: 青松-201811.oplx, 任务名称: 在线询价_20181115\n",
      "Error: 员工不存在, 文件: 黄裳-201811.oplx, 员工名称:资源 1\n",
      "Error: 员工不存在, 文件: 黄裳-201811.oplx, 员工名称:鹰涯\n",
      "Error: 员工不存在, 文件: 黄裳-201811.oplx, 员工名称:潇湘\n",
      "Error: 员工不存在, 文件: 黄裳-201811.oplx, 员工名称:扬扬\n",
      "Error: 属性缺失, 文件: 黄裳-201811.oplx, 任务名称: 采购目录_20181120（采购目录老接口适配）- 开发\n",
      "Error: 属性缺失, 文件: 黄裳-201811.oplx, 任务名称: 收费策略配置\n",
      "Error: 员工不存在, 文件: 元芳-201811.oplx, 员工名称:资源 1\n",
      "Error: 员工不存在, 文件: 元芳-201811.oplx, 员工名称:宪标\n",
      "Error: 员工不存在, 文件: 元芳-201811.oplx, 员工名称:竹溪\n",
      "Error: 员工不存在, 文件: 元芳-201811.oplx, 员工名称:元帅\n",
      "Error: 属性缺失, 文件: 元芳-201811.oplx, 任务名称: 类目层级扩增需求后端\n",
      "Error: 属性缺失, 文件: 元芳-201811.oplx, 任务名称: 网超对接协议中心后端\n",
      "Error: 属性缺失, 文件: 元芳-201811.oplx, 任务名称: 调用SPU接口方式改造后端\n",
      "Error: 属性缺失, 文件: 元芳-201811.oplx, 任务名称: 【前台类目】标签化后端\n",
      "Error: 属性缺失, 文件: 元芳-201811.oplx, 任务名称: 【 巡检工具 】商品中心支持后端\n",
      "Error: 属性缺失, 文件: 元芳-201811.oplx, 任务名称: 分词优化后端\n",
      "Error: 属性缺失, 文件: 元芳-201811.oplx, 任务名称: 电子存包柜-搜索关键词（结果排序优化）后端\n",
      "Error: 属性缺失, 文件: 元芳-201811.oplx, 任务名称: 网超对接协议中心后端\n",
      "Error: 属性缺失, 文件: 元芳-201811.oplx, 任务名称: DRDS迁移后端\n",
      "Error: 属性缺失, 文件: 元芳-201811.oplx, 任务名称: ES内协议商品需要dump 协议状态后端\n",
      "Error: 属性缺失, 文件: 元芳-201811.oplx, 任务名称: 商品发布支持图片批量上传后端\n",
      "Error: 属性缺失, 文件: 元芳-201811.oplx, 任务名称: 商品中心对服务窗服务的支持后端\n",
      "Error: 属性缺失, 文件: 元芳-201811.oplx, 任务名称: 【疫苗馆】增加商品属性后端\n",
      "Error: 属性缺失, 文件: 元芳-201811.oplx, 任务名称: 网超对接协议中心后端\n",
      "Error: 属性缺失, 文件: 元芳-201811.oplx, 任务名称: DRDS迁移后端\n",
      "Error: 属性缺失, 文件: 元芳-201811.oplx, 任务名称: 通过item_id获取sku信息后端\n",
      "Error: 属性缺失, 文件: 元芳-201811.oplx, 任务名称: 运费模板新增可选择重复的区域后端\n",
      "Error: 属性缺失, 文件: 元芳-201811.oplx, 任务名称: 商品销售渠道（类目标签）及商品抽取接口服务后端\n",
      "Error: 属性缺失, 文件: 元芳-201811.oplx, 任务名称: 【国税行业馆】税务系统-政府采购节（商品打标）后端\n",
      "Error: 属性缺失, 文件: 元芳-201811.oplx, 任务名称: 计分事件源对接研发\n",
      "Error: 属性缺失, 文件: 元芳-201811.oplx, 任务名称: STR对接项目采购研发\n",
      "Error: 属性缺失, 文件: 元芳-201811.oplx, 任务名称: 类目层级扩增需求前端\n",
      "Error: 属性缺失, 文件: 元芳-201811.oplx, 任务名称: 商品中心对服务窗服务的支持前端\n",
      "Error: 属性缺失, 文件: 元芳-201811.oplx, 任务名称: 【疫苗馆】增加商品属性前端\n",
      "Error: 属性缺失, 文件: 元芳-201811.oplx, 任务名称: 网超对接协议中心前端\n",
      "Error: 属性缺失, 文件: 元芳-201811.oplx, 任务名称: 运费模板新增可选择重复的区域前端\n",
      "Error: 属性缺失, 文件: 元芳-201811.oplx, 任务名称: 调用SPU接口方式改造前端\n",
      "Error: 属性缺失, 文件: 元芳-201811.oplx, 任务名称: 【国税行业馆】税务系统-政府采购节（商品打标）前端\n",
      "Error: 属性缺失, 文件: 元芳-201811.oplx, 任务名称: 【前台类目】标签化前端\n",
      "Error: 属性缺失, 文件: 元芳-201811.oplx, 任务名称: 商品发布支持图片批量上传前端\n",
      "Error: 属性缺失, 文件: 元芳-201811.oplx, 任务名称: STR对接项目采购研发\n",
      "Error: 属性缺失, 文件: 元芳-201811.oplx, 任务名称: 类目层级扩增需求测试\n",
      "Error: 属性缺失, 文件: 元芳-201811.oplx, 任务名称: 分词优化测试\n",
      "Error: 属性缺失, 文件: 元芳-201811.oplx, 任务名称: 电子存包柜-搜索关键词（结果排序优化）测试\n",
      "Error: 属性缺失, 文件: 元芳-201811.oplx, 任务名称: 商品中心对服务窗服务的支持测试\n",
      "Error: 属性缺失, 文件: 元芳-201811.oplx, 任务名称: 【疫苗馆】增加商品属性测试\n",
      "Error: 属性缺失, 文件: 元芳-201811.oplx, 任务名称: 网超对接协议中心测试\n",
      "Error: 属性缺失, 文件: 元芳-201811.oplx, 任务名称: DRDS迁移测试\n",
      "Error: 属性缺失, 文件: 元芳-201811.oplx, 任务名称: 通过item_id获取sku信息测试\n",
      "Error: 属性缺失, 文件: 元芳-201811.oplx, 任务名称: 运费模板新增可选择重复的区域测试\n",
      "Error: 属性缺失, 文件: 元芳-201811.oplx, 任务名称: 调用SPU接口方式改造测试\n",
      "Error: 属性缺失, 文件: 元芳-201811.oplx, 任务名称: 商品销售渠道（类目标签）及商品抽取接口服务测试\n",
      "Error: 属性缺失, 文件: 元芳-201811.oplx, 任务名称: ES内协议商品需要dump 协议状态测试\n",
      "Error: 属性缺失, 文件: 元芳-201811.oplx, 任务名称: 【国税行业馆】税务系统-政府采购节（商品打标）测试\n",
      "Error: 属性缺失, 文件: 元芳-201811.oplx, 任务名称: 【前台类目】标签化测试\n",
      "Error: 属性缺失, 文件: 元芳-201811.oplx, 任务名称: 商品发布支持图片批量上传测试\n",
      "Error: 属性缺失, 文件: 元芳-201811.oplx, 任务名称: 【 巡检工具 】商品中心支持测试\n"
     ]
    }
   ],
   "source": [
    "dfs = []\n",
    "for oplxFile in glob.glob('*.oplx'):\n",
    "    dfs.append(parseFile(oplxFile))\n",
    "d = pd.concat(dfs).drop(columns=['id'])"
   ]
  },
  {
   "cell_type": "markdown",
   "metadata": {},
   "source": [
    "## 2. 数据概览"
   ]
  },
  {
   "cell_type": "markdown",
   "metadata": {},
   "source": [
    "数据保存为dataframe格式，其结构如下表所示："
   ]
  },
  {
   "cell_type": "code",
   "execution_count": 9,
   "metadata": {
    "scrolled": true
   },
   "outputs": [
    {
     "data": {
      "application/vnd.plotly.v1+json": {
       "data": [
        {
         "colorscale": [
          [
           0,
           "#00083e"
          ],
          [
           0.5,
           "#ededee"
          ],
          [
           1,
           "#ffffff"
          ]
         ],
         "hoverinfo": "none",
         "opacity": 0.75,
         "showscale": false,
         "type": "heatmap",
         "uid": "f0949b8d-c2a4-43d9-88f3-766c897173ff",
         "z": [
          [
           0,
           0,
           0,
           0,
           0
          ],
          [
           0.5,
           0.5,
           0.5,
           0.5,
           0.5
          ],
          [
           1,
           1,
           1,
           1,
           1
          ],
          [
           0.5,
           0.5,
           0.5,
           0.5,
           0.5
          ],
          [
           1,
           1,
           1,
           1,
           1
          ],
          [
           0.5,
           0.5,
           0.5,
           0.5,
           0.5
          ],
          [
           1,
           1,
           1,
           1,
           1
          ],
          [
           0.5,
           0.5,
           0.5,
           0.5,
           0.5
          ],
          [
           1,
           1,
           1,
           1,
           1
          ],
          [
           0.5,
           0.5,
           0.5,
           0.5,
           0.5
          ],
          [
           1,
           1,
           1,
           1,
           1
          ],
          [
           0.5,
           0.5,
           0.5,
           0.5,
           0.5
          ],
          [
           1,
           1,
           1,
           1,
           1
          ],
          [
           0.5,
           0.5,
           0.5,
           0.5,
           0.5
          ],
          [
           1,
           1,
           1,
           1,
           1
          ],
          [
           0.5,
           0.5,
           0.5,
           0.5,
           0.5
          ],
          [
           1,
           1,
           1,
           1,
           1
          ],
          [
           0.5,
           0.5,
           0.5,
           0.5,
           0.5
          ],
          [
           1,
           1,
           1,
           1,
           1
          ],
          [
           0.5,
           0.5,
           0.5,
           0.5,
           0.5
          ],
          [
           1,
           1,
           1,
           1,
           1
          ],
          [
           0.5,
           0.5,
           0.5,
           0.5,
           0.5
          ],
          [
           1,
           1,
           1,
           1,
           1
          ],
          [
           0.5,
           0.5,
           0.5,
           0.5,
           0.5
          ],
          [
           1,
           1,
           1,
           1,
           1
          ],
          [
           0.5,
           0.5,
           0.5,
           0.5,
           0.5
          ],
          [
           1,
           1,
           1,
           1,
           1
          ],
          [
           0.5,
           0.5,
           0.5,
           0.5,
           0.5
          ],
          [
           1,
           1,
           1,
           1,
           1
          ],
          [
           0.5,
           0.5,
           0.5,
           0.5,
           0.5
          ],
          [
           1,
           1,
           1,
           1,
           1
          ],
          [
           0.5,
           0.5,
           0.5,
           0.5,
           0.5
          ],
          [
           1,
           1,
           1,
           1,
           1
          ],
          [
           0.5,
           0.5,
           0.5,
           0.5,
           0.5
          ],
          [
           1,
           1,
           1,
           1,
           1
          ],
          [
           0.5,
           0.5,
           0.5,
           0.5,
           0.5
          ],
          [
           1,
           1,
           1,
           1,
           1
          ],
          [
           0.5,
           0.5,
           0.5,
           0.5,
           0.5
          ],
          [
           1,
           1,
           1,
           1,
           1
          ],
          [
           0.5,
           0.5,
           0.5,
           0.5,
           0.5
          ],
          [
           1,
           1,
           1,
           1,
           1
          ],
          [
           0.5,
           0.5,
           0.5,
           0.5,
           0.5
          ],
          [
           1,
           1,
           1,
           1,
           1
          ],
          [
           0.5,
           0.5,
           0.5,
           0.5,
           0.5
          ],
          [
           1,
           1,
           1,
           1,
           1
          ],
          [
           0.5,
           0.5,
           0.5,
           0.5,
           0.5
          ],
          [
           1,
           1,
           1,
           1,
           1
          ],
          [
           0.5,
           0.5,
           0.5,
           0.5,
           0.5
          ],
          [
           1,
           1,
           1,
           1,
           1
          ],
          [
           0.5,
           0.5,
           0.5,
           0.5,
           0.5
          ],
          [
           1,
           1,
           1,
           1,
           1
          ],
          [
           0.5,
           0.5,
           0.5,
           0.5,
           0.5
          ],
          [
           1,
           1,
           1,
           1,
           1
          ],
          [
           0.5,
           0.5,
           0.5,
           0.5,
           0.5
          ],
          [
           1,
           1,
           1,
           1,
           1
          ],
          [
           0.5,
           0.5,
           0.5,
           0.5,
           0.5
          ],
          [
           1,
           1,
           1,
           1,
           1
          ]
         ]
        }
       ],
       "layout": {
        "annotations": [
         {
          "align": "left",
          "font": {
           "color": "#ffffff"
          },
          "showarrow": false,
          "text": "<b>department</b>",
          "x": -0.45,
          "xanchor": "left",
          "xref": "x",
          "y": 0,
          "yref": "y"
         },
         {
          "align": "left",
          "font": {
           "color": "#ffffff"
          },
          "showarrow": false,
          "text": "<b>displayName</b>",
          "x": 0.55,
          "xanchor": "left",
          "xref": "x",
          "y": 0,
          "yref": "y"
         },
         {
          "align": "left",
          "font": {
           "color": "#ffffff"
          },
          "showarrow": false,
          "text": "<b>effort</b>",
          "x": 1.55,
          "xanchor": "left",
          "xref": "x",
          "y": 0,
          "yref": "y"
         },
         {
          "align": "left",
          "font": {
           "color": "#ffffff"
          },
          "showarrow": false,
          "text": "<b>name</b>",
          "x": 2.55,
          "xanchor": "left",
          "xref": "x",
          "y": 0,
          "yref": "y"
         },
         {
          "align": "left",
          "font": {
           "color": "#ffffff"
          },
          "showarrow": false,
          "text": "<b>tasks</b>",
          "x": 3.55,
          "xanchor": "left",
          "xref": "x",
          "y": 0,
          "yref": "y"
         },
         {
          "align": "left",
          "font": {
           "color": "#000000"
          },
          "showarrow": false,
          "text": "电子卖场1",
          "x": -0.45,
          "xanchor": "left",
          "xref": "x",
          "y": 1,
          "yref": "y"
         },
         {
          "align": "left",
          "font": {
           "color": "#000000"
          },
          "showarrow": false,
          "text": "白龙",
          "x": 0.55,
          "xanchor": "left",
          "xref": "x",
          "y": 1,
          "yref": "y"
         },
         {
          "align": "left",
          "font": {
           "color": "#000000"
          },
          "showarrow": false,
          "text": "31",
          "x": 1.55,
          "xanchor": "left",
          "xref": "x",
          "y": 1,
          "yref": "y"
         },
         {
          "align": "left",
          "font": {
           "color": "#000000"
          },
          "showarrow": false,
          "text": "白龙",
          "x": 2.55,
          "xanchor": "left",
          "xref": "x",
          "y": 1,
          "yref": "y"
         },
         {
          "align": "left",
          "font": {
           "color": "#000000"
          },
          "showarrow": false,
          "text": "[{'start_timestamp': 1539792000, 'start_local_time': datetime.date(2018, 10, 18), 'end_timestamp': 1541433600, 'end_local_time': datetime.date(2018, 11, 6), 'title': '协议供货_20181120', 'effort': 396000}, {'start_timestamp': 1541001600, 'start_local_time': datetime.date(2018, 11, 1), 'end_timestamp': 1543507200, 'end_local_time': datetime.date(2018, 11, 30), 'title': '协议供货_20181129', 'effort': 604800}]",
          "x": 3.55,
          "xanchor": "left",
          "xref": "x",
          "y": 1,
          "yref": "y"
         },
         {
          "align": "left",
          "font": {
           "color": "#000000"
          },
          "showarrow": false,
          "text": "电子卖场1",
          "x": -0.45,
          "xanchor": "left",
          "xref": "x",
          "y": 2,
          "yref": "y"
         },
         {
          "align": "left",
          "font": {
           "color": "#000000"
          },
          "showarrow": false,
          "text": "三斤",
          "x": 0.55,
          "xanchor": "left",
          "xref": "x",
          "y": 2,
          "yref": "y"
         },
         {
          "align": "left",
          "font": {
           "color": "#000000"
          },
          "showarrow": false,
          "text": "13",
          "x": 1.55,
          "xanchor": "left",
          "xref": "x",
          "y": 2,
          "yref": "y"
         },
         {
          "align": "left",
          "font": {
           "color": "#000000"
          },
          "showarrow": false,
          "text": "三斤",
          "x": 2.55,
          "xanchor": "left",
          "xref": "x",
          "y": 2,
          "yref": "y"
         },
         {
          "align": "left",
          "font": {
           "color": "#000000"
          },
          "showarrow": false,
          "text": "[{'start_timestamp': 1539792000, 'start_local_time': datetime.date(2018, 10, 18), 'end_timestamp': 1541433600, 'end_local_time': datetime.date(2018, 11, 6), 'title': '协议供货_20181120', 'effort': 396000}]",
          "x": 3.55,
          "xanchor": "left",
          "xref": "x",
          "y": 2,
          "yref": "y"
         },
         {
          "align": "left",
          "font": {
           "color": "#000000"
          },
          "showarrow": false,
          "text": "电子卖场1",
          "x": -0.45,
          "xanchor": "left",
          "xref": "x",
          "y": 3,
          "yref": "y"
         },
         {
          "align": "left",
          "font": {
           "color": "#000000"
          },
          "showarrow": false,
          "text": "阿飞",
          "x": 0.55,
          "xanchor": "left",
          "xref": "x",
          "y": 3,
          "yref": "y"
         },
         {
          "align": "left",
          "font": {
           "color": "#000000"
          },
          "showarrow": false,
          "text": "13",
          "x": 1.55,
          "xanchor": "left",
          "xref": "x",
          "y": 3,
          "yref": "y"
         },
         {
          "align": "left",
          "font": {
           "color": "#000000"
          },
          "showarrow": false,
          "text": "阿飞",
          "x": 2.55,
          "xanchor": "left",
          "xref": "x",
          "y": 3,
          "yref": "y"
         },
         {
          "align": "left",
          "font": {
           "color": "#000000"
          },
          "showarrow": false,
          "text": "[{'start_timestamp': 1539792000, 'start_local_time': datetime.date(2018, 10, 18), 'end_timestamp': 1541433600, 'end_local_time': datetime.date(2018, 11, 6), 'title': '协议供货_20181120', 'effort': 396000}]",
          "x": 3.55,
          "xanchor": "left",
          "xref": "x",
          "y": 3,
          "yref": "y"
         },
         {
          "align": "left",
          "font": {
           "color": "#000000"
          },
          "showarrow": false,
          "text": "电子卖场1",
          "x": -0.45,
          "xanchor": "left",
          "xref": "x",
          "y": 4,
          "yref": "y"
         },
         {
          "align": "left",
          "font": {
           "color": "#000000"
          },
          "showarrow": false,
          "text": "越陌",
          "x": 0.55,
          "xanchor": "left",
          "xref": "x",
          "y": 4,
          "yref": "y"
         },
         {
          "align": "left",
          "font": {
           "color": "#000000"
          },
          "showarrow": false,
          "text": "31",
          "x": 1.55,
          "xanchor": "left",
          "xref": "x",
          "y": 4,
          "yref": "y"
         },
         {
          "align": "left",
          "font": {
           "color": "#000000"
          },
          "showarrow": false,
          "text": "越陌",
          "x": 2.55,
          "xanchor": "left",
          "xref": "x",
          "y": 4,
          "yref": "y"
         },
         {
          "align": "left",
          "font": {
           "color": "#000000"
          },
          "showarrow": false,
          "text": "[{'start_timestamp': 1539792000, 'start_local_time': datetime.date(2018, 10, 18), 'end_timestamp': 1541433600, 'end_local_time': datetime.date(2018, 11, 6), 'title': '协议供货_20181120', 'effort': 396000}, {'start_timestamp': 1541001600, 'start_local_time': datetime.date(2018, 11, 1), 'end_timestamp': 1543507200, 'end_local_time': datetime.date(2018, 11, 30), 'title': '协议供货_20181129', 'effort': 604800}]",
          "x": 3.55,
          "xanchor": "left",
          "xref": "x",
          "y": 4,
          "yref": "y"
         },
         {
          "align": "left",
          "font": {
           "color": "#000000"
          },
          "showarrow": false,
          "text": "电子卖场1",
          "x": -0.45,
          "xanchor": "left",
          "xref": "x",
          "y": 5,
          "yref": "y"
         },
         {
          "align": "left",
          "font": {
           "color": "#000000"
          },
          "showarrow": false,
          "text": "老曹",
          "x": 0.55,
          "xanchor": "left",
          "xref": "x",
          "y": 5,
          "yref": "y"
         },
         {
          "align": "left",
          "font": {
           "color": "#000000"
          },
          "showarrow": false,
          "text": "22",
          "x": 1.55,
          "xanchor": "left",
          "xref": "x",
          "y": 5,
          "yref": "y"
         },
         {
          "align": "left",
          "font": {
           "color": "#000000"
          },
          "showarrow": false,
          "text": "老曹",
          "x": 2.55,
          "xanchor": "left",
          "xref": "x",
          "y": 5,
          "yref": "y"
         },
         {
          "align": "left",
          "font": {
           "color": "#000000"
          },
          "showarrow": false,
          "text": "[{'start_timestamp': 1541001600, 'start_local_time': datetime.date(2018, 11, 1), 'end_timestamp': 1543766400, 'end_local_time': datetime.date(2018, 12, 3), 'title': '交易中心_20181130', 'effort': 633600}]",
          "x": 3.55,
          "xanchor": "left",
          "xref": "x",
          "y": 5,
          "yref": "y"
         },
         {
          "align": "left",
          "font": {
           "color": "#000000"
          },
          "showarrow": false,
          "text": "电子卖场1",
          "x": -0.45,
          "xanchor": "left",
          "xref": "x",
          "y": 6,
          "yref": "y"
         },
         {
          "align": "left",
          "font": {
           "color": "#000000"
          },
          "showarrow": false,
          "text": "虫二",
          "x": 0.55,
          "xanchor": "left",
          "xref": "x",
          "y": 6,
          "yref": "y"
         },
         {
          "align": "left",
          "font": {
           "color": "#000000"
          },
          "showarrow": false,
          "text": "0",
          "x": 1.55,
          "xanchor": "left",
          "xref": "x",
          "y": 6,
          "yref": "y"
         },
         {
          "align": "left",
          "font": {
           "color": "#000000"
          },
          "showarrow": false,
          "text": "虫二",
          "x": 2.55,
          "xanchor": "left",
          "xref": "x",
          "y": 6,
          "yref": "y"
         },
         {
          "align": "left",
          "font": {
           "color": "#000000"
          },
          "showarrow": false,
          "text": "[]",
          "x": 3.55,
          "xanchor": "left",
          "xref": "x",
          "y": 6,
          "yref": "y"
         },
         {
          "align": "left",
          "font": {
           "color": "#000000"
          },
          "showarrow": false,
          "text": "电子卖场1",
          "x": -0.45,
          "xanchor": "left",
          "xref": "x",
          "y": 7,
          "yref": "y"
         },
         {
          "align": "left",
          "font": {
           "color": "#000000"
          },
          "showarrow": false,
          "text": "贝塔",
          "x": 0.55,
          "xanchor": "left",
          "xref": "x",
          "y": 7,
          "yref": "y"
         },
         {
          "align": "left",
          "font": {
           "color": "#000000"
          },
          "showarrow": false,
          "text": "10",
          "x": 1.55,
          "xanchor": "left",
          "xref": "x",
          "y": 7,
          "yref": "y"
         },
         {
          "align": "left",
          "font": {
           "color": "#000000"
          },
          "showarrow": false,
          "text": "贝塔",
          "x": 2.55,
          "xanchor": "left",
          "xref": "x",
          "y": 7,
          "yref": "y"
         },
         {
          "align": "left",
          "font": {
           "color": "#000000"
          },
          "showarrow": false,
          "text": "[{'start_timestamp': 1540483200, 'start_local_time': datetime.date(2018, 10, 26), 'end_timestamp': 1541692800, 'end_local_time': datetime.date(2018, 11, 9), 'title': '在线询价_20181108', 'effort': 288000}]",
          "x": 3.55,
          "xanchor": "left",
          "xref": "x",
          "y": 7,
          "yref": "y"
         },
         {
          "align": "left",
          "font": {
           "color": "#000000"
          },
          "showarrow": false,
          "text": "电子卖场1",
          "x": -0.45,
          "xanchor": "left",
          "xref": "x",
          "y": 8,
          "yref": "y"
         },
         {
          "align": "left",
          "font": {
           "color": "#000000"
          },
          "showarrow": false,
          "text": "尼采",
          "x": 0.55,
          "xanchor": "left",
          "xref": "x",
          "y": 8,
          "yref": "y"
         },
         {
          "align": "left",
          "font": {
           "color": "#000000"
          },
          "showarrow": false,
          "text": "10",
          "x": 1.55,
          "xanchor": "left",
          "xref": "x",
          "y": 8,
          "yref": "y"
         },
         {
          "align": "left",
          "font": {
           "color": "#000000"
          },
          "showarrow": false,
          "text": "尼采",
          "x": 2.55,
          "xanchor": "left",
          "xref": "x",
          "y": 8,
          "yref": "y"
         },
         {
          "align": "left",
          "font": {
           "color": "#000000"
          },
          "showarrow": false,
          "text": "[{'start_timestamp': 1540483200, 'start_local_time': datetime.date(2018, 10, 26), 'end_timestamp': 1541692800, 'end_local_time': datetime.date(2018, 11, 9), 'title': '在线询价_20181108', 'effort': 288000}]",
          "x": 3.55,
          "xanchor": "left",
          "xref": "x",
          "y": 8,
          "yref": "y"
         },
         {
          "align": "left",
          "font": {
           "color": "#000000"
          },
          "showarrow": false,
          "text": "电子卖场1",
          "x": -0.45,
          "xanchor": "left",
          "xref": "x",
          "y": 9,
          "yref": "y"
         },
         {
          "align": "left",
          "font": {
           "color": "#000000"
          },
          "showarrow": false,
          "text": "泽溥",
          "x": 0.55,
          "xanchor": "left",
          "xref": "x",
          "y": 9,
          "yref": "y"
         },
         {
          "align": "left",
          "font": {
           "color": "#000000"
          },
          "showarrow": false,
          "text": "0",
          "x": 1.55,
          "xanchor": "left",
          "xref": "x",
          "y": 9,
          "yref": "y"
         },
         {
          "align": "left",
          "font": {
           "color": "#000000"
          },
          "showarrow": false,
          "text": "泽溥",
          "x": 2.55,
          "xanchor": "left",
          "xref": "x",
          "y": 9,
          "yref": "y"
         },
         {
          "align": "left",
          "font": {
           "color": "#000000"
          },
          "showarrow": false,
          "text": "[]",
          "x": 3.55,
          "xanchor": "left",
          "xref": "x",
          "y": 9,
          "yref": "y"
         },
         {
          "align": "left",
          "font": {
           "color": "#000000"
          },
          "showarrow": false,
          "text": "电子卖场1",
          "x": -0.45,
          "xanchor": "left",
          "xref": "x",
          "y": 10,
          "yref": "y"
         },
         {
          "align": "left",
          "font": {
           "color": "#000000"
          },
          "showarrow": false,
          "text": "致虑",
          "x": 0.55,
          "xanchor": "left",
          "xref": "x",
          "y": 10,
          "yref": "y"
         },
         {
          "align": "left",
          "font": {
           "color": "#000000"
          },
          "showarrow": false,
          "text": "37",
          "x": 1.55,
          "xanchor": "left",
          "xref": "x",
          "y": 10,
          "yref": "y"
         },
         {
          "align": "left",
          "font": {
           "color": "#000000"
          },
          "showarrow": false,
          "text": "致虑",
          "x": 2.55,
          "xanchor": "left",
          "xref": "x",
          "y": 10,
          "yref": "y"
         },
         {
          "align": "left",
          "font": {
           "color": "#000000"
          },
          "showarrow": false,
          "text": "[{'start_timestamp': 1539532800, 'start_local_time': datetime.date(2018, 10, 15), 'end_timestamp': 1543939200, 'end_local_time': datetime.date(2018, 12, 5), 'title': '协议中心_20181204', 'effort': 1065600}, {'start_timestamp': 1541001600, 'start_local_time': datetime.date(2018, 11, 1), 'end_timestamp': 1542297600, 'end_local_time': datetime.date(2018, 11, 16), 'title': '协议中心_20181115', 'effort': 316800}]",
          "x": 3.55,
          "xanchor": "left",
          "xref": "x",
          "y": 10,
          "yref": "y"
         },
         {
          "align": "left",
          "font": {
           "color": "#000000"
          },
          "showarrow": false,
          "text": "电子卖场1",
          "x": -0.45,
          "xanchor": "left",
          "xref": "x",
          "y": 11,
          "yref": "y"
         },
         {
          "align": "left",
          "font": {
           "color": "#000000"
          },
          "showarrow": false,
          "text": "彬彬",
          "x": 0.55,
          "xanchor": "left",
          "xref": "x",
          "y": 11,
          "yref": "y"
         },
         {
          "align": "left",
          "font": {
           "color": "#000000"
          },
          "showarrow": false,
          "text": "20",
          "x": 1.55,
          "xanchor": "left",
          "xref": "x",
          "y": 11,
          "yref": "y"
         },
         {
          "align": "left",
          "font": {
           "color": "#000000"
          },
          "showarrow": false,
          "text": "彬彬",
          "x": 2.55,
          "xanchor": "left",
          "xref": "x",
          "y": 11,
          "yref": "y"
         },
         {
          "align": "left",
          "font": {
           "color": "#000000"
          },
          "showarrow": false,
          "text": "[{'start_timestamp': 1541001600, 'start_local_time': datetime.date(2018, 11, 1), 'end_timestamp': 1542297600, 'end_local_time': datetime.date(2018, 11, 16), 'title': '协议中心_20181115', 'effort': 316800}, {'start_timestamp': 1541088000, 'start_local_time': datetime.date(2018, 11, 2), 'end_timestamp': 1543420800, 'end_local_time': datetime.date(2018, 11, 29), 'title': '协议中心_20181128', 'effort': 547200}]",
          "x": 3.55,
          "xanchor": "left",
          "xref": "x",
          "y": 11,
          "yref": "y"
         },
         {
          "align": "left",
          "font": {
           "color": "#000000"
          },
          "showarrow": false,
          "text": "电子卖场1",
          "x": -0.45,
          "xanchor": "left",
          "xref": "x",
          "y": 12,
          "yref": "y"
         },
         {
          "align": "left",
          "font": {
           "color": "#000000"
          },
          "showarrow": false,
          "text": "灰谷",
          "x": 0.55,
          "xanchor": "left",
          "xref": "x",
          "y": 12,
          "yref": "y"
         },
         {
          "align": "left",
          "font": {
           "color": "#000000"
          },
          "showarrow": false,
          "text": "0",
          "x": 1.55,
          "xanchor": "left",
          "xref": "x",
          "y": 12,
          "yref": "y"
         },
         {
          "align": "left",
          "font": {
           "color": "#000000"
          },
          "showarrow": false,
          "text": "灰谷",
          "x": 2.55,
          "xanchor": "left",
          "xref": "x",
          "y": 12,
          "yref": "y"
         },
         {
          "align": "left",
          "font": {
           "color": "#000000"
          },
          "showarrow": false,
          "text": "[]",
          "x": 3.55,
          "xanchor": "left",
          "xref": "x",
          "y": 12,
          "yref": "y"
         },
         {
          "align": "left",
          "font": {
           "color": "#000000"
          },
          "showarrow": false,
          "text": "电子卖场1",
          "x": -0.45,
          "xanchor": "left",
          "xref": "x",
          "y": 13,
          "yref": "y"
         },
         {
          "align": "left",
          "font": {
           "color": "#000000"
          },
          "showarrow": false,
          "text": "双毅",
          "x": 0.55,
          "xanchor": "left",
          "xref": "x",
          "y": 13,
          "yref": "y"
         },
         {
          "align": "left",
          "font": {
           "color": "#000000"
          },
          "showarrow": false,
          "text": "19",
          "x": 1.55,
          "xanchor": "left",
          "xref": "x",
          "y": 13,
          "yref": "y"
         },
         {
          "align": "left",
          "font": {
           "color": "#000000"
          },
          "showarrow": false,
          "text": "双毅",
          "x": 2.55,
          "xanchor": "left",
          "xref": "x",
          "y": 13,
          "yref": "y"
         },
         {
          "align": "left",
          "font": {
           "color": "#000000"
          },
          "showarrow": false,
          "text": "[{'start_timestamp': 1541088000, 'start_local_time': datetime.date(2018, 11, 2), 'end_timestamp': 1543420800, 'end_local_time': datetime.date(2018, 11, 29), 'title': '协议中心_20181128', 'effort': 547200}]",
          "x": 3.55,
          "xanchor": "left",
          "xref": "x",
          "y": 13,
          "yref": "y"
         },
         {
          "align": "left",
          "font": {
           "color": "#000000"
          },
          "showarrow": false,
          "text": "电子卖场1",
          "x": -0.45,
          "xanchor": "left",
          "xref": "x",
          "y": 14,
          "yref": "y"
         },
         {
          "align": "left",
          "font": {
           "color": "#000000"
          },
          "showarrow": false,
          "text": "幽明",
          "x": 0.55,
          "xanchor": "left",
          "xref": "x",
          "y": 14,
          "yref": "y"
         },
         {
          "align": "left",
          "font": {
           "color": "#000000"
          },
          "showarrow": false,
          "text": "20",
          "x": 1.55,
          "xanchor": "left",
          "xref": "x",
          "y": 14,
          "yref": "y"
         },
         {
          "align": "left",
          "font": {
           "color": "#000000"
          },
          "showarrow": false,
          "text": "幽明",
          "x": 2.55,
          "xanchor": "left",
          "xref": "x",
          "y": 14,
          "yref": "y"
         },
         {
          "align": "left",
          "font": {
           "color": "#000000"
          },
          "showarrow": false,
          "text": "[{'start_timestamp': 1541001600, 'start_local_time': datetime.date(2018, 11, 1), 'end_timestamp': 1542297600, 'end_local_time': datetime.date(2018, 11, 16), 'title': '协议中心_20181115', 'effort': 316800}, {'start_timestamp': 1541088000, 'start_local_time': datetime.date(2018, 11, 2), 'end_timestamp': 1543420800, 'end_local_time': datetime.date(2018, 11, 29), 'title': '协议中心_20181128', 'effort': 547200}]",
          "x": 3.55,
          "xanchor": "left",
          "xref": "x",
          "y": 14,
          "yref": "y"
         },
         {
          "align": "left",
          "font": {
           "color": "#000000"
          },
          "showarrow": false,
          "text": "电子卖场1",
          "x": -0.45,
          "xanchor": "left",
          "xref": "x",
          "y": 15,
          "yref": "y"
         },
         {
          "align": "left",
          "font": {
           "color": "#000000"
          },
          "showarrow": false,
          "text": "东风",
          "x": 0.55,
          "xanchor": "left",
          "xref": "x",
          "y": 15,
          "yref": "y"
         },
         {
          "align": "left",
          "font": {
           "color": "#000000"
          },
          "showarrow": false,
          "text": "11",
          "x": 1.55,
          "xanchor": "left",
          "xref": "x",
          "y": 15,
          "yref": "y"
         },
         {
          "align": "left",
          "font": {
           "color": "#000000"
          },
          "showarrow": false,
          "text": "东风",
          "x": 2.55,
          "xanchor": "left",
          "xref": "x",
          "y": 15,
          "yref": "y"
         },
         {
          "align": "left",
          "font": {
           "color": "#000000"
          },
          "showarrow": false,
          "text": "[{'start_timestamp': 1541001600, 'start_local_time': datetime.date(2018, 11, 1), 'end_timestamp': 1542297600, 'end_local_time': datetime.date(2018, 11, 16), 'title': '协议中心_20181115', 'effort': 316800}]",
          "x": 3.55,
          "xanchor": "left",
          "xref": "x",
          "y": 15,
          "yref": "y"
         },
         {
          "align": "left",
          "font": {
           "color": "#000000"
          },
          "showarrow": false,
          "text": "电子卖场1",
          "x": -0.45,
          "xanchor": "left",
          "xref": "x",
          "y": 16,
          "yref": "y"
         },
         {
          "align": "left",
          "font": {
           "color": "#000000"
          },
          "showarrow": false,
          "text": "澎湃",
          "x": 0.55,
          "xanchor": "left",
          "xref": "x",
          "y": 16,
          "yref": "y"
         },
         {
          "align": "left",
          "font": {
           "color": "#000000"
          },
          "showarrow": false,
          "text": "19",
          "x": 1.55,
          "xanchor": "left",
          "xref": "x",
          "y": 16,
          "yref": "y"
         },
         {
          "align": "left",
          "font": {
           "color": "#000000"
          },
          "showarrow": false,
          "text": "澎湃",
          "x": 2.55,
          "xanchor": "left",
          "xref": "x",
          "y": 16,
          "yref": "y"
         },
         {
          "align": "left",
          "font": {
           "color": "#000000"
          },
          "showarrow": false,
          "text": "[{'start_timestamp': 1539792000, 'start_local_time': datetime.date(2018, 10, 18), 'end_timestamp': 1541433600, 'end_local_time': datetime.date(2018, 11, 6), 'title': '协议供货_20181120', 'effort': 396000}, {'start_timestamp': 1541606400, 'start_local_time': datetime.date(2018, 11, 8), 'end_timestamp': 1542297600, 'end_local_time': datetime.date(2018, 11, 16), 'title': '协议供货_20181115', 'effort': 172800}]",
          "x": 3.55,
          "xanchor": "left",
          "xref": "x",
          "y": 16,
          "yref": "y"
         },
         {
          "align": "left",
          "font": {
           "color": "#000000"
          },
          "showarrow": false,
          "text": "电子卖场1",
          "x": -0.45,
          "xanchor": "left",
          "xref": "x",
          "y": 17,
          "yref": "y"
         },
         {
          "align": "left",
          "font": {
           "color": "#000000"
          },
          "showarrow": false,
          "text": "季节",
          "x": 0.55,
          "xanchor": "left",
          "xref": "x",
          "y": 17,
          "yref": "y"
         },
         {
          "align": "left",
          "font": {
           "color": "#000000"
          },
          "showarrow": false,
          "text": "16",
          "x": 1.55,
          "xanchor": "left",
          "xref": "x",
          "y": 17,
          "yref": "y"
         },
         {
          "align": "left",
          "font": {
           "color": "#000000"
          },
          "showarrow": false,
          "text": "季节",
          "x": 2.55,
          "xanchor": "left",
          "xref": "x",
          "y": 17,
          "yref": "y"
         },
         {
          "align": "left",
          "font": {
           "color": "#000000"
          },
          "showarrow": false,
          "text": "[{'start_timestamp': 1539792000, 'start_local_time': datetime.date(2018, 10, 18), 'end_timestamp': 1541433600, 'end_local_time': datetime.date(2018, 11, 6), 'title': '协议供货_20181120', 'effort': 396000}, {'start_timestamp': 1540483200, 'start_local_time': datetime.date(2018, 10, 26), 'end_timestamp': 1541692800, 'end_local_time': datetime.date(2018, 11, 9), 'title': '在线询价_20181108', 'effort': 288000}]",
          "x": 3.55,
          "xanchor": "left",
          "xref": "x",
          "y": 17,
          "yref": "y"
         },
         {
          "align": "left",
          "font": {
           "color": "#000000"
          },
          "showarrow": false,
          "text": "电子卖场1",
          "x": -0.45,
          "xanchor": "left",
          "xref": "x",
          "y": 18,
          "yref": "y"
         },
         {
          "align": "left",
          "font": {
           "color": "#000000"
          },
          "showarrow": false,
          "text": "宇尘",
          "x": 0.55,
          "xanchor": "left",
          "xref": "x",
          "y": 18,
          "yref": "y"
         },
         {
          "align": "left",
          "font": {
           "color": "#000000"
          },
          "showarrow": false,
          "text": "37",
          "x": 1.55,
          "xanchor": "left",
          "xref": "x",
          "y": 18,
          "yref": "y"
         },
         {
          "align": "left",
          "font": {
           "color": "#000000"
          },
          "showarrow": false,
          "text": "宇尘",
          "x": 2.55,
          "xanchor": "left",
          "xref": "x",
          "y": 18,
          "yref": "y"
         },
         {
          "align": "left",
          "font": {
           "color": "#000000"
          },
          "showarrow": false,
          "text": "[{'start_timestamp': 1539532800, 'start_local_time': datetime.date(2018, 10, 15), 'end_timestamp': 1543939200, 'end_local_time': datetime.date(2018, 12, 5), 'title': '协议中心_20181204', 'effort': 1065600}]",
          "x": 3.55,
          "xanchor": "left",
          "xref": "x",
          "y": 18,
          "yref": "y"
         },
         {
          "align": "left",
          "font": {
           "color": "#000000"
          },
          "showarrow": false,
          "text": "平台运营",
          "x": -0.45,
          "xanchor": "left",
          "xref": "x",
          "y": 19,
          "yref": "y"
         },
         {
          "align": "left",
          "font": {
           "color": "#000000"
          },
          "showarrow": false,
          "text": "玲玲",
          "x": 0.55,
          "xanchor": "left",
          "xref": "x",
          "y": 19,
          "yref": "y"
         },
         {
          "align": "left",
          "font": {
           "color": "#000000"
          },
          "showarrow": false,
          "text": "13",
          "x": 1.55,
          "xanchor": "left",
          "xref": "x",
          "y": 19,
          "yref": "y"
         },
         {
          "align": "left",
          "font": {
           "color": "#000000"
          },
          "showarrow": false,
          "text": "玲玲",
          "x": 2.55,
          "xanchor": "left",
          "xref": "x",
          "y": 19,
          "yref": "y"
         },
         {
          "align": "left",
          "font": {
           "color": "#000000"
          },
          "showarrow": false,
          "text": "[{'start_timestamp': 1539792000, 'start_local_time': datetime.date(2018, 10, 18), 'end_timestamp': 1541433600, 'end_local_time': datetime.date(2018, 11, 6), 'title': '协议供货_20181120', 'effort': 396000}]",
          "x": 3.55,
          "xanchor": "left",
          "xref": "x",
          "y": 19,
          "yref": "y"
         },
         {
          "align": "left",
          "font": {
           "color": "#000000"
          },
          "showarrow": false,
          "text": "电子卖场1",
          "x": -0.45,
          "xanchor": "left",
          "xref": "x",
          "y": 20,
          "yref": "y"
         },
         {
          "align": "left",
          "font": {
           "color": "#000000"
          },
          "showarrow": false,
          "text": "兴宇",
          "x": 0.55,
          "xanchor": "left",
          "xref": "x",
          "y": 20,
          "yref": "y"
         },
         {
          "align": "left",
          "font": {
           "color": "#000000"
          },
          "showarrow": false,
          "text": "31",
          "x": 1.55,
          "xanchor": "left",
          "xref": "x",
          "y": 20,
          "yref": "y"
         },
         {
          "align": "left",
          "font": {
           "color": "#000000"
          },
          "showarrow": false,
          "text": "兴宇",
          "x": 2.55,
          "xanchor": "left",
          "xref": "x",
          "y": 20,
          "yref": "y"
         },
         {
          "align": "left",
          "font": {
           "color": "#000000"
          },
          "showarrow": false,
          "text": "[{'start_timestamp': 1539792000, 'start_local_time': datetime.date(2018, 10, 18), 'end_timestamp': 1541433600, 'end_local_time': datetime.date(2018, 11, 6), 'title': '协议供货_20181120', 'effort': 396000}, {'start_timestamp': 1541001600, 'start_local_time': datetime.date(2018, 11, 1), 'end_timestamp': 1543507200, 'end_local_time': datetime.date(2018, 11, 30), 'title': '协议供货_20181129', 'effort': 604800}, {'start_timestamp': 1541001600, 'start_local_time': datetime.date(2018, 11, 1), 'end_timestamp': 1542297600, 'end_local_time': datetime.date(2018, 11, 16), 'title': '协议中心_20181115', 'effort': 316800}, {'start_timestamp': 1541088000, 'start_local_time': datetime.date(2018, 11, 2), 'end_timestamp': 1543420800, 'end_local_time': datetime.date(2018, 11, 29), 'title': '协议中心_20181128', 'effort': 547200}]",
          "x": 3.55,
          "xanchor": "left",
          "xref": "x",
          "y": 20,
          "yref": "y"
         },
         {
          "align": "left",
          "font": {
           "color": "#000000"
          },
          "showarrow": false,
          "text": "计划管理",
          "x": -0.45,
          "xanchor": "left",
          "xref": "x",
          "y": 21,
          "yref": "y"
         },
         {
          "align": "left",
          "font": {
           "color": "#000000"
          },
          "showarrow": false,
          "text": "十三",
          "x": 0.55,
          "xanchor": "left",
          "xref": "x",
          "y": 21,
          "yref": "y"
         },
         {
          "align": "left",
          "font": {
           "color": "#000000"
          },
          "showarrow": false,
          "text": "27",
          "x": 1.55,
          "xanchor": "left",
          "xref": "x",
          "y": 21,
          "yref": "y"
         },
         {
          "align": "left",
          "font": {
           "color": "#000000"
          },
          "showarrow": false,
          "text": "十三",
          "x": 2.55,
          "xanchor": "left",
          "xref": "x",
          "y": 21,
          "yref": "y"
         },
         {
          "align": "left",
          "font": {
           "color": "#000000"
          },
          "showarrow": false,
          "text": "[{'start_timestamp': 1540742400, 'start_local_time': datetime.date(2018, 10, 29), 'end_timestamp': 1541520000, 'end_local_time': datetime.date(2018, 11, 7), 'title': '采购计划_20181031（支持逆向结算API）- 开发', 'effort': 201600}, {'start_timestamp': 1540828800, 'start_local_time': datetime.date(2018, 10, 30), 'end_timestamp': 1541606400, 'end_local_time': datetime.date(2018, 11, 8), 'title': '采购计划_20181109（Ocean迁移版本）- 开发', 'effort': 201600}, {'start_timestamp': 1541606400, 'start_local_time': datetime.date(2018, 11, 8), 'end_timestamp': 1543248000, 'end_local_time': datetime.date(2018, 11, 27), 'title': '采购计划_20181121（采购计划功能迭代新增）- 开发', 'effort': 378000}, {'start_timestamp': 1542556800, 'start_local_time': datetime.date(2018, 11, 19), 'end_timestamp': 1543161600, 'end_local_time': datetime.date(2018, 11, 26), 'title': '大盘-核心API调用', 'effort': 144000}, {'start_timestamp': 1542902400, 'start_local_time': datetime.date(2018, 11, 23), 'end_timestamp': 1543334400, 'end_local_time': datetime.date(2018, 11, 28), 'title': '大盘-dump记录', 'effort': 86400}, {'start_timestamp': 1543248000, 'start_local_time': datetime.date(2018, 11, 27), 'end_timestamp': 1543507200, 'end_local_time': datetime.date(2018, 11, 30), 'title': '采购计划年中结转', 'effort': 86400}, {'start_timestamp': 1543852800, 'start_local_time': datetime.date(2018, 12, 4), 'end_timestamp': 1544025600, 'end_local_time': datetime.date(2018, 12, 6), 'title': '预算年终结转', 'effort': 57600}]",
          "x": 3.55,
          "xanchor": "left",
          "xref": "x",
          "y": 21,
          "yref": "y"
         },
         {
          "align": "left",
          "font": {
           "color": "#000000"
          },
          "showarrow": false,
          "text": "计划管理",
          "x": -0.45,
          "xanchor": "left",
          "xref": "x",
          "y": 22,
          "yref": "y"
         },
         {
          "align": "left",
          "font": {
           "color": "#000000"
          },
          "showarrow": false,
          "text": "白杨",
          "x": 0.55,
          "xanchor": "left",
          "xref": "x",
          "y": 22,
          "yref": "y"
         },
         {
          "align": "left",
          "font": {
           "color": "#000000"
          },
          "showarrow": false,
          "text": "25",
          "x": 1.55,
          "xanchor": "left",
          "xref": "x",
          "y": 22,
          "yref": "y"
         },
         {
          "align": "left",
          "font": {
           "color": "#000000"
          },
          "showarrow": false,
          "text": "白杨",
          "x": 2.55,
          "xanchor": "left",
          "xref": "x",
          "y": 22,
          "yref": "y"
         },
         {
          "align": "left",
          "font": {
           "color": "#000000"
          },
          "showarrow": false,
          "text": "[{'start_timestamp': 1540742400, 'start_local_time': datetime.date(2018, 10, 29), 'end_timestamp': 1541520000, 'end_local_time': datetime.date(2018, 11, 7), 'title': '采购计划_20181102（CA、优化需求）- 开发', 'effort': 226800}, {'start_timestamp': 1540828800, 'start_local_time': datetime.date(2018, 10, 30), 'end_timestamp': 1541606400, 'end_local_time': datetime.date(2018, 11, 8), 'title': '采购计划_20181109（Ocean迁移版本）- 开发', 'effort': 201600}, {'start_timestamp': 1541606400, 'start_local_time': datetime.date(2018, 11, 8), 'end_timestamp': 1543248000, 'end_local_time': datetime.date(2018, 11, 27), 'title': '采购计划_20181121（采购计划功能迭代新增）- 开发', 'effort': 378000}, {'start_timestamp': 1542902400, 'start_local_time': datetime.date(2018, 11, 23), 'end_timestamp': 1543507200, 'end_local_time': datetime.date(2018, 11, 30), 'title': '预算可用金额优化', 'effort': 144000}]",
          "x": 3.55,
          "xanchor": "left",
          "xref": "x",
          "y": 22,
          "yref": "y"
         },
         {
          "align": "left",
          "font": {
           "color": "#000000"
          },
          "showarrow": false,
          "text": "计划管理",
          "x": -0.45,
          "xanchor": "left",
          "xref": "x",
          "y": 23,
          "yref": "y"
         },
         {
          "align": "left",
          "font": {
           "color": "#000000"
          },
          "showarrow": false,
          "text": "恺辰",
          "x": 0.55,
          "xanchor": "left",
          "xref": "x",
          "y": 23,
          "yref": "y"
         },
         {
          "align": "left",
          "font": {
           "color": "#000000"
          },
          "showarrow": false,
          "text": "9",
          "x": 1.55,
          "xanchor": "left",
          "xref": "x",
          "y": 23,
          "yref": "y"
         },
         {
          "align": "left",
          "font": {
           "color": "#000000"
          },
          "showarrow": false,
          "text": "恺辰",
          "x": 2.55,
          "xanchor": "left",
          "xref": "x",
          "y": 23,
          "yref": "y"
         },
         {
          "align": "left",
          "font": {
           "color": "#000000"
          },
          "showarrow": false,
          "text": "[{'start_timestamp': 1540742400, 'start_local_time': datetime.date(2018, 10, 29), 'end_timestamp': 1541347200, 'end_local_time': datetime.date(2018, 11, 5), 'title': '采购目录_20181125（采购目录年终结转工具）- 开发', 'effort': 144000}, {'start_timestamp': 1542816000, 'start_local_time': datetime.date(2018, 11, 22), 'end_timestamp': 1543334400, 'end_local_time': datetime.date(2018, 11, 28), 'title': '采购目录_20181125（采购目录年终结转工具）- 前端联调', 'effort': 126000}]",
          "x": 3.55,
          "xanchor": "left",
          "xref": "x",
          "y": 23,
          "yref": "y"
         },
         {
          "align": "left",
          "font": {
           "color": "#000000"
          },
          "showarrow": false,
          "text": "交易载体",
          "x": -0.45,
          "xanchor": "left",
          "xref": "x",
          "y": 24,
          "yref": "y"
         },
         {
          "align": "left",
          "font": {
           "color": "#000000"
          },
          "showarrow": false,
          "text": "黎墨",
          "x": 0.55,
          "xanchor": "left",
          "xref": "x",
          "y": 24,
          "yref": "y"
         },
         {
          "align": "left",
          "font": {
           "color": "#000000"
          },
          "showarrow": false,
          "text": "35",
          "x": 1.55,
          "xanchor": "left",
          "xref": "x",
          "y": 24,
          "yref": "y"
         },
         {
          "align": "left",
          "font": {
           "color": "#000000"
          },
          "showarrow": false,
          "text": "黎墨",
          "x": 2.55,
          "xanchor": "left",
          "xref": "x",
          "y": 24,
          "yref": "y"
         },
         {
          "align": "left",
          "font": {
           "color": "#000000"
          },
          "showarrow": false,
          "text": "[{'start_timestamp': 1538928000, 'start_local_time': datetime.date(2018, 10, 8), 'end_timestamp': 1543161600, 'end_local_time': datetime.date(2018, 11, 26), 'title': '协议保证金-后端', 'effort': 1029600}]",
          "x": 3.55,
          "xanchor": "left",
          "xref": "x",
          "y": 24,
          "yref": "y"
         },
         {
          "align": "left",
          "font": {
           "color": "#000000"
          },
          "showarrow": false,
          "text": "交易载体",
          "x": -0.45,
          "xanchor": "left",
          "xref": "x",
          "y": 25,
          "yref": "y"
         },
         {
          "align": "left",
          "font": {
           "color": "#000000"
          },
          "showarrow": false,
          "text": "关尔",
          "x": 0.55,
          "xanchor": "left",
          "xref": "x",
          "y": 25,
          "yref": "y"
         },
         {
          "align": "left",
          "font": {
           "color": "#000000"
          },
          "showarrow": false,
          "text": "21",
          "x": 1.55,
          "xanchor": "left",
          "xref": "x",
          "y": 25,
          "yref": "y"
         },
         {
          "align": "left",
          "font": {
           "color": "#000000"
          },
          "showarrow": false,
          "text": "关尔",
          "x": 2.55,
          "xanchor": "left",
          "xref": "x",
          "y": 25,
          "yref": "y"
         },
         {
          "align": "left",
          "font": {
           "color": "#000000"
          },
          "showarrow": false,
          "text": "[{'start_timestamp': 1540828800, 'start_local_time': datetime.date(2018, 10, 30), 'end_timestamp': 1541692800, 'end_local_time': datetime.date(2018, 11, 9), 'title': '模板中心_201811??（功能迭代支持企业购和项目采购新需求）- 开发', 'effort': 252000}, {'start_timestamp': 1541952000, 'start_local_time': datetime.date(2018, 11, 12), 'end_timestamp': 1543334400, 'end_local_time': datetime.date(2018, 11, 28), 'title': '模板中心_201811??（模板配置跨环境同步）- 开发', 'effort': 352800}]",
          "x": 3.55,
          "xanchor": "left",
          "xref": "x",
          "y": 25,
          "yref": "y"
         },
         {
          "align": "left",
          "font": {
           "color": "#000000"
          },
          "showarrow": false,
          "text": "交易载体",
          "x": -0.45,
          "xanchor": "left",
          "xref": "x",
          "y": 26,
          "yref": "y"
         },
         {
          "align": "left",
          "font": {
           "color": "#000000"
          },
          "showarrow": false,
          "text": "向阳",
          "x": 0.55,
          "xanchor": "left",
          "xref": "x",
          "y": 26,
          "yref": "y"
         },
         {
          "align": "left",
          "font": {
           "color": "#000000"
          },
          "showarrow": false,
          "text": "12",
          "x": 1.55,
          "xanchor": "left",
          "xref": "x",
          "y": 26,
          "yref": "y"
         },
         {
          "align": "left",
          "font": {
           "color": "#000000"
          },
          "showarrow": false,
          "text": "向阳",
          "x": 2.55,
          "xanchor": "left",
          "xref": "x",
          "y": 26,
          "yref": "y"
         },
         {
          "align": "left",
          "font": {
           "color": "#000000"
          },
          "showarrow": false,
          "text": "[{'start_timestamp': 1540137600, 'start_local_time': datetime.date(2018, 10, 22), 'end_timestamp': 1540828800, 'end_local_time': datetime.date(2018, 10, 30), 'title': '手工合同_20181108（杭州合同逆向需求） - 开发', 'effort': 187200}, {'start_timestamp': 1540828800, 'start_local_time': datetime.date(2018, 10, 30), 'end_timestamp': 1541520000, 'end_local_time': datetime.date(2018, 11, 7), 'title': '支持通用定点对接', 'effort': 172800}]",
          "x": 3.55,
          "xanchor": "left",
          "xref": "x",
          "y": 26,
          "yref": "y"
         },
         {
          "align": "left",
          "font": {
           "color": "#000000"
          },
          "showarrow": false,
          "text": "支付结算",
          "x": -0.45,
          "xanchor": "left",
          "xref": "x",
          "y": 27,
          "yref": "y"
         },
         {
          "align": "left",
          "font": {
           "color": "#000000"
          },
          "showarrow": false,
          "text": "海根",
          "x": 0.55,
          "xanchor": "left",
          "xref": "x",
          "y": 27,
          "yref": "y"
         },
         {
          "align": "left",
          "font": {
           "color": "#000000"
          },
          "showarrow": false,
          "text": "35",
          "x": 1.55,
          "xanchor": "left",
          "xref": "x",
          "y": 27,
          "yref": "y"
         },
         {
          "align": "left",
          "font": {
           "color": "#000000"
          },
          "showarrow": false,
          "text": "海根",
          "x": 2.55,
          "xanchor": "left",
          "xref": "x",
          "y": 27,
          "yref": "y"
         },
         {
          "align": "left",
          "font": {
           "color": "#000000"
          },
          "showarrow": false,
          "text": "[{'start_timestamp': 1538928000, 'start_local_time': datetime.date(2018, 10, 8), 'end_timestamp': 1543161600, 'end_local_time': datetime.date(2018, 11, 26), 'title': '协议保证金-后端', 'effort': 1029600}]",
          "x": 3.55,
          "xanchor": "left",
          "xref": "x",
          "y": 27,
          "yref": "y"
         },
         {
          "align": "left",
          "font": {
           "color": "#000000"
          },
          "showarrow": false,
          "text": "支付结算",
          "x": -0.45,
          "xanchor": "left",
          "xref": "x",
          "y": 28,
          "yref": "y"
         },
         {
          "align": "left",
          "font": {
           "color": "#000000"
          },
          "showarrow": false,
          "text": "修远",
          "x": 0.55,
          "xanchor": "left",
          "xref": "x",
          "y": 28,
          "yref": "y"
         },
         {
          "align": "left",
          "font": {
           "color": "#000000"
          },
          "showarrow": false,
          "text": "35",
          "x": 1.55,
          "xanchor": "left",
          "xref": "x",
          "y": 28,
          "yref": "y"
         },
         {
          "align": "left",
          "font": {
           "color": "#000000"
          },
          "showarrow": false,
          "text": "修远",
          "x": 2.55,
          "xanchor": "left",
          "xref": "x",
          "y": 28,
          "yref": "y"
         },
         {
          "align": "left",
          "font": {
           "color": "#000000"
          },
          "showarrow": false,
          "text": "[{'start_timestamp': 1538928000, 'start_local_time': datetime.date(2018, 10, 8), 'end_timestamp': 1543161600, 'end_local_time': datetime.date(2018, 11, 26), 'title': '协议保证金-后端', 'effort': 1029600}, {'start_timestamp': 1540051200, 'start_local_time': datetime.date(2018, 10, 21), 'end_timestamp': 1541347200, 'end_local_time': datetime.date(2018, 11, 5), 'title': '在线支付_20181105（收银台签约、农行对接）- 开发', 'effort': 316800}, {'start_timestamp': 1540828800, 'start_local_time': datetime.date(2018, 10, 30), 'end_timestamp': 1542297600, 'end_local_time': datetime.date(2018, 11, 16), 'title': '农业银行支付对接', 'effort': 392400}]",
          "x": 3.55,
          "xanchor": "left",
          "xref": "x",
          "y": 28,
          "yref": "y"
         },
         {
          "align": "left",
          "font": {
           "color": "#000000"
          },
          "showarrow": false,
          "text": "支付结算",
          "x": -0.45,
          "xanchor": "left",
          "xref": "x",
          "y": 29,
          "yref": "y"
         },
         {
          "align": "left",
          "font": {
           "color": "#000000"
          },
          "showarrow": false,
          "text": "晴天",
          "x": 0.55,
          "xanchor": "left",
          "xref": "x",
          "y": 29,
          "yref": "y"
         },
         {
          "align": "left",
          "font": {
           "color": "#000000"
          },
          "showarrow": false,
          "text": "28",
          "x": 1.55,
          "xanchor": "left",
          "xref": "x",
          "y": 29,
          "yref": "y"
         },
         {
          "align": "left",
          "font": {
           "color": "#000000"
          },
          "showarrow": false,
          "text": "晴天",
          "x": 2.55,
          "xanchor": "left",
          "xref": "x",
          "y": 29,
          "yref": "y"
         },
         {
          "align": "left",
          "font": {
           "color": "#000000"
          },
          "showarrow": false,
          "text": "[{'start_timestamp': 1539705600, 'start_local_time': datetime.date(2018, 10, 17), 'end_timestamp': 1542556800, 'end_local_time': datetime.date(2018, 11, 19), 'title': '收费_20181122（警备馆）- 开发', 'effort': 662400}, {'start_timestamp': 1541952000, 'start_local_time': datetime.date(2018, 11, 12), 'end_timestamp': 1543161600, 'end_local_time': datetime.date(2018, 11, 26), 'title': '结算_20181129（开放平台ocean 转kong API补充、禪道优化需求）- 开发', 'effort': 298800}]",
          "x": 3.55,
          "xanchor": "left",
          "xref": "x",
          "y": 29,
          "yref": "y"
         },
         {
          "align": "left",
          "font": {
           "color": "#000000"
          },
          "showarrow": false,
          "text": "支付结算",
          "x": -0.45,
          "xanchor": "left",
          "xref": "x",
          "y": 30,
          "yref": "y"
         },
         {
          "align": "left",
          "font": {
           "color": "#000000"
          },
          "showarrow": false,
          "text": "白起",
          "x": 0.55,
          "xanchor": "left",
          "xref": "x",
          "y": 30,
          "yref": "y"
         },
         {
          "align": "left",
          "font": {
           "color": "#000000"
          },
          "showarrow": false,
          "text": "37",
          "x": 1.55,
          "xanchor": "left",
          "xref": "x",
          "y": 30,
          "yref": "y"
         },
         {
          "align": "left",
          "font": {
           "color": "#000000"
          },
          "showarrow": false,
          "text": "白起",
          "x": 2.55,
          "xanchor": "left",
          "xref": "x",
          "y": 30,
          "yref": "y"
         },
         {
          "align": "left",
          "font": {
           "color": "#000000"
          },
          "showarrow": false,
          "text": "[{'start_timestamp': 1539705600, 'start_local_time': datetime.date(2018, 10, 17), 'end_timestamp': 1542556800, 'end_local_time': datetime.date(2018, 11, 19), 'title': '收费_20181122（警备馆）- 开发', 'effort': 662400}, {'start_timestamp': 1541001600, 'start_local_time': datetime.date(2018, 11, 1), 'end_timestamp': 1541433600, 'end_local_time': datetime.date(2018, 11, 6), 'title': '结算_20181115（前端编译优化、配合网超运费需求）- 开发', 'effort': 97200}, {'start_timestamp': 1541952000, 'start_local_time': datetime.date(2018, 11, 12), 'end_timestamp': 1543161600, 'end_local_time': datetime.date(2018, 11, 26), 'title': '结算_20181129（开放平台ocean 转kong API补充、禪道优化需求）- 开发', 'effort': 298800}]",
          "x": 3.55,
          "xanchor": "left",
          "xref": "x",
          "y": 30,
          "yref": "y"
         },
         {
          "align": "left",
          "font": {
           "color": "#000000"
          },
          "showarrow": false,
          "text": "共享前端",
          "x": -0.45,
          "xanchor": "left",
          "xref": "x",
          "y": 31,
          "yref": "y"
         },
         {
          "align": "left",
          "font": {
           "color": "#000000"
          },
          "showarrow": false,
          "text": "子洋",
          "x": 0.55,
          "xanchor": "left",
          "xref": "x",
          "y": 31,
          "yref": "y"
         },
         {
          "align": "left",
          "font": {
           "color": "#000000"
          },
          "showarrow": false,
          "text": "27",
          "x": 1.55,
          "xanchor": "left",
          "xref": "x",
          "y": 31,
          "yref": "y"
         },
         {
          "align": "left",
          "font": {
           "color": "#000000"
          },
          "showarrow": false,
          "text": "子洋",
          "x": 2.55,
          "xanchor": "left",
          "xref": "x",
          "y": 31,
          "yref": "y"
         },
         {
          "align": "left",
          "font": {
           "color": "#000000"
          },
          "showarrow": false,
          "text": "[{'start_timestamp': 1539532800, 'start_local_time': datetime.date(2018, 10, 15), 'end_timestamp': 1540137600, 'end_local_time': datetime.date(2018, 10, 22), 'title': '前端-供应商协议管理/保证金退款管理-清音开发1周', 'effort': 144000}, {'start_timestamp': 1539792000, 'start_local_time': datetime.date(2018, 10, 18), 'end_timestamp': 1540137600, 'end_local_time': datetime.date(2018, 10, 22), 'title': '供应商账单管理', 'effort': 57600}, {'start_timestamp': 1540137600, 'start_local_time': datetime.date(2018, 10, 22), 'end_timestamp': 1540483200, 'end_local_time': datetime.date(2018, 10, 26), 'title': '012服务订单', 'effort': 115200}, {'start_timestamp': 1540742400, 'start_local_time': datetime.date(2018, 10, 29), 'end_timestamp': 1541520000, 'end_local_time': datetime.date(2018, 11, 7), 'title': '前端-代理机构缴费管理-子洋开发', 'effort': 201600}, {'start_timestamp': 1540915200, 'start_local_time': datetime.date(2018, 10, 31), 'end_timestamp': 1541606400, 'end_local_time': datetime.date(2018, 11, 8), 'title': '联调自测', 'effort': 192600}, {'start_timestamp': 1541433600, 'start_local_time': datetime.date(2018, 11, 6), 'end_timestamp': 1542297600, 'end_local_time': datetime.date(2018, 11, 16), 'title': '前后端联调', 'effort': 244800}, {'start_timestamp': 1542816000, 'start_local_time': datetime.date(2018, 11, 22), 'end_timestamp': 1543334400, 'end_local_time': datetime.date(2018, 11, 28), 'title': '采购目录_20181125（采购目录年终结转工具）- 前端联调', 'effort': 126000}]",
          "x": 3.55,
          "xanchor": "left",
          "xref": "x",
          "y": 31,
          "yref": "y"
         },
         {
          "align": "left",
          "font": {
           "color": "#000000"
          },
          "showarrow": false,
          "text": "共享前端",
          "x": -0.45,
          "xanchor": "left",
          "xref": "x",
          "y": 32,
          "yref": "y"
         },
         {
          "align": "left",
          "font": {
           "color": "#000000"
          },
          "showarrow": false,
          "text": "简名",
          "x": 0.55,
          "xanchor": "left",
          "xref": "x",
          "y": 32,
          "yref": "y"
         },
         {
          "align": "left",
          "font": {
           "color": "#000000"
          },
          "showarrow": false,
          "text": "26",
          "x": 1.55,
          "xanchor": "left",
          "xref": "x",
          "y": 32,
          "yref": "y"
         },
         {
          "align": "left",
          "font": {
           "color": "#000000"
          },
          "showarrow": false,
          "text": "简名",
          "x": 2.55,
          "xanchor": "left",
          "xref": "x",
          "y": 32,
          "yref": "y"
         },
         {
          "align": "left",
          "font": {
           "color": "#000000"
          },
          "showarrow": false,
          "text": "[{'start_timestamp': 1540742400, 'start_local_time': datetime.date(2018, 10, 29), 'end_timestamp': 1541520000, 'end_local_time': datetime.date(2018, 11, 7), 'title': '采购计划_20181102（CA、优化需求）- 开发', 'effort': 226800}, {'start_timestamp': 1541001600, 'start_local_time': datetime.date(2018, 11, 1), 'end_timestamp': 1542038400, 'end_local_time': datetime.date(2018, 11, 13), 'title': '大盘-控制台前端', 'effort': 230400}, {'start_timestamp': 1541001600, 'start_local_time': datetime.date(2018, 11, 1), 'end_timestamp': 1541433600, 'end_local_time': datetime.date(2018, 11, 6), 'title': '结算_20181115（前端编译优化、配合网超运费需求）- 开发', 'effort': 97200}, {'start_timestamp': 1541606400, 'start_local_time': datetime.date(2018, 11, 8), 'end_timestamp': 1543248000, 'end_local_time': datetime.date(2018, 11, 27), 'title': '采购计划_20181121（采购计划功能迭代新增）- 开发', 'effort': 378000}, {'start_timestamp': 1542816000, 'start_local_time': datetime.date(2018, 11, 22), 'end_timestamp': 1543248000, 'end_local_time': datetime.date(2018, 11, 27), 'title': '运营优化前端', 'effort': 86400}]",
          "x": 3.55,
          "xanchor": "left",
          "xref": "x",
          "y": 32,
          "yref": "y"
         },
         {
          "align": "left",
          "font": {
           "color": "#000000"
          },
          "showarrow": false,
          "text": "支付结算",
          "x": -0.45,
          "xanchor": "left",
          "xref": "x",
          "y": 33,
          "yref": "y"
         },
         {
          "align": "left",
          "font": {
           "color": "#000000"
          },
          "showarrow": false,
          "text": "鲲鹏",
          "x": 0.55,
          "xanchor": "left",
          "xref": "x",
          "y": 33,
          "yref": "y"
         },
         {
          "align": "left",
          "font": {
           "color": "#000000"
          },
          "showarrow": false,
          "text": "18",
          "x": 1.55,
          "xanchor": "left",
          "xref": "x",
          "y": 33,
          "yref": "y"
         },
         {
          "align": "left",
          "font": {
           "color": "#000000"
          },
          "showarrow": false,
          "text": "鲲鹏",
          "x": 2.55,
          "xanchor": "left",
          "xref": "x",
          "y": 33,
          "yref": "y"
         },
         {
          "align": "left",
          "font": {
           "color": "#000000"
          },
          "showarrow": false,
          "text": "[{'start_timestamp': 1540828800, 'start_local_time': datetime.date(2018, 10, 30), 'end_timestamp': 1541347200, 'end_local_time': datetime.date(2018, 11, 5), 'title': '核账管理_20181115 - 开发', 'effort': 134400}, {'start_timestamp': 1541433600, 'start_local_time': datetime.date(2018, 11, 6), 'end_timestamp': 1541952000, 'end_local_time': datetime.date(2018, 11, 12), 'title': '在线支付_20181129（企业购、收费接入收银台）- 开发', 'effort': 115200}, {'start_timestamp': 1541952000, 'start_local_time': datetime.date(2018, 11, 12), 'end_timestamp': 1542902400, 'end_local_time': datetime.date(2018, 11, 23), 'title': '核账管理_201811??（警备新增需求）- 开发', 'effort': 268800}]",
          "x": 3.55,
          "xanchor": "left",
          "xref": "x",
          "y": 33,
          "yref": "y"
         },
         {
          "align": "left",
          "font": {
           "color": "#000000"
          },
          "showarrow": false,
          "text": "计划管理",
          "x": -0.45,
          "xanchor": "left",
          "xref": "x",
          "y": 34,
          "yref": "y"
         },
         {
          "align": "left",
          "font": {
           "color": "#000000"
          },
          "showarrow": false,
          "text": "威仔",
          "x": 0.55,
          "xanchor": "left",
          "xref": "x",
          "y": 34,
          "yref": "y"
         },
         {
          "align": "left",
          "font": {
           "color": "#000000"
          },
          "showarrow": false,
          "text": "31",
          "x": 1.55,
          "xanchor": "left",
          "xref": "x",
          "y": 34,
          "yref": "y"
         },
         {
          "align": "left",
          "font": {
           "color": "#000000"
          },
          "showarrow": false,
          "text": "威仔",
          "x": 2.55,
          "xanchor": "left",
          "xref": "x",
          "y": 34,
          "yref": "y"
         },
         {
          "align": "left",
          "font": {
           "color": "#000000"
          },
          "showarrow": false,
          "text": "[{'start_timestamp': 1539705600, 'start_local_time': datetime.date(2018, 10, 17), 'end_timestamp': 1542556800, 'end_local_time': datetime.date(2018, 11, 19), 'title': '收费_20181122（警备馆）- 开发', 'effort': 662400}, {'start_timestamp': 1541952000, 'start_local_time': datetime.date(2018, 11, 12), 'end_timestamp': 1543420800, 'end_local_time': datetime.date(2018, 11, 29), 'title': '开发', 'effort': 374400}]",
          "x": 3.55,
          "xanchor": "left",
          "xref": "x",
          "y": 34,
          "yref": "y"
         },
         {
          "align": "left",
          "font": {
           "color": "#000000"
          },
          "showarrow": false,
          "text": "共享前端",
          "x": -0.45,
          "xanchor": "left",
          "xref": "x",
          "y": 35,
          "yref": "y"
         },
         {
          "align": "left",
          "font": {
           "color": "#000000"
          },
          "showarrow": false,
          "text": "赵伟",
          "x": 0.55,
          "xanchor": "left",
          "xref": "x",
          "y": 35,
          "yref": "y"
         },
         {
          "align": "left",
          "font": {
           "color": "#000000"
          },
          "showarrow": false,
          "text": "31",
          "x": 1.55,
          "xanchor": "left",
          "xref": "x",
          "y": 35,
          "yref": "y"
         },
         {
          "align": "left",
          "font": {
           "color": "#000000"
          },
          "showarrow": false,
          "text": "赵伟",
          "x": 2.55,
          "xanchor": "left",
          "xref": "x",
          "y": 35,
          "yref": "y"
         },
         {
          "align": "left",
          "font": {
           "color": "#000000"
          },
          "showarrow": false,
          "text": "[{'start_timestamp': 1540137600, 'start_local_time': datetime.date(2018, 10, 22), 'end_timestamp': 1541347200, 'end_local_time': datetime.date(2018, 11, 5), 'title': '前端-代理机构协议退款管理', 'effort': 288000}, {'start_timestamp': 1540137600, 'start_local_time': datetime.date(2018, 10, 22), 'end_timestamp': 1540828800, 'end_local_time': datetime.date(2018, 10, 30), 'title': '手工合同_20181108（杭州合同逆向需求） - 开发', 'effort': 187200}, {'start_timestamp': 1540828800, 'start_local_time': datetime.date(2018, 10, 30), 'end_timestamp': 1541692800, 'end_local_time': datetime.date(2018, 11, 9), 'title': '模板中心_201811??（功能迭代支持企业购和项目采购新需求）- 开发', 'effort': 252000}, {'start_timestamp': 1541433600, 'start_local_time': datetime.date(2018, 11, 6), 'end_timestamp': 1542297600, 'end_local_time': datetime.date(2018, 11, 16), 'title': '前后端联调', 'effort': 244800}, {'start_timestamp': 1541952000, 'start_local_time': datetime.date(2018, 11, 12), 'end_timestamp': 1543334400, 'end_local_time': datetime.date(2018, 11, 28), 'title': '模板中心_201811??（模板配置跨环境同步）- 开发', 'effort': 352800}]",
          "x": 3.55,
          "xanchor": "left",
          "xref": "x",
          "y": 35,
          "yref": "y"
         },
         {
          "align": "left",
          "font": {
           "color": "#000000"
          },
          "showarrow": false,
          "text": "支付结算",
          "x": -0.45,
          "xanchor": "left",
          "xref": "x",
          "y": 36,
          "yref": "y"
         },
         {
          "align": "left",
          "font": {
           "color": "#000000"
          },
          "showarrow": false,
          "text": "游侠",
          "x": 0.55,
          "xanchor": "left",
          "xref": "x",
          "y": 36,
          "yref": "y"
         },
         {
          "align": "left",
          "font": {
           "color": "#000000"
          },
          "showarrow": false,
          "text": "12",
          "x": 1.55,
          "xanchor": "left",
          "xref": "x",
          "y": 36,
          "yref": "y"
         },
         {
          "align": "left",
          "font": {
           "color": "#000000"
          },
          "showarrow": false,
          "text": "游侠",
          "x": 2.55,
          "xanchor": "left",
          "xref": "x",
          "y": 36,
          "yref": "y"
         },
         {
          "align": "left",
          "font": {
           "color": "#000000"
          },
          "showarrow": false,
          "text": "[{'start_timestamp': 1540828800, 'start_local_time': datetime.date(2018, 10, 30), 'end_timestamp': 1541433600, 'end_local_time': datetime.date(2018, 11, 6), 'title': 'SLA指标和落地方案', 'effort': 147600}, {'start_timestamp': 1541433600, 'start_local_time': datetime.date(2018, 11, 6), 'end_timestamp': 1542124800, 'end_local_time': datetime.date(2018, 11, 14), 'title': '多银行渠道整合方案', 'effort': 198000}]",
          "x": 3.55,
          "xanchor": "left",
          "xref": "x",
          "y": 36,
          "yref": "y"
         },
         {
          "align": "left",
          "font": {
           "color": "#000000"
          },
          "showarrow": false,
          "text": "支付结算",
          "x": -0.45,
          "xanchor": "left",
          "xref": "x",
          "y": 37,
          "yref": "y"
         },
         {
          "align": "left",
          "font": {
           "color": "#000000"
          },
          "showarrow": false,
          "text": "和歌",
          "x": 0.55,
          "xanchor": "left",
          "xref": "x",
          "y": 37,
          "yref": "y"
         },
         {
          "align": "left",
          "font": {
           "color": "#000000"
          },
          "showarrow": false,
          "text": "24",
          "x": 1.55,
          "xanchor": "left",
          "xref": "x",
          "y": 37,
          "yref": "y"
         },
         {
          "align": "left",
          "font": {
           "color": "#000000"
          },
          "showarrow": false,
          "text": "和歌",
          "x": 2.55,
          "xanchor": "left",
          "xref": "x",
          "y": 37,
          "yref": "y"
         },
         {
          "align": "left",
          "font": {
           "color": "#000000"
          },
          "showarrow": false,
          "text": "[{'start_timestamp': 1540828800, 'start_local_time': datetime.date(2018, 10, 30), 'end_timestamp': 1541952000, 'end_local_time': datetime.date(2018, 11, 12), 'title': '全链路Skywalking告警数据与运维对接', 'effort': 259200}, {'start_timestamp': 1541347200, 'start_local_time': datetime.date(2018, 11, 5), 'end_timestamp': 1543766400, 'end_local_time': datetime.date(2018, 12, 3), 'title': '银行渠道对接：杭州银行；建设银行；农业银行；', 'effort': 576000}]",
          "x": 3.55,
          "xanchor": "left",
          "xref": "x",
          "y": 37,
          "yref": "y"
         },
         {
          "align": "left",
          "font": {
           "color": "#000000"
          },
          "showarrow": false,
          "text": "共享前端",
          "x": -0.45,
          "xanchor": "left",
          "xref": "x",
          "y": 38,
          "yref": "y"
         },
         {
          "align": "left",
          "font": {
           "color": "#000000"
          },
          "showarrow": false,
          "text": "亚格",
          "x": 0.55,
          "xanchor": "left",
          "xref": "x",
          "y": 38,
          "yref": "y"
         },
         {
          "align": "left",
          "font": {
           "color": "#000000"
          },
          "showarrow": false,
          "text": "24",
          "x": 1.55,
          "xanchor": "left",
          "xref": "x",
          "y": 38,
          "yref": "y"
         },
         {
          "align": "left",
          "font": {
           "color": "#000000"
          },
          "showarrow": false,
          "text": "亚格",
          "x": 2.55,
          "xanchor": "left",
          "xref": "x",
          "y": 38,
          "yref": "y"
         },
         {
          "align": "left",
          "font": {
           "color": "#000000"
          },
          "showarrow": false,
          "text": "[{'start_timestamp': 1539619200, 'start_local_time': datetime.date(2018, 10, 16), 'end_timestamp': 1539792000, 'end_local_time': datetime.date(2018, 10, 18), 'title': '012账单管理', 'effort': 57600}, {'start_timestamp': 1540483200, 'start_local_time': datetime.date(2018, 10, 26), 'end_timestamp': 1540915200, 'end_local_time': datetime.date(2018, 10, 31), 'title': '供应商服务订单', 'effort': 86400}, {'start_timestamp': 1540915200, 'start_local_time': datetime.date(2018, 10, 31), 'end_timestamp': 1541606400, 'end_local_time': datetime.date(2018, 11, 8), 'title': '联调自测', 'effort': 192600}, {'start_timestamp': 1541952000, 'start_local_time': datetime.date(2018, 11, 12), 'end_timestamp': 1543420800, 'end_local_time': datetime.date(2018, 11, 29), 'title': '开发', 'effort': 374400}, {'start_timestamp': 1541952000, 'start_local_time': datetime.date(2018, 11, 12), 'end_timestamp': 1543161600, 'end_local_time': datetime.date(2018, 11, 26), 'title': '结算_20181129（开放平台ocean 转kong API补充、禪道优化需求）- 开发', 'effort': 298800}]",
          "x": 3.55,
          "xanchor": "left",
          "xref": "x",
          "y": 38,
          "yref": "y"
         },
         {
          "align": "left",
          "font": {
           "color": "#000000"
          },
          "showarrow": false,
          "text": "财政管理",
          "x": -0.45,
          "xanchor": "left",
          "xref": "x",
          "y": 39,
          "yref": "y"
         },
         {
          "align": "left",
          "font": {
           "color": "#000000"
          },
          "showarrow": false,
          "text": "伊布",
          "x": 0.55,
          "xanchor": "left",
          "xref": "x",
          "y": 39,
          "yref": "y"
         },
         {
          "align": "left",
          "font": {
           "color": "#000000"
          },
          "showarrow": false,
          "text": "14",
          "x": 1.55,
          "xanchor": "left",
          "xref": "x",
          "y": 39,
          "yref": "y"
         },
         {
          "align": "left",
          "font": {
           "color": "#000000"
          },
          "showarrow": false,
          "text": "伊布",
          "x": 2.55,
          "xanchor": "left",
          "xref": "x",
          "y": 39,
          "yref": "y"
         },
         {
          "align": "left",
          "font": {
           "color": "#000000"
          },
          "showarrow": false,
          "text": "[{'start_timestamp': 1540828800, 'start_local_time': datetime.date(2018, 10, 30), 'end_timestamp': 1541347200, 'end_local_time': datetime.date(2018, 11, 5), 'title': '核账管理_20181115 - 开发', 'effort': 134400}, {'start_timestamp': 1541952000, 'start_local_time': datetime.date(2018, 11, 12), 'end_timestamp': 1542902400, 'end_local_time': datetime.date(2018, 11, 23), 'title': '核账管理_201811??（警备新增需求）- 开发', 'effort': 268800}]",
          "x": 3.55,
          "xanchor": "left",
          "xref": "x",
          "y": 39,
          "yref": "y"
         },
         {
          "align": "left",
          "font": {
           "color": "#000000"
          },
          "showarrow": false,
          "text": "共享业务质量保障",
          "x": -0.45,
          "xanchor": "left",
          "xref": "x",
          "y": 40,
          "yref": "y"
         },
         {
          "align": "left",
          "font": {
           "color": "#000000"
          },
          "showarrow": false,
          "text": "晨兮",
          "x": 0.55,
          "xanchor": "left",
          "xref": "x",
          "y": 40,
          "yref": "y"
         },
         {
          "align": "left",
          "font": {
           "color": "#000000"
          },
          "showarrow": false,
          "text": "18",
          "x": 1.55,
          "xanchor": "left",
          "xref": "x",
          "y": 40,
          "yref": "y"
         },
         {
          "align": "left",
          "font": {
           "color": "#000000"
          },
          "showarrow": false,
          "text": "晨兮",
          "x": 2.55,
          "xanchor": "left",
          "xref": "x",
          "y": 40,
          "yref": "y"
         },
         {
          "align": "left",
          "font": {
           "color": "#000000"
          },
          "showarrow": false,
          "text": "[{'start_timestamp': 1541433600, 'start_local_time': datetime.date(2018, 11, 6), 'end_timestamp': 1541952000, 'end_local_time': datetime.date(2018, 11, 12), 'title': '核账管理_20181115 - 测试', 'effort': 126000}, {'start_timestamp': 1541692800, 'start_local_time': datetime.date(2018, 11, 9), 'end_timestamp': 1542816000, 'end_local_time': datetime.date(2018, 11, 22), 'title': '收费_20181122（警备馆）- 测试', 'effort': 259200}, {'start_timestamp': 1542902400, 'start_local_time': datetime.date(2018, 11, 23), 'end_timestamp': 1543766400, 'end_local_time': datetime.date(2018, 12, 3), 'title': '核账管理_201811??（警备新增需求）- 测试', 'effort': 176400}]",
          "x": 3.55,
          "xanchor": "left",
          "xref": "x",
          "y": 40,
          "yref": "y"
         },
         {
          "align": "left",
          "font": {
           "color": "#000000"
          },
          "showarrow": false,
          "text": "共享业务质量保障",
          "x": -0.45,
          "xanchor": "left",
          "xref": "x",
          "y": 41,
          "yref": "y"
         },
         {
          "align": "left",
          "font": {
           "color": "#000000"
          },
          "showarrow": false,
          "text": "江月",
          "x": 0.55,
          "xanchor": "left",
          "xref": "x",
          "y": 41,
          "yref": "y"
         },
         {
          "align": "left",
          "font": {
           "color": "#000000"
          },
          "showarrow": false,
          "text": "9",
          "x": 1.55,
          "xanchor": "left",
          "xref": "x",
          "y": 41,
          "yref": "y"
         },
         {
          "align": "left",
          "font": {
           "color": "#000000"
          },
          "showarrow": false,
          "text": "江月",
          "x": 2.55,
          "xanchor": "left",
          "xref": "x",
          "y": 41,
          "yref": "y"
         },
         {
          "align": "left",
          "font": {
           "color": "#000000"
          },
          "showarrow": false,
          "text": "[{'start_timestamp': 1541001600, 'start_local_time': datetime.date(2018, 11, 1), 'end_timestamp': 1541952000, 'end_local_time': datetime.date(2018, 11, 12), 'title': '模板中心_201811??（模板配置跨环境同步）- 测试', 'effort': 201600}, {'start_timestamp': 1541001600, 'start_local_time': datetime.date(2018, 11, 1), 'end_timestamp': 1541952000, 'end_local_time': datetime.date(2018, 11, 12), 'title': '模板中心_201811??（功能迭代支持企业购和项目采购新需求）- 测试', 'effort': 201600}, {'start_timestamp': 1541433600, 'start_local_time': datetime.date(2018, 11, 6), 'end_timestamp': 1542124800, 'end_local_time': datetime.date(2018, 11, 14), 'title': '在线支付_20181105（收银台签约、农行对接）- 测试', 'effort': 194400}, {'start_timestamp': 1541865600, 'start_local_time': datetime.date(2018, 11, 11), 'end_timestamp': 1542124800, 'end_local_time': datetime.date(2018, 11, 14), 'title': '在线支付_20181129（企业购、收费接入收银台）- 测试', 'effort': 104400}]",
          "x": 3.55,
          "xanchor": "left",
          "xref": "x",
          "y": 41,
          "yref": "y"
         },
         {
          "align": "left",
          "font": {
           "color": "#000000"
          },
          "showarrow": false,
          "text": "共享业务质量保障",
          "x": -0.45,
          "xanchor": "left",
          "xref": "x",
          "y": 42,
          "yref": "y"
         },
         {
          "align": "left",
          "font": {
           "color": "#000000"
          },
          "showarrow": false,
          "text": "居易",
          "x": 0.55,
          "xanchor": "left",
          "xref": "x",
          "y": 42,
          "yref": "y"
         },
         {
          "align": "left",
          "font": {
           "color": "#000000"
          },
          "showarrow": false,
          "text": "26",
          "x": 1.55,
          "xanchor": "left",
          "xref": "x",
          "y": 42,
          "yref": "y"
         },
         {
          "align": "left",
          "font": {
           "color": "#000000"
          },
          "showarrow": false,
          "text": "居易",
          "x": 2.55,
          "xanchor": "left",
          "xref": "x",
          "y": 42,
          "yref": "y"
         },
         {
          "align": "left",
          "font": {
           "color": "#000000"
          },
          "showarrow": false,
          "text": "[{'start_timestamp': 1541088000, 'start_local_time': datetime.date(2018, 11, 2), 'end_timestamp': 1541692800, 'end_local_time': datetime.date(2018, 11, 9), 'title': '采购计划_20181031（支持逆向结算API）- 测试', 'effort': 162000}, {'start_timestamp': 1541433600, 'start_local_time': datetime.date(2018, 11, 6), 'end_timestamp': 1542556800, 'end_local_time': datetime.date(2018, 11, 19), 'title': '采购计划_20181102（CA、优化需求）- 测试', 'effort': 280800}, {'start_timestamp': 1541865600, 'start_local_time': datetime.date(2018, 11, 11), 'end_timestamp': 1542816000, 'end_local_time': datetime.date(2018, 11, 22), 'title': '采购计划_20181109（Ocean迁移版本）- 测试', 'effort': 275400}, {'start_timestamp': 1542816000, 'start_local_time': datetime.date(2018, 11, 22), 'end_timestamp': 1543852800, 'end_local_time': datetime.date(2018, 12, 4), 'title': '采购计划_20181121（采购计划功能迭代新增）- 测试', 'effort': 241200}, {'start_timestamp': 1544112000, 'start_local_time': datetime.date(2018, 12, 7), 'end_timestamp': 1544544000, 'end_local_time': datetime.date(2018, 12, 12), 'title': '采购计划_20181206（运营优化需求）测试', 'effort': 97200}]",
          "x": 3.55,
          "xanchor": "left",
          "xref": "x",
          "y": 42,
          "yref": "y"
         },
         {
          "align": "left",
          "font": {
           "color": "#000000"
          },
          "showarrow": false,
          "text": "共享业务质量保障",
          "x": -0.45,
          "xanchor": "left",
          "xref": "x",
          "y": 43,
          "yref": "y"
         },
         {
          "align": "left",
          "font": {
           "color": "#000000"
          },
          "showarrow": false,
          "text": "无颜",
          "x": 0.55,
          "xanchor": "left",
          "xref": "x",
          "y": 43,
          "yref": "y"
         },
         {
          "align": "left",
          "font": {
           "color": "#000000"
          },
          "showarrow": false,
          "text": "14",
          "x": 1.55,
          "xanchor": "left",
          "xref": "x",
          "y": 43,
          "yref": "y"
         },
         {
          "align": "left",
          "font": {
           "color": "#000000"
          },
          "showarrow": false,
          "text": "无颜",
          "x": 2.55,
          "xanchor": "left",
          "xref": "x",
          "y": 43,
          "yref": "y"
         },
         {
          "align": "left",
          "font": {
           "color": "#000000"
          },
          "showarrow": false,
          "text": "[{'start_timestamp': 1541692800, 'start_local_time': datetime.date(2018, 11, 9), 'end_timestamp': 1542816000, 'end_local_time': datetime.date(2018, 11, 22), 'title': '收费_20181122（警备馆）- 测试', 'effort': 259200}, {'start_timestamp': 1543075200, 'start_local_time': datetime.date(2018, 11, 25), 'end_timestamp': 1543507200, 'end_local_time': datetime.date(2018, 11, 30), 'title': '测试', 'effort': 144000}]",
          "x": 3.55,
          "xanchor": "left",
          "xref": "x",
          "y": 43,
          "yref": "y"
         },
         {
          "align": "left",
          "font": {
           "color": "#000000"
          },
          "showarrow": false,
          "text": "政采云驻场",
          "x": -0.45,
          "xanchor": "left",
          "xref": "x",
          "y": 44,
          "yref": "y"
         },
         {
          "align": "left",
          "font": {
           "color": "#000000"
          },
          "showarrow": false,
          "text": "丽娜",
          "x": 0.55,
          "xanchor": "left",
          "xref": "x",
          "y": 44,
          "yref": "y"
         },
         {
          "align": "left",
          "font": {
           "color": "#000000"
          },
          "showarrow": false,
          "text": "20",
          "x": 1.55,
          "xanchor": "left",
          "xref": "x",
          "y": 44,
          "yref": "y"
         },
         {
          "align": "left",
          "font": {
           "color": "#000000"
          },
          "showarrow": false,
          "text": "丽娜",
          "x": 2.55,
          "xanchor": "left",
          "xref": "x",
          "y": 44,
          "yref": "y"
         },
         {
          "align": "left",
          "font": {
           "color": "#000000"
          },
          "showarrow": false,
          "text": "[{'start_timestamp': 1541001600, 'start_local_time': datetime.date(2018, 11, 1), 'end_timestamp': 1542038400, 'end_local_time': datetime.date(2018, 11, 13), 'title': '手工合同_20181108（杭州合同逆向需求） - 测试', 'effort': 230400}, {'start_timestamp': 1541347200, 'start_local_time': datetime.date(2018, 11, 5), 'end_timestamp': 1541692800, 'end_local_time': datetime.date(2018, 11, 9), 'title': '结算_20181115（前端编译优化、配合网超运费需求）- 测试', 'effort': 115200}, {'start_timestamp': 1541865600, 'start_local_time': datetime.date(2018, 11, 11), 'end_timestamp': 1542816000, 'end_local_time': datetime.date(2018, 11, 22), 'title': '采购计划_20181109（Ocean迁移版本）- 测试', 'effort': 275400}, {'start_timestamp': 1542816000, 'start_local_time': datetime.date(2018, 11, 22), 'end_timestamp': 1543248000, 'end_local_time': datetime.date(2018, 11, 27), 'title': '结算_20181129（开放平台ocean 转kong API补充、禪道优化需求）- 测试', 'effort': 100800}]",
          "x": 3.55,
          "xanchor": "left",
          "xref": "x",
          "y": 44,
          "yref": "y"
         },
         {
          "align": "left",
          "font": {
           "color": "#000000"
          },
          "showarrow": false,
          "text": "共享业务质量保障",
          "x": -0.45,
          "xanchor": "left",
          "xref": "x",
          "y": 45,
          "yref": "y"
         },
         {
          "align": "left",
          "font": {
           "color": "#000000"
          },
          "showarrow": false,
          "text": "圣晔",
          "x": 0.55,
          "xanchor": "left",
          "xref": "x",
          "y": 45,
          "yref": "y"
         },
         {
          "align": "left",
          "font": {
           "color": "#000000"
          },
          "showarrow": false,
          "text": "18",
          "x": 1.55,
          "xanchor": "left",
          "xref": "x",
          "y": 45,
          "yref": "y"
         },
         {
          "align": "left",
          "font": {
           "color": "#000000"
          },
          "showarrow": false,
          "text": "圣晔",
          "x": 2.55,
          "xanchor": "left",
          "xref": "x",
          "y": 45,
          "yref": "y"
         },
         {
          "align": "left",
          "font": {
           "color": "#000000"
          },
          "showarrow": false,
          "text": "[{'start_timestamp': 1541433600, 'start_local_time': datetime.date(2018, 11, 6), 'end_timestamp': 1542556800, 'end_local_time': datetime.date(2018, 11, 19), 'title': '采购计划_20181102（CA、优化需求）- 测试', 'effort': 280800}, {'start_timestamp': 1542816000, 'start_local_time': datetime.date(2018, 11, 22), 'end_timestamp': 1543852800, 'end_local_time': datetime.date(2018, 12, 4), 'title': '采购计划_20181121（采购计划功能迭代新增）- 测试', 'effort': 241200}]",
          "x": 3.55,
          "xanchor": "left",
          "xref": "x",
          "y": 45,
          "yref": "y"
         },
         {
          "align": "left",
          "font": {
           "color": "#000000"
          },
          "showarrow": false,
          "text": "商品中心",
          "x": -0.45,
          "xanchor": "left",
          "xref": "x",
          "y": 46,
          "yref": "y"
         },
         {
          "align": "left",
          "font": {
           "color": "#000000"
          },
          "showarrow": false,
          "text": "渊虹",
          "x": 0.55,
          "xanchor": "left",
          "xref": "x",
          "y": 46,
          "yref": "y"
         },
         {
          "align": "left",
          "font": {
           "color": "#000000"
          },
          "showarrow": false,
          "text": "0",
          "x": 1.55,
          "xanchor": "left",
          "xref": "x",
          "y": 46,
          "yref": "y"
         },
         {
          "align": "left",
          "font": {
           "color": "#000000"
          },
          "showarrow": false,
          "text": "渊虹",
          "x": 2.55,
          "xanchor": "left",
          "xref": "x",
          "y": 46,
          "yref": "y"
         },
         {
          "align": "left",
          "font": {
           "color": "#000000"
          },
          "showarrow": false,
          "text": "[]",
          "x": 3.55,
          "xanchor": "left",
          "xref": "x",
          "y": 46,
          "yref": "y"
         },
         {
          "align": "left",
          "font": {
           "color": "#000000"
          },
          "showarrow": false,
          "text": "商品中心",
          "x": -0.45,
          "xanchor": "left",
          "xref": "x",
          "y": 47,
          "yref": "y"
         },
         {
          "align": "left",
          "font": {
           "color": "#000000"
          },
          "showarrow": false,
          "text": "凉一",
          "x": 0.55,
          "xanchor": "left",
          "xref": "x",
          "y": 47,
          "yref": "y"
         },
         {
          "align": "left",
          "font": {
           "color": "#000000"
          },
          "showarrow": false,
          "text": "0",
          "x": 1.55,
          "xanchor": "left",
          "xref": "x",
          "y": 47,
          "yref": "y"
         },
         {
          "align": "left",
          "font": {
           "color": "#000000"
          },
          "showarrow": false,
          "text": "凉一",
          "x": 2.55,
          "xanchor": "left",
          "xref": "x",
          "y": 47,
          "yref": "y"
         },
         {
          "align": "left",
          "font": {
           "color": "#000000"
          },
          "showarrow": false,
          "text": "[]",
          "x": 3.55,
          "xanchor": "left",
          "xref": "x",
          "y": 47,
          "yref": "y"
         },
         {
          "align": "left",
          "font": {
           "color": "#000000"
          },
          "showarrow": false,
          "text": "商品中心",
          "x": -0.45,
          "xanchor": "left",
          "xref": "x",
          "y": 48,
          "yref": "y"
         },
         {
          "align": "left",
          "font": {
           "color": "#000000"
          },
          "showarrow": false,
          "text": "奕铭",
          "x": 0.55,
          "xanchor": "left",
          "xref": "x",
          "y": 48,
          "yref": "y"
         },
         {
          "align": "left",
          "font": {
           "color": "#000000"
          },
          "showarrow": false,
          "text": "0",
          "x": 1.55,
          "xanchor": "left",
          "xref": "x",
          "y": 48,
          "yref": "y"
         },
         {
          "align": "left",
          "font": {
           "color": "#000000"
          },
          "showarrow": false,
          "text": "奕铭",
          "x": 2.55,
          "xanchor": "left",
          "xref": "x",
          "y": 48,
          "yref": "y"
         },
         {
          "align": "left",
          "font": {
           "color": "#000000"
          },
          "showarrow": false,
          "text": "[]",
          "x": 3.55,
          "xanchor": "left",
          "xref": "x",
          "y": 48,
          "yref": "y"
         },
         {
          "align": "left",
          "font": {
           "color": "#000000"
          },
          "showarrow": false,
          "text": "商品中心",
          "x": -0.45,
          "xanchor": "left",
          "xref": "x",
          "y": 49,
          "yref": "y"
         },
         {
          "align": "left",
          "font": {
           "color": "#000000"
          },
          "showarrow": false,
          "text": "大墨",
          "x": 0.55,
          "xanchor": "left",
          "xref": "x",
          "y": 49,
          "yref": "y"
         },
         {
          "align": "left",
          "font": {
           "color": "#000000"
          },
          "showarrow": false,
          "text": "27",
          "x": 1.55,
          "xanchor": "left",
          "xref": "x",
          "y": 49,
          "yref": "y"
         },
         {
          "align": "left",
          "font": {
           "color": "#000000"
          },
          "showarrow": false,
          "text": "大墨",
          "x": 2.55,
          "xanchor": "left",
          "xref": "x",
          "y": 49,
          "yref": "y"
         },
         {
          "align": "left",
          "font": {
           "color": "#000000"
          },
          "showarrow": false,
          "text": "[{'start_timestamp': 1541001600, 'start_local_time': datetime.date(2018, 11, 1), 'end_timestamp': 1541088000, 'end_local_time': datetime.date(2018, 11, 2), 'title': '预警等级升级代码逻辑变更', 'effort': 28800}, {'start_timestamp': 1541001600, 'start_local_time': datetime.date(2018, 11, 1), 'end_timestamp': 1541088000, 'end_local_time': datetime.date(2018, 11, 2), 'title': '预警接口的高并发场景用例编写及测试', 'effort': 36900}, {'start_timestamp': 1541001600, 'start_local_time': datetime.date(2018, 11, 1), 'end_timestamp': 1541088000, 'end_local_time': datetime.date(2018, 11, 2), 'title': '总览界面联调', 'effort': 28800}, {'start_timestamp': 1541088000, 'start_local_time': datetime.date(2018, 11, 2), 'end_timestamp': 1541347200, 'end_local_time': datetime.date(2018, 11, 5), 'title': '冒烟用例', 'effort': 28800}, {'start_timestamp': 1541347200, 'start_local_time': datetime.date(2018, 11, 5), 'end_timestamp': 1541520000, 'end_local_time': datetime.date(2018, 11, 7), 'title': '预警4.2 测试问题跟踪', 'effort': 57600}, {'start_timestamp': 1541520000, 'start_local_time': datetime.date(2018, 11, 7), 'end_timestamp': 1542297600, 'end_local_time': datetime.date(2018, 11, 16), 'title': '诚信奖惩工作台对接手动预警', 'effort': 216000}, {'start_timestamp': 1541520000, 'start_local_time': datetime.date(2018, 11, 7), 'end_timestamp': 1541692800, 'end_local_time': datetime.date(2018, 11, 9), 'title': '预警通知诚信等级升级机制', 'effort': 57600}, {'start_timestamp': 1541606400, 'start_local_time': datetime.date(2018, 11, 8), 'end_timestamp': 1542211200, 'end_local_time': datetime.date(2018, 11, 15), 'title': '对接方案实施', 'effort': 144000}, {'start_timestamp': 1542038400, 'start_local_time': datetime.date(2018, 11, 13), 'end_timestamp': 1542038400, 'end_local_time': datetime.date(2018, 11, 13), 'title': '真线菜单权限、角色树配置', 'effort': 14400}, {'start_timestamp': 1542124800, 'start_local_time': datetime.date(2018, 11, 14), 'end_timestamp': 1542729600, 'end_local_time': datetime.date(2018, 11, 21), 'title': '延时队列预定时长设置无上限', 'effort': 144000}, {'start_timestamp': 1542124800, 'start_local_time': datetime.date(2018, 11, 14), 'end_timestamp': 1542556800, 'end_local_time': datetime.date(2018, 11, 19), 'title': '集成测试及问题跟踪', 'effort': 86400}, {'start_timestamp': 1542643200, 'start_local_time': datetime.date(2018, 11, 20), 'end_timestamp': 1543766400, 'end_local_time': datetime.date(2018, 12, 3), 'title': '供应商串标挖掘', 'effort': 259200}, {'start_timestamp': 1542643200, 'start_local_time': datetime.date(2018, 11, 20), 'end_timestamp': 1543766400, 'end_local_time': datetime.date(2018, 12, 3), 'title': '供应商及采购人关系图谱', 'effort': 259200}, {'start_timestamp': 1542643200, 'start_local_time': datetime.date(2018, 11, 20), 'end_timestamp': 1542729600, 'end_local_time': datetime.date(2018, 11, 21), 'title': '对接方案讨论', 'effort': 28800}, {'start_timestamp': 1542729600, 'start_local_time': datetime.date(2018, 11, 21), 'end_timestamp': 1543334400, 'end_local_time': datetime.date(2018, 11, 28), 'title': '对接实施', 'effort': 144000}, {'start_timestamp': 1543334400, 'start_local_time': datetime.date(2018, 11, 28), 'end_timestamp': 1543507200, 'end_local_time': datetime.date(2018, 11, 30), 'title': '问题跟踪', 'effort': 57600}]",
          "x": 3.55,
          "xanchor": "left",
          "xref": "x",
          "y": 49,
          "yref": "y"
         },
         {
          "align": "left",
          "font": {
           "color": "#000000"
          },
          "showarrow": false,
          "text": "商品中心",
          "x": -0.45,
          "xanchor": "left",
          "xref": "x",
          "y": 50,
          "yref": "y"
         },
         {
          "align": "left",
          "font": {
           "color": "#000000"
          },
          "showarrow": false,
          "text": "鹿鸣",
          "x": 0.55,
          "xanchor": "left",
          "xref": "x",
          "y": 50,
          "yref": "y"
         },
         {
          "align": "left",
          "font": {
           "color": "#000000"
          },
          "showarrow": false,
          "text": "26",
          "x": 1.55,
          "xanchor": "left",
          "xref": "x",
          "y": 50,
          "yref": "y"
         },
         {
          "align": "left",
          "font": {
           "color": "#000000"
          },
          "showarrow": false,
          "text": "鹿鸣",
          "x": 2.55,
          "xanchor": "left",
          "xref": "x",
          "y": 50,
          "yref": "y"
         },
         {
          "align": "left",
          "font": {
           "color": "#000000"
          },
          "showarrow": false,
          "text": "[{'start_timestamp': 1541001600, 'start_local_time': datetime.date(2018, 11, 1), 'end_timestamp': 1541088000, 'end_local_time': datetime.date(2018, 11, 2), 'title': '政策法律法规界面联调', 'effort': 28800}, {'start_timestamp': 1541001600, 'start_local_time': datetime.date(2018, 11, 1), 'end_timestamp': 1541088000, 'end_local_time': datetime.date(2018, 11, 2), 'title': '违法违规行为管理界面联调', 'effort': 28800}, {'start_timestamp': 1541088000, 'start_local_time': datetime.date(2018, 11, 2), 'end_timestamp': 1541347200, 'end_local_time': datetime.date(2018, 11, 5), 'title': '冒烟用例', 'effort': 28800}, {'start_timestamp': 1541347200, 'start_local_time': datetime.date(2018, 11, 5), 'end_timestamp': 1541520000, 'end_local_time': datetime.date(2018, 11, 7), 'title': '预警4.2 测试问题跟踪', 'effort': 57600}, {'start_timestamp': 1541520000, 'start_local_time': datetime.date(2018, 11, 7), 'end_timestamp': 1542297600, 'end_local_time': datetime.date(2018, 11, 16), 'title': '诚信奖惩工作台对接手动预警', 'effort': 216000}, {'start_timestamp': 1541520000, 'start_local_time': datetime.date(2018, 11, 7), 'end_timestamp': 1541692800, 'end_local_time': datetime.date(2018, 11, 9), 'title': '明确对接方案讨论', 'effort': 57600}, {'start_timestamp': 1541606400, 'start_local_time': datetime.date(2018, 11, 8), 'end_timestamp': 1541952000, 'end_local_time': datetime.date(2018, 11, 12), 'title': '项目采购对接自定义预警方案讨论', 'effort': 57600}, {'start_timestamp': 1541952000, 'start_local_time': datetime.date(2018, 11, 12), 'end_timestamp': 1542556800, 'end_local_time': datetime.date(2018, 11, 19), 'title': '项目采购排名预警对接预警实施', 'effort': 144000}, {'start_timestamp': 1542038400, 'start_local_time': datetime.date(2018, 11, 13), 'end_timestamp': 1542038400, 'end_local_time': datetime.date(2018, 11, 13), 'title': '真线菜单权限、角色树配置', 'effort': 14400}, {'start_timestamp': 1542556800, 'start_local_time': datetime.date(2018, 11, 19), 'end_timestamp': 1542729600, 'end_local_time': datetime.date(2018, 11, 21), 'title': '联调及问题跟踪', 'effort': 57600}, {'start_timestamp': 1542643200, 'start_local_time': datetime.date(2018, 11, 20), 'end_timestamp': 1543766400, 'end_local_time': datetime.date(2018, 12, 3), 'title': '供应商串标挖掘', 'effort': 259200}, {'start_timestamp': 1542643200, 'start_local_time': datetime.date(2018, 11, 20), 'end_timestamp': 1543766400, 'end_local_time': datetime.date(2018, 12, 3), 'title': '供应商及采购人关系图谱', 'effort': 259200}]",
          "x": 3.55,
          "xanchor": "left",
          "xref": "x",
          "y": 50,
          "yref": "y"
         },
         {
          "align": "left",
          "font": {
           "color": "#000000"
          },
          "showarrow": false,
          "text": "商品中心",
          "x": -0.45,
          "xanchor": "left",
          "xref": "x",
          "y": 51,
          "yref": "y"
         },
         {
          "align": "left",
          "font": {
           "color": "#000000"
          },
          "showarrow": false,
          "text": "熠然",
          "x": 0.55,
          "xanchor": "left",
          "xref": "x",
          "y": 51,
          "yref": "y"
         },
         {
          "align": "left",
          "font": {
           "color": "#000000"
          },
          "showarrow": false,
          "text": "10",
          "x": 1.55,
          "xanchor": "left",
          "xref": "x",
          "y": 51,
          "yref": "y"
         },
         {
          "align": "left",
          "font": {
           "color": "#000000"
          },
          "showarrow": false,
          "text": "熠然",
          "x": 2.55,
          "xanchor": "left",
          "xref": "x",
          "y": 51,
          "yref": "y"
         },
         {
          "align": "left",
          "font": {
           "color": "#000000"
          },
          "showarrow": false,
          "text": "[{'start_timestamp': 1541001600, 'start_local_time': datetime.date(2018, 11, 1), 'end_timestamp': 1542211200, 'end_local_time': datetime.date(2018, 11, 15), 'title': '奖惩工作台、案例事件研发', 'effort': 288000}, {'start_timestamp': 1541001600, 'start_local_time': datetime.date(2018, 11, 1), 'end_timestamp': 1541433600, 'end_local_time': datetime.date(2018, 11, 6), 'title': '申诉发布意见功能调整，增加短信提醒研发', 'effort': 86400}, {'start_timestamp': 1541001600, 'start_local_time': datetime.date(2018, 11, 1), 'end_timestamp': 1541347200, 'end_local_time': datetime.date(2018, 11, 5), 'title': '预警升级或撤销逆向事件清理研发', 'effort': 57600}, {'start_timestamp': 1541001600, 'start_local_time': datetime.date(2018, 11, 1), 'end_timestamp': 1541088000, 'end_local_time': datetime.date(2018, 11, 2), 'title': '奖惩日志对接预警研发', 'effort': 28800}]",
          "x": 3.55,
          "xanchor": "left",
          "xref": "x",
          "y": 51,
          "yref": "y"
         },
         {
          "align": "left",
          "font": {
           "color": "#000000"
          },
          "showarrow": false,
          "text": "商品中心",
          "x": -0.45,
          "xanchor": "left",
          "xref": "x",
          "y": 52,
          "yref": "y"
         },
         {
          "align": "left",
          "font": {
           "color": "#000000"
          },
          "showarrow": false,
          "text": "星河",
          "x": 0.55,
          "xanchor": "left",
          "xref": "x",
          "y": 52,
          "yref": "y"
         },
         {
          "align": "left",
          "font": {
           "color": "#000000"
          },
          "showarrow": false,
          "text": "10",
          "x": 1.55,
          "xanchor": "left",
          "xref": "x",
          "y": 52,
          "yref": "y"
         },
         {
          "align": "left",
          "font": {
           "color": "#000000"
          },
          "showarrow": false,
          "text": "星河",
          "x": 2.55,
          "xanchor": "left",
          "xref": "x",
          "y": 52,
          "yref": "y"
         },
         {
          "align": "left",
          "font": {
           "color": "#000000"
          },
          "showarrow": false,
          "text": "[{'start_timestamp': 1541001600, 'start_local_time': datetime.date(2018, 11, 1), 'end_timestamp': 1542211200, 'end_local_time': datetime.date(2018, 11, 15), 'title': '诚信档案调整、用户画像调整研发', 'effort': 288000}, {'start_timestamp': 1541001600, 'start_local_time': datetime.date(2018, 11, 1), 'end_timestamp': 1541606400, 'end_local_time': datetime.date(2018, 11, 8), 'title': '案例事件对接预警研发', 'effort': 144000}]",
          "x": 3.55,
          "xanchor": "left",
          "xref": "x",
          "y": 52,
          "yref": "y"
         },
         {
          "align": "left",
          "font": {
           "color": "#000000"
          },
          "showarrow": false,
          "text": "共享前端",
          "x": -0.45,
          "xanchor": "left",
          "xref": "x",
          "y": 53,
          "yref": "y"
         },
         {
          "align": "left",
          "font": {
           "color": "#000000"
          },
          "showarrow": false,
          "text": "子木",
          "x": 0.55,
          "xanchor": "left",
          "xref": "x",
          "y": 53,
          "yref": "y"
         },
         {
          "align": "left",
          "font": {
           "color": "#000000"
          },
          "showarrow": false,
          "text": "0",
          "x": 1.55,
          "xanchor": "left",
          "xref": "x",
          "y": 53,
          "yref": "y"
         },
         {
          "align": "left",
          "font": {
           "color": "#000000"
          },
          "showarrow": false,
          "text": "子木",
          "x": 2.55,
          "xanchor": "left",
          "xref": "x",
          "y": 53,
          "yref": "y"
         },
         {
          "align": "left",
          "font": {
           "color": "#000000"
          },
          "showarrow": false,
          "text": "[]",
          "x": 3.55,
          "xanchor": "left",
          "xref": "x",
          "y": 53,
          "yref": "y"
         },
         {
          "align": "left",
          "font": {
           "color": "#000000"
          },
          "showarrow": false,
          "text": "共享前端",
          "x": -0.45,
          "xanchor": "left",
          "xref": "x",
          "y": 54,
          "yref": "y"
         },
         {
          "align": "left",
          "font": {
           "color": "#000000"
          },
          "showarrow": false,
          "text": "马飞",
          "x": 0.55,
          "xanchor": "left",
          "xref": "x",
          "y": 54,
          "yref": "y"
         },
         {
          "align": "left",
          "font": {
           "color": "#000000"
          },
          "showarrow": false,
          "text": "11",
          "x": 1.55,
          "xanchor": "left",
          "xref": "x",
          "y": 54,
          "yref": "y"
         },
         {
          "align": "left",
          "font": {
           "color": "#000000"
          },
          "showarrow": false,
          "text": "马飞",
          "x": 2.55,
          "xanchor": "left",
          "xref": "x",
          "y": 54,
          "yref": "y"
         },
         {
          "align": "left",
          "font": {
           "color": "#000000"
          },
          "showarrow": false,
          "text": "[{'start_timestamp': 1541001600, 'start_local_time': datetime.date(2018, 11, 1), 'end_timestamp': 1541088000, 'end_local_time': datetime.date(2018, 11, 2), 'title': '政策法律法规界面联调', 'effort': 28800}, {'start_timestamp': 1541001600, 'start_local_time': datetime.date(2018, 11, 1), 'end_timestamp': 1541088000, 'end_local_time': datetime.date(2018, 11, 2), 'title': '总览界面联调', 'effort': 28800}, {'start_timestamp': 1541001600, 'start_local_time': datetime.date(2018, 11, 1), 'end_timestamp': 1541088000, 'end_local_time': datetime.date(2018, 11, 2), 'title': '违法违规行为管理界面联调', 'effort': 28800}, {'start_timestamp': 1541088000, 'start_local_time': datetime.date(2018, 11, 2), 'end_timestamp': 1541347200, 'end_local_time': datetime.date(2018, 11, 5), 'title': '冒烟用例', 'effort': 28800}, {'start_timestamp': 1541347200, 'start_local_time': datetime.date(2018, 11, 5), 'end_timestamp': 1541520000, 'end_local_time': datetime.date(2018, 11, 7), 'title': '预警4.2 测试问题跟踪', 'effort': 57600}, {'start_timestamp': 1541520000, 'start_local_time': datetime.date(2018, 11, 7), 'end_timestamp': 1542124800, 'end_local_time': datetime.date(2018, 11, 14), 'title': '规则库组件化', 'effort': 144000}, {'start_timestamp': 1542297600, 'start_local_time': datetime.date(2018, 11, 16), 'end_timestamp': 1542643200, 'end_local_time': datetime.date(2018, 11, 20), 'title': '效能预警规则配置界面调整', 'effort': 57600}]",
          "x": 3.55,
          "xanchor": "left",
          "xref": "x",
          "y": 54,
          "yref": "y"
         },
         {
          "align": "left",
          "font": {
           "color": "#000000"
          },
          "showarrow": false,
          "text": "共享前端",
          "x": -0.45,
          "xanchor": "left",
          "xref": "x",
          "y": 55,
          "yref": "y"
         },
         {
          "align": "left",
          "font": {
           "color": "#000000"
          },
          "showarrow": false,
          "text": "海秋",
          "x": 0.55,
          "xanchor": "left",
          "xref": "x",
          "y": 55,
          "yref": "y"
         },
         {
          "align": "left",
          "font": {
           "color": "#000000"
          },
          "showarrow": false,
          "text": "5",
          "x": 1.55,
          "xanchor": "left",
          "xref": "x",
          "y": 55,
          "yref": "y"
         },
         {
          "align": "left",
          "font": {
           "color": "#000000"
          },
          "showarrow": false,
          "text": "海秋",
          "x": 2.55,
          "xanchor": "left",
          "xref": "x",
          "y": 55,
          "yref": "y"
         },
         {
          "align": "left",
          "font": {
           "color": "#000000"
          },
          "showarrow": false,
          "text": "[{'start_timestamp': 1541001600, 'start_local_time': datetime.date(2018, 11, 1), 'end_timestamp': 1541606400, 'end_local_time': datetime.date(2018, 11, 8), 'title': '案例事件对接处罚研发', 'effort': 144000}, {'start_timestamp': 1541001600, 'start_local_time': datetime.date(2018, 11, 1), 'end_timestamp': 1541520000, 'end_local_time': datetime.date(2018, 11, 7), 'title': '评价三期：网超定制功能研发', 'effort': 115200}, {'start_timestamp': 1541001600, 'start_local_time': datetime.date(2018, 11, 1), 'end_timestamp': 1541088000, 'end_local_time': datetime.date(2018, 11, 2), 'title': '奖惩日志对接预警研发', 'effort': 28800}]",
          "x": 3.55,
          "xanchor": "left",
          "xref": "x",
          "y": 55,
          "yref": "y"
         },
         {
          "align": "left",
          "font": {
           "color": "#000000"
          },
          "showarrow": false,
          "text": "共享业务质量保障",
          "x": -0.45,
          "xanchor": "left",
          "xref": "x",
          "y": 56,
          "yref": "y"
         },
         {
          "align": "left",
          "font": {
           "color": "#000000"
          },
          "showarrow": false,
          "text": "一弦",
          "x": 0.55,
          "xanchor": "left",
          "xref": "x",
          "y": 56,
          "yref": "y"
         },
         {
          "align": "left",
          "font": {
           "color": "#000000"
          },
          "showarrow": false,
          "text": "0",
          "x": 1.55,
          "xanchor": "left",
          "xref": "x",
          "y": 56,
          "yref": "y"
         },
         {
          "align": "left",
          "font": {
           "color": "#000000"
          },
          "showarrow": false,
          "text": "一弦",
          "x": 2.55,
          "xanchor": "left",
          "xref": "x",
          "y": 56,
          "yref": "y"
         },
         {
          "align": "left",
          "font": {
           "color": "#000000"
          },
          "showarrow": false,
          "text": "[]",
          "x": 3.55,
          "xanchor": "left",
          "xref": "x",
          "y": 56,
          "yref": "y"
         }
        ],
        "height": 1760,
        "margin": {
         "b": 0,
         "l": 0,
         "r": 0,
         "t": 0
        },
        "xaxis": {
         "dtick": 1,
         "gridwidth": 2,
         "showticklabels": false,
         "tick0": -0.5,
         "ticks": "",
         "zeroline": false
        },
        "yaxis": {
         "autorange": "reversed",
         "dtick": 1,
         "gridwidth": 2,
         "showticklabels": false,
         "tick0": 0.5,
         "ticks": "",
         "zeroline": false
        }
       }
      },
      "text/html": [
       "<div id=\"088f7919-2a4d-4c9c-8fda-a44b8028867a\" style=\"height: 1760px; width: 100%;\" class=\"plotly-graph-div\"></div><script type=\"text/javascript\">require([\"plotly\"], function(Plotly) { window.PLOTLYENV=window.PLOTLYENV || {};window.PLOTLYENV.BASE_URL=\"https://plot.ly\";Plotly.newPlot(\"088f7919-2a4d-4c9c-8fda-a44b8028867a\", [{\"colorscale\": [[0, \"#00083e\"], [0.5, \"#ededee\"], [1, \"#ffffff\"]], \"hoverinfo\": \"none\", \"opacity\": 0.75, \"showscale\": false, \"z\": [[0, 0, 0, 0, 0], [0.5, 0.5, 0.5, 0.5, 0.5], [1, 1, 1, 1, 1], [0.5, 0.5, 0.5, 0.5, 0.5], [1, 1, 1, 1, 1], [0.5, 0.5, 0.5, 0.5, 0.5], [1, 1, 1, 1, 1], [0.5, 0.5, 0.5, 0.5, 0.5], [1, 1, 1, 1, 1], [0.5, 0.5, 0.5, 0.5, 0.5], [1, 1, 1, 1, 1], [0.5, 0.5, 0.5, 0.5, 0.5], [1, 1, 1, 1, 1], [0.5, 0.5, 0.5, 0.5, 0.5], [1, 1, 1, 1, 1], [0.5, 0.5, 0.5, 0.5, 0.5], [1, 1, 1, 1, 1], [0.5, 0.5, 0.5, 0.5, 0.5], [1, 1, 1, 1, 1], [0.5, 0.5, 0.5, 0.5, 0.5], [1, 1, 1, 1, 1], [0.5, 0.5, 0.5, 0.5, 0.5], [1, 1, 1, 1, 1], [0.5, 0.5, 0.5, 0.5, 0.5], [1, 1, 1, 1, 1], [0.5, 0.5, 0.5, 0.5, 0.5], [1, 1, 1, 1, 1], [0.5, 0.5, 0.5, 0.5, 0.5], [1, 1, 1, 1, 1], [0.5, 0.5, 0.5, 0.5, 0.5], [1, 1, 1, 1, 1], [0.5, 0.5, 0.5, 0.5, 0.5], [1, 1, 1, 1, 1], [0.5, 0.5, 0.5, 0.5, 0.5], [1, 1, 1, 1, 1], [0.5, 0.5, 0.5, 0.5, 0.5], [1, 1, 1, 1, 1], [0.5, 0.5, 0.5, 0.5, 0.5], [1, 1, 1, 1, 1], [0.5, 0.5, 0.5, 0.5, 0.5], [1, 1, 1, 1, 1], [0.5, 0.5, 0.5, 0.5, 0.5], [1, 1, 1, 1, 1], [0.5, 0.5, 0.5, 0.5, 0.5], [1, 1, 1, 1, 1], [0.5, 0.5, 0.5, 0.5, 0.5], [1, 1, 1, 1, 1], [0.5, 0.5, 0.5, 0.5, 0.5], [1, 1, 1, 1, 1], [0.5, 0.5, 0.5, 0.5, 0.5], [1, 1, 1, 1, 1], [0.5, 0.5, 0.5, 0.5, 0.5], [1, 1, 1, 1, 1], [0.5, 0.5, 0.5, 0.5, 0.5], [1, 1, 1, 1, 1], [0.5, 0.5, 0.5, 0.5, 0.5], [1, 1, 1, 1, 1]], \"type\": \"heatmap\", \"uid\": \"f0949b8d-c2a4-43d9-88f3-766c897173ff\"}], {\"annotations\": [{\"align\": \"left\", \"font\": {\"color\": \"#ffffff\"}, \"showarrow\": false, \"text\": \"<b>department</b>\", \"x\": -0.45, \"xanchor\": \"left\", \"xref\": \"x\", \"y\": 0, \"yref\": \"y\"}, {\"align\": \"left\", \"font\": {\"color\": \"#ffffff\"}, \"showarrow\": false, \"text\": \"<b>displayName</b>\", \"x\": 0.55, \"xanchor\": \"left\", \"xref\": \"x\", \"y\": 0, \"yref\": \"y\"}, {\"align\": \"left\", \"font\": {\"color\": \"#ffffff\"}, \"showarrow\": false, \"text\": \"<b>effort</b>\", \"x\": 1.55, \"xanchor\": \"left\", \"xref\": \"x\", \"y\": 0, \"yref\": \"y\"}, {\"align\": \"left\", \"font\": {\"color\": \"#ffffff\"}, \"showarrow\": false, \"text\": \"<b>name</b>\", \"x\": 2.55, \"xanchor\": \"left\", \"xref\": \"x\", \"y\": 0, \"yref\": \"y\"}, {\"align\": \"left\", \"font\": {\"color\": \"#ffffff\"}, \"showarrow\": false, \"text\": \"<b>tasks</b>\", \"x\": 3.55, \"xanchor\": \"left\", \"xref\": \"x\", \"y\": 0, \"yref\": \"y\"}, {\"align\": \"left\", \"font\": {\"color\": \"#000000\"}, \"showarrow\": false, \"text\": \"\\u7535\\u5b50\\u5356\\u573a1\", \"x\": -0.45, \"xanchor\": \"left\", \"xref\": \"x\", \"y\": 1, \"yref\": \"y\"}, {\"align\": \"left\", \"font\": {\"color\": \"#000000\"}, \"showarrow\": false, \"text\": \"\\u767d\\u9f99\", \"x\": 0.55, \"xanchor\": \"left\", \"xref\": \"x\", \"y\": 1, \"yref\": \"y\"}, {\"align\": \"left\", \"font\": {\"color\": \"#000000\"}, \"showarrow\": false, \"text\": \"31\", \"x\": 1.55, \"xanchor\": \"left\", \"xref\": \"x\", \"y\": 1, \"yref\": \"y\"}, {\"align\": \"left\", \"font\": {\"color\": \"#000000\"}, \"showarrow\": false, \"text\": \"\\u767d\\u9f99\", \"x\": 2.55, \"xanchor\": \"left\", \"xref\": \"x\", \"y\": 1, \"yref\": \"y\"}, {\"align\": \"left\", \"font\": {\"color\": \"#000000\"}, \"showarrow\": false, \"text\": \"[{'start_timestamp': 1539792000, 'start_local_time': datetime.date(2018, 10, 18), 'end_timestamp': 1541433600, 'end_local_time': datetime.date(2018, 11, 6), 'title': '\\u534f\\u8bae\\u4f9b\\u8d27_20181120', 'effort': 396000}, {'start_timestamp': 1541001600, 'start_local_time': datetime.date(2018, 11, 1), 'end_timestamp': 1543507200, 'end_local_time': datetime.date(2018, 11, 30), 'title': '\\u534f\\u8bae\\u4f9b\\u8d27_20181129', 'effort': 604800}]\", \"x\": 3.55, \"xanchor\": \"left\", \"xref\": \"x\", \"y\": 1, \"yref\": \"y\"}, {\"align\": \"left\", \"font\": {\"color\": \"#000000\"}, \"showarrow\": false, \"text\": \"\\u7535\\u5b50\\u5356\\u573a1\", \"x\": -0.45, \"xanchor\": \"left\", \"xref\": \"x\", \"y\": 2, \"yref\": \"y\"}, {\"align\": \"left\", \"font\": {\"color\": \"#000000\"}, \"showarrow\": false, \"text\": \"\\u4e09\\u65a4\", \"x\": 0.55, \"xanchor\": \"left\", \"xref\": \"x\", \"y\": 2, \"yref\": \"y\"}, {\"align\": \"left\", \"font\": {\"color\": \"#000000\"}, \"showarrow\": false, \"text\": \"13\", \"x\": 1.55, \"xanchor\": \"left\", \"xref\": \"x\", \"y\": 2, \"yref\": \"y\"}, {\"align\": \"left\", \"font\": {\"color\": \"#000000\"}, \"showarrow\": false, \"text\": \"\\u4e09\\u65a4\", \"x\": 2.55, \"xanchor\": \"left\", \"xref\": \"x\", \"y\": 2, \"yref\": \"y\"}, {\"align\": \"left\", \"font\": {\"color\": \"#000000\"}, \"showarrow\": false, \"text\": \"[{'start_timestamp': 1539792000, 'start_local_time': datetime.date(2018, 10, 18), 'end_timestamp': 1541433600, 'end_local_time': datetime.date(2018, 11, 6), 'title': '\\u534f\\u8bae\\u4f9b\\u8d27_20181120', 'effort': 396000}]\", \"x\": 3.55, \"xanchor\": \"left\", \"xref\": \"x\", \"y\": 2, \"yref\": \"y\"}, {\"align\": \"left\", \"font\": {\"color\": \"#000000\"}, \"showarrow\": false, \"text\": \"\\u7535\\u5b50\\u5356\\u573a1\", \"x\": -0.45, \"xanchor\": \"left\", \"xref\": \"x\", \"y\": 3, \"yref\": \"y\"}, {\"align\": \"left\", \"font\": {\"color\": \"#000000\"}, \"showarrow\": false, \"text\": \"\\u963f\\u98de\", \"x\": 0.55, \"xanchor\": \"left\", \"xref\": \"x\", \"y\": 3, \"yref\": \"y\"}, {\"align\": \"left\", \"font\": {\"color\": \"#000000\"}, \"showarrow\": false, \"text\": \"13\", \"x\": 1.55, \"xanchor\": \"left\", \"xref\": \"x\", \"y\": 3, \"yref\": \"y\"}, {\"align\": \"left\", \"font\": {\"color\": \"#000000\"}, \"showarrow\": false, \"text\": \"\\u963f\\u98de\", \"x\": 2.55, \"xanchor\": \"left\", \"xref\": \"x\", \"y\": 3, \"yref\": \"y\"}, {\"align\": \"left\", \"font\": {\"color\": \"#000000\"}, \"showarrow\": false, \"text\": \"[{'start_timestamp': 1539792000, 'start_local_time': datetime.date(2018, 10, 18), 'end_timestamp': 1541433600, 'end_local_time': datetime.date(2018, 11, 6), 'title': '\\u534f\\u8bae\\u4f9b\\u8d27_20181120', 'effort': 396000}]\", \"x\": 3.55, \"xanchor\": \"left\", \"xref\": \"x\", \"y\": 3, \"yref\": \"y\"}, {\"align\": \"left\", \"font\": {\"color\": \"#000000\"}, \"showarrow\": false, \"text\": \"\\u7535\\u5b50\\u5356\\u573a1\", \"x\": -0.45, \"xanchor\": \"left\", \"xref\": \"x\", \"y\": 4, \"yref\": \"y\"}, {\"align\": \"left\", \"font\": {\"color\": \"#000000\"}, \"showarrow\": false, \"text\": \"\\u8d8a\\u964c\", \"x\": 0.55, \"xanchor\": \"left\", \"xref\": \"x\", \"y\": 4, \"yref\": \"y\"}, {\"align\": \"left\", \"font\": {\"color\": \"#000000\"}, \"showarrow\": false, \"text\": \"31\", \"x\": 1.55, \"xanchor\": \"left\", \"xref\": \"x\", \"y\": 4, \"yref\": \"y\"}, {\"align\": \"left\", \"font\": {\"color\": \"#000000\"}, \"showarrow\": false, \"text\": \"\\u8d8a\\u964c\", \"x\": 2.55, \"xanchor\": \"left\", \"xref\": \"x\", \"y\": 4, \"yref\": \"y\"}, {\"align\": \"left\", \"font\": {\"color\": \"#000000\"}, \"showarrow\": false, \"text\": \"[{'start_timestamp': 1539792000, 'start_local_time': datetime.date(2018, 10, 18), 'end_timestamp': 1541433600, 'end_local_time': datetime.date(2018, 11, 6), 'title': '\\u534f\\u8bae\\u4f9b\\u8d27_20181120', 'effort': 396000}, {'start_timestamp': 1541001600, 'start_local_time': datetime.date(2018, 11, 1), 'end_timestamp': 1543507200, 'end_local_time': datetime.date(2018, 11, 30), 'title': '\\u534f\\u8bae\\u4f9b\\u8d27_20181129', 'effort': 604800}]\", \"x\": 3.55, \"xanchor\": \"left\", \"xref\": \"x\", \"y\": 4, \"yref\": \"y\"}, {\"align\": \"left\", \"font\": {\"color\": \"#000000\"}, \"showarrow\": false, \"text\": \"\\u7535\\u5b50\\u5356\\u573a1\", \"x\": -0.45, \"xanchor\": \"left\", \"xref\": \"x\", \"y\": 5, \"yref\": \"y\"}, {\"align\": \"left\", \"font\": {\"color\": \"#000000\"}, \"showarrow\": false, \"text\": \"\\u8001\\u66f9\", \"x\": 0.55, \"xanchor\": \"left\", \"xref\": \"x\", \"y\": 5, \"yref\": \"y\"}, {\"align\": \"left\", \"font\": {\"color\": \"#000000\"}, \"showarrow\": false, \"text\": \"22\", \"x\": 1.55, \"xanchor\": \"left\", \"xref\": \"x\", \"y\": 5, \"yref\": \"y\"}, {\"align\": \"left\", \"font\": {\"color\": \"#000000\"}, \"showarrow\": false, \"text\": \"\\u8001\\u66f9\", \"x\": 2.55, \"xanchor\": \"left\", \"xref\": \"x\", \"y\": 5, \"yref\": \"y\"}, {\"align\": \"left\", \"font\": {\"color\": \"#000000\"}, \"showarrow\": false, \"text\": \"[{'start_timestamp': 1541001600, 'start_local_time': datetime.date(2018, 11, 1), 'end_timestamp': 1543766400, 'end_local_time': datetime.date(2018, 12, 3), 'title': '\\u4ea4\\u6613\\u4e2d\\u5fc3_20181130', 'effort': 633600}]\", \"x\": 3.55, \"xanchor\": \"left\", \"xref\": \"x\", \"y\": 5, \"yref\": \"y\"}, {\"align\": \"left\", \"font\": {\"color\": \"#000000\"}, \"showarrow\": false, \"text\": \"\\u7535\\u5b50\\u5356\\u573a1\", \"x\": -0.45, \"xanchor\": \"left\", \"xref\": \"x\", \"y\": 6, \"yref\": \"y\"}, {\"align\": \"left\", \"font\": {\"color\": \"#000000\"}, \"showarrow\": false, \"text\": \"\\u866b\\u4e8c\", \"x\": 0.55, \"xanchor\": \"left\", \"xref\": \"x\", \"y\": 6, \"yref\": \"y\"}, {\"align\": \"left\", \"font\": {\"color\": \"#000000\"}, \"showarrow\": false, \"text\": \"0\", \"x\": 1.55, \"xanchor\": \"left\", \"xref\": \"x\", \"y\": 6, \"yref\": \"y\"}, {\"align\": \"left\", \"font\": {\"color\": \"#000000\"}, \"showarrow\": false, \"text\": \"\\u866b\\u4e8c\", \"x\": 2.55, \"xanchor\": \"left\", \"xref\": \"x\", \"y\": 6, \"yref\": \"y\"}, {\"align\": \"left\", \"font\": {\"color\": \"#000000\"}, \"showarrow\": false, \"text\": \"[]\", \"x\": 3.55, \"xanchor\": \"left\", \"xref\": \"x\", \"y\": 6, \"yref\": \"y\"}, {\"align\": \"left\", \"font\": {\"color\": \"#000000\"}, \"showarrow\": false, \"text\": \"\\u7535\\u5b50\\u5356\\u573a1\", \"x\": -0.45, \"xanchor\": \"left\", \"xref\": \"x\", \"y\": 7, \"yref\": \"y\"}, {\"align\": \"left\", \"font\": {\"color\": \"#000000\"}, \"showarrow\": false, \"text\": \"\\u8d1d\\u5854\", \"x\": 0.55, \"xanchor\": \"left\", \"xref\": \"x\", \"y\": 7, \"yref\": \"y\"}, {\"align\": \"left\", \"font\": {\"color\": \"#000000\"}, \"showarrow\": false, \"text\": \"10\", \"x\": 1.55, \"xanchor\": \"left\", \"xref\": \"x\", \"y\": 7, \"yref\": \"y\"}, {\"align\": \"left\", \"font\": {\"color\": \"#000000\"}, \"showarrow\": false, \"text\": \"\\u8d1d\\u5854\", \"x\": 2.55, \"xanchor\": \"left\", \"xref\": \"x\", \"y\": 7, \"yref\": \"y\"}, {\"align\": \"left\", \"font\": {\"color\": \"#000000\"}, \"showarrow\": false, \"text\": \"[{'start_timestamp': 1540483200, 'start_local_time': datetime.date(2018, 10, 26), 'end_timestamp': 1541692800, 'end_local_time': datetime.date(2018, 11, 9), 'title': '\\u5728\\u7ebf\\u8be2\\u4ef7_20181108', 'effort': 288000}]\", \"x\": 3.55, \"xanchor\": \"left\", \"xref\": \"x\", \"y\": 7, \"yref\": \"y\"}, {\"align\": \"left\", \"font\": {\"color\": \"#000000\"}, \"showarrow\": false, \"text\": \"\\u7535\\u5b50\\u5356\\u573a1\", \"x\": -0.45, \"xanchor\": \"left\", \"xref\": \"x\", \"y\": 8, \"yref\": \"y\"}, {\"align\": \"left\", \"font\": {\"color\": \"#000000\"}, \"showarrow\": false, \"text\": \"\\u5c3c\\u91c7\", \"x\": 0.55, \"xanchor\": \"left\", \"xref\": \"x\", \"y\": 8, \"yref\": \"y\"}, {\"align\": \"left\", \"font\": {\"color\": \"#000000\"}, \"showarrow\": false, \"text\": \"10\", \"x\": 1.55, \"xanchor\": \"left\", \"xref\": \"x\", \"y\": 8, \"yref\": \"y\"}, {\"align\": \"left\", \"font\": {\"color\": \"#000000\"}, \"showarrow\": false, \"text\": \"\\u5c3c\\u91c7\", \"x\": 2.55, \"xanchor\": \"left\", \"xref\": \"x\", \"y\": 8, \"yref\": \"y\"}, {\"align\": \"left\", \"font\": {\"color\": \"#000000\"}, \"showarrow\": false, \"text\": \"[{'start_timestamp': 1540483200, 'start_local_time': datetime.date(2018, 10, 26), 'end_timestamp': 1541692800, 'end_local_time': datetime.date(2018, 11, 9), 'title': '\\u5728\\u7ebf\\u8be2\\u4ef7_20181108', 'effort': 288000}]\", \"x\": 3.55, \"xanchor\": \"left\", \"xref\": \"x\", \"y\": 8, \"yref\": \"y\"}, {\"align\": \"left\", \"font\": {\"color\": \"#000000\"}, \"showarrow\": false, \"text\": \"\\u7535\\u5b50\\u5356\\u573a1\", \"x\": -0.45, \"xanchor\": \"left\", \"xref\": \"x\", \"y\": 9, \"yref\": \"y\"}, {\"align\": \"left\", \"font\": {\"color\": \"#000000\"}, \"showarrow\": false, \"text\": \"\\u6cfd\\u6ea5\", \"x\": 0.55, \"xanchor\": \"left\", \"xref\": \"x\", \"y\": 9, \"yref\": \"y\"}, {\"align\": \"left\", \"font\": {\"color\": \"#000000\"}, \"showarrow\": false, \"text\": \"0\", \"x\": 1.55, \"xanchor\": \"left\", \"xref\": \"x\", \"y\": 9, \"yref\": \"y\"}, {\"align\": \"left\", \"font\": {\"color\": \"#000000\"}, \"showarrow\": false, \"text\": \"\\u6cfd\\u6ea5\", \"x\": 2.55, \"xanchor\": \"left\", \"xref\": \"x\", \"y\": 9, \"yref\": \"y\"}, {\"align\": \"left\", \"font\": {\"color\": \"#000000\"}, \"showarrow\": false, \"text\": \"[]\", \"x\": 3.55, \"xanchor\": \"left\", \"xref\": \"x\", \"y\": 9, \"yref\": \"y\"}, {\"align\": \"left\", \"font\": {\"color\": \"#000000\"}, \"showarrow\": false, \"text\": \"\\u7535\\u5b50\\u5356\\u573a1\", \"x\": -0.45, \"xanchor\": \"left\", \"xref\": \"x\", \"y\": 10, \"yref\": \"y\"}, {\"align\": \"left\", \"font\": {\"color\": \"#000000\"}, \"showarrow\": false, \"text\": \"\\u81f4\\u8651\", \"x\": 0.55, \"xanchor\": \"left\", \"xref\": \"x\", \"y\": 10, \"yref\": \"y\"}, {\"align\": \"left\", \"font\": {\"color\": \"#000000\"}, \"showarrow\": false, \"text\": \"37\", \"x\": 1.55, \"xanchor\": \"left\", \"xref\": \"x\", \"y\": 10, \"yref\": \"y\"}, {\"align\": \"left\", \"font\": {\"color\": \"#000000\"}, \"showarrow\": false, \"text\": \"\\u81f4\\u8651\", \"x\": 2.55, \"xanchor\": \"left\", \"xref\": \"x\", \"y\": 10, \"yref\": \"y\"}, {\"align\": \"left\", \"font\": {\"color\": \"#000000\"}, \"showarrow\": false, \"text\": \"[{'start_timestamp': 1539532800, 'start_local_time': datetime.date(2018, 10, 15), 'end_timestamp': 1543939200, 'end_local_time': datetime.date(2018, 12, 5), 'title': '\\u534f\\u8bae\\u4e2d\\u5fc3_20181204', 'effort': 1065600}, {'start_timestamp': 1541001600, 'start_local_time': datetime.date(2018, 11, 1), 'end_timestamp': 1542297600, 'end_local_time': datetime.date(2018, 11, 16), 'title': '\\u534f\\u8bae\\u4e2d\\u5fc3_20181115', 'effort': 316800}]\", \"x\": 3.55, \"xanchor\": \"left\", \"xref\": \"x\", \"y\": 10, \"yref\": \"y\"}, {\"align\": \"left\", \"font\": {\"color\": \"#000000\"}, \"showarrow\": false, \"text\": \"\\u7535\\u5b50\\u5356\\u573a1\", \"x\": -0.45, \"xanchor\": \"left\", \"xref\": \"x\", \"y\": 11, \"yref\": \"y\"}, {\"align\": \"left\", \"font\": {\"color\": \"#000000\"}, \"showarrow\": false, \"text\": \"\\u5f6c\\u5f6c\", \"x\": 0.55, \"xanchor\": \"left\", \"xref\": \"x\", \"y\": 11, \"yref\": \"y\"}, {\"align\": \"left\", \"font\": {\"color\": \"#000000\"}, \"showarrow\": false, \"text\": \"20\", \"x\": 1.55, \"xanchor\": \"left\", \"xref\": \"x\", \"y\": 11, \"yref\": \"y\"}, {\"align\": \"left\", \"font\": {\"color\": \"#000000\"}, \"showarrow\": false, \"text\": \"\\u5f6c\\u5f6c\", \"x\": 2.55, \"xanchor\": \"left\", \"xref\": \"x\", \"y\": 11, \"yref\": \"y\"}, {\"align\": \"left\", \"font\": {\"color\": \"#000000\"}, \"showarrow\": false, \"text\": \"[{'start_timestamp': 1541001600, 'start_local_time': datetime.date(2018, 11, 1), 'end_timestamp': 1542297600, 'end_local_time': datetime.date(2018, 11, 16), 'title': '\\u534f\\u8bae\\u4e2d\\u5fc3_20181115', 'effort': 316800}, {'start_timestamp': 1541088000, 'start_local_time': datetime.date(2018, 11, 2), 'end_timestamp': 1543420800, 'end_local_time': datetime.date(2018, 11, 29), 'title': '\\u534f\\u8bae\\u4e2d\\u5fc3_20181128', 'effort': 547200}]\", \"x\": 3.55, \"xanchor\": \"left\", \"xref\": \"x\", \"y\": 11, \"yref\": \"y\"}, {\"align\": \"left\", \"font\": {\"color\": \"#000000\"}, \"showarrow\": false, \"text\": \"\\u7535\\u5b50\\u5356\\u573a1\", \"x\": -0.45, \"xanchor\": \"left\", \"xref\": \"x\", \"y\": 12, \"yref\": \"y\"}, {\"align\": \"left\", \"font\": {\"color\": \"#000000\"}, \"showarrow\": false, \"text\": \"\\u7070\\u8c37\", \"x\": 0.55, \"xanchor\": \"left\", \"xref\": \"x\", \"y\": 12, \"yref\": \"y\"}, {\"align\": \"left\", \"font\": {\"color\": \"#000000\"}, \"showarrow\": false, \"text\": \"0\", \"x\": 1.55, \"xanchor\": \"left\", \"xref\": \"x\", \"y\": 12, \"yref\": \"y\"}, {\"align\": \"left\", \"font\": {\"color\": \"#000000\"}, \"showarrow\": false, \"text\": \"\\u7070\\u8c37\", \"x\": 2.55, \"xanchor\": \"left\", \"xref\": \"x\", \"y\": 12, \"yref\": \"y\"}, {\"align\": \"left\", \"font\": {\"color\": \"#000000\"}, \"showarrow\": false, \"text\": \"[]\", \"x\": 3.55, \"xanchor\": \"left\", \"xref\": \"x\", \"y\": 12, \"yref\": \"y\"}, {\"align\": \"left\", \"font\": {\"color\": \"#000000\"}, \"showarrow\": false, \"text\": \"\\u7535\\u5b50\\u5356\\u573a1\", \"x\": -0.45, \"xanchor\": \"left\", \"xref\": \"x\", \"y\": 13, \"yref\": \"y\"}, {\"align\": \"left\", \"font\": {\"color\": \"#000000\"}, \"showarrow\": false, \"text\": \"\\u53cc\\u6bc5\", \"x\": 0.55, \"xanchor\": \"left\", \"xref\": \"x\", \"y\": 13, \"yref\": \"y\"}, {\"align\": \"left\", \"font\": {\"color\": \"#000000\"}, \"showarrow\": false, \"text\": \"19\", \"x\": 1.55, \"xanchor\": \"left\", \"xref\": \"x\", \"y\": 13, \"yref\": \"y\"}, {\"align\": \"left\", \"font\": {\"color\": \"#000000\"}, \"showarrow\": false, \"text\": \"\\u53cc\\u6bc5\", \"x\": 2.55, \"xanchor\": \"left\", \"xref\": \"x\", \"y\": 13, \"yref\": \"y\"}, {\"align\": \"left\", \"font\": {\"color\": \"#000000\"}, \"showarrow\": false, \"text\": \"[{'start_timestamp': 1541088000, 'start_local_time': datetime.date(2018, 11, 2), 'end_timestamp': 1543420800, 'end_local_time': datetime.date(2018, 11, 29), 'title': '\\u534f\\u8bae\\u4e2d\\u5fc3_20181128', 'effort': 547200}]\", \"x\": 3.55, \"xanchor\": \"left\", \"xref\": \"x\", \"y\": 13, \"yref\": \"y\"}, {\"align\": \"left\", \"font\": {\"color\": \"#000000\"}, \"showarrow\": false, \"text\": \"\\u7535\\u5b50\\u5356\\u573a1\", \"x\": -0.45, \"xanchor\": \"left\", \"xref\": \"x\", \"y\": 14, \"yref\": \"y\"}, {\"align\": \"left\", \"font\": {\"color\": \"#000000\"}, \"showarrow\": false, \"text\": \"\\u5e7d\\u660e\", \"x\": 0.55, \"xanchor\": \"left\", \"xref\": \"x\", \"y\": 14, \"yref\": \"y\"}, {\"align\": \"left\", \"font\": {\"color\": \"#000000\"}, \"showarrow\": false, \"text\": \"20\", \"x\": 1.55, \"xanchor\": \"left\", \"xref\": \"x\", \"y\": 14, \"yref\": \"y\"}, {\"align\": \"left\", \"font\": {\"color\": \"#000000\"}, \"showarrow\": false, \"text\": \"\\u5e7d\\u660e\", \"x\": 2.55, \"xanchor\": \"left\", \"xref\": \"x\", \"y\": 14, \"yref\": \"y\"}, {\"align\": \"left\", \"font\": {\"color\": \"#000000\"}, \"showarrow\": false, \"text\": \"[{'start_timestamp': 1541001600, 'start_local_time': datetime.date(2018, 11, 1), 'end_timestamp': 1542297600, 'end_local_time': datetime.date(2018, 11, 16), 'title': '\\u534f\\u8bae\\u4e2d\\u5fc3_20181115', 'effort': 316800}, {'start_timestamp': 1541088000, 'start_local_time': datetime.date(2018, 11, 2), 'end_timestamp': 1543420800, 'end_local_time': datetime.date(2018, 11, 29), 'title': '\\u534f\\u8bae\\u4e2d\\u5fc3_20181128', 'effort': 547200}]\", \"x\": 3.55, \"xanchor\": \"left\", \"xref\": \"x\", \"y\": 14, \"yref\": \"y\"}, {\"align\": \"left\", \"font\": {\"color\": \"#000000\"}, \"showarrow\": false, \"text\": \"\\u7535\\u5b50\\u5356\\u573a1\", \"x\": -0.45, \"xanchor\": \"left\", \"xref\": \"x\", \"y\": 15, \"yref\": \"y\"}, {\"align\": \"left\", \"font\": {\"color\": \"#000000\"}, \"showarrow\": false, \"text\": \"\\u4e1c\\u98ce\", \"x\": 0.55, \"xanchor\": \"left\", \"xref\": \"x\", \"y\": 15, \"yref\": \"y\"}, {\"align\": \"left\", \"font\": {\"color\": \"#000000\"}, \"showarrow\": false, \"text\": \"11\", \"x\": 1.55, \"xanchor\": \"left\", \"xref\": \"x\", \"y\": 15, \"yref\": \"y\"}, {\"align\": \"left\", \"font\": {\"color\": \"#000000\"}, \"showarrow\": false, \"text\": \"\\u4e1c\\u98ce\", \"x\": 2.55, \"xanchor\": \"left\", \"xref\": \"x\", \"y\": 15, \"yref\": \"y\"}, {\"align\": \"left\", \"font\": {\"color\": \"#000000\"}, \"showarrow\": false, \"text\": \"[{'start_timestamp': 1541001600, 'start_local_time': datetime.date(2018, 11, 1), 'end_timestamp': 1542297600, 'end_local_time': datetime.date(2018, 11, 16), 'title': '\\u534f\\u8bae\\u4e2d\\u5fc3_20181115', 'effort': 316800}]\", \"x\": 3.55, \"xanchor\": \"left\", \"xref\": \"x\", \"y\": 15, \"yref\": \"y\"}, {\"align\": \"left\", \"font\": {\"color\": \"#000000\"}, \"showarrow\": false, \"text\": \"\\u7535\\u5b50\\u5356\\u573a1\", \"x\": -0.45, \"xanchor\": \"left\", \"xref\": \"x\", \"y\": 16, \"yref\": \"y\"}, {\"align\": \"left\", \"font\": {\"color\": \"#000000\"}, \"showarrow\": false, \"text\": \"\\u6f8e\\u6e43\", \"x\": 0.55, \"xanchor\": \"left\", \"xref\": \"x\", \"y\": 16, \"yref\": \"y\"}, {\"align\": \"left\", \"font\": {\"color\": \"#000000\"}, \"showarrow\": false, \"text\": \"19\", \"x\": 1.55, \"xanchor\": \"left\", \"xref\": \"x\", \"y\": 16, \"yref\": \"y\"}, {\"align\": \"left\", \"font\": {\"color\": \"#000000\"}, \"showarrow\": false, \"text\": \"\\u6f8e\\u6e43\", \"x\": 2.55, \"xanchor\": \"left\", \"xref\": \"x\", \"y\": 16, \"yref\": \"y\"}, {\"align\": \"left\", \"font\": {\"color\": \"#000000\"}, \"showarrow\": false, \"text\": \"[{'start_timestamp': 1539792000, 'start_local_time': datetime.date(2018, 10, 18), 'end_timestamp': 1541433600, 'end_local_time': datetime.date(2018, 11, 6), 'title': '\\u534f\\u8bae\\u4f9b\\u8d27_20181120', 'effort': 396000}, {'start_timestamp': 1541606400, 'start_local_time': datetime.date(2018, 11, 8), 'end_timestamp': 1542297600, 'end_local_time': datetime.date(2018, 11, 16), 'title': '\\u534f\\u8bae\\u4f9b\\u8d27_20181115', 'effort': 172800}]\", \"x\": 3.55, \"xanchor\": \"left\", \"xref\": \"x\", \"y\": 16, \"yref\": \"y\"}, {\"align\": \"left\", \"font\": {\"color\": \"#000000\"}, \"showarrow\": false, \"text\": \"\\u7535\\u5b50\\u5356\\u573a1\", \"x\": -0.45, \"xanchor\": \"left\", \"xref\": \"x\", \"y\": 17, \"yref\": \"y\"}, {\"align\": \"left\", \"font\": {\"color\": \"#000000\"}, \"showarrow\": false, \"text\": \"\\u5b63\\u8282\", \"x\": 0.55, \"xanchor\": \"left\", \"xref\": \"x\", \"y\": 17, \"yref\": \"y\"}, {\"align\": \"left\", \"font\": {\"color\": \"#000000\"}, \"showarrow\": false, \"text\": \"16\", \"x\": 1.55, \"xanchor\": \"left\", \"xref\": \"x\", \"y\": 17, \"yref\": \"y\"}, {\"align\": \"left\", \"font\": {\"color\": \"#000000\"}, \"showarrow\": false, \"text\": \"\\u5b63\\u8282\", \"x\": 2.55, \"xanchor\": \"left\", \"xref\": \"x\", \"y\": 17, \"yref\": \"y\"}, {\"align\": \"left\", \"font\": {\"color\": \"#000000\"}, \"showarrow\": false, \"text\": \"[{'start_timestamp': 1539792000, 'start_local_time': datetime.date(2018, 10, 18), 'end_timestamp': 1541433600, 'end_local_time': datetime.date(2018, 11, 6), 'title': '\\u534f\\u8bae\\u4f9b\\u8d27_20181120', 'effort': 396000}, {'start_timestamp': 1540483200, 'start_local_time': datetime.date(2018, 10, 26), 'end_timestamp': 1541692800, 'end_local_time': datetime.date(2018, 11, 9), 'title': '\\u5728\\u7ebf\\u8be2\\u4ef7_20181108', 'effort': 288000}]\", \"x\": 3.55, \"xanchor\": \"left\", \"xref\": \"x\", \"y\": 17, \"yref\": \"y\"}, {\"align\": \"left\", \"font\": {\"color\": \"#000000\"}, \"showarrow\": false, \"text\": \"\\u7535\\u5b50\\u5356\\u573a1\", \"x\": -0.45, \"xanchor\": \"left\", \"xref\": \"x\", \"y\": 18, \"yref\": \"y\"}, {\"align\": \"left\", \"font\": {\"color\": \"#000000\"}, \"showarrow\": false, \"text\": \"\\u5b87\\u5c18\", \"x\": 0.55, \"xanchor\": \"left\", \"xref\": \"x\", \"y\": 18, \"yref\": \"y\"}, {\"align\": \"left\", \"font\": {\"color\": \"#000000\"}, \"showarrow\": false, \"text\": \"37\", \"x\": 1.55, \"xanchor\": \"left\", \"xref\": \"x\", \"y\": 18, \"yref\": \"y\"}, {\"align\": \"left\", \"font\": {\"color\": \"#000000\"}, \"showarrow\": false, \"text\": \"\\u5b87\\u5c18\", \"x\": 2.55, \"xanchor\": \"left\", \"xref\": \"x\", \"y\": 18, \"yref\": \"y\"}, {\"align\": \"left\", \"font\": {\"color\": \"#000000\"}, \"showarrow\": false, \"text\": \"[{'start_timestamp': 1539532800, 'start_local_time': datetime.date(2018, 10, 15), 'end_timestamp': 1543939200, 'end_local_time': datetime.date(2018, 12, 5), 'title': '\\u534f\\u8bae\\u4e2d\\u5fc3_20181204', 'effort': 1065600}]\", \"x\": 3.55, \"xanchor\": \"left\", \"xref\": \"x\", \"y\": 18, \"yref\": \"y\"}, {\"align\": \"left\", \"font\": {\"color\": \"#000000\"}, \"showarrow\": false, \"text\": \"\\u5e73\\u53f0\\u8fd0\\u8425\", \"x\": -0.45, \"xanchor\": \"left\", \"xref\": \"x\", \"y\": 19, \"yref\": \"y\"}, {\"align\": \"left\", \"font\": {\"color\": \"#000000\"}, \"showarrow\": false, \"text\": \"\\u73b2\\u73b2\", \"x\": 0.55, \"xanchor\": \"left\", \"xref\": \"x\", \"y\": 19, \"yref\": \"y\"}, {\"align\": \"left\", \"font\": {\"color\": \"#000000\"}, \"showarrow\": false, \"text\": \"13\", \"x\": 1.55, \"xanchor\": \"left\", \"xref\": \"x\", \"y\": 19, \"yref\": \"y\"}, {\"align\": \"left\", \"font\": {\"color\": \"#000000\"}, \"showarrow\": false, \"text\": \"\\u73b2\\u73b2\", \"x\": 2.55, \"xanchor\": \"left\", \"xref\": \"x\", \"y\": 19, \"yref\": \"y\"}, {\"align\": \"left\", \"font\": {\"color\": \"#000000\"}, \"showarrow\": false, \"text\": \"[{'start_timestamp': 1539792000, 'start_local_time': datetime.date(2018, 10, 18), 'end_timestamp': 1541433600, 'end_local_time': datetime.date(2018, 11, 6), 'title': '\\u534f\\u8bae\\u4f9b\\u8d27_20181120', 'effort': 396000}]\", \"x\": 3.55, \"xanchor\": \"left\", \"xref\": \"x\", \"y\": 19, \"yref\": \"y\"}, {\"align\": \"left\", \"font\": {\"color\": \"#000000\"}, \"showarrow\": false, \"text\": \"\\u7535\\u5b50\\u5356\\u573a1\", \"x\": -0.45, \"xanchor\": \"left\", \"xref\": \"x\", \"y\": 20, \"yref\": \"y\"}, {\"align\": \"left\", \"font\": {\"color\": \"#000000\"}, \"showarrow\": false, \"text\": \"\\u5174\\u5b87\", \"x\": 0.55, \"xanchor\": \"left\", \"xref\": \"x\", \"y\": 20, \"yref\": \"y\"}, {\"align\": \"left\", \"font\": {\"color\": \"#000000\"}, \"showarrow\": false, \"text\": \"31\", \"x\": 1.55, \"xanchor\": \"left\", \"xref\": \"x\", \"y\": 20, \"yref\": \"y\"}, {\"align\": \"left\", \"font\": {\"color\": \"#000000\"}, \"showarrow\": false, \"text\": \"\\u5174\\u5b87\", \"x\": 2.55, \"xanchor\": \"left\", \"xref\": \"x\", \"y\": 20, \"yref\": \"y\"}, {\"align\": \"left\", \"font\": {\"color\": \"#000000\"}, \"showarrow\": false, \"text\": \"[{'start_timestamp': 1539792000, 'start_local_time': datetime.date(2018, 10, 18), 'end_timestamp': 1541433600, 'end_local_time': datetime.date(2018, 11, 6), 'title': '\\u534f\\u8bae\\u4f9b\\u8d27_20181120', 'effort': 396000}, {'start_timestamp': 1541001600, 'start_local_time': datetime.date(2018, 11, 1), 'end_timestamp': 1543507200, 'end_local_time': datetime.date(2018, 11, 30), 'title': '\\u534f\\u8bae\\u4f9b\\u8d27_20181129', 'effort': 604800}, {'start_timestamp': 1541001600, 'start_local_time': datetime.date(2018, 11, 1), 'end_timestamp': 1542297600, 'end_local_time': datetime.date(2018, 11, 16), 'title': '\\u534f\\u8bae\\u4e2d\\u5fc3_20181115', 'effort': 316800}, {'start_timestamp': 1541088000, 'start_local_time': datetime.date(2018, 11, 2), 'end_timestamp': 1543420800, 'end_local_time': datetime.date(2018, 11, 29), 'title': '\\u534f\\u8bae\\u4e2d\\u5fc3_20181128', 'effort': 547200}]\", \"x\": 3.55, \"xanchor\": \"left\", \"xref\": \"x\", \"y\": 20, \"yref\": \"y\"}, {\"align\": \"left\", \"font\": {\"color\": \"#000000\"}, \"showarrow\": false, \"text\": \"\\u8ba1\\u5212\\u7ba1\\u7406\", \"x\": -0.45, \"xanchor\": \"left\", \"xref\": \"x\", \"y\": 21, \"yref\": \"y\"}, {\"align\": \"left\", \"font\": {\"color\": \"#000000\"}, \"showarrow\": false, \"text\": \"\\u5341\\u4e09\", \"x\": 0.55, \"xanchor\": \"left\", \"xref\": \"x\", \"y\": 21, \"yref\": \"y\"}, {\"align\": \"left\", \"font\": {\"color\": \"#000000\"}, \"showarrow\": false, \"text\": \"27\", \"x\": 1.55, \"xanchor\": \"left\", \"xref\": \"x\", \"y\": 21, \"yref\": \"y\"}, {\"align\": \"left\", \"font\": {\"color\": \"#000000\"}, \"showarrow\": false, \"text\": \"\\u5341\\u4e09\", \"x\": 2.55, \"xanchor\": \"left\", \"xref\": \"x\", \"y\": 21, \"yref\": \"y\"}, {\"align\": \"left\", \"font\": {\"color\": \"#000000\"}, \"showarrow\": false, \"text\": \"[{'start_timestamp': 1540742400, 'start_local_time': datetime.date(2018, 10, 29), 'end_timestamp': 1541520000, 'end_local_time': datetime.date(2018, 11, 7), 'title': '\\u91c7\\u8d2d\\u8ba1\\u5212_20181031\\uff08\\u652f\\u6301\\u9006\\u5411\\u7ed3\\u7b97API\\uff09- \\u5f00\\u53d1', 'effort': 201600}, {'start_timestamp': 1540828800, 'start_local_time': datetime.date(2018, 10, 30), 'end_timestamp': 1541606400, 'end_local_time': datetime.date(2018, 11, 8), 'title': '\\u91c7\\u8d2d\\u8ba1\\u5212_20181109\\uff08Ocean\\u8fc1\\u79fb\\u7248\\u672c\\uff09- \\u5f00\\u53d1', 'effort': 201600}, {'start_timestamp': 1541606400, 'start_local_time': datetime.date(2018, 11, 8), 'end_timestamp': 1543248000, 'end_local_time': datetime.date(2018, 11, 27), 'title': '\\u91c7\\u8d2d\\u8ba1\\u5212_20181121\\uff08\\u91c7\\u8d2d\\u8ba1\\u5212\\u529f\\u80fd\\u8fed\\u4ee3\\u65b0\\u589e\\uff09- \\u5f00\\u53d1', 'effort': 378000}, {'start_timestamp': 1542556800, 'start_local_time': datetime.date(2018, 11, 19), 'end_timestamp': 1543161600, 'end_local_time': datetime.date(2018, 11, 26), 'title': '\\u5927\\u76d8-\\u6838\\u5fc3API\\u8c03\\u7528', 'effort': 144000}, {'start_timestamp': 1542902400, 'start_local_time': datetime.date(2018, 11, 23), 'end_timestamp': 1543334400, 'end_local_time': datetime.date(2018, 11, 28), 'title': '\\u5927\\u76d8-dump\\u8bb0\\u5f55', 'effort': 86400}, {'start_timestamp': 1543248000, 'start_local_time': datetime.date(2018, 11, 27), 'end_timestamp': 1543507200, 'end_local_time': datetime.date(2018, 11, 30), 'title': '\\u91c7\\u8d2d\\u8ba1\\u5212\\u5e74\\u4e2d\\u7ed3\\u8f6c', 'effort': 86400}, {'start_timestamp': 1543852800, 'start_local_time': datetime.date(2018, 12, 4), 'end_timestamp': 1544025600, 'end_local_time': datetime.date(2018, 12, 6), 'title': '\\u9884\\u7b97\\u5e74\\u7ec8\\u7ed3\\u8f6c', 'effort': 57600}]\", \"x\": 3.55, \"xanchor\": \"left\", \"xref\": \"x\", \"y\": 21, \"yref\": \"y\"}, {\"align\": \"left\", \"font\": {\"color\": \"#000000\"}, \"showarrow\": false, \"text\": \"\\u8ba1\\u5212\\u7ba1\\u7406\", \"x\": -0.45, \"xanchor\": \"left\", \"xref\": \"x\", \"y\": 22, \"yref\": \"y\"}, {\"align\": \"left\", \"font\": {\"color\": \"#000000\"}, \"showarrow\": false, \"text\": \"\\u767d\\u6768\", \"x\": 0.55, \"xanchor\": \"left\", \"xref\": \"x\", \"y\": 22, \"yref\": \"y\"}, {\"align\": \"left\", \"font\": {\"color\": \"#000000\"}, \"showarrow\": false, \"text\": \"25\", \"x\": 1.55, \"xanchor\": \"left\", \"xref\": \"x\", \"y\": 22, \"yref\": \"y\"}, {\"align\": \"left\", \"font\": {\"color\": \"#000000\"}, \"showarrow\": false, \"text\": \"\\u767d\\u6768\", \"x\": 2.55, \"xanchor\": \"left\", \"xref\": \"x\", \"y\": 22, \"yref\": \"y\"}, {\"align\": \"left\", \"font\": {\"color\": \"#000000\"}, \"showarrow\": false, \"text\": \"[{'start_timestamp': 1540742400, 'start_local_time': datetime.date(2018, 10, 29), 'end_timestamp': 1541520000, 'end_local_time': datetime.date(2018, 11, 7), 'title': '\\u91c7\\u8d2d\\u8ba1\\u5212_20181102\\uff08CA\\u3001\\u4f18\\u5316\\u9700\\u6c42\\uff09- \\u5f00\\u53d1', 'effort': 226800}, {'start_timestamp': 1540828800, 'start_local_time': datetime.date(2018, 10, 30), 'end_timestamp': 1541606400, 'end_local_time': datetime.date(2018, 11, 8), 'title': '\\u91c7\\u8d2d\\u8ba1\\u5212_20181109\\uff08Ocean\\u8fc1\\u79fb\\u7248\\u672c\\uff09- \\u5f00\\u53d1', 'effort': 201600}, {'start_timestamp': 1541606400, 'start_local_time': datetime.date(2018, 11, 8), 'end_timestamp': 1543248000, 'end_local_time': datetime.date(2018, 11, 27), 'title': '\\u91c7\\u8d2d\\u8ba1\\u5212_20181121\\uff08\\u91c7\\u8d2d\\u8ba1\\u5212\\u529f\\u80fd\\u8fed\\u4ee3\\u65b0\\u589e\\uff09- \\u5f00\\u53d1', 'effort': 378000}, {'start_timestamp': 1542902400, 'start_local_time': datetime.date(2018, 11, 23), 'end_timestamp': 1543507200, 'end_local_time': datetime.date(2018, 11, 30), 'title': '\\u9884\\u7b97\\u53ef\\u7528\\u91d1\\u989d\\u4f18\\u5316', 'effort': 144000}]\", \"x\": 3.55, \"xanchor\": \"left\", \"xref\": \"x\", \"y\": 22, \"yref\": \"y\"}, {\"align\": \"left\", \"font\": {\"color\": \"#000000\"}, \"showarrow\": false, \"text\": \"\\u8ba1\\u5212\\u7ba1\\u7406\", \"x\": -0.45, \"xanchor\": \"left\", \"xref\": \"x\", \"y\": 23, \"yref\": \"y\"}, {\"align\": \"left\", \"font\": {\"color\": \"#000000\"}, \"showarrow\": false, \"text\": \"\\u607a\\u8fb0\", \"x\": 0.55, \"xanchor\": \"left\", \"xref\": \"x\", \"y\": 23, \"yref\": \"y\"}, {\"align\": \"left\", \"font\": {\"color\": \"#000000\"}, \"showarrow\": false, \"text\": \"9\", \"x\": 1.55, \"xanchor\": \"left\", \"xref\": \"x\", \"y\": 23, \"yref\": \"y\"}, {\"align\": \"left\", \"font\": {\"color\": \"#000000\"}, \"showarrow\": false, \"text\": \"\\u607a\\u8fb0\", \"x\": 2.55, \"xanchor\": \"left\", \"xref\": \"x\", \"y\": 23, \"yref\": \"y\"}, {\"align\": \"left\", \"font\": {\"color\": \"#000000\"}, \"showarrow\": false, \"text\": \"[{'start_timestamp': 1540742400, 'start_local_time': datetime.date(2018, 10, 29), 'end_timestamp': 1541347200, 'end_local_time': datetime.date(2018, 11, 5), 'title': '\\u91c7\\u8d2d\\u76ee\\u5f55_20181125\\uff08\\u91c7\\u8d2d\\u76ee\\u5f55\\u5e74\\u7ec8\\u7ed3\\u8f6c\\u5de5\\u5177\\uff09- \\u5f00\\u53d1', 'effort': 144000}, {'start_timestamp': 1542816000, 'start_local_time': datetime.date(2018, 11, 22), 'end_timestamp': 1543334400, 'end_local_time': datetime.date(2018, 11, 28), 'title': '\\u91c7\\u8d2d\\u76ee\\u5f55_20181125\\uff08\\u91c7\\u8d2d\\u76ee\\u5f55\\u5e74\\u7ec8\\u7ed3\\u8f6c\\u5de5\\u5177\\uff09- \\u524d\\u7aef\\u8054\\u8c03', 'effort': 126000}]\", \"x\": 3.55, \"xanchor\": \"left\", \"xref\": \"x\", \"y\": 23, \"yref\": \"y\"}, {\"align\": \"left\", \"font\": {\"color\": \"#000000\"}, \"showarrow\": false, \"text\": \"\\u4ea4\\u6613\\u8f7d\\u4f53\", \"x\": -0.45, \"xanchor\": \"left\", \"xref\": \"x\", \"y\": 24, \"yref\": \"y\"}, {\"align\": \"left\", \"font\": {\"color\": \"#000000\"}, \"showarrow\": false, \"text\": \"\\u9ece\\u58a8\", \"x\": 0.55, \"xanchor\": \"left\", \"xref\": \"x\", \"y\": 24, \"yref\": \"y\"}, {\"align\": \"left\", \"font\": {\"color\": \"#000000\"}, \"showarrow\": false, \"text\": \"35\", \"x\": 1.55, \"xanchor\": \"left\", \"xref\": \"x\", \"y\": 24, \"yref\": \"y\"}, {\"align\": \"left\", \"font\": {\"color\": \"#000000\"}, \"showarrow\": false, \"text\": \"\\u9ece\\u58a8\", \"x\": 2.55, \"xanchor\": \"left\", \"xref\": \"x\", \"y\": 24, \"yref\": \"y\"}, {\"align\": \"left\", \"font\": {\"color\": \"#000000\"}, \"showarrow\": false, \"text\": \"[{'start_timestamp': 1538928000, 'start_local_time': datetime.date(2018, 10, 8), 'end_timestamp': 1543161600, 'end_local_time': datetime.date(2018, 11, 26), 'title': '\\u534f\\u8bae\\u4fdd\\u8bc1\\u91d1-\\u540e\\u7aef', 'effort': 1029600}]\", \"x\": 3.55, \"xanchor\": \"left\", \"xref\": \"x\", \"y\": 24, \"yref\": \"y\"}, {\"align\": \"left\", \"font\": {\"color\": \"#000000\"}, \"showarrow\": false, \"text\": \"\\u4ea4\\u6613\\u8f7d\\u4f53\", \"x\": -0.45, \"xanchor\": \"left\", \"xref\": \"x\", \"y\": 25, \"yref\": \"y\"}, {\"align\": \"left\", \"font\": {\"color\": \"#000000\"}, \"showarrow\": false, \"text\": \"\\u5173\\u5c14\", \"x\": 0.55, \"xanchor\": \"left\", \"xref\": \"x\", \"y\": 25, \"yref\": \"y\"}, {\"align\": \"left\", \"font\": {\"color\": \"#000000\"}, \"showarrow\": false, \"text\": \"21\", \"x\": 1.55, \"xanchor\": \"left\", \"xref\": \"x\", \"y\": 25, \"yref\": \"y\"}, {\"align\": \"left\", \"font\": {\"color\": \"#000000\"}, \"showarrow\": false, \"text\": \"\\u5173\\u5c14\", \"x\": 2.55, \"xanchor\": \"left\", \"xref\": \"x\", \"y\": 25, \"yref\": \"y\"}, {\"align\": \"left\", \"font\": {\"color\": \"#000000\"}, \"showarrow\": false, \"text\": \"[{'start_timestamp': 1540828800, 'start_local_time': datetime.date(2018, 10, 30), 'end_timestamp': 1541692800, 'end_local_time': datetime.date(2018, 11, 9), 'title': '\\u6a21\\u677f\\u4e2d\\u5fc3_201811??\\uff08\\u529f\\u80fd\\u8fed\\u4ee3\\u652f\\u6301\\u4f01\\u4e1a\\u8d2d\\u548c\\u9879\\u76ee\\u91c7\\u8d2d\\u65b0\\u9700\\u6c42\\uff09- \\u5f00\\u53d1', 'effort': 252000}, {'start_timestamp': 1541952000, 'start_local_time': datetime.date(2018, 11, 12), 'end_timestamp': 1543334400, 'end_local_time': datetime.date(2018, 11, 28), 'title': '\\u6a21\\u677f\\u4e2d\\u5fc3_201811??\\uff08\\u6a21\\u677f\\u914d\\u7f6e\\u8de8\\u73af\\u5883\\u540c\\u6b65\\uff09- \\u5f00\\u53d1', 'effort': 352800}]\", \"x\": 3.55, \"xanchor\": \"left\", \"xref\": \"x\", \"y\": 25, \"yref\": \"y\"}, {\"align\": \"left\", \"font\": {\"color\": \"#000000\"}, \"showarrow\": false, \"text\": \"\\u4ea4\\u6613\\u8f7d\\u4f53\", \"x\": -0.45, \"xanchor\": \"left\", \"xref\": \"x\", \"y\": 26, \"yref\": \"y\"}, {\"align\": \"left\", \"font\": {\"color\": \"#000000\"}, \"showarrow\": false, \"text\": \"\\u5411\\u9633\", \"x\": 0.55, \"xanchor\": \"left\", \"xref\": \"x\", \"y\": 26, \"yref\": \"y\"}, {\"align\": \"left\", \"font\": {\"color\": \"#000000\"}, \"showarrow\": false, \"text\": \"12\", \"x\": 1.55, \"xanchor\": \"left\", \"xref\": \"x\", \"y\": 26, \"yref\": \"y\"}, {\"align\": \"left\", \"font\": {\"color\": \"#000000\"}, \"showarrow\": false, \"text\": \"\\u5411\\u9633\", \"x\": 2.55, \"xanchor\": \"left\", \"xref\": \"x\", \"y\": 26, \"yref\": \"y\"}, {\"align\": \"left\", \"font\": {\"color\": \"#000000\"}, \"showarrow\": false, \"text\": \"[{'start_timestamp': 1540137600, 'start_local_time': datetime.date(2018, 10, 22), 'end_timestamp': 1540828800, 'end_local_time': datetime.date(2018, 10, 30), 'title': '\\u624b\\u5de5\\u5408\\u540c_20181108\\uff08\\u676d\\u5dde\\u5408\\u540c\\u9006\\u5411\\u9700\\u6c42\\uff09 - \\u5f00\\u53d1', 'effort': 187200}, {'start_timestamp': 1540828800, 'start_local_time': datetime.date(2018, 10, 30), 'end_timestamp': 1541520000, 'end_local_time': datetime.date(2018, 11, 7), 'title': '\\u652f\\u6301\\u901a\\u7528\\u5b9a\\u70b9\\u5bf9\\u63a5', 'effort': 172800}]\", \"x\": 3.55, \"xanchor\": \"left\", \"xref\": \"x\", \"y\": 26, \"yref\": \"y\"}, {\"align\": \"left\", \"font\": {\"color\": \"#000000\"}, \"showarrow\": false, \"text\": \"\\u652f\\u4ed8\\u7ed3\\u7b97\", \"x\": -0.45, \"xanchor\": \"left\", \"xref\": \"x\", \"y\": 27, \"yref\": \"y\"}, {\"align\": \"left\", \"font\": {\"color\": \"#000000\"}, \"showarrow\": false, \"text\": \"\\u6d77\\u6839\", \"x\": 0.55, \"xanchor\": \"left\", \"xref\": \"x\", \"y\": 27, \"yref\": \"y\"}, {\"align\": \"left\", \"font\": {\"color\": \"#000000\"}, \"showarrow\": false, \"text\": \"35\", \"x\": 1.55, \"xanchor\": \"left\", \"xref\": \"x\", \"y\": 27, \"yref\": \"y\"}, {\"align\": \"left\", \"font\": {\"color\": \"#000000\"}, \"showarrow\": false, \"text\": \"\\u6d77\\u6839\", \"x\": 2.55, \"xanchor\": \"left\", \"xref\": \"x\", \"y\": 27, \"yref\": \"y\"}, {\"align\": \"left\", \"font\": {\"color\": \"#000000\"}, \"showarrow\": false, \"text\": \"[{'start_timestamp': 1538928000, 'start_local_time': datetime.date(2018, 10, 8), 'end_timestamp': 1543161600, 'end_local_time': datetime.date(2018, 11, 26), 'title': '\\u534f\\u8bae\\u4fdd\\u8bc1\\u91d1-\\u540e\\u7aef', 'effort': 1029600}]\", \"x\": 3.55, \"xanchor\": \"left\", \"xref\": \"x\", \"y\": 27, \"yref\": \"y\"}, {\"align\": \"left\", \"font\": {\"color\": \"#000000\"}, \"showarrow\": false, \"text\": \"\\u652f\\u4ed8\\u7ed3\\u7b97\", \"x\": -0.45, \"xanchor\": \"left\", \"xref\": \"x\", \"y\": 28, \"yref\": \"y\"}, {\"align\": \"left\", \"font\": {\"color\": \"#000000\"}, \"showarrow\": false, \"text\": \"\\u4fee\\u8fdc\", \"x\": 0.55, \"xanchor\": \"left\", \"xref\": \"x\", \"y\": 28, \"yref\": \"y\"}, {\"align\": \"left\", \"font\": {\"color\": \"#000000\"}, \"showarrow\": false, \"text\": \"35\", \"x\": 1.55, \"xanchor\": \"left\", \"xref\": \"x\", \"y\": 28, \"yref\": \"y\"}, {\"align\": \"left\", \"font\": {\"color\": \"#000000\"}, \"showarrow\": false, \"text\": \"\\u4fee\\u8fdc\", \"x\": 2.55, \"xanchor\": \"left\", \"xref\": \"x\", \"y\": 28, \"yref\": \"y\"}, {\"align\": \"left\", \"font\": {\"color\": \"#000000\"}, \"showarrow\": false, \"text\": \"[{'start_timestamp': 1538928000, 'start_local_time': datetime.date(2018, 10, 8), 'end_timestamp': 1543161600, 'end_local_time': datetime.date(2018, 11, 26), 'title': '\\u534f\\u8bae\\u4fdd\\u8bc1\\u91d1-\\u540e\\u7aef', 'effort': 1029600}, {'start_timestamp': 1540051200, 'start_local_time': datetime.date(2018, 10, 21), 'end_timestamp': 1541347200, 'end_local_time': datetime.date(2018, 11, 5), 'title': '\\u5728\\u7ebf\\u652f\\u4ed8_20181105\\uff08\\u6536\\u94f6\\u53f0\\u7b7e\\u7ea6\\u3001\\u519c\\u884c\\u5bf9\\u63a5\\uff09- \\u5f00\\u53d1', 'effort': 316800}, {'start_timestamp': 1540828800, 'start_local_time': datetime.date(2018, 10, 30), 'end_timestamp': 1542297600, 'end_local_time': datetime.date(2018, 11, 16), 'title': '\\u519c\\u4e1a\\u94f6\\u884c\\u652f\\u4ed8\\u5bf9\\u63a5', 'effort': 392400}]\", \"x\": 3.55, \"xanchor\": \"left\", \"xref\": \"x\", \"y\": 28, \"yref\": \"y\"}, {\"align\": \"left\", \"font\": {\"color\": \"#000000\"}, \"showarrow\": false, \"text\": \"\\u652f\\u4ed8\\u7ed3\\u7b97\", \"x\": -0.45, \"xanchor\": \"left\", \"xref\": \"x\", \"y\": 29, \"yref\": \"y\"}, {\"align\": \"left\", \"font\": {\"color\": \"#000000\"}, \"showarrow\": false, \"text\": \"\\u6674\\u5929\", \"x\": 0.55, \"xanchor\": \"left\", \"xref\": \"x\", \"y\": 29, \"yref\": \"y\"}, {\"align\": \"left\", \"font\": {\"color\": \"#000000\"}, \"showarrow\": false, \"text\": \"28\", \"x\": 1.55, \"xanchor\": \"left\", \"xref\": \"x\", \"y\": 29, \"yref\": \"y\"}, {\"align\": \"left\", \"font\": {\"color\": \"#000000\"}, \"showarrow\": false, \"text\": \"\\u6674\\u5929\", \"x\": 2.55, \"xanchor\": \"left\", \"xref\": \"x\", \"y\": 29, \"yref\": \"y\"}, {\"align\": \"left\", \"font\": {\"color\": \"#000000\"}, \"showarrow\": false, \"text\": \"[{'start_timestamp': 1539705600, 'start_local_time': datetime.date(2018, 10, 17), 'end_timestamp': 1542556800, 'end_local_time': datetime.date(2018, 11, 19), 'title': '\\u6536\\u8d39_20181122\\uff08\\u8b66\\u5907\\u9986\\uff09- \\u5f00\\u53d1', 'effort': 662400}, {'start_timestamp': 1541952000, 'start_local_time': datetime.date(2018, 11, 12), 'end_timestamp': 1543161600, 'end_local_time': datetime.date(2018, 11, 26), 'title': '\\u7ed3\\u7b97_20181129\\uff08\\u5f00\\u653e\\u5e73\\u53f0ocean \\u8f6ckong API\\u8865\\u5145\\u3001\\u79aa\\u9053\\u4f18\\u5316\\u9700\\u6c42\\uff09- \\u5f00\\u53d1', 'effort': 298800}]\", \"x\": 3.55, \"xanchor\": \"left\", \"xref\": \"x\", \"y\": 29, \"yref\": \"y\"}, {\"align\": \"left\", \"font\": {\"color\": \"#000000\"}, \"showarrow\": false, \"text\": \"\\u652f\\u4ed8\\u7ed3\\u7b97\", \"x\": -0.45, \"xanchor\": \"left\", \"xref\": \"x\", \"y\": 30, \"yref\": \"y\"}, {\"align\": \"left\", \"font\": {\"color\": \"#000000\"}, \"showarrow\": false, \"text\": \"\\u767d\\u8d77\", \"x\": 0.55, \"xanchor\": \"left\", \"xref\": \"x\", \"y\": 30, \"yref\": \"y\"}, {\"align\": \"left\", \"font\": {\"color\": \"#000000\"}, \"showarrow\": false, \"text\": \"37\", \"x\": 1.55, \"xanchor\": \"left\", \"xref\": \"x\", \"y\": 30, \"yref\": \"y\"}, {\"align\": \"left\", \"font\": {\"color\": \"#000000\"}, \"showarrow\": false, \"text\": \"\\u767d\\u8d77\", \"x\": 2.55, \"xanchor\": \"left\", \"xref\": \"x\", \"y\": 30, \"yref\": \"y\"}, {\"align\": \"left\", \"font\": {\"color\": \"#000000\"}, \"showarrow\": false, \"text\": \"[{'start_timestamp': 1539705600, 'start_local_time': datetime.date(2018, 10, 17), 'end_timestamp': 1542556800, 'end_local_time': datetime.date(2018, 11, 19), 'title': '\\u6536\\u8d39_20181122\\uff08\\u8b66\\u5907\\u9986\\uff09- \\u5f00\\u53d1', 'effort': 662400}, {'start_timestamp': 1541001600, 'start_local_time': datetime.date(2018, 11, 1), 'end_timestamp': 1541433600, 'end_local_time': datetime.date(2018, 11, 6), 'title': '\\u7ed3\\u7b97_20181115\\uff08\\u524d\\u7aef\\u7f16\\u8bd1\\u4f18\\u5316\\u3001\\u914d\\u5408\\u7f51\\u8d85\\u8fd0\\u8d39\\u9700\\u6c42\\uff09- \\u5f00\\u53d1', 'effort': 97200}, {'start_timestamp': 1541952000, 'start_local_time': datetime.date(2018, 11, 12), 'end_timestamp': 1543161600, 'end_local_time': datetime.date(2018, 11, 26), 'title': '\\u7ed3\\u7b97_20181129\\uff08\\u5f00\\u653e\\u5e73\\u53f0ocean \\u8f6ckong API\\u8865\\u5145\\u3001\\u79aa\\u9053\\u4f18\\u5316\\u9700\\u6c42\\uff09- \\u5f00\\u53d1', 'effort': 298800}]\", \"x\": 3.55, \"xanchor\": \"left\", \"xref\": \"x\", \"y\": 30, \"yref\": \"y\"}, {\"align\": \"left\", \"font\": {\"color\": \"#000000\"}, \"showarrow\": false, \"text\": \"\\u5171\\u4eab\\u524d\\u7aef\", \"x\": -0.45, \"xanchor\": \"left\", \"xref\": \"x\", \"y\": 31, \"yref\": \"y\"}, {\"align\": \"left\", \"font\": {\"color\": \"#000000\"}, \"showarrow\": false, \"text\": \"\\u5b50\\u6d0b\", \"x\": 0.55, \"xanchor\": \"left\", \"xref\": \"x\", \"y\": 31, \"yref\": \"y\"}, {\"align\": \"left\", \"font\": {\"color\": \"#000000\"}, \"showarrow\": false, \"text\": \"27\", \"x\": 1.55, \"xanchor\": \"left\", \"xref\": \"x\", \"y\": 31, \"yref\": \"y\"}, {\"align\": \"left\", \"font\": {\"color\": \"#000000\"}, \"showarrow\": false, \"text\": \"\\u5b50\\u6d0b\", \"x\": 2.55, \"xanchor\": \"left\", \"xref\": \"x\", \"y\": 31, \"yref\": \"y\"}, {\"align\": \"left\", \"font\": {\"color\": \"#000000\"}, \"showarrow\": false, \"text\": \"[{'start_timestamp': 1539532800, 'start_local_time': datetime.date(2018, 10, 15), 'end_timestamp': 1540137600, 'end_local_time': datetime.date(2018, 10, 22), 'title': '\\u524d\\u7aef-\\u4f9b\\u5e94\\u5546\\u534f\\u8bae\\u7ba1\\u7406/\\u4fdd\\u8bc1\\u91d1\\u9000\\u6b3e\\u7ba1\\u7406-\\u6e05\\u97f3\\u5f00\\u53d11\\u5468', 'effort': 144000}, {'start_timestamp': 1539792000, 'start_local_time': datetime.date(2018, 10, 18), 'end_timestamp': 1540137600, 'end_local_time': datetime.date(2018, 10, 22), 'title': '\\u4f9b\\u5e94\\u5546\\u8d26\\u5355\\u7ba1\\u7406', 'effort': 57600}, {'start_timestamp': 1540137600, 'start_local_time': datetime.date(2018, 10, 22), 'end_timestamp': 1540483200, 'end_local_time': datetime.date(2018, 10, 26), 'title': '012\\u670d\\u52a1\\u8ba2\\u5355', 'effort': 115200}, {'start_timestamp': 1540742400, 'start_local_time': datetime.date(2018, 10, 29), 'end_timestamp': 1541520000, 'end_local_time': datetime.date(2018, 11, 7), 'title': '\\u524d\\u7aef-\\u4ee3\\u7406\\u673a\\u6784\\u7f34\\u8d39\\u7ba1\\u7406-\\u5b50\\u6d0b\\u5f00\\u53d1', 'effort': 201600}, {'start_timestamp': 1540915200, 'start_local_time': datetime.date(2018, 10, 31), 'end_timestamp': 1541606400, 'end_local_time': datetime.date(2018, 11, 8), 'title': '\\u8054\\u8c03\\u81ea\\u6d4b', 'effort': 192600}, {'start_timestamp': 1541433600, 'start_local_time': datetime.date(2018, 11, 6), 'end_timestamp': 1542297600, 'end_local_time': datetime.date(2018, 11, 16), 'title': '\\u524d\\u540e\\u7aef\\u8054\\u8c03', 'effort': 244800}, {'start_timestamp': 1542816000, 'start_local_time': datetime.date(2018, 11, 22), 'end_timestamp': 1543334400, 'end_local_time': datetime.date(2018, 11, 28), 'title': '\\u91c7\\u8d2d\\u76ee\\u5f55_20181125\\uff08\\u91c7\\u8d2d\\u76ee\\u5f55\\u5e74\\u7ec8\\u7ed3\\u8f6c\\u5de5\\u5177\\uff09- \\u524d\\u7aef\\u8054\\u8c03', 'effort': 126000}]\", \"x\": 3.55, \"xanchor\": \"left\", \"xref\": \"x\", \"y\": 31, \"yref\": \"y\"}, {\"align\": \"left\", \"font\": {\"color\": \"#000000\"}, \"showarrow\": false, \"text\": \"\\u5171\\u4eab\\u524d\\u7aef\", \"x\": -0.45, \"xanchor\": \"left\", \"xref\": \"x\", \"y\": 32, \"yref\": \"y\"}, {\"align\": \"left\", \"font\": {\"color\": \"#000000\"}, \"showarrow\": false, \"text\": \"\\u7b80\\u540d\", \"x\": 0.55, \"xanchor\": \"left\", \"xref\": \"x\", \"y\": 32, \"yref\": \"y\"}, {\"align\": \"left\", \"font\": {\"color\": \"#000000\"}, \"showarrow\": false, \"text\": \"26\", \"x\": 1.55, \"xanchor\": \"left\", \"xref\": \"x\", \"y\": 32, \"yref\": \"y\"}, {\"align\": \"left\", \"font\": {\"color\": \"#000000\"}, \"showarrow\": false, \"text\": \"\\u7b80\\u540d\", \"x\": 2.55, \"xanchor\": \"left\", \"xref\": \"x\", \"y\": 32, \"yref\": \"y\"}, {\"align\": \"left\", \"font\": {\"color\": \"#000000\"}, \"showarrow\": false, \"text\": \"[{'start_timestamp': 1540742400, 'start_local_time': datetime.date(2018, 10, 29), 'end_timestamp': 1541520000, 'end_local_time': datetime.date(2018, 11, 7), 'title': '\\u91c7\\u8d2d\\u8ba1\\u5212_20181102\\uff08CA\\u3001\\u4f18\\u5316\\u9700\\u6c42\\uff09- \\u5f00\\u53d1', 'effort': 226800}, {'start_timestamp': 1541001600, 'start_local_time': datetime.date(2018, 11, 1), 'end_timestamp': 1542038400, 'end_local_time': datetime.date(2018, 11, 13), 'title': '\\u5927\\u76d8-\\u63a7\\u5236\\u53f0\\u524d\\u7aef', 'effort': 230400}, {'start_timestamp': 1541001600, 'start_local_time': datetime.date(2018, 11, 1), 'end_timestamp': 1541433600, 'end_local_time': datetime.date(2018, 11, 6), 'title': '\\u7ed3\\u7b97_20181115\\uff08\\u524d\\u7aef\\u7f16\\u8bd1\\u4f18\\u5316\\u3001\\u914d\\u5408\\u7f51\\u8d85\\u8fd0\\u8d39\\u9700\\u6c42\\uff09- \\u5f00\\u53d1', 'effort': 97200}, {'start_timestamp': 1541606400, 'start_local_time': datetime.date(2018, 11, 8), 'end_timestamp': 1543248000, 'end_local_time': datetime.date(2018, 11, 27), 'title': '\\u91c7\\u8d2d\\u8ba1\\u5212_20181121\\uff08\\u91c7\\u8d2d\\u8ba1\\u5212\\u529f\\u80fd\\u8fed\\u4ee3\\u65b0\\u589e\\uff09- \\u5f00\\u53d1', 'effort': 378000}, {'start_timestamp': 1542816000, 'start_local_time': datetime.date(2018, 11, 22), 'end_timestamp': 1543248000, 'end_local_time': datetime.date(2018, 11, 27), 'title': '\\u8fd0\\u8425\\u4f18\\u5316\\u524d\\u7aef', 'effort': 86400}]\", \"x\": 3.55, \"xanchor\": \"left\", \"xref\": \"x\", \"y\": 32, \"yref\": \"y\"}, {\"align\": \"left\", \"font\": {\"color\": \"#000000\"}, \"showarrow\": false, \"text\": \"\\u652f\\u4ed8\\u7ed3\\u7b97\", \"x\": -0.45, \"xanchor\": \"left\", \"xref\": \"x\", \"y\": 33, \"yref\": \"y\"}, {\"align\": \"left\", \"font\": {\"color\": \"#000000\"}, \"showarrow\": false, \"text\": \"\\u9cb2\\u9e4f\", \"x\": 0.55, \"xanchor\": \"left\", \"xref\": \"x\", \"y\": 33, \"yref\": \"y\"}, {\"align\": \"left\", \"font\": {\"color\": \"#000000\"}, \"showarrow\": false, \"text\": \"18\", \"x\": 1.55, \"xanchor\": \"left\", \"xref\": \"x\", \"y\": 33, \"yref\": \"y\"}, {\"align\": \"left\", \"font\": {\"color\": \"#000000\"}, \"showarrow\": false, \"text\": \"\\u9cb2\\u9e4f\", \"x\": 2.55, \"xanchor\": \"left\", \"xref\": \"x\", \"y\": 33, \"yref\": \"y\"}, {\"align\": \"left\", \"font\": {\"color\": \"#000000\"}, \"showarrow\": false, \"text\": \"[{'start_timestamp': 1540828800, 'start_local_time': datetime.date(2018, 10, 30), 'end_timestamp': 1541347200, 'end_local_time': datetime.date(2018, 11, 5), 'title': '\\u6838\\u8d26\\u7ba1\\u7406_20181115 - \\u5f00\\u53d1', 'effort': 134400}, {'start_timestamp': 1541433600, 'start_local_time': datetime.date(2018, 11, 6), 'end_timestamp': 1541952000, 'end_local_time': datetime.date(2018, 11, 12), 'title': '\\u5728\\u7ebf\\u652f\\u4ed8_20181129\\uff08\\u4f01\\u4e1a\\u8d2d\\u3001\\u6536\\u8d39\\u63a5\\u5165\\u6536\\u94f6\\u53f0\\uff09- \\u5f00\\u53d1', 'effort': 115200}, {'start_timestamp': 1541952000, 'start_local_time': datetime.date(2018, 11, 12), 'end_timestamp': 1542902400, 'end_local_time': datetime.date(2018, 11, 23), 'title': '\\u6838\\u8d26\\u7ba1\\u7406_201811??\\uff08\\u8b66\\u5907\\u65b0\\u589e\\u9700\\u6c42\\uff09- \\u5f00\\u53d1', 'effort': 268800}]\", \"x\": 3.55, \"xanchor\": \"left\", \"xref\": \"x\", \"y\": 33, \"yref\": \"y\"}, {\"align\": \"left\", \"font\": {\"color\": \"#000000\"}, \"showarrow\": false, \"text\": \"\\u8ba1\\u5212\\u7ba1\\u7406\", \"x\": -0.45, \"xanchor\": \"left\", \"xref\": \"x\", \"y\": 34, \"yref\": \"y\"}, {\"align\": \"left\", \"font\": {\"color\": \"#000000\"}, \"showarrow\": false, \"text\": \"\\u5a01\\u4ed4\", \"x\": 0.55, \"xanchor\": \"left\", \"xref\": \"x\", \"y\": 34, \"yref\": \"y\"}, {\"align\": \"left\", \"font\": {\"color\": \"#000000\"}, \"showarrow\": false, \"text\": \"31\", \"x\": 1.55, \"xanchor\": \"left\", \"xref\": \"x\", \"y\": 34, \"yref\": \"y\"}, {\"align\": \"left\", \"font\": {\"color\": \"#000000\"}, \"showarrow\": false, \"text\": \"\\u5a01\\u4ed4\", \"x\": 2.55, \"xanchor\": \"left\", \"xref\": \"x\", \"y\": 34, \"yref\": \"y\"}, {\"align\": \"left\", \"font\": {\"color\": \"#000000\"}, \"showarrow\": false, \"text\": \"[{'start_timestamp': 1539705600, 'start_local_time': datetime.date(2018, 10, 17), 'end_timestamp': 1542556800, 'end_local_time': datetime.date(2018, 11, 19), 'title': '\\u6536\\u8d39_20181122\\uff08\\u8b66\\u5907\\u9986\\uff09- \\u5f00\\u53d1', 'effort': 662400}, {'start_timestamp': 1541952000, 'start_local_time': datetime.date(2018, 11, 12), 'end_timestamp': 1543420800, 'end_local_time': datetime.date(2018, 11, 29), 'title': '\\u5f00\\u53d1', 'effort': 374400}]\", \"x\": 3.55, \"xanchor\": \"left\", \"xref\": \"x\", \"y\": 34, \"yref\": \"y\"}, {\"align\": \"left\", \"font\": {\"color\": \"#000000\"}, \"showarrow\": false, \"text\": \"\\u5171\\u4eab\\u524d\\u7aef\", \"x\": -0.45, \"xanchor\": \"left\", \"xref\": \"x\", \"y\": 35, \"yref\": \"y\"}, {\"align\": \"left\", \"font\": {\"color\": \"#000000\"}, \"showarrow\": false, \"text\": \"\\u8d75\\u4f1f\", \"x\": 0.55, \"xanchor\": \"left\", \"xref\": \"x\", \"y\": 35, \"yref\": \"y\"}, {\"align\": \"left\", \"font\": {\"color\": \"#000000\"}, \"showarrow\": false, \"text\": \"31\", \"x\": 1.55, \"xanchor\": \"left\", \"xref\": \"x\", \"y\": 35, \"yref\": \"y\"}, {\"align\": \"left\", \"font\": {\"color\": \"#000000\"}, \"showarrow\": false, \"text\": \"\\u8d75\\u4f1f\", \"x\": 2.55, \"xanchor\": \"left\", \"xref\": \"x\", \"y\": 35, \"yref\": \"y\"}, {\"align\": \"left\", \"font\": {\"color\": \"#000000\"}, \"showarrow\": false, \"text\": \"[{'start_timestamp': 1540137600, 'start_local_time': datetime.date(2018, 10, 22), 'end_timestamp': 1541347200, 'end_local_time': datetime.date(2018, 11, 5), 'title': '\\u524d\\u7aef-\\u4ee3\\u7406\\u673a\\u6784\\u534f\\u8bae\\u9000\\u6b3e\\u7ba1\\u7406', 'effort': 288000}, {'start_timestamp': 1540137600, 'start_local_time': datetime.date(2018, 10, 22), 'end_timestamp': 1540828800, 'end_local_time': datetime.date(2018, 10, 30), 'title': '\\u624b\\u5de5\\u5408\\u540c_20181108\\uff08\\u676d\\u5dde\\u5408\\u540c\\u9006\\u5411\\u9700\\u6c42\\uff09 - \\u5f00\\u53d1', 'effort': 187200}, {'start_timestamp': 1540828800, 'start_local_time': datetime.date(2018, 10, 30), 'end_timestamp': 1541692800, 'end_local_time': datetime.date(2018, 11, 9), 'title': '\\u6a21\\u677f\\u4e2d\\u5fc3_201811??\\uff08\\u529f\\u80fd\\u8fed\\u4ee3\\u652f\\u6301\\u4f01\\u4e1a\\u8d2d\\u548c\\u9879\\u76ee\\u91c7\\u8d2d\\u65b0\\u9700\\u6c42\\uff09- \\u5f00\\u53d1', 'effort': 252000}, {'start_timestamp': 1541433600, 'start_local_time': datetime.date(2018, 11, 6), 'end_timestamp': 1542297600, 'end_local_time': datetime.date(2018, 11, 16), 'title': '\\u524d\\u540e\\u7aef\\u8054\\u8c03', 'effort': 244800}, {'start_timestamp': 1541952000, 'start_local_time': datetime.date(2018, 11, 12), 'end_timestamp': 1543334400, 'end_local_time': datetime.date(2018, 11, 28), 'title': '\\u6a21\\u677f\\u4e2d\\u5fc3_201811??\\uff08\\u6a21\\u677f\\u914d\\u7f6e\\u8de8\\u73af\\u5883\\u540c\\u6b65\\uff09- \\u5f00\\u53d1', 'effort': 352800}]\", \"x\": 3.55, \"xanchor\": \"left\", \"xref\": \"x\", \"y\": 35, \"yref\": \"y\"}, {\"align\": \"left\", \"font\": {\"color\": \"#000000\"}, \"showarrow\": false, \"text\": \"\\u652f\\u4ed8\\u7ed3\\u7b97\", \"x\": -0.45, \"xanchor\": \"left\", \"xref\": \"x\", \"y\": 36, \"yref\": \"y\"}, {\"align\": \"left\", \"font\": {\"color\": \"#000000\"}, \"showarrow\": false, \"text\": \"\\u6e38\\u4fa0\", \"x\": 0.55, \"xanchor\": \"left\", \"xref\": \"x\", \"y\": 36, \"yref\": \"y\"}, {\"align\": \"left\", \"font\": {\"color\": \"#000000\"}, \"showarrow\": false, \"text\": \"12\", \"x\": 1.55, \"xanchor\": \"left\", \"xref\": \"x\", \"y\": 36, \"yref\": \"y\"}, {\"align\": \"left\", \"font\": {\"color\": \"#000000\"}, \"showarrow\": false, \"text\": \"\\u6e38\\u4fa0\", \"x\": 2.55, \"xanchor\": \"left\", \"xref\": \"x\", \"y\": 36, \"yref\": \"y\"}, {\"align\": \"left\", \"font\": {\"color\": \"#000000\"}, \"showarrow\": false, \"text\": \"[{'start_timestamp': 1540828800, 'start_local_time': datetime.date(2018, 10, 30), 'end_timestamp': 1541433600, 'end_local_time': datetime.date(2018, 11, 6), 'title': 'SLA\\u6307\\u6807\\u548c\\u843d\\u5730\\u65b9\\u6848', 'effort': 147600}, {'start_timestamp': 1541433600, 'start_local_time': datetime.date(2018, 11, 6), 'end_timestamp': 1542124800, 'end_local_time': datetime.date(2018, 11, 14), 'title': '\\u591a\\u94f6\\u884c\\u6e20\\u9053\\u6574\\u5408\\u65b9\\u6848', 'effort': 198000}]\", \"x\": 3.55, \"xanchor\": \"left\", \"xref\": \"x\", \"y\": 36, \"yref\": \"y\"}, {\"align\": \"left\", \"font\": {\"color\": \"#000000\"}, \"showarrow\": false, \"text\": \"\\u652f\\u4ed8\\u7ed3\\u7b97\", \"x\": -0.45, \"xanchor\": \"left\", \"xref\": \"x\", \"y\": 37, \"yref\": \"y\"}, {\"align\": \"left\", \"font\": {\"color\": \"#000000\"}, \"showarrow\": false, \"text\": \"\\u548c\\u6b4c\", \"x\": 0.55, \"xanchor\": \"left\", \"xref\": \"x\", \"y\": 37, \"yref\": \"y\"}, {\"align\": \"left\", \"font\": {\"color\": \"#000000\"}, \"showarrow\": false, \"text\": \"24\", \"x\": 1.55, \"xanchor\": \"left\", \"xref\": \"x\", \"y\": 37, \"yref\": \"y\"}, {\"align\": \"left\", \"font\": {\"color\": \"#000000\"}, \"showarrow\": false, \"text\": \"\\u548c\\u6b4c\", \"x\": 2.55, \"xanchor\": \"left\", \"xref\": \"x\", \"y\": 37, \"yref\": \"y\"}, {\"align\": \"left\", \"font\": {\"color\": \"#000000\"}, \"showarrow\": false, \"text\": \"[{'start_timestamp': 1540828800, 'start_local_time': datetime.date(2018, 10, 30), 'end_timestamp': 1541952000, 'end_local_time': datetime.date(2018, 11, 12), 'title': '\\u5168\\u94fe\\u8defSkywalking\\u544a\\u8b66\\u6570\\u636e\\u4e0e\\u8fd0\\u7ef4\\u5bf9\\u63a5', 'effort': 259200}, {'start_timestamp': 1541347200, 'start_local_time': datetime.date(2018, 11, 5), 'end_timestamp': 1543766400, 'end_local_time': datetime.date(2018, 12, 3), 'title': '\\u94f6\\u884c\\u6e20\\u9053\\u5bf9\\u63a5\\uff1a\\u676d\\u5dde\\u94f6\\u884c\\uff1b\\u5efa\\u8bbe\\u94f6\\u884c\\uff1b\\u519c\\u4e1a\\u94f6\\u884c\\uff1b', 'effort': 576000}]\", \"x\": 3.55, \"xanchor\": \"left\", \"xref\": \"x\", \"y\": 37, \"yref\": \"y\"}, {\"align\": \"left\", \"font\": {\"color\": \"#000000\"}, \"showarrow\": false, \"text\": \"\\u5171\\u4eab\\u524d\\u7aef\", \"x\": -0.45, \"xanchor\": \"left\", \"xref\": \"x\", \"y\": 38, \"yref\": \"y\"}, {\"align\": \"left\", \"font\": {\"color\": \"#000000\"}, \"showarrow\": false, \"text\": \"\\u4e9a\\u683c\", \"x\": 0.55, \"xanchor\": \"left\", \"xref\": \"x\", \"y\": 38, \"yref\": \"y\"}, {\"align\": \"left\", \"font\": {\"color\": \"#000000\"}, \"showarrow\": false, \"text\": \"24\", \"x\": 1.55, \"xanchor\": \"left\", \"xref\": \"x\", \"y\": 38, \"yref\": \"y\"}, {\"align\": \"left\", \"font\": {\"color\": \"#000000\"}, \"showarrow\": false, \"text\": \"\\u4e9a\\u683c\", \"x\": 2.55, \"xanchor\": \"left\", \"xref\": \"x\", \"y\": 38, \"yref\": \"y\"}, {\"align\": \"left\", \"font\": {\"color\": \"#000000\"}, \"showarrow\": false, \"text\": \"[{'start_timestamp': 1539619200, 'start_local_time': datetime.date(2018, 10, 16), 'end_timestamp': 1539792000, 'end_local_time': datetime.date(2018, 10, 18), 'title': '012\\u8d26\\u5355\\u7ba1\\u7406', 'effort': 57600}, {'start_timestamp': 1540483200, 'start_local_time': datetime.date(2018, 10, 26), 'end_timestamp': 1540915200, 'end_local_time': datetime.date(2018, 10, 31), 'title': '\\u4f9b\\u5e94\\u5546\\u670d\\u52a1\\u8ba2\\u5355', 'effort': 86400}, {'start_timestamp': 1540915200, 'start_local_time': datetime.date(2018, 10, 31), 'end_timestamp': 1541606400, 'end_local_time': datetime.date(2018, 11, 8), 'title': '\\u8054\\u8c03\\u81ea\\u6d4b', 'effort': 192600}, {'start_timestamp': 1541952000, 'start_local_time': datetime.date(2018, 11, 12), 'end_timestamp': 1543420800, 'end_local_time': datetime.date(2018, 11, 29), 'title': '\\u5f00\\u53d1', 'effort': 374400}, {'start_timestamp': 1541952000, 'start_local_time': datetime.date(2018, 11, 12), 'end_timestamp': 1543161600, 'end_local_time': datetime.date(2018, 11, 26), 'title': '\\u7ed3\\u7b97_20181129\\uff08\\u5f00\\u653e\\u5e73\\u53f0ocean \\u8f6ckong API\\u8865\\u5145\\u3001\\u79aa\\u9053\\u4f18\\u5316\\u9700\\u6c42\\uff09- \\u5f00\\u53d1', 'effort': 298800}]\", \"x\": 3.55, \"xanchor\": \"left\", \"xref\": \"x\", \"y\": 38, \"yref\": \"y\"}, {\"align\": \"left\", \"font\": {\"color\": \"#000000\"}, \"showarrow\": false, \"text\": \"\\u8d22\\u653f\\u7ba1\\u7406\", \"x\": -0.45, \"xanchor\": \"left\", \"xref\": \"x\", \"y\": 39, \"yref\": \"y\"}, {\"align\": \"left\", \"font\": {\"color\": \"#000000\"}, \"showarrow\": false, \"text\": \"\\u4f0a\\u5e03\", \"x\": 0.55, \"xanchor\": \"left\", \"xref\": \"x\", \"y\": 39, \"yref\": \"y\"}, {\"align\": \"left\", \"font\": {\"color\": \"#000000\"}, \"showarrow\": false, \"text\": \"14\", \"x\": 1.55, \"xanchor\": \"left\", \"xref\": \"x\", \"y\": 39, \"yref\": \"y\"}, {\"align\": \"left\", \"font\": {\"color\": \"#000000\"}, \"showarrow\": false, \"text\": \"\\u4f0a\\u5e03\", \"x\": 2.55, \"xanchor\": \"left\", \"xref\": \"x\", \"y\": 39, \"yref\": \"y\"}, {\"align\": \"left\", \"font\": {\"color\": \"#000000\"}, \"showarrow\": false, \"text\": \"[{'start_timestamp': 1540828800, 'start_local_time': datetime.date(2018, 10, 30), 'end_timestamp': 1541347200, 'end_local_time': datetime.date(2018, 11, 5), 'title': '\\u6838\\u8d26\\u7ba1\\u7406_20181115 - \\u5f00\\u53d1', 'effort': 134400}, {'start_timestamp': 1541952000, 'start_local_time': datetime.date(2018, 11, 12), 'end_timestamp': 1542902400, 'end_local_time': datetime.date(2018, 11, 23), 'title': '\\u6838\\u8d26\\u7ba1\\u7406_201811??\\uff08\\u8b66\\u5907\\u65b0\\u589e\\u9700\\u6c42\\uff09- \\u5f00\\u53d1', 'effort': 268800}]\", \"x\": 3.55, \"xanchor\": \"left\", \"xref\": \"x\", \"y\": 39, \"yref\": \"y\"}, {\"align\": \"left\", \"font\": {\"color\": \"#000000\"}, \"showarrow\": false, \"text\": \"\\u5171\\u4eab\\u4e1a\\u52a1\\u8d28\\u91cf\\u4fdd\\u969c\", \"x\": -0.45, \"xanchor\": \"left\", \"xref\": \"x\", \"y\": 40, \"yref\": \"y\"}, {\"align\": \"left\", \"font\": {\"color\": \"#000000\"}, \"showarrow\": false, \"text\": \"\\u6668\\u516e\", \"x\": 0.55, \"xanchor\": \"left\", \"xref\": \"x\", \"y\": 40, \"yref\": \"y\"}, {\"align\": \"left\", \"font\": {\"color\": \"#000000\"}, \"showarrow\": false, \"text\": \"18\", \"x\": 1.55, \"xanchor\": \"left\", \"xref\": \"x\", \"y\": 40, \"yref\": \"y\"}, {\"align\": \"left\", \"font\": {\"color\": \"#000000\"}, \"showarrow\": false, \"text\": \"\\u6668\\u516e\", \"x\": 2.55, \"xanchor\": \"left\", \"xref\": \"x\", \"y\": 40, \"yref\": \"y\"}, {\"align\": \"left\", \"font\": {\"color\": \"#000000\"}, \"showarrow\": false, \"text\": \"[{'start_timestamp': 1541433600, 'start_local_time': datetime.date(2018, 11, 6), 'end_timestamp': 1541952000, 'end_local_time': datetime.date(2018, 11, 12), 'title': '\\u6838\\u8d26\\u7ba1\\u7406_20181115 - \\u6d4b\\u8bd5', 'effort': 126000}, {'start_timestamp': 1541692800, 'start_local_time': datetime.date(2018, 11, 9), 'end_timestamp': 1542816000, 'end_local_time': datetime.date(2018, 11, 22), 'title': '\\u6536\\u8d39_20181122\\uff08\\u8b66\\u5907\\u9986\\uff09- \\u6d4b\\u8bd5', 'effort': 259200}, {'start_timestamp': 1542902400, 'start_local_time': datetime.date(2018, 11, 23), 'end_timestamp': 1543766400, 'end_local_time': datetime.date(2018, 12, 3), 'title': '\\u6838\\u8d26\\u7ba1\\u7406_201811??\\uff08\\u8b66\\u5907\\u65b0\\u589e\\u9700\\u6c42\\uff09- \\u6d4b\\u8bd5', 'effort': 176400}]\", \"x\": 3.55, \"xanchor\": \"left\", \"xref\": \"x\", \"y\": 40, \"yref\": \"y\"}, {\"align\": \"left\", \"font\": {\"color\": \"#000000\"}, \"showarrow\": false, \"text\": \"\\u5171\\u4eab\\u4e1a\\u52a1\\u8d28\\u91cf\\u4fdd\\u969c\", \"x\": -0.45, \"xanchor\": \"left\", \"xref\": \"x\", \"y\": 41, \"yref\": \"y\"}, {\"align\": \"left\", \"font\": {\"color\": \"#000000\"}, \"showarrow\": false, \"text\": \"\\u6c5f\\u6708\", \"x\": 0.55, \"xanchor\": \"left\", \"xref\": \"x\", \"y\": 41, \"yref\": \"y\"}, {\"align\": \"left\", \"font\": {\"color\": \"#000000\"}, \"showarrow\": false, \"text\": \"9\", \"x\": 1.55, \"xanchor\": \"left\", \"xref\": \"x\", \"y\": 41, \"yref\": \"y\"}, {\"align\": \"left\", \"font\": {\"color\": \"#000000\"}, \"showarrow\": false, \"text\": \"\\u6c5f\\u6708\", \"x\": 2.55, \"xanchor\": \"left\", \"xref\": \"x\", \"y\": 41, \"yref\": \"y\"}, {\"align\": \"left\", \"font\": {\"color\": \"#000000\"}, \"showarrow\": false, \"text\": \"[{'start_timestamp': 1541001600, 'start_local_time': datetime.date(2018, 11, 1), 'end_timestamp': 1541952000, 'end_local_time': datetime.date(2018, 11, 12), 'title': '\\u6a21\\u677f\\u4e2d\\u5fc3_201811??\\uff08\\u6a21\\u677f\\u914d\\u7f6e\\u8de8\\u73af\\u5883\\u540c\\u6b65\\uff09- \\u6d4b\\u8bd5', 'effort': 201600}, {'start_timestamp': 1541001600, 'start_local_time': datetime.date(2018, 11, 1), 'end_timestamp': 1541952000, 'end_local_time': datetime.date(2018, 11, 12), 'title': '\\u6a21\\u677f\\u4e2d\\u5fc3_201811??\\uff08\\u529f\\u80fd\\u8fed\\u4ee3\\u652f\\u6301\\u4f01\\u4e1a\\u8d2d\\u548c\\u9879\\u76ee\\u91c7\\u8d2d\\u65b0\\u9700\\u6c42\\uff09- \\u6d4b\\u8bd5', 'effort': 201600}, {'start_timestamp': 1541433600, 'start_local_time': datetime.date(2018, 11, 6), 'end_timestamp': 1542124800, 'end_local_time': datetime.date(2018, 11, 14), 'title': '\\u5728\\u7ebf\\u652f\\u4ed8_20181105\\uff08\\u6536\\u94f6\\u53f0\\u7b7e\\u7ea6\\u3001\\u519c\\u884c\\u5bf9\\u63a5\\uff09- \\u6d4b\\u8bd5', 'effort': 194400}, {'start_timestamp': 1541865600, 'start_local_time': datetime.date(2018, 11, 11), 'end_timestamp': 1542124800, 'end_local_time': datetime.date(2018, 11, 14), 'title': '\\u5728\\u7ebf\\u652f\\u4ed8_20181129\\uff08\\u4f01\\u4e1a\\u8d2d\\u3001\\u6536\\u8d39\\u63a5\\u5165\\u6536\\u94f6\\u53f0\\uff09- \\u6d4b\\u8bd5', 'effort': 104400}]\", \"x\": 3.55, \"xanchor\": \"left\", \"xref\": \"x\", \"y\": 41, \"yref\": \"y\"}, {\"align\": \"left\", \"font\": {\"color\": \"#000000\"}, \"showarrow\": false, \"text\": \"\\u5171\\u4eab\\u4e1a\\u52a1\\u8d28\\u91cf\\u4fdd\\u969c\", \"x\": -0.45, \"xanchor\": \"left\", \"xref\": \"x\", \"y\": 42, \"yref\": \"y\"}, {\"align\": \"left\", \"font\": {\"color\": \"#000000\"}, \"showarrow\": false, \"text\": \"\\u5c45\\u6613\", \"x\": 0.55, \"xanchor\": \"left\", \"xref\": \"x\", \"y\": 42, \"yref\": \"y\"}, {\"align\": \"left\", \"font\": {\"color\": \"#000000\"}, \"showarrow\": false, \"text\": \"26\", \"x\": 1.55, \"xanchor\": \"left\", \"xref\": \"x\", \"y\": 42, \"yref\": \"y\"}, {\"align\": \"left\", \"font\": {\"color\": \"#000000\"}, \"showarrow\": false, \"text\": \"\\u5c45\\u6613\", \"x\": 2.55, \"xanchor\": \"left\", \"xref\": \"x\", \"y\": 42, \"yref\": \"y\"}, {\"align\": \"left\", \"font\": {\"color\": \"#000000\"}, \"showarrow\": false, \"text\": \"[{'start_timestamp': 1541088000, 'start_local_time': datetime.date(2018, 11, 2), 'end_timestamp': 1541692800, 'end_local_time': datetime.date(2018, 11, 9), 'title': '\\u91c7\\u8d2d\\u8ba1\\u5212_20181031\\uff08\\u652f\\u6301\\u9006\\u5411\\u7ed3\\u7b97API\\uff09- \\u6d4b\\u8bd5', 'effort': 162000}, {'start_timestamp': 1541433600, 'start_local_time': datetime.date(2018, 11, 6), 'end_timestamp': 1542556800, 'end_local_time': datetime.date(2018, 11, 19), 'title': '\\u91c7\\u8d2d\\u8ba1\\u5212_20181102\\uff08CA\\u3001\\u4f18\\u5316\\u9700\\u6c42\\uff09- \\u6d4b\\u8bd5', 'effort': 280800}, {'start_timestamp': 1541865600, 'start_local_time': datetime.date(2018, 11, 11), 'end_timestamp': 1542816000, 'end_local_time': datetime.date(2018, 11, 22), 'title': '\\u91c7\\u8d2d\\u8ba1\\u5212_20181109\\uff08Ocean\\u8fc1\\u79fb\\u7248\\u672c\\uff09- \\u6d4b\\u8bd5', 'effort': 275400}, {'start_timestamp': 1542816000, 'start_local_time': datetime.date(2018, 11, 22), 'end_timestamp': 1543852800, 'end_local_time': datetime.date(2018, 12, 4), 'title': '\\u91c7\\u8d2d\\u8ba1\\u5212_20181121\\uff08\\u91c7\\u8d2d\\u8ba1\\u5212\\u529f\\u80fd\\u8fed\\u4ee3\\u65b0\\u589e\\uff09- \\u6d4b\\u8bd5', 'effort': 241200}, {'start_timestamp': 1544112000, 'start_local_time': datetime.date(2018, 12, 7), 'end_timestamp': 1544544000, 'end_local_time': datetime.date(2018, 12, 12), 'title': '\\u91c7\\u8d2d\\u8ba1\\u5212_20181206\\uff08\\u8fd0\\u8425\\u4f18\\u5316\\u9700\\u6c42\\uff09\\u6d4b\\u8bd5', 'effort': 97200}]\", \"x\": 3.55, \"xanchor\": \"left\", \"xref\": \"x\", \"y\": 42, \"yref\": \"y\"}, {\"align\": \"left\", \"font\": {\"color\": \"#000000\"}, \"showarrow\": false, \"text\": \"\\u5171\\u4eab\\u4e1a\\u52a1\\u8d28\\u91cf\\u4fdd\\u969c\", \"x\": -0.45, \"xanchor\": \"left\", \"xref\": \"x\", \"y\": 43, \"yref\": \"y\"}, {\"align\": \"left\", \"font\": {\"color\": \"#000000\"}, \"showarrow\": false, \"text\": \"\\u65e0\\u989c\", \"x\": 0.55, \"xanchor\": \"left\", \"xref\": \"x\", \"y\": 43, \"yref\": \"y\"}, {\"align\": \"left\", \"font\": {\"color\": \"#000000\"}, \"showarrow\": false, \"text\": \"14\", \"x\": 1.55, \"xanchor\": \"left\", \"xref\": \"x\", \"y\": 43, \"yref\": \"y\"}, {\"align\": \"left\", \"font\": {\"color\": \"#000000\"}, \"showarrow\": false, \"text\": \"\\u65e0\\u989c\", \"x\": 2.55, \"xanchor\": \"left\", \"xref\": \"x\", \"y\": 43, \"yref\": \"y\"}, {\"align\": \"left\", \"font\": {\"color\": \"#000000\"}, \"showarrow\": false, \"text\": \"[{'start_timestamp': 1541692800, 'start_local_time': datetime.date(2018, 11, 9), 'end_timestamp': 1542816000, 'end_local_time': datetime.date(2018, 11, 22), 'title': '\\u6536\\u8d39_20181122\\uff08\\u8b66\\u5907\\u9986\\uff09- \\u6d4b\\u8bd5', 'effort': 259200}, {'start_timestamp': 1543075200, 'start_local_time': datetime.date(2018, 11, 25), 'end_timestamp': 1543507200, 'end_local_time': datetime.date(2018, 11, 30), 'title': '\\u6d4b\\u8bd5', 'effort': 144000}]\", \"x\": 3.55, \"xanchor\": \"left\", \"xref\": \"x\", \"y\": 43, \"yref\": \"y\"}, {\"align\": \"left\", \"font\": {\"color\": \"#000000\"}, \"showarrow\": false, \"text\": \"\\u653f\\u91c7\\u4e91\\u9a7b\\u573a\", \"x\": -0.45, \"xanchor\": \"left\", \"xref\": \"x\", \"y\": 44, \"yref\": \"y\"}, {\"align\": \"left\", \"font\": {\"color\": \"#000000\"}, \"showarrow\": false, \"text\": \"\\u4e3d\\u5a1c\", \"x\": 0.55, \"xanchor\": \"left\", \"xref\": \"x\", \"y\": 44, \"yref\": \"y\"}, {\"align\": \"left\", \"font\": {\"color\": \"#000000\"}, \"showarrow\": false, \"text\": \"20\", \"x\": 1.55, \"xanchor\": \"left\", \"xref\": \"x\", \"y\": 44, \"yref\": \"y\"}, {\"align\": \"left\", \"font\": {\"color\": \"#000000\"}, \"showarrow\": false, \"text\": \"\\u4e3d\\u5a1c\", \"x\": 2.55, \"xanchor\": \"left\", \"xref\": \"x\", \"y\": 44, \"yref\": \"y\"}, {\"align\": \"left\", \"font\": {\"color\": \"#000000\"}, \"showarrow\": false, \"text\": \"[{'start_timestamp': 1541001600, 'start_local_time': datetime.date(2018, 11, 1), 'end_timestamp': 1542038400, 'end_local_time': datetime.date(2018, 11, 13), 'title': '\\u624b\\u5de5\\u5408\\u540c_20181108\\uff08\\u676d\\u5dde\\u5408\\u540c\\u9006\\u5411\\u9700\\u6c42\\uff09 - \\u6d4b\\u8bd5', 'effort': 230400}, {'start_timestamp': 1541347200, 'start_local_time': datetime.date(2018, 11, 5), 'end_timestamp': 1541692800, 'end_local_time': datetime.date(2018, 11, 9), 'title': '\\u7ed3\\u7b97_20181115\\uff08\\u524d\\u7aef\\u7f16\\u8bd1\\u4f18\\u5316\\u3001\\u914d\\u5408\\u7f51\\u8d85\\u8fd0\\u8d39\\u9700\\u6c42\\uff09- \\u6d4b\\u8bd5', 'effort': 115200}, {'start_timestamp': 1541865600, 'start_local_time': datetime.date(2018, 11, 11), 'end_timestamp': 1542816000, 'end_local_time': datetime.date(2018, 11, 22), 'title': '\\u91c7\\u8d2d\\u8ba1\\u5212_20181109\\uff08Ocean\\u8fc1\\u79fb\\u7248\\u672c\\uff09- \\u6d4b\\u8bd5', 'effort': 275400}, {'start_timestamp': 1542816000, 'start_local_time': datetime.date(2018, 11, 22), 'end_timestamp': 1543248000, 'end_local_time': datetime.date(2018, 11, 27), 'title': '\\u7ed3\\u7b97_20181129\\uff08\\u5f00\\u653e\\u5e73\\u53f0ocean \\u8f6ckong API\\u8865\\u5145\\u3001\\u79aa\\u9053\\u4f18\\u5316\\u9700\\u6c42\\uff09- \\u6d4b\\u8bd5', 'effort': 100800}]\", \"x\": 3.55, \"xanchor\": \"left\", \"xref\": \"x\", \"y\": 44, \"yref\": \"y\"}, {\"align\": \"left\", \"font\": {\"color\": \"#000000\"}, \"showarrow\": false, \"text\": \"\\u5171\\u4eab\\u4e1a\\u52a1\\u8d28\\u91cf\\u4fdd\\u969c\", \"x\": -0.45, \"xanchor\": \"left\", \"xref\": \"x\", \"y\": 45, \"yref\": \"y\"}, {\"align\": \"left\", \"font\": {\"color\": \"#000000\"}, \"showarrow\": false, \"text\": \"\\u5723\\u6654\", \"x\": 0.55, \"xanchor\": \"left\", \"xref\": \"x\", \"y\": 45, \"yref\": \"y\"}, {\"align\": \"left\", \"font\": {\"color\": \"#000000\"}, \"showarrow\": false, \"text\": \"18\", \"x\": 1.55, \"xanchor\": \"left\", \"xref\": \"x\", \"y\": 45, \"yref\": \"y\"}, {\"align\": \"left\", \"font\": {\"color\": \"#000000\"}, \"showarrow\": false, \"text\": \"\\u5723\\u6654\", \"x\": 2.55, \"xanchor\": \"left\", \"xref\": \"x\", \"y\": 45, \"yref\": \"y\"}, {\"align\": \"left\", \"font\": {\"color\": \"#000000\"}, \"showarrow\": false, \"text\": \"[{'start_timestamp': 1541433600, 'start_local_time': datetime.date(2018, 11, 6), 'end_timestamp': 1542556800, 'end_local_time': datetime.date(2018, 11, 19), 'title': '\\u91c7\\u8d2d\\u8ba1\\u5212_20181102\\uff08CA\\u3001\\u4f18\\u5316\\u9700\\u6c42\\uff09- \\u6d4b\\u8bd5', 'effort': 280800}, {'start_timestamp': 1542816000, 'start_local_time': datetime.date(2018, 11, 22), 'end_timestamp': 1543852800, 'end_local_time': datetime.date(2018, 12, 4), 'title': '\\u91c7\\u8d2d\\u8ba1\\u5212_20181121\\uff08\\u91c7\\u8d2d\\u8ba1\\u5212\\u529f\\u80fd\\u8fed\\u4ee3\\u65b0\\u589e\\uff09- \\u6d4b\\u8bd5', 'effort': 241200}]\", \"x\": 3.55, \"xanchor\": \"left\", \"xref\": \"x\", \"y\": 45, \"yref\": \"y\"}, {\"align\": \"left\", \"font\": {\"color\": \"#000000\"}, \"showarrow\": false, \"text\": \"\\u5546\\u54c1\\u4e2d\\u5fc3\", \"x\": -0.45, \"xanchor\": \"left\", \"xref\": \"x\", \"y\": 46, \"yref\": \"y\"}, {\"align\": \"left\", \"font\": {\"color\": \"#000000\"}, \"showarrow\": false, \"text\": \"\\u6e0a\\u8679\", \"x\": 0.55, \"xanchor\": \"left\", \"xref\": \"x\", \"y\": 46, \"yref\": \"y\"}, {\"align\": \"left\", \"font\": {\"color\": \"#000000\"}, \"showarrow\": false, \"text\": \"0\", \"x\": 1.55, \"xanchor\": \"left\", \"xref\": \"x\", \"y\": 46, \"yref\": \"y\"}, {\"align\": \"left\", \"font\": {\"color\": \"#000000\"}, \"showarrow\": false, \"text\": \"\\u6e0a\\u8679\", \"x\": 2.55, \"xanchor\": \"left\", \"xref\": \"x\", \"y\": 46, \"yref\": \"y\"}, {\"align\": \"left\", \"font\": {\"color\": \"#000000\"}, \"showarrow\": false, \"text\": \"[]\", \"x\": 3.55, \"xanchor\": \"left\", \"xref\": \"x\", \"y\": 46, \"yref\": \"y\"}, {\"align\": \"left\", \"font\": {\"color\": \"#000000\"}, \"showarrow\": false, \"text\": \"\\u5546\\u54c1\\u4e2d\\u5fc3\", \"x\": -0.45, \"xanchor\": \"left\", \"xref\": \"x\", \"y\": 47, \"yref\": \"y\"}, {\"align\": \"left\", \"font\": {\"color\": \"#000000\"}, \"showarrow\": false, \"text\": \"\\u51c9\\u4e00\", \"x\": 0.55, \"xanchor\": \"left\", \"xref\": \"x\", \"y\": 47, \"yref\": \"y\"}, {\"align\": \"left\", \"font\": {\"color\": \"#000000\"}, \"showarrow\": false, \"text\": \"0\", \"x\": 1.55, \"xanchor\": \"left\", \"xref\": \"x\", \"y\": 47, \"yref\": \"y\"}, {\"align\": \"left\", \"font\": {\"color\": \"#000000\"}, \"showarrow\": false, \"text\": \"\\u51c9\\u4e00\", \"x\": 2.55, \"xanchor\": \"left\", \"xref\": \"x\", \"y\": 47, \"yref\": \"y\"}, {\"align\": \"left\", \"font\": {\"color\": \"#000000\"}, \"showarrow\": false, \"text\": \"[]\", \"x\": 3.55, \"xanchor\": \"left\", \"xref\": \"x\", \"y\": 47, \"yref\": \"y\"}, {\"align\": \"left\", \"font\": {\"color\": \"#000000\"}, \"showarrow\": false, \"text\": \"\\u5546\\u54c1\\u4e2d\\u5fc3\", \"x\": -0.45, \"xanchor\": \"left\", \"xref\": \"x\", \"y\": 48, \"yref\": \"y\"}, {\"align\": \"left\", \"font\": {\"color\": \"#000000\"}, \"showarrow\": false, \"text\": \"\\u5955\\u94ed\", \"x\": 0.55, \"xanchor\": \"left\", \"xref\": \"x\", \"y\": 48, \"yref\": \"y\"}, {\"align\": \"left\", \"font\": {\"color\": \"#000000\"}, \"showarrow\": false, \"text\": \"0\", \"x\": 1.55, \"xanchor\": \"left\", \"xref\": \"x\", \"y\": 48, \"yref\": \"y\"}, {\"align\": \"left\", \"font\": {\"color\": \"#000000\"}, \"showarrow\": false, \"text\": \"\\u5955\\u94ed\", \"x\": 2.55, \"xanchor\": \"left\", \"xref\": \"x\", \"y\": 48, \"yref\": \"y\"}, {\"align\": \"left\", \"font\": {\"color\": \"#000000\"}, \"showarrow\": false, \"text\": \"[]\", \"x\": 3.55, \"xanchor\": \"left\", \"xref\": \"x\", \"y\": 48, \"yref\": \"y\"}, {\"align\": \"left\", \"font\": {\"color\": \"#000000\"}, \"showarrow\": false, \"text\": \"\\u5546\\u54c1\\u4e2d\\u5fc3\", \"x\": -0.45, \"xanchor\": \"left\", \"xref\": \"x\", \"y\": 49, \"yref\": \"y\"}, {\"align\": \"left\", \"font\": {\"color\": \"#000000\"}, \"showarrow\": false, \"text\": \"\\u5927\\u58a8\", \"x\": 0.55, \"xanchor\": \"left\", \"xref\": \"x\", \"y\": 49, \"yref\": \"y\"}, {\"align\": \"left\", \"font\": {\"color\": \"#000000\"}, \"showarrow\": false, \"text\": \"27\", \"x\": 1.55, \"xanchor\": \"left\", \"xref\": \"x\", \"y\": 49, \"yref\": \"y\"}, {\"align\": \"left\", \"font\": {\"color\": \"#000000\"}, \"showarrow\": false, \"text\": \"\\u5927\\u58a8\", \"x\": 2.55, \"xanchor\": \"left\", \"xref\": \"x\", \"y\": 49, \"yref\": \"y\"}, {\"align\": \"left\", \"font\": {\"color\": \"#000000\"}, \"showarrow\": false, \"text\": \"[{'start_timestamp': 1541001600, 'start_local_time': datetime.date(2018, 11, 1), 'end_timestamp': 1541088000, 'end_local_time': datetime.date(2018, 11, 2), 'title': '\\u9884\\u8b66\\u7b49\\u7ea7\\u5347\\u7ea7\\u4ee3\\u7801\\u903b\\u8f91\\u53d8\\u66f4', 'effort': 28800}, {'start_timestamp': 1541001600, 'start_local_time': datetime.date(2018, 11, 1), 'end_timestamp': 1541088000, 'end_local_time': datetime.date(2018, 11, 2), 'title': '\\u9884\\u8b66\\u63a5\\u53e3\\u7684\\u9ad8\\u5e76\\u53d1\\u573a\\u666f\\u7528\\u4f8b\\u7f16\\u5199\\u53ca\\u6d4b\\u8bd5', 'effort': 36900}, {'start_timestamp': 1541001600, 'start_local_time': datetime.date(2018, 11, 1), 'end_timestamp': 1541088000, 'end_local_time': datetime.date(2018, 11, 2), 'title': '\\u603b\\u89c8\\u754c\\u9762\\u8054\\u8c03', 'effort': 28800}, {'start_timestamp': 1541088000, 'start_local_time': datetime.date(2018, 11, 2), 'end_timestamp': 1541347200, 'end_local_time': datetime.date(2018, 11, 5), 'title': '\\u5192\\u70df\\u7528\\u4f8b', 'effort': 28800}, {'start_timestamp': 1541347200, 'start_local_time': datetime.date(2018, 11, 5), 'end_timestamp': 1541520000, 'end_local_time': datetime.date(2018, 11, 7), 'title': '\\u9884\\u8b664.2 \\u6d4b\\u8bd5\\u95ee\\u9898\\u8ddf\\u8e2a', 'effort': 57600}, {'start_timestamp': 1541520000, 'start_local_time': datetime.date(2018, 11, 7), 'end_timestamp': 1542297600, 'end_local_time': datetime.date(2018, 11, 16), 'title': '\\u8bda\\u4fe1\\u5956\\u60e9\\u5de5\\u4f5c\\u53f0\\u5bf9\\u63a5\\u624b\\u52a8\\u9884\\u8b66', 'effort': 216000}, {'start_timestamp': 1541520000, 'start_local_time': datetime.date(2018, 11, 7), 'end_timestamp': 1541692800, 'end_local_time': datetime.date(2018, 11, 9), 'title': '\\u9884\\u8b66\\u901a\\u77e5\\u8bda\\u4fe1\\u7b49\\u7ea7\\u5347\\u7ea7\\u673a\\u5236', 'effort': 57600}, {'start_timestamp': 1541606400, 'start_local_time': datetime.date(2018, 11, 8), 'end_timestamp': 1542211200, 'end_local_time': datetime.date(2018, 11, 15), 'title': '\\u5bf9\\u63a5\\u65b9\\u6848\\u5b9e\\u65bd', 'effort': 144000}, {'start_timestamp': 1542038400, 'start_local_time': datetime.date(2018, 11, 13), 'end_timestamp': 1542038400, 'end_local_time': datetime.date(2018, 11, 13), 'title': '\\u771f\\u7ebf\\u83dc\\u5355\\u6743\\u9650\\u3001\\u89d2\\u8272\\u6811\\u914d\\u7f6e', 'effort': 14400}, {'start_timestamp': 1542124800, 'start_local_time': datetime.date(2018, 11, 14), 'end_timestamp': 1542729600, 'end_local_time': datetime.date(2018, 11, 21), 'title': '\\u5ef6\\u65f6\\u961f\\u5217\\u9884\\u5b9a\\u65f6\\u957f\\u8bbe\\u7f6e\\u65e0\\u4e0a\\u9650', 'effort': 144000}, {'start_timestamp': 1542124800, 'start_local_time': datetime.date(2018, 11, 14), 'end_timestamp': 1542556800, 'end_local_time': datetime.date(2018, 11, 19), 'title': '\\u96c6\\u6210\\u6d4b\\u8bd5\\u53ca\\u95ee\\u9898\\u8ddf\\u8e2a', 'effort': 86400}, {'start_timestamp': 1542643200, 'start_local_time': datetime.date(2018, 11, 20), 'end_timestamp': 1543766400, 'end_local_time': datetime.date(2018, 12, 3), 'title': '\\u4f9b\\u5e94\\u5546\\u4e32\\u6807\\u6316\\u6398', 'effort': 259200}, {'start_timestamp': 1542643200, 'start_local_time': datetime.date(2018, 11, 20), 'end_timestamp': 1543766400, 'end_local_time': datetime.date(2018, 12, 3), 'title': '\\u4f9b\\u5e94\\u5546\\u53ca\\u91c7\\u8d2d\\u4eba\\u5173\\u7cfb\\u56fe\\u8c31', 'effort': 259200}, {'start_timestamp': 1542643200, 'start_local_time': datetime.date(2018, 11, 20), 'end_timestamp': 1542729600, 'end_local_time': datetime.date(2018, 11, 21), 'title': '\\u5bf9\\u63a5\\u65b9\\u6848\\u8ba8\\u8bba', 'effort': 28800}, {'start_timestamp': 1542729600, 'start_local_time': datetime.date(2018, 11, 21), 'end_timestamp': 1543334400, 'end_local_time': datetime.date(2018, 11, 28), 'title': '\\u5bf9\\u63a5\\u5b9e\\u65bd', 'effort': 144000}, {'start_timestamp': 1543334400, 'start_local_time': datetime.date(2018, 11, 28), 'end_timestamp': 1543507200, 'end_local_time': datetime.date(2018, 11, 30), 'title': '\\u95ee\\u9898\\u8ddf\\u8e2a', 'effort': 57600}]\", \"x\": 3.55, \"xanchor\": \"left\", \"xref\": \"x\", \"y\": 49, \"yref\": \"y\"}, {\"align\": \"left\", \"font\": {\"color\": \"#000000\"}, \"showarrow\": false, \"text\": \"\\u5546\\u54c1\\u4e2d\\u5fc3\", \"x\": -0.45, \"xanchor\": \"left\", \"xref\": \"x\", \"y\": 50, \"yref\": \"y\"}, {\"align\": \"left\", \"font\": {\"color\": \"#000000\"}, \"showarrow\": false, \"text\": \"\\u9e7f\\u9e23\", \"x\": 0.55, \"xanchor\": \"left\", \"xref\": \"x\", \"y\": 50, \"yref\": \"y\"}, {\"align\": \"left\", \"font\": {\"color\": \"#000000\"}, \"showarrow\": false, \"text\": \"26\", \"x\": 1.55, \"xanchor\": \"left\", \"xref\": \"x\", \"y\": 50, \"yref\": \"y\"}, {\"align\": \"left\", \"font\": {\"color\": \"#000000\"}, \"showarrow\": false, \"text\": \"\\u9e7f\\u9e23\", \"x\": 2.55, \"xanchor\": \"left\", \"xref\": \"x\", \"y\": 50, \"yref\": \"y\"}, {\"align\": \"left\", \"font\": {\"color\": \"#000000\"}, \"showarrow\": false, \"text\": \"[{'start_timestamp': 1541001600, 'start_local_time': datetime.date(2018, 11, 1), 'end_timestamp': 1541088000, 'end_local_time': datetime.date(2018, 11, 2), 'title': '\\u653f\\u7b56\\u6cd5\\u5f8b\\u6cd5\\u89c4\\u754c\\u9762\\u8054\\u8c03', 'effort': 28800}, {'start_timestamp': 1541001600, 'start_local_time': datetime.date(2018, 11, 1), 'end_timestamp': 1541088000, 'end_local_time': datetime.date(2018, 11, 2), 'title': '\\u8fdd\\u6cd5\\u8fdd\\u89c4\\u884c\\u4e3a\\u7ba1\\u7406\\u754c\\u9762\\u8054\\u8c03', 'effort': 28800}, {'start_timestamp': 1541088000, 'start_local_time': datetime.date(2018, 11, 2), 'end_timestamp': 1541347200, 'end_local_time': datetime.date(2018, 11, 5), 'title': '\\u5192\\u70df\\u7528\\u4f8b', 'effort': 28800}, {'start_timestamp': 1541347200, 'start_local_time': datetime.date(2018, 11, 5), 'end_timestamp': 1541520000, 'end_local_time': datetime.date(2018, 11, 7), 'title': '\\u9884\\u8b664.2 \\u6d4b\\u8bd5\\u95ee\\u9898\\u8ddf\\u8e2a', 'effort': 57600}, {'start_timestamp': 1541520000, 'start_local_time': datetime.date(2018, 11, 7), 'end_timestamp': 1542297600, 'end_local_time': datetime.date(2018, 11, 16), 'title': '\\u8bda\\u4fe1\\u5956\\u60e9\\u5de5\\u4f5c\\u53f0\\u5bf9\\u63a5\\u624b\\u52a8\\u9884\\u8b66', 'effort': 216000}, {'start_timestamp': 1541520000, 'start_local_time': datetime.date(2018, 11, 7), 'end_timestamp': 1541692800, 'end_local_time': datetime.date(2018, 11, 9), 'title': '\\u660e\\u786e\\u5bf9\\u63a5\\u65b9\\u6848\\u8ba8\\u8bba', 'effort': 57600}, {'start_timestamp': 1541606400, 'start_local_time': datetime.date(2018, 11, 8), 'end_timestamp': 1541952000, 'end_local_time': datetime.date(2018, 11, 12), 'title': '\\u9879\\u76ee\\u91c7\\u8d2d\\u5bf9\\u63a5\\u81ea\\u5b9a\\u4e49\\u9884\\u8b66\\u65b9\\u6848\\u8ba8\\u8bba', 'effort': 57600}, {'start_timestamp': 1541952000, 'start_local_time': datetime.date(2018, 11, 12), 'end_timestamp': 1542556800, 'end_local_time': datetime.date(2018, 11, 19), 'title': '\\u9879\\u76ee\\u91c7\\u8d2d\\u6392\\u540d\\u9884\\u8b66\\u5bf9\\u63a5\\u9884\\u8b66\\u5b9e\\u65bd', 'effort': 144000}, {'start_timestamp': 1542038400, 'start_local_time': datetime.date(2018, 11, 13), 'end_timestamp': 1542038400, 'end_local_time': datetime.date(2018, 11, 13), 'title': '\\u771f\\u7ebf\\u83dc\\u5355\\u6743\\u9650\\u3001\\u89d2\\u8272\\u6811\\u914d\\u7f6e', 'effort': 14400}, {'start_timestamp': 1542556800, 'start_local_time': datetime.date(2018, 11, 19), 'end_timestamp': 1542729600, 'end_local_time': datetime.date(2018, 11, 21), 'title': '\\u8054\\u8c03\\u53ca\\u95ee\\u9898\\u8ddf\\u8e2a', 'effort': 57600}, {'start_timestamp': 1542643200, 'start_local_time': datetime.date(2018, 11, 20), 'end_timestamp': 1543766400, 'end_local_time': datetime.date(2018, 12, 3), 'title': '\\u4f9b\\u5e94\\u5546\\u4e32\\u6807\\u6316\\u6398', 'effort': 259200}, {'start_timestamp': 1542643200, 'start_local_time': datetime.date(2018, 11, 20), 'end_timestamp': 1543766400, 'end_local_time': datetime.date(2018, 12, 3), 'title': '\\u4f9b\\u5e94\\u5546\\u53ca\\u91c7\\u8d2d\\u4eba\\u5173\\u7cfb\\u56fe\\u8c31', 'effort': 259200}]\", \"x\": 3.55, \"xanchor\": \"left\", \"xref\": \"x\", \"y\": 50, \"yref\": \"y\"}, {\"align\": \"left\", \"font\": {\"color\": \"#000000\"}, \"showarrow\": false, \"text\": \"\\u5546\\u54c1\\u4e2d\\u5fc3\", \"x\": -0.45, \"xanchor\": \"left\", \"xref\": \"x\", \"y\": 51, \"yref\": \"y\"}, {\"align\": \"left\", \"font\": {\"color\": \"#000000\"}, \"showarrow\": false, \"text\": \"\\u71a0\\u7136\", \"x\": 0.55, \"xanchor\": \"left\", \"xref\": \"x\", \"y\": 51, \"yref\": \"y\"}, {\"align\": \"left\", \"font\": {\"color\": \"#000000\"}, \"showarrow\": false, \"text\": \"10\", \"x\": 1.55, \"xanchor\": \"left\", \"xref\": \"x\", \"y\": 51, \"yref\": \"y\"}, {\"align\": \"left\", \"font\": {\"color\": \"#000000\"}, \"showarrow\": false, \"text\": \"\\u71a0\\u7136\", \"x\": 2.55, \"xanchor\": \"left\", \"xref\": \"x\", \"y\": 51, \"yref\": \"y\"}, {\"align\": \"left\", \"font\": {\"color\": \"#000000\"}, \"showarrow\": false, \"text\": \"[{'start_timestamp': 1541001600, 'start_local_time': datetime.date(2018, 11, 1), 'end_timestamp': 1542211200, 'end_local_time': datetime.date(2018, 11, 15), 'title': '\\u5956\\u60e9\\u5de5\\u4f5c\\u53f0\\u3001\\u6848\\u4f8b\\u4e8b\\u4ef6\\u7814\\u53d1', 'effort': 288000}, {'start_timestamp': 1541001600, 'start_local_time': datetime.date(2018, 11, 1), 'end_timestamp': 1541433600, 'end_local_time': datetime.date(2018, 11, 6), 'title': '\\u7533\\u8bc9\\u53d1\\u5e03\\u610f\\u89c1\\u529f\\u80fd\\u8c03\\u6574\\uff0c\\u589e\\u52a0\\u77ed\\u4fe1\\u63d0\\u9192\\u7814\\u53d1', 'effort': 86400}, {'start_timestamp': 1541001600, 'start_local_time': datetime.date(2018, 11, 1), 'end_timestamp': 1541347200, 'end_local_time': datetime.date(2018, 11, 5), 'title': '\\u9884\\u8b66\\u5347\\u7ea7\\u6216\\u64a4\\u9500\\u9006\\u5411\\u4e8b\\u4ef6\\u6e05\\u7406\\u7814\\u53d1', 'effort': 57600}, {'start_timestamp': 1541001600, 'start_local_time': datetime.date(2018, 11, 1), 'end_timestamp': 1541088000, 'end_local_time': datetime.date(2018, 11, 2), 'title': '\\u5956\\u60e9\\u65e5\\u5fd7\\u5bf9\\u63a5\\u9884\\u8b66\\u7814\\u53d1', 'effort': 28800}]\", \"x\": 3.55, \"xanchor\": \"left\", \"xref\": \"x\", \"y\": 51, \"yref\": \"y\"}, {\"align\": \"left\", \"font\": {\"color\": \"#000000\"}, \"showarrow\": false, \"text\": \"\\u5546\\u54c1\\u4e2d\\u5fc3\", \"x\": -0.45, \"xanchor\": \"left\", \"xref\": \"x\", \"y\": 52, \"yref\": \"y\"}, {\"align\": \"left\", \"font\": {\"color\": \"#000000\"}, \"showarrow\": false, \"text\": \"\\u661f\\u6cb3\", \"x\": 0.55, \"xanchor\": \"left\", \"xref\": \"x\", \"y\": 52, \"yref\": \"y\"}, {\"align\": \"left\", \"font\": {\"color\": \"#000000\"}, \"showarrow\": false, \"text\": \"10\", \"x\": 1.55, \"xanchor\": \"left\", \"xref\": \"x\", \"y\": 52, \"yref\": \"y\"}, {\"align\": \"left\", \"font\": {\"color\": \"#000000\"}, \"showarrow\": false, \"text\": \"\\u661f\\u6cb3\", \"x\": 2.55, \"xanchor\": \"left\", \"xref\": \"x\", \"y\": 52, \"yref\": \"y\"}, {\"align\": \"left\", \"font\": {\"color\": \"#000000\"}, \"showarrow\": false, \"text\": \"[{'start_timestamp': 1541001600, 'start_local_time': datetime.date(2018, 11, 1), 'end_timestamp': 1542211200, 'end_local_time': datetime.date(2018, 11, 15), 'title': '\\u8bda\\u4fe1\\u6863\\u6848\\u8c03\\u6574\\u3001\\u7528\\u6237\\u753b\\u50cf\\u8c03\\u6574\\u7814\\u53d1', 'effort': 288000}, {'start_timestamp': 1541001600, 'start_local_time': datetime.date(2018, 11, 1), 'end_timestamp': 1541606400, 'end_local_time': datetime.date(2018, 11, 8), 'title': '\\u6848\\u4f8b\\u4e8b\\u4ef6\\u5bf9\\u63a5\\u9884\\u8b66\\u7814\\u53d1', 'effort': 144000}]\", \"x\": 3.55, \"xanchor\": \"left\", \"xref\": \"x\", \"y\": 52, \"yref\": \"y\"}, {\"align\": \"left\", \"font\": {\"color\": \"#000000\"}, \"showarrow\": false, \"text\": \"\\u5171\\u4eab\\u524d\\u7aef\", \"x\": -0.45, \"xanchor\": \"left\", \"xref\": \"x\", \"y\": 53, \"yref\": \"y\"}, {\"align\": \"left\", \"font\": {\"color\": \"#000000\"}, \"showarrow\": false, \"text\": \"\\u5b50\\u6728\", \"x\": 0.55, \"xanchor\": \"left\", \"xref\": \"x\", \"y\": 53, \"yref\": \"y\"}, {\"align\": \"left\", \"font\": {\"color\": \"#000000\"}, \"showarrow\": false, \"text\": \"0\", \"x\": 1.55, \"xanchor\": \"left\", \"xref\": \"x\", \"y\": 53, \"yref\": \"y\"}, {\"align\": \"left\", \"font\": {\"color\": \"#000000\"}, \"showarrow\": false, \"text\": \"\\u5b50\\u6728\", \"x\": 2.55, \"xanchor\": \"left\", \"xref\": \"x\", \"y\": 53, \"yref\": \"y\"}, {\"align\": \"left\", \"font\": {\"color\": \"#000000\"}, \"showarrow\": false, \"text\": \"[]\", \"x\": 3.55, \"xanchor\": \"left\", \"xref\": \"x\", \"y\": 53, \"yref\": \"y\"}, {\"align\": \"left\", \"font\": {\"color\": \"#000000\"}, \"showarrow\": false, \"text\": \"\\u5171\\u4eab\\u524d\\u7aef\", \"x\": -0.45, \"xanchor\": \"left\", \"xref\": \"x\", \"y\": 54, \"yref\": \"y\"}, {\"align\": \"left\", \"font\": {\"color\": \"#000000\"}, \"showarrow\": false, \"text\": \"\\u9a6c\\u98de\", \"x\": 0.55, \"xanchor\": \"left\", \"xref\": \"x\", \"y\": 54, \"yref\": \"y\"}, {\"align\": \"left\", \"font\": {\"color\": \"#000000\"}, \"showarrow\": false, \"text\": \"11\", \"x\": 1.55, \"xanchor\": \"left\", \"xref\": \"x\", \"y\": 54, \"yref\": \"y\"}, {\"align\": \"left\", \"font\": {\"color\": \"#000000\"}, \"showarrow\": false, \"text\": \"\\u9a6c\\u98de\", \"x\": 2.55, \"xanchor\": \"left\", \"xref\": \"x\", \"y\": 54, \"yref\": \"y\"}, {\"align\": \"left\", \"font\": {\"color\": \"#000000\"}, \"showarrow\": false, \"text\": \"[{'start_timestamp': 1541001600, 'start_local_time': datetime.date(2018, 11, 1), 'end_timestamp': 1541088000, 'end_local_time': datetime.date(2018, 11, 2), 'title': '\\u653f\\u7b56\\u6cd5\\u5f8b\\u6cd5\\u89c4\\u754c\\u9762\\u8054\\u8c03', 'effort': 28800}, {'start_timestamp': 1541001600, 'start_local_time': datetime.date(2018, 11, 1), 'end_timestamp': 1541088000, 'end_local_time': datetime.date(2018, 11, 2), 'title': '\\u603b\\u89c8\\u754c\\u9762\\u8054\\u8c03', 'effort': 28800}, {'start_timestamp': 1541001600, 'start_local_time': datetime.date(2018, 11, 1), 'end_timestamp': 1541088000, 'end_local_time': datetime.date(2018, 11, 2), 'title': '\\u8fdd\\u6cd5\\u8fdd\\u89c4\\u884c\\u4e3a\\u7ba1\\u7406\\u754c\\u9762\\u8054\\u8c03', 'effort': 28800}, {'start_timestamp': 1541088000, 'start_local_time': datetime.date(2018, 11, 2), 'end_timestamp': 1541347200, 'end_local_time': datetime.date(2018, 11, 5), 'title': '\\u5192\\u70df\\u7528\\u4f8b', 'effort': 28800}, {'start_timestamp': 1541347200, 'start_local_time': datetime.date(2018, 11, 5), 'end_timestamp': 1541520000, 'end_local_time': datetime.date(2018, 11, 7), 'title': '\\u9884\\u8b664.2 \\u6d4b\\u8bd5\\u95ee\\u9898\\u8ddf\\u8e2a', 'effort': 57600}, {'start_timestamp': 1541520000, 'start_local_time': datetime.date(2018, 11, 7), 'end_timestamp': 1542124800, 'end_local_time': datetime.date(2018, 11, 14), 'title': '\\u89c4\\u5219\\u5e93\\u7ec4\\u4ef6\\u5316', 'effort': 144000}, {'start_timestamp': 1542297600, 'start_local_time': datetime.date(2018, 11, 16), 'end_timestamp': 1542643200, 'end_local_time': datetime.date(2018, 11, 20), 'title': '\\u6548\\u80fd\\u9884\\u8b66\\u89c4\\u5219\\u914d\\u7f6e\\u754c\\u9762\\u8c03\\u6574', 'effort': 57600}]\", \"x\": 3.55, \"xanchor\": \"left\", \"xref\": \"x\", \"y\": 54, \"yref\": \"y\"}, {\"align\": \"left\", \"font\": {\"color\": \"#000000\"}, \"showarrow\": false, \"text\": \"\\u5171\\u4eab\\u524d\\u7aef\", \"x\": -0.45, \"xanchor\": \"left\", \"xref\": \"x\", \"y\": 55, \"yref\": \"y\"}, {\"align\": \"left\", \"font\": {\"color\": \"#000000\"}, \"showarrow\": false, \"text\": \"\\u6d77\\u79cb\", \"x\": 0.55, \"xanchor\": \"left\", \"xref\": \"x\", \"y\": 55, \"yref\": \"y\"}, {\"align\": \"left\", \"font\": {\"color\": \"#000000\"}, \"showarrow\": false, \"text\": \"5\", \"x\": 1.55, \"xanchor\": \"left\", \"xref\": \"x\", \"y\": 55, \"yref\": \"y\"}, {\"align\": \"left\", \"font\": {\"color\": \"#000000\"}, \"showarrow\": false, \"text\": \"\\u6d77\\u79cb\", \"x\": 2.55, \"xanchor\": \"left\", \"xref\": \"x\", \"y\": 55, \"yref\": \"y\"}, {\"align\": \"left\", \"font\": {\"color\": \"#000000\"}, \"showarrow\": false, \"text\": \"[{'start_timestamp': 1541001600, 'start_local_time': datetime.date(2018, 11, 1), 'end_timestamp': 1541606400, 'end_local_time': datetime.date(2018, 11, 8), 'title': '\\u6848\\u4f8b\\u4e8b\\u4ef6\\u5bf9\\u63a5\\u5904\\u7f5a\\u7814\\u53d1', 'effort': 144000}, {'start_timestamp': 1541001600, 'start_local_time': datetime.date(2018, 11, 1), 'end_timestamp': 1541520000, 'end_local_time': datetime.date(2018, 11, 7), 'title': '\\u8bc4\\u4ef7\\u4e09\\u671f\\uff1a\\u7f51\\u8d85\\u5b9a\\u5236\\u529f\\u80fd\\u7814\\u53d1', 'effort': 115200}, {'start_timestamp': 1541001600, 'start_local_time': datetime.date(2018, 11, 1), 'end_timestamp': 1541088000, 'end_local_time': datetime.date(2018, 11, 2), 'title': '\\u5956\\u60e9\\u65e5\\u5fd7\\u5bf9\\u63a5\\u9884\\u8b66\\u7814\\u53d1', 'effort': 28800}]\", \"x\": 3.55, \"xanchor\": \"left\", \"xref\": \"x\", \"y\": 55, \"yref\": \"y\"}, {\"align\": \"left\", \"font\": {\"color\": \"#000000\"}, \"showarrow\": false, \"text\": \"\\u5171\\u4eab\\u4e1a\\u52a1\\u8d28\\u91cf\\u4fdd\\u969c\", \"x\": -0.45, \"xanchor\": \"left\", \"xref\": \"x\", \"y\": 56, \"yref\": \"y\"}, {\"align\": \"left\", \"font\": {\"color\": \"#000000\"}, \"showarrow\": false, \"text\": \"\\u4e00\\u5f26\", \"x\": 0.55, \"xanchor\": \"left\", \"xref\": \"x\", \"y\": 56, \"yref\": \"y\"}, {\"align\": \"left\", \"font\": {\"color\": \"#000000\"}, \"showarrow\": false, \"text\": \"0\", \"x\": 1.55, \"xanchor\": \"left\", \"xref\": \"x\", \"y\": 56, \"yref\": \"y\"}, {\"align\": \"left\", \"font\": {\"color\": \"#000000\"}, \"showarrow\": false, \"text\": \"\\u4e00\\u5f26\", \"x\": 2.55, \"xanchor\": \"left\", \"xref\": \"x\", \"y\": 56, \"yref\": \"y\"}, {\"align\": \"left\", \"font\": {\"color\": \"#000000\"}, \"showarrow\": false, \"text\": \"[]\", \"x\": 3.55, \"xanchor\": \"left\", \"xref\": \"x\", \"y\": 56, \"yref\": \"y\"}], \"height\": 1760, \"margin\": {\"b\": 0, \"l\": 0, \"r\": 0, \"t\": 0}, \"xaxis\": {\"dtick\": 1, \"gridwidth\": 2, \"showticklabels\": false, \"tick0\": -0.5, \"ticks\": \"\", \"zeroline\": false}, \"yaxis\": {\"autorange\": \"reversed\", \"dtick\": 1, \"gridwidth\": 2, \"showticklabels\": false, \"tick0\": 0.5, \"ticks\": \"\", \"zeroline\": false}}, {\"showLink\": true, \"linkText\": \"Export to plot.ly\"})});</script><script type=\"text/javascript\">window.addEventListener(\"resize\", function(){window._Plotly.Plots.resize(document.getElementById(\"088f7919-2a4d-4c9c-8fda-a44b8028867a\"));});</script>"
      ],
      "text/vnd.plotly.v1+html": [
       "<div id=\"088f7919-2a4d-4c9c-8fda-a44b8028867a\" style=\"height: 1760px; width: 100%;\" class=\"plotly-graph-div\"></div><script type=\"text/javascript\">require([\"plotly\"], function(Plotly) { window.PLOTLYENV=window.PLOTLYENV || {};window.PLOTLYENV.BASE_URL=\"https://plot.ly\";Plotly.newPlot(\"088f7919-2a4d-4c9c-8fda-a44b8028867a\", [{\"colorscale\": [[0, \"#00083e\"], [0.5, \"#ededee\"], [1, \"#ffffff\"]], \"hoverinfo\": \"none\", \"opacity\": 0.75, \"showscale\": false, \"z\": [[0, 0, 0, 0, 0], [0.5, 0.5, 0.5, 0.5, 0.5], [1, 1, 1, 1, 1], [0.5, 0.5, 0.5, 0.5, 0.5], [1, 1, 1, 1, 1], [0.5, 0.5, 0.5, 0.5, 0.5], [1, 1, 1, 1, 1], [0.5, 0.5, 0.5, 0.5, 0.5], [1, 1, 1, 1, 1], [0.5, 0.5, 0.5, 0.5, 0.5], [1, 1, 1, 1, 1], [0.5, 0.5, 0.5, 0.5, 0.5], [1, 1, 1, 1, 1], [0.5, 0.5, 0.5, 0.5, 0.5], [1, 1, 1, 1, 1], [0.5, 0.5, 0.5, 0.5, 0.5], [1, 1, 1, 1, 1], [0.5, 0.5, 0.5, 0.5, 0.5], [1, 1, 1, 1, 1], [0.5, 0.5, 0.5, 0.5, 0.5], [1, 1, 1, 1, 1], [0.5, 0.5, 0.5, 0.5, 0.5], [1, 1, 1, 1, 1], [0.5, 0.5, 0.5, 0.5, 0.5], [1, 1, 1, 1, 1], [0.5, 0.5, 0.5, 0.5, 0.5], [1, 1, 1, 1, 1], [0.5, 0.5, 0.5, 0.5, 0.5], [1, 1, 1, 1, 1], [0.5, 0.5, 0.5, 0.5, 0.5], [1, 1, 1, 1, 1], [0.5, 0.5, 0.5, 0.5, 0.5], [1, 1, 1, 1, 1], [0.5, 0.5, 0.5, 0.5, 0.5], [1, 1, 1, 1, 1], [0.5, 0.5, 0.5, 0.5, 0.5], [1, 1, 1, 1, 1], [0.5, 0.5, 0.5, 0.5, 0.5], [1, 1, 1, 1, 1], [0.5, 0.5, 0.5, 0.5, 0.5], [1, 1, 1, 1, 1], [0.5, 0.5, 0.5, 0.5, 0.5], [1, 1, 1, 1, 1], [0.5, 0.5, 0.5, 0.5, 0.5], [1, 1, 1, 1, 1], [0.5, 0.5, 0.5, 0.5, 0.5], [1, 1, 1, 1, 1], [0.5, 0.5, 0.5, 0.5, 0.5], [1, 1, 1, 1, 1], [0.5, 0.5, 0.5, 0.5, 0.5], [1, 1, 1, 1, 1], [0.5, 0.5, 0.5, 0.5, 0.5], [1, 1, 1, 1, 1], [0.5, 0.5, 0.5, 0.5, 0.5], [1, 1, 1, 1, 1], [0.5, 0.5, 0.5, 0.5, 0.5], [1, 1, 1, 1, 1]], \"type\": \"heatmap\", \"uid\": \"f0949b8d-c2a4-43d9-88f3-766c897173ff\"}], {\"annotations\": [{\"align\": \"left\", \"font\": {\"color\": \"#ffffff\"}, \"showarrow\": false, \"text\": \"<b>department</b>\", \"x\": -0.45, \"xanchor\": \"left\", \"xref\": \"x\", \"y\": 0, \"yref\": \"y\"}, {\"align\": \"left\", \"font\": {\"color\": \"#ffffff\"}, \"showarrow\": false, \"text\": \"<b>displayName</b>\", \"x\": 0.55, \"xanchor\": \"left\", \"xref\": \"x\", \"y\": 0, \"yref\": \"y\"}, {\"align\": \"left\", \"font\": {\"color\": \"#ffffff\"}, \"showarrow\": false, \"text\": \"<b>effort</b>\", \"x\": 1.55, \"xanchor\": \"left\", \"xref\": \"x\", \"y\": 0, \"yref\": \"y\"}, {\"align\": \"left\", \"font\": {\"color\": \"#ffffff\"}, \"showarrow\": false, \"text\": \"<b>name</b>\", \"x\": 2.55, \"xanchor\": \"left\", \"xref\": \"x\", \"y\": 0, \"yref\": \"y\"}, {\"align\": \"left\", \"font\": {\"color\": \"#ffffff\"}, \"showarrow\": false, \"text\": \"<b>tasks</b>\", \"x\": 3.55, \"xanchor\": \"left\", \"xref\": \"x\", \"y\": 0, \"yref\": \"y\"}, {\"align\": \"left\", \"font\": {\"color\": \"#000000\"}, \"showarrow\": false, \"text\": \"\\u7535\\u5b50\\u5356\\u573a1\", \"x\": -0.45, \"xanchor\": \"left\", \"xref\": \"x\", \"y\": 1, \"yref\": \"y\"}, {\"align\": \"left\", \"font\": {\"color\": \"#000000\"}, \"showarrow\": false, \"text\": \"\\u767d\\u9f99\", \"x\": 0.55, \"xanchor\": \"left\", \"xref\": \"x\", \"y\": 1, \"yref\": \"y\"}, {\"align\": \"left\", \"font\": {\"color\": \"#000000\"}, \"showarrow\": false, \"text\": \"31\", \"x\": 1.55, \"xanchor\": \"left\", \"xref\": \"x\", \"y\": 1, \"yref\": \"y\"}, {\"align\": \"left\", \"font\": {\"color\": \"#000000\"}, \"showarrow\": false, \"text\": \"\\u767d\\u9f99\", \"x\": 2.55, \"xanchor\": \"left\", \"xref\": \"x\", \"y\": 1, \"yref\": \"y\"}, {\"align\": \"left\", \"font\": {\"color\": \"#000000\"}, \"showarrow\": false, \"text\": \"[{'start_timestamp': 1539792000, 'start_local_time': datetime.date(2018, 10, 18), 'end_timestamp': 1541433600, 'end_local_time': datetime.date(2018, 11, 6), 'title': '\\u534f\\u8bae\\u4f9b\\u8d27_20181120', 'effort': 396000}, {'start_timestamp': 1541001600, 'start_local_time': datetime.date(2018, 11, 1), 'end_timestamp': 1543507200, 'end_local_time': datetime.date(2018, 11, 30), 'title': '\\u534f\\u8bae\\u4f9b\\u8d27_20181129', 'effort': 604800}]\", \"x\": 3.55, \"xanchor\": \"left\", \"xref\": \"x\", \"y\": 1, \"yref\": \"y\"}, {\"align\": \"left\", \"font\": {\"color\": \"#000000\"}, \"showarrow\": false, \"text\": \"\\u7535\\u5b50\\u5356\\u573a1\", \"x\": -0.45, \"xanchor\": \"left\", \"xref\": \"x\", \"y\": 2, \"yref\": \"y\"}, {\"align\": \"left\", \"font\": {\"color\": \"#000000\"}, \"showarrow\": false, \"text\": \"\\u4e09\\u65a4\", \"x\": 0.55, \"xanchor\": \"left\", \"xref\": \"x\", \"y\": 2, \"yref\": \"y\"}, {\"align\": \"left\", \"font\": {\"color\": \"#000000\"}, \"showarrow\": false, \"text\": \"13\", \"x\": 1.55, \"xanchor\": \"left\", \"xref\": \"x\", \"y\": 2, \"yref\": \"y\"}, {\"align\": \"left\", \"font\": {\"color\": \"#000000\"}, \"showarrow\": false, \"text\": \"\\u4e09\\u65a4\", \"x\": 2.55, \"xanchor\": \"left\", \"xref\": \"x\", \"y\": 2, \"yref\": \"y\"}, {\"align\": \"left\", \"font\": {\"color\": \"#000000\"}, \"showarrow\": false, \"text\": \"[{'start_timestamp': 1539792000, 'start_local_time': datetime.date(2018, 10, 18), 'end_timestamp': 1541433600, 'end_local_time': datetime.date(2018, 11, 6), 'title': '\\u534f\\u8bae\\u4f9b\\u8d27_20181120', 'effort': 396000}]\", \"x\": 3.55, \"xanchor\": \"left\", \"xref\": \"x\", \"y\": 2, \"yref\": \"y\"}, {\"align\": \"left\", \"font\": {\"color\": \"#000000\"}, \"showarrow\": false, \"text\": \"\\u7535\\u5b50\\u5356\\u573a1\", \"x\": -0.45, \"xanchor\": \"left\", \"xref\": \"x\", \"y\": 3, \"yref\": \"y\"}, {\"align\": \"left\", \"font\": {\"color\": \"#000000\"}, \"showarrow\": false, \"text\": \"\\u963f\\u98de\", \"x\": 0.55, \"xanchor\": \"left\", \"xref\": \"x\", \"y\": 3, \"yref\": \"y\"}, {\"align\": \"left\", \"font\": {\"color\": \"#000000\"}, \"showarrow\": false, \"text\": \"13\", \"x\": 1.55, \"xanchor\": \"left\", \"xref\": \"x\", \"y\": 3, \"yref\": \"y\"}, {\"align\": \"left\", \"font\": {\"color\": \"#000000\"}, \"showarrow\": false, \"text\": \"\\u963f\\u98de\", \"x\": 2.55, \"xanchor\": \"left\", \"xref\": \"x\", \"y\": 3, \"yref\": \"y\"}, {\"align\": \"left\", \"font\": {\"color\": \"#000000\"}, \"showarrow\": false, \"text\": \"[{'start_timestamp': 1539792000, 'start_local_time': datetime.date(2018, 10, 18), 'end_timestamp': 1541433600, 'end_local_time': datetime.date(2018, 11, 6), 'title': '\\u534f\\u8bae\\u4f9b\\u8d27_20181120', 'effort': 396000}]\", \"x\": 3.55, \"xanchor\": \"left\", \"xref\": \"x\", \"y\": 3, \"yref\": \"y\"}, {\"align\": \"left\", \"font\": {\"color\": \"#000000\"}, \"showarrow\": false, \"text\": \"\\u7535\\u5b50\\u5356\\u573a1\", \"x\": -0.45, \"xanchor\": \"left\", \"xref\": \"x\", \"y\": 4, \"yref\": \"y\"}, {\"align\": \"left\", \"font\": {\"color\": \"#000000\"}, \"showarrow\": false, \"text\": \"\\u8d8a\\u964c\", \"x\": 0.55, \"xanchor\": \"left\", \"xref\": \"x\", \"y\": 4, \"yref\": \"y\"}, {\"align\": \"left\", \"font\": {\"color\": \"#000000\"}, \"showarrow\": false, \"text\": \"31\", \"x\": 1.55, \"xanchor\": \"left\", \"xref\": \"x\", \"y\": 4, \"yref\": \"y\"}, {\"align\": \"left\", \"font\": {\"color\": \"#000000\"}, \"showarrow\": false, \"text\": \"\\u8d8a\\u964c\", \"x\": 2.55, \"xanchor\": \"left\", \"xref\": \"x\", \"y\": 4, \"yref\": \"y\"}, {\"align\": \"left\", \"font\": {\"color\": \"#000000\"}, \"showarrow\": false, \"text\": \"[{'start_timestamp': 1539792000, 'start_local_time': datetime.date(2018, 10, 18), 'end_timestamp': 1541433600, 'end_local_time': datetime.date(2018, 11, 6), 'title': '\\u534f\\u8bae\\u4f9b\\u8d27_20181120', 'effort': 396000}, {'start_timestamp': 1541001600, 'start_local_time': datetime.date(2018, 11, 1), 'end_timestamp': 1543507200, 'end_local_time': datetime.date(2018, 11, 30), 'title': '\\u534f\\u8bae\\u4f9b\\u8d27_20181129', 'effort': 604800}]\", \"x\": 3.55, \"xanchor\": \"left\", \"xref\": \"x\", \"y\": 4, \"yref\": \"y\"}, {\"align\": \"left\", \"font\": {\"color\": \"#000000\"}, \"showarrow\": false, \"text\": \"\\u7535\\u5b50\\u5356\\u573a1\", \"x\": -0.45, \"xanchor\": \"left\", \"xref\": \"x\", \"y\": 5, \"yref\": \"y\"}, {\"align\": \"left\", \"font\": {\"color\": \"#000000\"}, \"showarrow\": false, \"text\": \"\\u8001\\u66f9\", \"x\": 0.55, \"xanchor\": \"left\", \"xref\": \"x\", \"y\": 5, \"yref\": \"y\"}, {\"align\": \"left\", \"font\": {\"color\": \"#000000\"}, \"showarrow\": false, \"text\": \"22\", \"x\": 1.55, \"xanchor\": \"left\", \"xref\": \"x\", \"y\": 5, \"yref\": \"y\"}, {\"align\": \"left\", \"font\": {\"color\": \"#000000\"}, \"showarrow\": false, \"text\": \"\\u8001\\u66f9\", \"x\": 2.55, \"xanchor\": \"left\", \"xref\": \"x\", \"y\": 5, \"yref\": \"y\"}, {\"align\": \"left\", \"font\": {\"color\": \"#000000\"}, \"showarrow\": false, \"text\": \"[{'start_timestamp': 1541001600, 'start_local_time': datetime.date(2018, 11, 1), 'end_timestamp': 1543766400, 'end_local_time': datetime.date(2018, 12, 3), 'title': '\\u4ea4\\u6613\\u4e2d\\u5fc3_20181130', 'effort': 633600}]\", \"x\": 3.55, \"xanchor\": \"left\", \"xref\": \"x\", \"y\": 5, \"yref\": \"y\"}, {\"align\": \"left\", \"font\": {\"color\": \"#000000\"}, \"showarrow\": false, \"text\": \"\\u7535\\u5b50\\u5356\\u573a1\", \"x\": -0.45, \"xanchor\": \"left\", \"xref\": \"x\", \"y\": 6, \"yref\": \"y\"}, {\"align\": \"left\", \"font\": {\"color\": \"#000000\"}, \"showarrow\": false, \"text\": \"\\u866b\\u4e8c\", \"x\": 0.55, \"xanchor\": \"left\", \"xref\": \"x\", \"y\": 6, \"yref\": \"y\"}, {\"align\": \"left\", \"font\": {\"color\": \"#000000\"}, \"showarrow\": false, \"text\": \"0\", \"x\": 1.55, \"xanchor\": \"left\", \"xref\": \"x\", \"y\": 6, \"yref\": \"y\"}, {\"align\": \"left\", \"font\": {\"color\": \"#000000\"}, \"showarrow\": false, \"text\": \"\\u866b\\u4e8c\", \"x\": 2.55, \"xanchor\": \"left\", \"xref\": \"x\", \"y\": 6, \"yref\": \"y\"}, {\"align\": \"left\", \"font\": {\"color\": \"#000000\"}, \"showarrow\": false, \"text\": \"[]\", \"x\": 3.55, \"xanchor\": \"left\", \"xref\": \"x\", \"y\": 6, \"yref\": \"y\"}, {\"align\": \"left\", \"font\": {\"color\": \"#000000\"}, \"showarrow\": false, \"text\": \"\\u7535\\u5b50\\u5356\\u573a1\", \"x\": -0.45, \"xanchor\": \"left\", \"xref\": \"x\", \"y\": 7, \"yref\": \"y\"}, {\"align\": \"left\", \"font\": {\"color\": \"#000000\"}, \"showarrow\": false, \"text\": \"\\u8d1d\\u5854\", \"x\": 0.55, \"xanchor\": \"left\", \"xref\": \"x\", \"y\": 7, \"yref\": \"y\"}, {\"align\": \"left\", \"font\": {\"color\": \"#000000\"}, \"showarrow\": false, \"text\": \"10\", \"x\": 1.55, \"xanchor\": \"left\", \"xref\": \"x\", \"y\": 7, \"yref\": \"y\"}, {\"align\": \"left\", \"font\": {\"color\": \"#000000\"}, \"showarrow\": false, \"text\": \"\\u8d1d\\u5854\", \"x\": 2.55, \"xanchor\": \"left\", \"xref\": \"x\", \"y\": 7, \"yref\": \"y\"}, {\"align\": \"left\", \"font\": {\"color\": \"#000000\"}, \"showarrow\": false, \"text\": \"[{'start_timestamp': 1540483200, 'start_local_time': datetime.date(2018, 10, 26), 'end_timestamp': 1541692800, 'end_local_time': datetime.date(2018, 11, 9), 'title': '\\u5728\\u7ebf\\u8be2\\u4ef7_20181108', 'effort': 288000}]\", \"x\": 3.55, \"xanchor\": \"left\", \"xref\": \"x\", \"y\": 7, \"yref\": \"y\"}, {\"align\": \"left\", \"font\": {\"color\": \"#000000\"}, \"showarrow\": false, \"text\": \"\\u7535\\u5b50\\u5356\\u573a1\", \"x\": -0.45, \"xanchor\": \"left\", \"xref\": \"x\", \"y\": 8, \"yref\": \"y\"}, {\"align\": \"left\", \"font\": {\"color\": \"#000000\"}, \"showarrow\": false, \"text\": \"\\u5c3c\\u91c7\", \"x\": 0.55, \"xanchor\": \"left\", \"xref\": \"x\", \"y\": 8, \"yref\": \"y\"}, {\"align\": \"left\", \"font\": {\"color\": \"#000000\"}, \"showarrow\": false, \"text\": \"10\", \"x\": 1.55, \"xanchor\": \"left\", \"xref\": \"x\", \"y\": 8, \"yref\": \"y\"}, {\"align\": \"left\", \"font\": {\"color\": \"#000000\"}, \"showarrow\": false, \"text\": \"\\u5c3c\\u91c7\", \"x\": 2.55, \"xanchor\": \"left\", \"xref\": \"x\", \"y\": 8, \"yref\": \"y\"}, {\"align\": \"left\", \"font\": {\"color\": \"#000000\"}, \"showarrow\": false, \"text\": \"[{'start_timestamp': 1540483200, 'start_local_time': datetime.date(2018, 10, 26), 'end_timestamp': 1541692800, 'end_local_time': datetime.date(2018, 11, 9), 'title': '\\u5728\\u7ebf\\u8be2\\u4ef7_20181108', 'effort': 288000}]\", \"x\": 3.55, \"xanchor\": \"left\", \"xref\": \"x\", \"y\": 8, \"yref\": \"y\"}, {\"align\": \"left\", \"font\": {\"color\": \"#000000\"}, \"showarrow\": false, \"text\": \"\\u7535\\u5b50\\u5356\\u573a1\", \"x\": -0.45, \"xanchor\": \"left\", \"xref\": \"x\", \"y\": 9, \"yref\": \"y\"}, {\"align\": \"left\", \"font\": {\"color\": \"#000000\"}, \"showarrow\": false, \"text\": \"\\u6cfd\\u6ea5\", \"x\": 0.55, \"xanchor\": \"left\", \"xref\": \"x\", \"y\": 9, \"yref\": \"y\"}, {\"align\": \"left\", \"font\": {\"color\": \"#000000\"}, \"showarrow\": false, \"text\": \"0\", \"x\": 1.55, \"xanchor\": \"left\", \"xref\": \"x\", \"y\": 9, \"yref\": \"y\"}, {\"align\": \"left\", \"font\": {\"color\": \"#000000\"}, \"showarrow\": false, \"text\": \"\\u6cfd\\u6ea5\", \"x\": 2.55, \"xanchor\": \"left\", \"xref\": \"x\", \"y\": 9, \"yref\": \"y\"}, {\"align\": \"left\", \"font\": {\"color\": \"#000000\"}, \"showarrow\": false, \"text\": \"[]\", \"x\": 3.55, \"xanchor\": \"left\", \"xref\": \"x\", \"y\": 9, \"yref\": \"y\"}, {\"align\": \"left\", \"font\": {\"color\": \"#000000\"}, \"showarrow\": false, \"text\": \"\\u7535\\u5b50\\u5356\\u573a1\", \"x\": -0.45, \"xanchor\": \"left\", \"xref\": \"x\", \"y\": 10, \"yref\": \"y\"}, {\"align\": \"left\", \"font\": {\"color\": \"#000000\"}, \"showarrow\": false, \"text\": \"\\u81f4\\u8651\", \"x\": 0.55, \"xanchor\": \"left\", \"xref\": \"x\", \"y\": 10, \"yref\": \"y\"}, {\"align\": \"left\", \"font\": {\"color\": \"#000000\"}, \"showarrow\": false, \"text\": \"37\", \"x\": 1.55, \"xanchor\": \"left\", \"xref\": \"x\", \"y\": 10, \"yref\": \"y\"}, {\"align\": \"left\", \"font\": {\"color\": \"#000000\"}, \"showarrow\": false, \"text\": \"\\u81f4\\u8651\", \"x\": 2.55, \"xanchor\": \"left\", \"xref\": \"x\", \"y\": 10, \"yref\": \"y\"}, {\"align\": \"left\", \"font\": {\"color\": \"#000000\"}, \"showarrow\": false, \"text\": \"[{'start_timestamp': 1539532800, 'start_local_time': datetime.date(2018, 10, 15), 'end_timestamp': 1543939200, 'end_local_time': datetime.date(2018, 12, 5), 'title': '\\u534f\\u8bae\\u4e2d\\u5fc3_20181204', 'effort': 1065600}, {'start_timestamp': 1541001600, 'start_local_time': datetime.date(2018, 11, 1), 'end_timestamp': 1542297600, 'end_local_time': datetime.date(2018, 11, 16), 'title': '\\u534f\\u8bae\\u4e2d\\u5fc3_20181115', 'effort': 316800}]\", \"x\": 3.55, \"xanchor\": \"left\", \"xref\": \"x\", \"y\": 10, \"yref\": \"y\"}, {\"align\": \"left\", \"font\": {\"color\": \"#000000\"}, \"showarrow\": false, \"text\": \"\\u7535\\u5b50\\u5356\\u573a1\", \"x\": -0.45, \"xanchor\": \"left\", \"xref\": \"x\", \"y\": 11, \"yref\": \"y\"}, {\"align\": \"left\", \"font\": {\"color\": \"#000000\"}, \"showarrow\": false, \"text\": \"\\u5f6c\\u5f6c\", \"x\": 0.55, \"xanchor\": \"left\", \"xref\": \"x\", \"y\": 11, \"yref\": \"y\"}, {\"align\": \"left\", \"font\": {\"color\": \"#000000\"}, \"showarrow\": false, \"text\": \"20\", \"x\": 1.55, \"xanchor\": \"left\", \"xref\": \"x\", \"y\": 11, \"yref\": \"y\"}, {\"align\": \"left\", \"font\": {\"color\": \"#000000\"}, \"showarrow\": false, \"text\": \"\\u5f6c\\u5f6c\", \"x\": 2.55, \"xanchor\": \"left\", \"xref\": \"x\", \"y\": 11, \"yref\": \"y\"}, {\"align\": \"left\", \"font\": {\"color\": \"#000000\"}, \"showarrow\": false, \"text\": \"[{'start_timestamp': 1541001600, 'start_local_time': datetime.date(2018, 11, 1), 'end_timestamp': 1542297600, 'end_local_time': datetime.date(2018, 11, 16), 'title': '\\u534f\\u8bae\\u4e2d\\u5fc3_20181115', 'effort': 316800}, {'start_timestamp': 1541088000, 'start_local_time': datetime.date(2018, 11, 2), 'end_timestamp': 1543420800, 'end_local_time': datetime.date(2018, 11, 29), 'title': '\\u534f\\u8bae\\u4e2d\\u5fc3_20181128', 'effort': 547200}]\", \"x\": 3.55, \"xanchor\": \"left\", \"xref\": \"x\", \"y\": 11, \"yref\": \"y\"}, {\"align\": \"left\", \"font\": {\"color\": \"#000000\"}, \"showarrow\": false, \"text\": \"\\u7535\\u5b50\\u5356\\u573a1\", \"x\": -0.45, \"xanchor\": \"left\", \"xref\": \"x\", \"y\": 12, \"yref\": \"y\"}, {\"align\": \"left\", \"font\": {\"color\": \"#000000\"}, \"showarrow\": false, \"text\": \"\\u7070\\u8c37\", \"x\": 0.55, \"xanchor\": \"left\", \"xref\": \"x\", \"y\": 12, \"yref\": \"y\"}, {\"align\": \"left\", \"font\": {\"color\": \"#000000\"}, \"showarrow\": false, \"text\": \"0\", \"x\": 1.55, \"xanchor\": \"left\", \"xref\": \"x\", \"y\": 12, \"yref\": \"y\"}, {\"align\": \"left\", \"font\": {\"color\": \"#000000\"}, \"showarrow\": false, \"text\": \"\\u7070\\u8c37\", \"x\": 2.55, \"xanchor\": \"left\", \"xref\": \"x\", \"y\": 12, \"yref\": \"y\"}, {\"align\": \"left\", \"font\": {\"color\": \"#000000\"}, \"showarrow\": false, \"text\": \"[]\", \"x\": 3.55, \"xanchor\": \"left\", \"xref\": \"x\", \"y\": 12, \"yref\": \"y\"}, {\"align\": \"left\", \"font\": {\"color\": \"#000000\"}, \"showarrow\": false, \"text\": \"\\u7535\\u5b50\\u5356\\u573a1\", \"x\": -0.45, \"xanchor\": \"left\", \"xref\": \"x\", \"y\": 13, \"yref\": \"y\"}, {\"align\": \"left\", \"font\": {\"color\": \"#000000\"}, \"showarrow\": false, \"text\": \"\\u53cc\\u6bc5\", \"x\": 0.55, \"xanchor\": \"left\", \"xref\": \"x\", \"y\": 13, \"yref\": \"y\"}, {\"align\": \"left\", \"font\": {\"color\": \"#000000\"}, \"showarrow\": false, \"text\": \"19\", \"x\": 1.55, \"xanchor\": \"left\", \"xref\": \"x\", \"y\": 13, \"yref\": \"y\"}, {\"align\": \"left\", \"font\": {\"color\": \"#000000\"}, \"showarrow\": false, \"text\": \"\\u53cc\\u6bc5\", \"x\": 2.55, \"xanchor\": \"left\", \"xref\": \"x\", \"y\": 13, \"yref\": \"y\"}, {\"align\": \"left\", \"font\": {\"color\": \"#000000\"}, \"showarrow\": false, \"text\": \"[{'start_timestamp': 1541088000, 'start_local_time': datetime.date(2018, 11, 2), 'end_timestamp': 1543420800, 'end_local_time': datetime.date(2018, 11, 29), 'title': '\\u534f\\u8bae\\u4e2d\\u5fc3_20181128', 'effort': 547200}]\", \"x\": 3.55, \"xanchor\": \"left\", \"xref\": \"x\", \"y\": 13, \"yref\": \"y\"}, {\"align\": \"left\", \"font\": {\"color\": \"#000000\"}, \"showarrow\": false, \"text\": \"\\u7535\\u5b50\\u5356\\u573a1\", \"x\": -0.45, \"xanchor\": \"left\", \"xref\": \"x\", \"y\": 14, \"yref\": \"y\"}, {\"align\": \"left\", \"font\": {\"color\": \"#000000\"}, \"showarrow\": false, \"text\": \"\\u5e7d\\u660e\", \"x\": 0.55, \"xanchor\": \"left\", \"xref\": \"x\", \"y\": 14, \"yref\": \"y\"}, {\"align\": \"left\", \"font\": {\"color\": \"#000000\"}, \"showarrow\": false, \"text\": \"20\", \"x\": 1.55, \"xanchor\": \"left\", \"xref\": \"x\", \"y\": 14, \"yref\": \"y\"}, {\"align\": \"left\", \"font\": {\"color\": \"#000000\"}, \"showarrow\": false, \"text\": \"\\u5e7d\\u660e\", \"x\": 2.55, \"xanchor\": \"left\", \"xref\": \"x\", \"y\": 14, \"yref\": \"y\"}, {\"align\": \"left\", \"font\": {\"color\": \"#000000\"}, \"showarrow\": false, \"text\": \"[{'start_timestamp': 1541001600, 'start_local_time': datetime.date(2018, 11, 1), 'end_timestamp': 1542297600, 'end_local_time': datetime.date(2018, 11, 16), 'title': '\\u534f\\u8bae\\u4e2d\\u5fc3_20181115', 'effort': 316800}, {'start_timestamp': 1541088000, 'start_local_time': datetime.date(2018, 11, 2), 'end_timestamp': 1543420800, 'end_local_time': datetime.date(2018, 11, 29), 'title': '\\u534f\\u8bae\\u4e2d\\u5fc3_20181128', 'effort': 547200}]\", \"x\": 3.55, \"xanchor\": \"left\", \"xref\": \"x\", \"y\": 14, \"yref\": \"y\"}, {\"align\": \"left\", \"font\": {\"color\": \"#000000\"}, \"showarrow\": false, \"text\": \"\\u7535\\u5b50\\u5356\\u573a1\", \"x\": -0.45, \"xanchor\": \"left\", \"xref\": \"x\", \"y\": 15, \"yref\": \"y\"}, {\"align\": \"left\", \"font\": {\"color\": \"#000000\"}, \"showarrow\": false, \"text\": \"\\u4e1c\\u98ce\", \"x\": 0.55, \"xanchor\": \"left\", \"xref\": \"x\", \"y\": 15, \"yref\": \"y\"}, {\"align\": \"left\", \"font\": {\"color\": \"#000000\"}, \"showarrow\": false, \"text\": \"11\", \"x\": 1.55, \"xanchor\": \"left\", \"xref\": \"x\", \"y\": 15, \"yref\": \"y\"}, {\"align\": \"left\", \"font\": {\"color\": \"#000000\"}, \"showarrow\": false, \"text\": \"\\u4e1c\\u98ce\", \"x\": 2.55, \"xanchor\": \"left\", \"xref\": \"x\", \"y\": 15, \"yref\": \"y\"}, {\"align\": \"left\", \"font\": {\"color\": \"#000000\"}, \"showarrow\": false, \"text\": \"[{'start_timestamp': 1541001600, 'start_local_time': datetime.date(2018, 11, 1), 'end_timestamp': 1542297600, 'end_local_time': datetime.date(2018, 11, 16), 'title': '\\u534f\\u8bae\\u4e2d\\u5fc3_20181115', 'effort': 316800}]\", \"x\": 3.55, \"xanchor\": \"left\", \"xref\": \"x\", \"y\": 15, \"yref\": \"y\"}, {\"align\": \"left\", \"font\": {\"color\": \"#000000\"}, \"showarrow\": false, \"text\": \"\\u7535\\u5b50\\u5356\\u573a1\", \"x\": -0.45, \"xanchor\": \"left\", \"xref\": \"x\", \"y\": 16, \"yref\": \"y\"}, {\"align\": \"left\", \"font\": {\"color\": \"#000000\"}, \"showarrow\": false, \"text\": \"\\u6f8e\\u6e43\", \"x\": 0.55, \"xanchor\": \"left\", \"xref\": \"x\", \"y\": 16, \"yref\": \"y\"}, {\"align\": \"left\", \"font\": {\"color\": \"#000000\"}, \"showarrow\": false, \"text\": \"19\", \"x\": 1.55, \"xanchor\": \"left\", \"xref\": \"x\", \"y\": 16, \"yref\": \"y\"}, {\"align\": \"left\", \"font\": {\"color\": \"#000000\"}, \"showarrow\": false, \"text\": \"\\u6f8e\\u6e43\", \"x\": 2.55, \"xanchor\": \"left\", \"xref\": \"x\", \"y\": 16, \"yref\": \"y\"}, {\"align\": \"left\", \"font\": {\"color\": \"#000000\"}, \"showarrow\": false, \"text\": \"[{'start_timestamp': 1539792000, 'start_local_time': datetime.date(2018, 10, 18), 'end_timestamp': 1541433600, 'end_local_time': datetime.date(2018, 11, 6), 'title': '\\u534f\\u8bae\\u4f9b\\u8d27_20181120', 'effort': 396000}, {'start_timestamp': 1541606400, 'start_local_time': datetime.date(2018, 11, 8), 'end_timestamp': 1542297600, 'end_local_time': datetime.date(2018, 11, 16), 'title': '\\u534f\\u8bae\\u4f9b\\u8d27_20181115', 'effort': 172800}]\", \"x\": 3.55, \"xanchor\": \"left\", \"xref\": \"x\", \"y\": 16, \"yref\": \"y\"}, {\"align\": \"left\", \"font\": {\"color\": \"#000000\"}, \"showarrow\": false, \"text\": \"\\u7535\\u5b50\\u5356\\u573a1\", \"x\": -0.45, \"xanchor\": \"left\", \"xref\": \"x\", \"y\": 17, \"yref\": \"y\"}, {\"align\": \"left\", \"font\": {\"color\": \"#000000\"}, \"showarrow\": false, \"text\": \"\\u5b63\\u8282\", \"x\": 0.55, \"xanchor\": \"left\", \"xref\": \"x\", \"y\": 17, \"yref\": \"y\"}, {\"align\": \"left\", \"font\": {\"color\": \"#000000\"}, \"showarrow\": false, \"text\": \"16\", \"x\": 1.55, \"xanchor\": \"left\", \"xref\": \"x\", \"y\": 17, \"yref\": \"y\"}, {\"align\": \"left\", \"font\": {\"color\": \"#000000\"}, \"showarrow\": false, \"text\": \"\\u5b63\\u8282\", \"x\": 2.55, \"xanchor\": \"left\", \"xref\": \"x\", \"y\": 17, \"yref\": \"y\"}, {\"align\": \"left\", \"font\": {\"color\": \"#000000\"}, \"showarrow\": false, \"text\": \"[{'start_timestamp': 1539792000, 'start_local_time': datetime.date(2018, 10, 18), 'end_timestamp': 1541433600, 'end_local_time': datetime.date(2018, 11, 6), 'title': '\\u534f\\u8bae\\u4f9b\\u8d27_20181120', 'effort': 396000}, {'start_timestamp': 1540483200, 'start_local_time': datetime.date(2018, 10, 26), 'end_timestamp': 1541692800, 'end_local_time': datetime.date(2018, 11, 9), 'title': '\\u5728\\u7ebf\\u8be2\\u4ef7_20181108', 'effort': 288000}]\", \"x\": 3.55, \"xanchor\": \"left\", \"xref\": \"x\", \"y\": 17, \"yref\": \"y\"}, {\"align\": \"left\", \"font\": {\"color\": \"#000000\"}, \"showarrow\": false, \"text\": \"\\u7535\\u5b50\\u5356\\u573a1\", \"x\": -0.45, \"xanchor\": \"left\", \"xref\": \"x\", \"y\": 18, \"yref\": \"y\"}, {\"align\": \"left\", \"font\": {\"color\": \"#000000\"}, \"showarrow\": false, \"text\": \"\\u5b87\\u5c18\", \"x\": 0.55, \"xanchor\": \"left\", \"xref\": \"x\", \"y\": 18, \"yref\": \"y\"}, {\"align\": \"left\", \"font\": {\"color\": \"#000000\"}, \"showarrow\": false, \"text\": \"37\", \"x\": 1.55, \"xanchor\": \"left\", \"xref\": \"x\", \"y\": 18, \"yref\": \"y\"}, {\"align\": \"left\", \"font\": {\"color\": \"#000000\"}, \"showarrow\": false, \"text\": \"\\u5b87\\u5c18\", \"x\": 2.55, \"xanchor\": \"left\", \"xref\": \"x\", \"y\": 18, \"yref\": \"y\"}, {\"align\": \"left\", \"font\": {\"color\": \"#000000\"}, \"showarrow\": false, \"text\": \"[{'start_timestamp': 1539532800, 'start_local_time': datetime.date(2018, 10, 15), 'end_timestamp': 1543939200, 'end_local_time': datetime.date(2018, 12, 5), 'title': '\\u534f\\u8bae\\u4e2d\\u5fc3_20181204', 'effort': 1065600}]\", \"x\": 3.55, \"xanchor\": \"left\", \"xref\": \"x\", \"y\": 18, \"yref\": \"y\"}, {\"align\": \"left\", \"font\": {\"color\": \"#000000\"}, \"showarrow\": false, \"text\": \"\\u5e73\\u53f0\\u8fd0\\u8425\", \"x\": -0.45, \"xanchor\": \"left\", \"xref\": \"x\", \"y\": 19, \"yref\": \"y\"}, {\"align\": \"left\", \"font\": {\"color\": \"#000000\"}, \"showarrow\": false, \"text\": \"\\u73b2\\u73b2\", \"x\": 0.55, \"xanchor\": \"left\", \"xref\": \"x\", \"y\": 19, \"yref\": \"y\"}, {\"align\": \"left\", \"font\": {\"color\": \"#000000\"}, \"showarrow\": false, \"text\": \"13\", \"x\": 1.55, \"xanchor\": \"left\", \"xref\": \"x\", \"y\": 19, \"yref\": \"y\"}, {\"align\": \"left\", \"font\": {\"color\": \"#000000\"}, \"showarrow\": false, \"text\": \"\\u73b2\\u73b2\", \"x\": 2.55, \"xanchor\": \"left\", \"xref\": \"x\", \"y\": 19, \"yref\": \"y\"}, {\"align\": \"left\", \"font\": {\"color\": \"#000000\"}, \"showarrow\": false, \"text\": \"[{'start_timestamp': 1539792000, 'start_local_time': datetime.date(2018, 10, 18), 'end_timestamp': 1541433600, 'end_local_time': datetime.date(2018, 11, 6), 'title': '\\u534f\\u8bae\\u4f9b\\u8d27_20181120', 'effort': 396000}]\", \"x\": 3.55, \"xanchor\": \"left\", \"xref\": \"x\", \"y\": 19, \"yref\": \"y\"}, {\"align\": \"left\", \"font\": {\"color\": \"#000000\"}, \"showarrow\": false, \"text\": \"\\u7535\\u5b50\\u5356\\u573a1\", \"x\": -0.45, \"xanchor\": \"left\", \"xref\": \"x\", \"y\": 20, \"yref\": \"y\"}, {\"align\": \"left\", \"font\": {\"color\": \"#000000\"}, \"showarrow\": false, \"text\": \"\\u5174\\u5b87\", \"x\": 0.55, \"xanchor\": \"left\", \"xref\": \"x\", \"y\": 20, \"yref\": \"y\"}, {\"align\": \"left\", \"font\": {\"color\": \"#000000\"}, \"showarrow\": false, \"text\": \"31\", \"x\": 1.55, \"xanchor\": \"left\", \"xref\": \"x\", \"y\": 20, \"yref\": \"y\"}, {\"align\": \"left\", \"font\": {\"color\": \"#000000\"}, \"showarrow\": false, \"text\": \"\\u5174\\u5b87\", \"x\": 2.55, \"xanchor\": \"left\", \"xref\": \"x\", \"y\": 20, \"yref\": \"y\"}, {\"align\": \"left\", \"font\": {\"color\": \"#000000\"}, \"showarrow\": false, \"text\": \"[{'start_timestamp': 1539792000, 'start_local_time': datetime.date(2018, 10, 18), 'end_timestamp': 1541433600, 'end_local_time': datetime.date(2018, 11, 6), 'title': '\\u534f\\u8bae\\u4f9b\\u8d27_20181120', 'effort': 396000}, {'start_timestamp': 1541001600, 'start_local_time': datetime.date(2018, 11, 1), 'end_timestamp': 1543507200, 'end_local_time': datetime.date(2018, 11, 30), 'title': '\\u534f\\u8bae\\u4f9b\\u8d27_20181129', 'effort': 604800}, {'start_timestamp': 1541001600, 'start_local_time': datetime.date(2018, 11, 1), 'end_timestamp': 1542297600, 'end_local_time': datetime.date(2018, 11, 16), 'title': '\\u534f\\u8bae\\u4e2d\\u5fc3_20181115', 'effort': 316800}, {'start_timestamp': 1541088000, 'start_local_time': datetime.date(2018, 11, 2), 'end_timestamp': 1543420800, 'end_local_time': datetime.date(2018, 11, 29), 'title': '\\u534f\\u8bae\\u4e2d\\u5fc3_20181128', 'effort': 547200}]\", \"x\": 3.55, \"xanchor\": \"left\", \"xref\": \"x\", \"y\": 20, \"yref\": \"y\"}, {\"align\": \"left\", \"font\": {\"color\": \"#000000\"}, \"showarrow\": false, \"text\": \"\\u8ba1\\u5212\\u7ba1\\u7406\", \"x\": -0.45, \"xanchor\": \"left\", \"xref\": \"x\", \"y\": 21, \"yref\": \"y\"}, {\"align\": \"left\", \"font\": {\"color\": \"#000000\"}, \"showarrow\": false, \"text\": \"\\u5341\\u4e09\", \"x\": 0.55, \"xanchor\": \"left\", \"xref\": \"x\", \"y\": 21, \"yref\": \"y\"}, {\"align\": \"left\", \"font\": {\"color\": \"#000000\"}, \"showarrow\": false, \"text\": \"27\", \"x\": 1.55, \"xanchor\": \"left\", \"xref\": \"x\", \"y\": 21, \"yref\": \"y\"}, {\"align\": \"left\", \"font\": {\"color\": \"#000000\"}, \"showarrow\": false, \"text\": \"\\u5341\\u4e09\", \"x\": 2.55, \"xanchor\": \"left\", \"xref\": \"x\", \"y\": 21, \"yref\": \"y\"}, {\"align\": \"left\", \"font\": {\"color\": \"#000000\"}, \"showarrow\": false, \"text\": \"[{'start_timestamp': 1540742400, 'start_local_time': datetime.date(2018, 10, 29), 'end_timestamp': 1541520000, 'end_local_time': datetime.date(2018, 11, 7), 'title': '\\u91c7\\u8d2d\\u8ba1\\u5212_20181031\\uff08\\u652f\\u6301\\u9006\\u5411\\u7ed3\\u7b97API\\uff09- \\u5f00\\u53d1', 'effort': 201600}, {'start_timestamp': 1540828800, 'start_local_time': datetime.date(2018, 10, 30), 'end_timestamp': 1541606400, 'end_local_time': datetime.date(2018, 11, 8), 'title': '\\u91c7\\u8d2d\\u8ba1\\u5212_20181109\\uff08Ocean\\u8fc1\\u79fb\\u7248\\u672c\\uff09- \\u5f00\\u53d1', 'effort': 201600}, {'start_timestamp': 1541606400, 'start_local_time': datetime.date(2018, 11, 8), 'end_timestamp': 1543248000, 'end_local_time': datetime.date(2018, 11, 27), 'title': '\\u91c7\\u8d2d\\u8ba1\\u5212_20181121\\uff08\\u91c7\\u8d2d\\u8ba1\\u5212\\u529f\\u80fd\\u8fed\\u4ee3\\u65b0\\u589e\\uff09- \\u5f00\\u53d1', 'effort': 378000}, {'start_timestamp': 1542556800, 'start_local_time': datetime.date(2018, 11, 19), 'end_timestamp': 1543161600, 'end_local_time': datetime.date(2018, 11, 26), 'title': '\\u5927\\u76d8-\\u6838\\u5fc3API\\u8c03\\u7528', 'effort': 144000}, {'start_timestamp': 1542902400, 'start_local_time': datetime.date(2018, 11, 23), 'end_timestamp': 1543334400, 'end_local_time': datetime.date(2018, 11, 28), 'title': '\\u5927\\u76d8-dump\\u8bb0\\u5f55', 'effort': 86400}, {'start_timestamp': 1543248000, 'start_local_time': datetime.date(2018, 11, 27), 'end_timestamp': 1543507200, 'end_local_time': datetime.date(2018, 11, 30), 'title': '\\u91c7\\u8d2d\\u8ba1\\u5212\\u5e74\\u4e2d\\u7ed3\\u8f6c', 'effort': 86400}, {'start_timestamp': 1543852800, 'start_local_time': datetime.date(2018, 12, 4), 'end_timestamp': 1544025600, 'end_local_time': datetime.date(2018, 12, 6), 'title': '\\u9884\\u7b97\\u5e74\\u7ec8\\u7ed3\\u8f6c', 'effort': 57600}]\", \"x\": 3.55, \"xanchor\": \"left\", \"xref\": \"x\", \"y\": 21, \"yref\": \"y\"}, {\"align\": \"left\", \"font\": {\"color\": \"#000000\"}, \"showarrow\": false, \"text\": \"\\u8ba1\\u5212\\u7ba1\\u7406\", \"x\": -0.45, \"xanchor\": \"left\", \"xref\": \"x\", \"y\": 22, \"yref\": \"y\"}, {\"align\": \"left\", \"font\": {\"color\": \"#000000\"}, \"showarrow\": false, \"text\": \"\\u767d\\u6768\", \"x\": 0.55, \"xanchor\": \"left\", \"xref\": \"x\", \"y\": 22, \"yref\": \"y\"}, {\"align\": \"left\", \"font\": {\"color\": \"#000000\"}, \"showarrow\": false, \"text\": \"25\", \"x\": 1.55, \"xanchor\": \"left\", \"xref\": \"x\", \"y\": 22, \"yref\": \"y\"}, {\"align\": \"left\", \"font\": {\"color\": \"#000000\"}, \"showarrow\": false, \"text\": \"\\u767d\\u6768\", \"x\": 2.55, \"xanchor\": \"left\", \"xref\": \"x\", \"y\": 22, \"yref\": \"y\"}, {\"align\": \"left\", \"font\": {\"color\": \"#000000\"}, \"showarrow\": false, \"text\": \"[{'start_timestamp': 1540742400, 'start_local_time': datetime.date(2018, 10, 29), 'end_timestamp': 1541520000, 'end_local_time': datetime.date(2018, 11, 7), 'title': '\\u91c7\\u8d2d\\u8ba1\\u5212_20181102\\uff08CA\\u3001\\u4f18\\u5316\\u9700\\u6c42\\uff09- \\u5f00\\u53d1', 'effort': 226800}, {'start_timestamp': 1540828800, 'start_local_time': datetime.date(2018, 10, 30), 'end_timestamp': 1541606400, 'end_local_time': datetime.date(2018, 11, 8), 'title': '\\u91c7\\u8d2d\\u8ba1\\u5212_20181109\\uff08Ocean\\u8fc1\\u79fb\\u7248\\u672c\\uff09- \\u5f00\\u53d1', 'effort': 201600}, {'start_timestamp': 1541606400, 'start_local_time': datetime.date(2018, 11, 8), 'end_timestamp': 1543248000, 'end_local_time': datetime.date(2018, 11, 27), 'title': '\\u91c7\\u8d2d\\u8ba1\\u5212_20181121\\uff08\\u91c7\\u8d2d\\u8ba1\\u5212\\u529f\\u80fd\\u8fed\\u4ee3\\u65b0\\u589e\\uff09- \\u5f00\\u53d1', 'effort': 378000}, {'start_timestamp': 1542902400, 'start_local_time': datetime.date(2018, 11, 23), 'end_timestamp': 1543507200, 'end_local_time': datetime.date(2018, 11, 30), 'title': '\\u9884\\u7b97\\u53ef\\u7528\\u91d1\\u989d\\u4f18\\u5316', 'effort': 144000}]\", \"x\": 3.55, \"xanchor\": \"left\", \"xref\": \"x\", \"y\": 22, \"yref\": \"y\"}, {\"align\": \"left\", \"font\": {\"color\": \"#000000\"}, \"showarrow\": false, \"text\": \"\\u8ba1\\u5212\\u7ba1\\u7406\", \"x\": -0.45, \"xanchor\": \"left\", \"xref\": \"x\", \"y\": 23, \"yref\": \"y\"}, {\"align\": \"left\", \"font\": {\"color\": \"#000000\"}, \"showarrow\": false, \"text\": \"\\u607a\\u8fb0\", \"x\": 0.55, \"xanchor\": \"left\", \"xref\": \"x\", \"y\": 23, \"yref\": \"y\"}, {\"align\": \"left\", \"font\": {\"color\": \"#000000\"}, \"showarrow\": false, \"text\": \"9\", \"x\": 1.55, \"xanchor\": \"left\", \"xref\": \"x\", \"y\": 23, \"yref\": \"y\"}, {\"align\": \"left\", \"font\": {\"color\": \"#000000\"}, \"showarrow\": false, \"text\": \"\\u607a\\u8fb0\", \"x\": 2.55, \"xanchor\": \"left\", \"xref\": \"x\", \"y\": 23, \"yref\": \"y\"}, {\"align\": \"left\", \"font\": {\"color\": \"#000000\"}, \"showarrow\": false, \"text\": \"[{'start_timestamp': 1540742400, 'start_local_time': datetime.date(2018, 10, 29), 'end_timestamp': 1541347200, 'end_local_time': datetime.date(2018, 11, 5), 'title': '\\u91c7\\u8d2d\\u76ee\\u5f55_20181125\\uff08\\u91c7\\u8d2d\\u76ee\\u5f55\\u5e74\\u7ec8\\u7ed3\\u8f6c\\u5de5\\u5177\\uff09- \\u5f00\\u53d1', 'effort': 144000}, {'start_timestamp': 1542816000, 'start_local_time': datetime.date(2018, 11, 22), 'end_timestamp': 1543334400, 'end_local_time': datetime.date(2018, 11, 28), 'title': '\\u91c7\\u8d2d\\u76ee\\u5f55_20181125\\uff08\\u91c7\\u8d2d\\u76ee\\u5f55\\u5e74\\u7ec8\\u7ed3\\u8f6c\\u5de5\\u5177\\uff09- \\u524d\\u7aef\\u8054\\u8c03', 'effort': 126000}]\", \"x\": 3.55, \"xanchor\": \"left\", \"xref\": \"x\", \"y\": 23, \"yref\": \"y\"}, {\"align\": \"left\", \"font\": {\"color\": \"#000000\"}, \"showarrow\": false, \"text\": \"\\u4ea4\\u6613\\u8f7d\\u4f53\", \"x\": -0.45, \"xanchor\": \"left\", \"xref\": \"x\", \"y\": 24, \"yref\": \"y\"}, {\"align\": \"left\", \"font\": {\"color\": \"#000000\"}, \"showarrow\": false, \"text\": \"\\u9ece\\u58a8\", \"x\": 0.55, \"xanchor\": \"left\", \"xref\": \"x\", \"y\": 24, \"yref\": \"y\"}, {\"align\": \"left\", \"font\": {\"color\": \"#000000\"}, \"showarrow\": false, \"text\": \"35\", \"x\": 1.55, \"xanchor\": \"left\", \"xref\": \"x\", \"y\": 24, \"yref\": \"y\"}, {\"align\": \"left\", \"font\": {\"color\": \"#000000\"}, \"showarrow\": false, \"text\": \"\\u9ece\\u58a8\", \"x\": 2.55, \"xanchor\": \"left\", \"xref\": \"x\", \"y\": 24, \"yref\": \"y\"}, {\"align\": \"left\", \"font\": {\"color\": \"#000000\"}, \"showarrow\": false, \"text\": \"[{'start_timestamp': 1538928000, 'start_local_time': datetime.date(2018, 10, 8), 'end_timestamp': 1543161600, 'end_local_time': datetime.date(2018, 11, 26), 'title': '\\u534f\\u8bae\\u4fdd\\u8bc1\\u91d1-\\u540e\\u7aef', 'effort': 1029600}]\", \"x\": 3.55, \"xanchor\": \"left\", \"xref\": \"x\", \"y\": 24, \"yref\": \"y\"}, {\"align\": \"left\", \"font\": {\"color\": \"#000000\"}, \"showarrow\": false, \"text\": \"\\u4ea4\\u6613\\u8f7d\\u4f53\", \"x\": -0.45, \"xanchor\": \"left\", \"xref\": \"x\", \"y\": 25, \"yref\": \"y\"}, {\"align\": \"left\", \"font\": {\"color\": \"#000000\"}, \"showarrow\": false, \"text\": \"\\u5173\\u5c14\", \"x\": 0.55, \"xanchor\": \"left\", \"xref\": \"x\", \"y\": 25, \"yref\": \"y\"}, {\"align\": \"left\", \"font\": {\"color\": \"#000000\"}, \"showarrow\": false, \"text\": \"21\", \"x\": 1.55, \"xanchor\": \"left\", \"xref\": \"x\", \"y\": 25, \"yref\": \"y\"}, {\"align\": \"left\", \"font\": {\"color\": \"#000000\"}, \"showarrow\": false, \"text\": \"\\u5173\\u5c14\", \"x\": 2.55, \"xanchor\": \"left\", \"xref\": \"x\", \"y\": 25, \"yref\": \"y\"}, {\"align\": \"left\", \"font\": {\"color\": \"#000000\"}, \"showarrow\": false, \"text\": \"[{'start_timestamp': 1540828800, 'start_local_time': datetime.date(2018, 10, 30), 'end_timestamp': 1541692800, 'end_local_time': datetime.date(2018, 11, 9), 'title': '\\u6a21\\u677f\\u4e2d\\u5fc3_201811??\\uff08\\u529f\\u80fd\\u8fed\\u4ee3\\u652f\\u6301\\u4f01\\u4e1a\\u8d2d\\u548c\\u9879\\u76ee\\u91c7\\u8d2d\\u65b0\\u9700\\u6c42\\uff09- \\u5f00\\u53d1', 'effort': 252000}, {'start_timestamp': 1541952000, 'start_local_time': datetime.date(2018, 11, 12), 'end_timestamp': 1543334400, 'end_local_time': datetime.date(2018, 11, 28), 'title': '\\u6a21\\u677f\\u4e2d\\u5fc3_201811??\\uff08\\u6a21\\u677f\\u914d\\u7f6e\\u8de8\\u73af\\u5883\\u540c\\u6b65\\uff09- \\u5f00\\u53d1', 'effort': 352800}]\", \"x\": 3.55, \"xanchor\": \"left\", \"xref\": \"x\", \"y\": 25, \"yref\": \"y\"}, {\"align\": \"left\", \"font\": {\"color\": \"#000000\"}, \"showarrow\": false, \"text\": \"\\u4ea4\\u6613\\u8f7d\\u4f53\", \"x\": -0.45, \"xanchor\": \"left\", \"xref\": \"x\", \"y\": 26, \"yref\": \"y\"}, {\"align\": \"left\", \"font\": {\"color\": \"#000000\"}, \"showarrow\": false, \"text\": \"\\u5411\\u9633\", \"x\": 0.55, \"xanchor\": \"left\", \"xref\": \"x\", \"y\": 26, \"yref\": \"y\"}, {\"align\": \"left\", \"font\": {\"color\": \"#000000\"}, \"showarrow\": false, \"text\": \"12\", \"x\": 1.55, \"xanchor\": \"left\", \"xref\": \"x\", \"y\": 26, \"yref\": \"y\"}, {\"align\": \"left\", \"font\": {\"color\": \"#000000\"}, \"showarrow\": false, \"text\": \"\\u5411\\u9633\", \"x\": 2.55, \"xanchor\": \"left\", \"xref\": \"x\", \"y\": 26, \"yref\": \"y\"}, {\"align\": \"left\", \"font\": {\"color\": \"#000000\"}, \"showarrow\": false, \"text\": \"[{'start_timestamp': 1540137600, 'start_local_time': datetime.date(2018, 10, 22), 'end_timestamp': 1540828800, 'end_local_time': datetime.date(2018, 10, 30), 'title': '\\u624b\\u5de5\\u5408\\u540c_20181108\\uff08\\u676d\\u5dde\\u5408\\u540c\\u9006\\u5411\\u9700\\u6c42\\uff09 - \\u5f00\\u53d1', 'effort': 187200}, {'start_timestamp': 1540828800, 'start_local_time': datetime.date(2018, 10, 30), 'end_timestamp': 1541520000, 'end_local_time': datetime.date(2018, 11, 7), 'title': '\\u652f\\u6301\\u901a\\u7528\\u5b9a\\u70b9\\u5bf9\\u63a5', 'effort': 172800}]\", \"x\": 3.55, \"xanchor\": \"left\", \"xref\": \"x\", \"y\": 26, \"yref\": \"y\"}, {\"align\": \"left\", \"font\": {\"color\": \"#000000\"}, \"showarrow\": false, \"text\": \"\\u652f\\u4ed8\\u7ed3\\u7b97\", \"x\": -0.45, \"xanchor\": \"left\", \"xref\": \"x\", \"y\": 27, \"yref\": \"y\"}, {\"align\": \"left\", \"font\": {\"color\": \"#000000\"}, \"showarrow\": false, \"text\": \"\\u6d77\\u6839\", \"x\": 0.55, \"xanchor\": \"left\", \"xref\": \"x\", \"y\": 27, \"yref\": \"y\"}, {\"align\": \"left\", \"font\": {\"color\": \"#000000\"}, \"showarrow\": false, \"text\": \"35\", \"x\": 1.55, \"xanchor\": \"left\", \"xref\": \"x\", \"y\": 27, \"yref\": \"y\"}, {\"align\": \"left\", \"font\": {\"color\": \"#000000\"}, \"showarrow\": false, \"text\": \"\\u6d77\\u6839\", \"x\": 2.55, \"xanchor\": \"left\", \"xref\": \"x\", \"y\": 27, \"yref\": \"y\"}, {\"align\": \"left\", \"font\": {\"color\": \"#000000\"}, \"showarrow\": false, \"text\": \"[{'start_timestamp': 1538928000, 'start_local_time': datetime.date(2018, 10, 8), 'end_timestamp': 1543161600, 'end_local_time': datetime.date(2018, 11, 26), 'title': '\\u534f\\u8bae\\u4fdd\\u8bc1\\u91d1-\\u540e\\u7aef', 'effort': 1029600}]\", \"x\": 3.55, \"xanchor\": \"left\", \"xref\": \"x\", \"y\": 27, \"yref\": \"y\"}, {\"align\": \"left\", \"font\": {\"color\": \"#000000\"}, \"showarrow\": false, \"text\": \"\\u652f\\u4ed8\\u7ed3\\u7b97\", \"x\": -0.45, \"xanchor\": \"left\", \"xref\": \"x\", \"y\": 28, \"yref\": \"y\"}, {\"align\": \"left\", \"font\": {\"color\": \"#000000\"}, \"showarrow\": false, \"text\": \"\\u4fee\\u8fdc\", \"x\": 0.55, \"xanchor\": \"left\", \"xref\": \"x\", \"y\": 28, \"yref\": \"y\"}, {\"align\": \"left\", \"font\": {\"color\": \"#000000\"}, \"showarrow\": false, \"text\": \"35\", \"x\": 1.55, \"xanchor\": \"left\", \"xref\": \"x\", \"y\": 28, \"yref\": \"y\"}, {\"align\": \"left\", \"font\": {\"color\": \"#000000\"}, \"showarrow\": false, \"text\": \"\\u4fee\\u8fdc\", \"x\": 2.55, \"xanchor\": \"left\", \"xref\": \"x\", \"y\": 28, \"yref\": \"y\"}, {\"align\": \"left\", \"font\": {\"color\": \"#000000\"}, \"showarrow\": false, \"text\": \"[{'start_timestamp': 1538928000, 'start_local_time': datetime.date(2018, 10, 8), 'end_timestamp': 1543161600, 'end_local_time': datetime.date(2018, 11, 26), 'title': '\\u534f\\u8bae\\u4fdd\\u8bc1\\u91d1-\\u540e\\u7aef', 'effort': 1029600}, {'start_timestamp': 1540051200, 'start_local_time': datetime.date(2018, 10, 21), 'end_timestamp': 1541347200, 'end_local_time': datetime.date(2018, 11, 5), 'title': '\\u5728\\u7ebf\\u652f\\u4ed8_20181105\\uff08\\u6536\\u94f6\\u53f0\\u7b7e\\u7ea6\\u3001\\u519c\\u884c\\u5bf9\\u63a5\\uff09- \\u5f00\\u53d1', 'effort': 316800}, {'start_timestamp': 1540828800, 'start_local_time': datetime.date(2018, 10, 30), 'end_timestamp': 1542297600, 'end_local_time': datetime.date(2018, 11, 16), 'title': '\\u519c\\u4e1a\\u94f6\\u884c\\u652f\\u4ed8\\u5bf9\\u63a5', 'effort': 392400}]\", \"x\": 3.55, \"xanchor\": \"left\", \"xref\": \"x\", \"y\": 28, \"yref\": \"y\"}, {\"align\": \"left\", \"font\": {\"color\": \"#000000\"}, \"showarrow\": false, \"text\": \"\\u652f\\u4ed8\\u7ed3\\u7b97\", \"x\": -0.45, \"xanchor\": \"left\", \"xref\": \"x\", \"y\": 29, \"yref\": \"y\"}, {\"align\": \"left\", \"font\": {\"color\": \"#000000\"}, \"showarrow\": false, \"text\": \"\\u6674\\u5929\", \"x\": 0.55, \"xanchor\": \"left\", \"xref\": \"x\", \"y\": 29, \"yref\": \"y\"}, {\"align\": \"left\", \"font\": {\"color\": \"#000000\"}, \"showarrow\": false, \"text\": \"28\", \"x\": 1.55, \"xanchor\": \"left\", \"xref\": \"x\", \"y\": 29, \"yref\": \"y\"}, {\"align\": \"left\", \"font\": {\"color\": \"#000000\"}, \"showarrow\": false, \"text\": \"\\u6674\\u5929\", \"x\": 2.55, \"xanchor\": \"left\", \"xref\": \"x\", \"y\": 29, \"yref\": \"y\"}, {\"align\": \"left\", \"font\": {\"color\": \"#000000\"}, \"showarrow\": false, \"text\": \"[{'start_timestamp': 1539705600, 'start_local_time': datetime.date(2018, 10, 17), 'end_timestamp': 1542556800, 'end_local_time': datetime.date(2018, 11, 19), 'title': '\\u6536\\u8d39_20181122\\uff08\\u8b66\\u5907\\u9986\\uff09- \\u5f00\\u53d1', 'effort': 662400}, {'start_timestamp': 1541952000, 'start_local_time': datetime.date(2018, 11, 12), 'end_timestamp': 1543161600, 'end_local_time': datetime.date(2018, 11, 26), 'title': '\\u7ed3\\u7b97_20181129\\uff08\\u5f00\\u653e\\u5e73\\u53f0ocean \\u8f6ckong API\\u8865\\u5145\\u3001\\u79aa\\u9053\\u4f18\\u5316\\u9700\\u6c42\\uff09- \\u5f00\\u53d1', 'effort': 298800}]\", \"x\": 3.55, \"xanchor\": \"left\", \"xref\": \"x\", \"y\": 29, \"yref\": \"y\"}, {\"align\": \"left\", \"font\": {\"color\": \"#000000\"}, \"showarrow\": false, \"text\": \"\\u652f\\u4ed8\\u7ed3\\u7b97\", \"x\": -0.45, \"xanchor\": \"left\", \"xref\": \"x\", \"y\": 30, \"yref\": \"y\"}, {\"align\": \"left\", \"font\": {\"color\": \"#000000\"}, \"showarrow\": false, \"text\": \"\\u767d\\u8d77\", \"x\": 0.55, \"xanchor\": \"left\", \"xref\": \"x\", \"y\": 30, \"yref\": \"y\"}, {\"align\": \"left\", \"font\": {\"color\": \"#000000\"}, \"showarrow\": false, \"text\": \"37\", \"x\": 1.55, \"xanchor\": \"left\", \"xref\": \"x\", \"y\": 30, \"yref\": \"y\"}, {\"align\": \"left\", \"font\": {\"color\": \"#000000\"}, \"showarrow\": false, \"text\": \"\\u767d\\u8d77\", \"x\": 2.55, \"xanchor\": \"left\", \"xref\": \"x\", \"y\": 30, \"yref\": \"y\"}, {\"align\": \"left\", \"font\": {\"color\": \"#000000\"}, \"showarrow\": false, \"text\": \"[{'start_timestamp': 1539705600, 'start_local_time': datetime.date(2018, 10, 17), 'end_timestamp': 1542556800, 'end_local_time': datetime.date(2018, 11, 19), 'title': '\\u6536\\u8d39_20181122\\uff08\\u8b66\\u5907\\u9986\\uff09- \\u5f00\\u53d1', 'effort': 662400}, {'start_timestamp': 1541001600, 'start_local_time': datetime.date(2018, 11, 1), 'end_timestamp': 1541433600, 'end_local_time': datetime.date(2018, 11, 6), 'title': '\\u7ed3\\u7b97_20181115\\uff08\\u524d\\u7aef\\u7f16\\u8bd1\\u4f18\\u5316\\u3001\\u914d\\u5408\\u7f51\\u8d85\\u8fd0\\u8d39\\u9700\\u6c42\\uff09- \\u5f00\\u53d1', 'effort': 97200}, {'start_timestamp': 1541952000, 'start_local_time': datetime.date(2018, 11, 12), 'end_timestamp': 1543161600, 'end_local_time': datetime.date(2018, 11, 26), 'title': '\\u7ed3\\u7b97_20181129\\uff08\\u5f00\\u653e\\u5e73\\u53f0ocean \\u8f6ckong API\\u8865\\u5145\\u3001\\u79aa\\u9053\\u4f18\\u5316\\u9700\\u6c42\\uff09- \\u5f00\\u53d1', 'effort': 298800}]\", \"x\": 3.55, \"xanchor\": \"left\", \"xref\": \"x\", \"y\": 30, \"yref\": \"y\"}, {\"align\": \"left\", \"font\": {\"color\": \"#000000\"}, \"showarrow\": false, \"text\": \"\\u5171\\u4eab\\u524d\\u7aef\", \"x\": -0.45, \"xanchor\": \"left\", \"xref\": \"x\", \"y\": 31, \"yref\": \"y\"}, {\"align\": \"left\", \"font\": {\"color\": \"#000000\"}, \"showarrow\": false, \"text\": \"\\u5b50\\u6d0b\", \"x\": 0.55, \"xanchor\": \"left\", \"xref\": \"x\", \"y\": 31, \"yref\": \"y\"}, {\"align\": \"left\", \"font\": {\"color\": \"#000000\"}, \"showarrow\": false, \"text\": \"27\", \"x\": 1.55, \"xanchor\": \"left\", \"xref\": \"x\", \"y\": 31, \"yref\": \"y\"}, {\"align\": \"left\", \"font\": {\"color\": \"#000000\"}, \"showarrow\": false, \"text\": \"\\u5b50\\u6d0b\", \"x\": 2.55, \"xanchor\": \"left\", \"xref\": \"x\", \"y\": 31, \"yref\": \"y\"}, {\"align\": \"left\", \"font\": {\"color\": \"#000000\"}, \"showarrow\": false, \"text\": \"[{'start_timestamp': 1539532800, 'start_local_time': datetime.date(2018, 10, 15), 'end_timestamp': 1540137600, 'end_local_time': datetime.date(2018, 10, 22), 'title': '\\u524d\\u7aef-\\u4f9b\\u5e94\\u5546\\u534f\\u8bae\\u7ba1\\u7406/\\u4fdd\\u8bc1\\u91d1\\u9000\\u6b3e\\u7ba1\\u7406-\\u6e05\\u97f3\\u5f00\\u53d11\\u5468', 'effort': 144000}, {'start_timestamp': 1539792000, 'start_local_time': datetime.date(2018, 10, 18), 'end_timestamp': 1540137600, 'end_local_time': datetime.date(2018, 10, 22), 'title': '\\u4f9b\\u5e94\\u5546\\u8d26\\u5355\\u7ba1\\u7406', 'effort': 57600}, {'start_timestamp': 1540137600, 'start_local_time': datetime.date(2018, 10, 22), 'end_timestamp': 1540483200, 'end_local_time': datetime.date(2018, 10, 26), 'title': '012\\u670d\\u52a1\\u8ba2\\u5355', 'effort': 115200}, {'start_timestamp': 1540742400, 'start_local_time': datetime.date(2018, 10, 29), 'end_timestamp': 1541520000, 'end_local_time': datetime.date(2018, 11, 7), 'title': '\\u524d\\u7aef-\\u4ee3\\u7406\\u673a\\u6784\\u7f34\\u8d39\\u7ba1\\u7406-\\u5b50\\u6d0b\\u5f00\\u53d1', 'effort': 201600}, {'start_timestamp': 1540915200, 'start_local_time': datetime.date(2018, 10, 31), 'end_timestamp': 1541606400, 'end_local_time': datetime.date(2018, 11, 8), 'title': '\\u8054\\u8c03\\u81ea\\u6d4b', 'effort': 192600}, {'start_timestamp': 1541433600, 'start_local_time': datetime.date(2018, 11, 6), 'end_timestamp': 1542297600, 'end_local_time': datetime.date(2018, 11, 16), 'title': '\\u524d\\u540e\\u7aef\\u8054\\u8c03', 'effort': 244800}, {'start_timestamp': 1542816000, 'start_local_time': datetime.date(2018, 11, 22), 'end_timestamp': 1543334400, 'end_local_time': datetime.date(2018, 11, 28), 'title': '\\u91c7\\u8d2d\\u76ee\\u5f55_20181125\\uff08\\u91c7\\u8d2d\\u76ee\\u5f55\\u5e74\\u7ec8\\u7ed3\\u8f6c\\u5de5\\u5177\\uff09- \\u524d\\u7aef\\u8054\\u8c03', 'effort': 126000}]\", \"x\": 3.55, \"xanchor\": \"left\", \"xref\": \"x\", \"y\": 31, \"yref\": \"y\"}, {\"align\": \"left\", \"font\": {\"color\": \"#000000\"}, \"showarrow\": false, \"text\": \"\\u5171\\u4eab\\u524d\\u7aef\", \"x\": -0.45, \"xanchor\": \"left\", \"xref\": \"x\", \"y\": 32, \"yref\": \"y\"}, {\"align\": \"left\", \"font\": {\"color\": \"#000000\"}, \"showarrow\": false, \"text\": \"\\u7b80\\u540d\", \"x\": 0.55, \"xanchor\": \"left\", \"xref\": \"x\", \"y\": 32, \"yref\": \"y\"}, {\"align\": \"left\", \"font\": {\"color\": \"#000000\"}, \"showarrow\": false, \"text\": \"26\", \"x\": 1.55, \"xanchor\": \"left\", \"xref\": \"x\", \"y\": 32, \"yref\": \"y\"}, {\"align\": \"left\", \"font\": {\"color\": \"#000000\"}, \"showarrow\": false, \"text\": \"\\u7b80\\u540d\", \"x\": 2.55, \"xanchor\": \"left\", \"xref\": \"x\", \"y\": 32, \"yref\": \"y\"}, {\"align\": \"left\", \"font\": {\"color\": \"#000000\"}, \"showarrow\": false, \"text\": \"[{'start_timestamp': 1540742400, 'start_local_time': datetime.date(2018, 10, 29), 'end_timestamp': 1541520000, 'end_local_time': datetime.date(2018, 11, 7), 'title': '\\u91c7\\u8d2d\\u8ba1\\u5212_20181102\\uff08CA\\u3001\\u4f18\\u5316\\u9700\\u6c42\\uff09- \\u5f00\\u53d1', 'effort': 226800}, {'start_timestamp': 1541001600, 'start_local_time': datetime.date(2018, 11, 1), 'end_timestamp': 1542038400, 'end_local_time': datetime.date(2018, 11, 13), 'title': '\\u5927\\u76d8-\\u63a7\\u5236\\u53f0\\u524d\\u7aef', 'effort': 230400}, {'start_timestamp': 1541001600, 'start_local_time': datetime.date(2018, 11, 1), 'end_timestamp': 1541433600, 'end_local_time': datetime.date(2018, 11, 6), 'title': '\\u7ed3\\u7b97_20181115\\uff08\\u524d\\u7aef\\u7f16\\u8bd1\\u4f18\\u5316\\u3001\\u914d\\u5408\\u7f51\\u8d85\\u8fd0\\u8d39\\u9700\\u6c42\\uff09- \\u5f00\\u53d1', 'effort': 97200}, {'start_timestamp': 1541606400, 'start_local_time': datetime.date(2018, 11, 8), 'end_timestamp': 1543248000, 'end_local_time': datetime.date(2018, 11, 27), 'title': '\\u91c7\\u8d2d\\u8ba1\\u5212_20181121\\uff08\\u91c7\\u8d2d\\u8ba1\\u5212\\u529f\\u80fd\\u8fed\\u4ee3\\u65b0\\u589e\\uff09- \\u5f00\\u53d1', 'effort': 378000}, {'start_timestamp': 1542816000, 'start_local_time': datetime.date(2018, 11, 22), 'end_timestamp': 1543248000, 'end_local_time': datetime.date(2018, 11, 27), 'title': '\\u8fd0\\u8425\\u4f18\\u5316\\u524d\\u7aef', 'effort': 86400}]\", \"x\": 3.55, \"xanchor\": \"left\", \"xref\": \"x\", \"y\": 32, \"yref\": \"y\"}, {\"align\": \"left\", \"font\": {\"color\": \"#000000\"}, \"showarrow\": false, \"text\": \"\\u652f\\u4ed8\\u7ed3\\u7b97\", \"x\": -0.45, \"xanchor\": \"left\", \"xref\": \"x\", \"y\": 33, \"yref\": \"y\"}, {\"align\": \"left\", \"font\": {\"color\": \"#000000\"}, \"showarrow\": false, \"text\": \"\\u9cb2\\u9e4f\", \"x\": 0.55, \"xanchor\": \"left\", \"xref\": \"x\", \"y\": 33, \"yref\": \"y\"}, {\"align\": \"left\", \"font\": {\"color\": \"#000000\"}, \"showarrow\": false, \"text\": \"18\", \"x\": 1.55, \"xanchor\": \"left\", \"xref\": \"x\", \"y\": 33, \"yref\": \"y\"}, {\"align\": \"left\", \"font\": {\"color\": \"#000000\"}, \"showarrow\": false, \"text\": \"\\u9cb2\\u9e4f\", \"x\": 2.55, \"xanchor\": \"left\", \"xref\": \"x\", \"y\": 33, \"yref\": \"y\"}, {\"align\": \"left\", \"font\": {\"color\": \"#000000\"}, \"showarrow\": false, \"text\": \"[{'start_timestamp': 1540828800, 'start_local_time': datetime.date(2018, 10, 30), 'end_timestamp': 1541347200, 'end_local_time': datetime.date(2018, 11, 5), 'title': '\\u6838\\u8d26\\u7ba1\\u7406_20181115 - \\u5f00\\u53d1', 'effort': 134400}, {'start_timestamp': 1541433600, 'start_local_time': datetime.date(2018, 11, 6), 'end_timestamp': 1541952000, 'end_local_time': datetime.date(2018, 11, 12), 'title': '\\u5728\\u7ebf\\u652f\\u4ed8_20181129\\uff08\\u4f01\\u4e1a\\u8d2d\\u3001\\u6536\\u8d39\\u63a5\\u5165\\u6536\\u94f6\\u53f0\\uff09- \\u5f00\\u53d1', 'effort': 115200}, {'start_timestamp': 1541952000, 'start_local_time': datetime.date(2018, 11, 12), 'end_timestamp': 1542902400, 'end_local_time': datetime.date(2018, 11, 23), 'title': '\\u6838\\u8d26\\u7ba1\\u7406_201811??\\uff08\\u8b66\\u5907\\u65b0\\u589e\\u9700\\u6c42\\uff09- \\u5f00\\u53d1', 'effort': 268800}]\", \"x\": 3.55, \"xanchor\": \"left\", \"xref\": \"x\", \"y\": 33, \"yref\": \"y\"}, {\"align\": \"left\", \"font\": {\"color\": \"#000000\"}, \"showarrow\": false, \"text\": \"\\u8ba1\\u5212\\u7ba1\\u7406\", \"x\": -0.45, \"xanchor\": \"left\", \"xref\": \"x\", \"y\": 34, \"yref\": \"y\"}, {\"align\": \"left\", \"font\": {\"color\": \"#000000\"}, \"showarrow\": false, \"text\": \"\\u5a01\\u4ed4\", \"x\": 0.55, \"xanchor\": \"left\", \"xref\": \"x\", \"y\": 34, \"yref\": \"y\"}, {\"align\": \"left\", \"font\": {\"color\": \"#000000\"}, \"showarrow\": false, \"text\": \"31\", \"x\": 1.55, \"xanchor\": \"left\", \"xref\": \"x\", \"y\": 34, \"yref\": \"y\"}, {\"align\": \"left\", \"font\": {\"color\": \"#000000\"}, \"showarrow\": false, \"text\": \"\\u5a01\\u4ed4\", \"x\": 2.55, \"xanchor\": \"left\", \"xref\": \"x\", \"y\": 34, \"yref\": \"y\"}, {\"align\": \"left\", \"font\": {\"color\": \"#000000\"}, \"showarrow\": false, \"text\": \"[{'start_timestamp': 1539705600, 'start_local_time': datetime.date(2018, 10, 17), 'end_timestamp': 1542556800, 'end_local_time': datetime.date(2018, 11, 19), 'title': '\\u6536\\u8d39_20181122\\uff08\\u8b66\\u5907\\u9986\\uff09- \\u5f00\\u53d1', 'effort': 662400}, {'start_timestamp': 1541952000, 'start_local_time': datetime.date(2018, 11, 12), 'end_timestamp': 1543420800, 'end_local_time': datetime.date(2018, 11, 29), 'title': '\\u5f00\\u53d1', 'effort': 374400}]\", \"x\": 3.55, \"xanchor\": \"left\", \"xref\": \"x\", \"y\": 34, \"yref\": \"y\"}, {\"align\": \"left\", \"font\": {\"color\": \"#000000\"}, \"showarrow\": false, \"text\": \"\\u5171\\u4eab\\u524d\\u7aef\", \"x\": -0.45, \"xanchor\": \"left\", \"xref\": \"x\", \"y\": 35, \"yref\": \"y\"}, {\"align\": \"left\", \"font\": {\"color\": \"#000000\"}, \"showarrow\": false, \"text\": \"\\u8d75\\u4f1f\", \"x\": 0.55, \"xanchor\": \"left\", \"xref\": \"x\", \"y\": 35, \"yref\": \"y\"}, {\"align\": \"left\", \"font\": {\"color\": \"#000000\"}, \"showarrow\": false, \"text\": \"31\", \"x\": 1.55, \"xanchor\": \"left\", \"xref\": \"x\", \"y\": 35, \"yref\": \"y\"}, {\"align\": \"left\", \"font\": {\"color\": \"#000000\"}, \"showarrow\": false, \"text\": \"\\u8d75\\u4f1f\", \"x\": 2.55, \"xanchor\": \"left\", \"xref\": \"x\", \"y\": 35, \"yref\": \"y\"}, {\"align\": \"left\", \"font\": {\"color\": \"#000000\"}, \"showarrow\": false, \"text\": \"[{'start_timestamp': 1540137600, 'start_local_time': datetime.date(2018, 10, 22), 'end_timestamp': 1541347200, 'end_local_time': datetime.date(2018, 11, 5), 'title': '\\u524d\\u7aef-\\u4ee3\\u7406\\u673a\\u6784\\u534f\\u8bae\\u9000\\u6b3e\\u7ba1\\u7406', 'effort': 288000}, {'start_timestamp': 1540137600, 'start_local_time': datetime.date(2018, 10, 22), 'end_timestamp': 1540828800, 'end_local_time': datetime.date(2018, 10, 30), 'title': '\\u624b\\u5de5\\u5408\\u540c_20181108\\uff08\\u676d\\u5dde\\u5408\\u540c\\u9006\\u5411\\u9700\\u6c42\\uff09 - \\u5f00\\u53d1', 'effort': 187200}, {'start_timestamp': 1540828800, 'start_local_time': datetime.date(2018, 10, 30), 'end_timestamp': 1541692800, 'end_local_time': datetime.date(2018, 11, 9), 'title': '\\u6a21\\u677f\\u4e2d\\u5fc3_201811??\\uff08\\u529f\\u80fd\\u8fed\\u4ee3\\u652f\\u6301\\u4f01\\u4e1a\\u8d2d\\u548c\\u9879\\u76ee\\u91c7\\u8d2d\\u65b0\\u9700\\u6c42\\uff09- \\u5f00\\u53d1', 'effort': 252000}, {'start_timestamp': 1541433600, 'start_local_time': datetime.date(2018, 11, 6), 'end_timestamp': 1542297600, 'end_local_time': datetime.date(2018, 11, 16), 'title': '\\u524d\\u540e\\u7aef\\u8054\\u8c03', 'effort': 244800}, {'start_timestamp': 1541952000, 'start_local_time': datetime.date(2018, 11, 12), 'end_timestamp': 1543334400, 'end_local_time': datetime.date(2018, 11, 28), 'title': '\\u6a21\\u677f\\u4e2d\\u5fc3_201811??\\uff08\\u6a21\\u677f\\u914d\\u7f6e\\u8de8\\u73af\\u5883\\u540c\\u6b65\\uff09- \\u5f00\\u53d1', 'effort': 352800}]\", \"x\": 3.55, \"xanchor\": \"left\", \"xref\": \"x\", \"y\": 35, \"yref\": \"y\"}, {\"align\": \"left\", \"font\": {\"color\": \"#000000\"}, \"showarrow\": false, \"text\": \"\\u652f\\u4ed8\\u7ed3\\u7b97\", \"x\": -0.45, \"xanchor\": \"left\", \"xref\": \"x\", \"y\": 36, \"yref\": \"y\"}, {\"align\": \"left\", \"font\": {\"color\": \"#000000\"}, \"showarrow\": false, \"text\": \"\\u6e38\\u4fa0\", \"x\": 0.55, \"xanchor\": \"left\", \"xref\": \"x\", \"y\": 36, \"yref\": \"y\"}, {\"align\": \"left\", \"font\": {\"color\": \"#000000\"}, \"showarrow\": false, \"text\": \"12\", \"x\": 1.55, \"xanchor\": \"left\", \"xref\": \"x\", \"y\": 36, \"yref\": \"y\"}, {\"align\": \"left\", \"font\": {\"color\": \"#000000\"}, \"showarrow\": false, \"text\": \"\\u6e38\\u4fa0\", \"x\": 2.55, \"xanchor\": \"left\", \"xref\": \"x\", \"y\": 36, \"yref\": \"y\"}, {\"align\": \"left\", \"font\": {\"color\": \"#000000\"}, \"showarrow\": false, \"text\": \"[{'start_timestamp': 1540828800, 'start_local_time': datetime.date(2018, 10, 30), 'end_timestamp': 1541433600, 'end_local_time': datetime.date(2018, 11, 6), 'title': 'SLA\\u6307\\u6807\\u548c\\u843d\\u5730\\u65b9\\u6848', 'effort': 147600}, {'start_timestamp': 1541433600, 'start_local_time': datetime.date(2018, 11, 6), 'end_timestamp': 1542124800, 'end_local_time': datetime.date(2018, 11, 14), 'title': '\\u591a\\u94f6\\u884c\\u6e20\\u9053\\u6574\\u5408\\u65b9\\u6848', 'effort': 198000}]\", \"x\": 3.55, \"xanchor\": \"left\", \"xref\": \"x\", \"y\": 36, \"yref\": \"y\"}, {\"align\": \"left\", \"font\": {\"color\": \"#000000\"}, \"showarrow\": false, \"text\": \"\\u652f\\u4ed8\\u7ed3\\u7b97\", \"x\": -0.45, \"xanchor\": \"left\", \"xref\": \"x\", \"y\": 37, \"yref\": \"y\"}, {\"align\": \"left\", \"font\": {\"color\": \"#000000\"}, \"showarrow\": false, \"text\": \"\\u548c\\u6b4c\", \"x\": 0.55, \"xanchor\": \"left\", \"xref\": \"x\", \"y\": 37, \"yref\": \"y\"}, {\"align\": \"left\", \"font\": {\"color\": \"#000000\"}, \"showarrow\": false, \"text\": \"24\", \"x\": 1.55, \"xanchor\": \"left\", \"xref\": \"x\", \"y\": 37, \"yref\": \"y\"}, {\"align\": \"left\", \"font\": {\"color\": \"#000000\"}, \"showarrow\": false, \"text\": \"\\u548c\\u6b4c\", \"x\": 2.55, \"xanchor\": \"left\", \"xref\": \"x\", \"y\": 37, \"yref\": \"y\"}, {\"align\": \"left\", \"font\": {\"color\": \"#000000\"}, \"showarrow\": false, \"text\": \"[{'start_timestamp': 1540828800, 'start_local_time': datetime.date(2018, 10, 30), 'end_timestamp': 1541952000, 'end_local_time': datetime.date(2018, 11, 12), 'title': '\\u5168\\u94fe\\u8defSkywalking\\u544a\\u8b66\\u6570\\u636e\\u4e0e\\u8fd0\\u7ef4\\u5bf9\\u63a5', 'effort': 259200}, {'start_timestamp': 1541347200, 'start_local_time': datetime.date(2018, 11, 5), 'end_timestamp': 1543766400, 'end_local_time': datetime.date(2018, 12, 3), 'title': '\\u94f6\\u884c\\u6e20\\u9053\\u5bf9\\u63a5\\uff1a\\u676d\\u5dde\\u94f6\\u884c\\uff1b\\u5efa\\u8bbe\\u94f6\\u884c\\uff1b\\u519c\\u4e1a\\u94f6\\u884c\\uff1b', 'effort': 576000}]\", \"x\": 3.55, \"xanchor\": \"left\", \"xref\": \"x\", \"y\": 37, \"yref\": \"y\"}, {\"align\": \"left\", \"font\": {\"color\": \"#000000\"}, \"showarrow\": false, \"text\": \"\\u5171\\u4eab\\u524d\\u7aef\", \"x\": -0.45, \"xanchor\": \"left\", \"xref\": \"x\", \"y\": 38, \"yref\": \"y\"}, {\"align\": \"left\", \"font\": {\"color\": \"#000000\"}, \"showarrow\": false, \"text\": \"\\u4e9a\\u683c\", \"x\": 0.55, \"xanchor\": \"left\", \"xref\": \"x\", \"y\": 38, \"yref\": \"y\"}, {\"align\": \"left\", \"font\": {\"color\": \"#000000\"}, \"showarrow\": false, \"text\": \"24\", \"x\": 1.55, \"xanchor\": \"left\", \"xref\": \"x\", \"y\": 38, \"yref\": \"y\"}, {\"align\": \"left\", \"font\": {\"color\": \"#000000\"}, \"showarrow\": false, \"text\": \"\\u4e9a\\u683c\", \"x\": 2.55, \"xanchor\": \"left\", \"xref\": \"x\", \"y\": 38, \"yref\": \"y\"}, {\"align\": \"left\", \"font\": {\"color\": \"#000000\"}, \"showarrow\": false, \"text\": \"[{'start_timestamp': 1539619200, 'start_local_time': datetime.date(2018, 10, 16), 'end_timestamp': 1539792000, 'end_local_time': datetime.date(2018, 10, 18), 'title': '012\\u8d26\\u5355\\u7ba1\\u7406', 'effort': 57600}, {'start_timestamp': 1540483200, 'start_local_time': datetime.date(2018, 10, 26), 'end_timestamp': 1540915200, 'end_local_time': datetime.date(2018, 10, 31), 'title': '\\u4f9b\\u5e94\\u5546\\u670d\\u52a1\\u8ba2\\u5355', 'effort': 86400}, {'start_timestamp': 1540915200, 'start_local_time': datetime.date(2018, 10, 31), 'end_timestamp': 1541606400, 'end_local_time': datetime.date(2018, 11, 8), 'title': '\\u8054\\u8c03\\u81ea\\u6d4b', 'effort': 192600}, {'start_timestamp': 1541952000, 'start_local_time': datetime.date(2018, 11, 12), 'end_timestamp': 1543420800, 'end_local_time': datetime.date(2018, 11, 29), 'title': '\\u5f00\\u53d1', 'effort': 374400}, {'start_timestamp': 1541952000, 'start_local_time': datetime.date(2018, 11, 12), 'end_timestamp': 1543161600, 'end_local_time': datetime.date(2018, 11, 26), 'title': '\\u7ed3\\u7b97_20181129\\uff08\\u5f00\\u653e\\u5e73\\u53f0ocean \\u8f6ckong API\\u8865\\u5145\\u3001\\u79aa\\u9053\\u4f18\\u5316\\u9700\\u6c42\\uff09- \\u5f00\\u53d1', 'effort': 298800}]\", \"x\": 3.55, \"xanchor\": \"left\", \"xref\": \"x\", \"y\": 38, \"yref\": \"y\"}, {\"align\": \"left\", \"font\": {\"color\": \"#000000\"}, \"showarrow\": false, \"text\": \"\\u8d22\\u653f\\u7ba1\\u7406\", \"x\": -0.45, \"xanchor\": \"left\", \"xref\": \"x\", \"y\": 39, \"yref\": \"y\"}, {\"align\": \"left\", \"font\": {\"color\": \"#000000\"}, \"showarrow\": false, \"text\": \"\\u4f0a\\u5e03\", \"x\": 0.55, \"xanchor\": \"left\", \"xref\": \"x\", \"y\": 39, \"yref\": \"y\"}, {\"align\": \"left\", \"font\": {\"color\": \"#000000\"}, \"showarrow\": false, \"text\": \"14\", \"x\": 1.55, \"xanchor\": \"left\", \"xref\": \"x\", \"y\": 39, \"yref\": \"y\"}, {\"align\": \"left\", \"font\": {\"color\": \"#000000\"}, \"showarrow\": false, \"text\": \"\\u4f0a\\u5e03\", \"x\": 2.55, \"xanchor\": \"left\", \"xref\": \"x\", \"y\": 39, \"yref\": \"y\"}, {\"align\": \"left\", \"font\": {\"color\": \"#000000\"}, \"showarrow\": false, \"text\": \"[{'start_timestamp': 1540828800, 'start_local_time': datetime.date(2018, 10, 30), 'end_timestamp': 1541347200, 'end_local_time': datetime.date(2018, 11, 5), 'title': '\\u6838\\u8d26\\u7ba1\\u7406_20181115 - \\u5f00\\u53d1', 'effort': 134400}, {'start_timestamp': 1541952000, 'start_local_time': datetime.date(2018, 11, 12), 'end_timestamp': 1542902400, 'end_local_time': datetime.date(2018, 11, 23), 'title': '\\u6838\\u8d26\\u7ba1\\u7406_201811??\\uff08\\u8b66\\u5907\\u65b0\\u589e\\u9700\\u6c42\\uff09- \\u5f00\\u53d1', 'effort': 268800}]\", \"x\": 3.55, \"xanchor\": \"left\", \"xref\": \"x\", \"y\": 39, \"yref\": \"y\"}, {\"align\": \"left\", \"font\": {\"color\": \"#000000\"}, \"showarrow\": false, \"text\": \"\\u5171\\u4eab\\u4e1a\\u52a1\\u8d28\\u91cf\\u4fdd\\u969c\", \"x\": -0.45, \"xanchor\": \"left\", \"xref\": \"x\", \"y\": 40, \"yref\": \"y\"}, {\"align\": \"left\", \"font\": {\"color\": \"#000000\"}, \"showarrow\": false, \"text\": \"\\u6668\\u516e\", \"x\": 0.55, \"xanchor\": \"left\", \"xref\": \"x\", \"y\": 40, \"yref\": \"y\"}, {\"align\": \"left\", \"font\": {\"color\": \"#000000\"}, \"showarrow\": false, \"text\": \"18\", \"x\": 1.55, \"xanchor\": \"left\", \"xref\": \"x\", \"y\": 40, \"yref\": \"y\"}, {\"align\": \"left\", \"font\": {\"color\": \"#000000\"}, \"showarrow\": false, \"text\": \"\\u6668\\u516e\", \"x\": 2.55, \"xanchor\": \"left\", \"xref\": \"x\", \"y\": 40, \"yref\": \"y\"}, {\"align\": \"left\", \"font\": {\"color\": \"#000000\"}, \"showarrow\": false, \"text\": \"[{'start_timestamp': 1541433600, 'start_local_time': datetime.date(2018, 11, 6), 'end_timestamp': 1541952000, 'end_local_time': datetime.date(2018, 11, 12), 'title': '\\u6838\\u8d26\\u7ba1\\u7406_20181115 - \\u6d4b\\u8bd5', 'effort': 126000}, {'start_timestamp': 1541692800, 'start_local_time': datetime.date(2018, 11, 9), 'end_timestamp': 1542816000, 'end_local_time': datetime.date(2018, 11, 22), 'title': '\\u6536\\u8d39_20181122\\uff08\\u8b66\\u5907\\u9986\\uff09- \\u6d4b\\u8bd5', 'effort': 259200}, {'start_timestamp': 1542902400, 'start_local_time': datetime.date(2018, 11, 23), 'end_timestamp': 1543766400, 'end_local_time': datetime.date(2018, 12, 3), 'title': '\\u6838\\u8d26\\u7ba1\\u7406_201811??\\uff08\\u8b66\\u5907\\u65b0\\u589e\\u9700\\u6c42\\uff09- \\u6d4b\\u8bd5', 'effort': 176400}]\", \"x\": 3.55, \"xanchor\": \"left\", \"xref\": \"x\", \"y\": 40, \"yref\": \"y\"}, {\"align\": \"left\", \"font\": {\"color\": \"#000000\"}, \"showarrow\": false, \"text\": \"\\u5171\\u4eab\\u4e1a\\u52a1\\u8d28\\u91cf\\u4fdd\\u969c\", \"x\": -0.45, \"xanchor\": \"left\", \"xref\": \"x\", \"y\": 41, \"yref\": \"y\"}, {\"align\": \"left\", \"font\": {\"color\": \"#000000\"}, \"showarrow\": false, \"text\": \"\\u6c5f\\u6708\", \"x\": 0.55, \"xanchor\": \"left\", \"xref\": \"x\", \"y\": 41, \"yref\": \"y\"}, {\"align\": \"left\", \"font\": {\"color\": \"#000000\"}, \"showarrow\": false, \"text\": \"9\", \"x\": 1.55, \"xanchor\": \"left\", \"xref\": \"x\", \"y\": 41, \"yref\": \"y\"}, {\"align\": \"left\", \"font\": {\"color\": \"#000000\"}, \"showarrow\": false, \"text\": \"\\u6c5f\\u6708\", \"x\": 2.55, \"xanchor\": \"left\", \"xref\": \"x\", \"y\": 41, \"yref\": \"y\"}, {\"align\": \"left\", \"font\": {\"color\": \"#000000\"}, \"showarrow\": false, \"text\": \"[{'start_timestamp': 1541001600, 'start_local_time': datetime.date(2018, 11, 1), 'end_timestamp': 1541952000, 'end_local_time': datetime.date(2018, 11, 12), 'title': '\\u6a21\\u677f\\u4e2d\\u5fc3_201811??\\uff08\\u6a21\\u677f\\u914d\\u7f6e\\u8de8\\u73af\\u5883\\u540c\\u6b65\\uff09- \\u6d4b\\u8bd5', 'effort': 201600}, {'start_timestamp': 1541001600, 'start_local_time': datetime.date(2018, 11, 1), 'end_timestamp': 1541952000, 'end_local_time': datetime.date(2018, 11, 12), 'title': '\\u6a21\\u677f\\u4e2d\\u5fc3_201811??\\uff08\\u529f\\u80fd\\u8fed\\u4ee3\\u652f\\u6301\\u4f01\\u4e1a\\u8d2d\\u548c\\u9879\\u76ee\\u91c7\\u8d2d\\u65b0\\u9700\\u6c42\\uff09- \\u6d4b\\u8bd5', 'effort': 201600}, {'start_timestamp': 1541433600, 'start_local_time': datetime.date(2018, 11, 6), 'end_timestamp': 1542124800, 'end_local_time': datetime.date(2018, 11, 14), 'title': '\\u5728\\u7ebf\\u652f\\u4ed8_20181105\\uff08\\u6536\\u94f6\\u53f0\\u7b7e\\u7ea6\\u3001\\u519c\\u884c\\u5bf9\\u63a5\\uff09- \\u6d4b\\u8bd5', 'effort': 194400}, {'start_timestamp': 1541865600, 'start_local_time': datetime.date(2018, 11, 11), 'end_timestamp': 1542124800, 'end_local_time': datetime.date(2018, 11, 14), 'title': '\\u5728\\u7ebf\\u652f\\u4ed8_20181129\\uff08\\u4f01\\u4e1a\\u8d2d\\u3001\\u6536\\u8d39\\u63a5\\u5165\\u6536\\u94f6\\u53f0\\uff09- \\u6d4b\\u8bd5', 'effort': 104400}]\", \"x\": 3.55, \"xanchor\": \"left\", \"xref\": \"x\", \"y\": 41, \"yref\": \"y\"}, {\"align\": \"left\", \"font\": {\"color\": \"#000000\"}, \"showarrow\": false, \"text\": \"\\u5171\\u4eab\\u4e1a\\u52a1\\u8d28\\u91cf\\u4fdd\\u969c\", \"x\": -0.45, \"xanchor\": \"left\", \"xref\": \"x\", \"y\": 42, \"yref\": \"y\"}, {\"align\": \"left\", \"font\": {\"color\": \"#000000\"}, \"showarrow\": false, \"text\": \"\\u5c45\\u6613\", \"x\": 0.55, \"xanchor\": \"left\", \"xref\": \"x\", \"y\": 42, \"yref\": \"y\"}, {\"align\": \"left\", \"font\": {\"color\": \"#000000\"}, \"showarrow\": false, \"text\": \"26\", \"x\": 1.55, \"xanchor\": \"left\", \"xref\": \"x\", \"y\": 42, \"yref\": \"y\"}, {\"align\": \"left\", \"font\": {\"color\": \"#000000\"}, \"showarrow\": false, \"text\": \"\\u5c45\\u6613\", \"x\": 2.55, \"xanchor\": \"left\", \"xref\": \"x\", \"y\": 42, \"yref\": \"y\"}, {\"align\": \"left\", \"font\": {\"color\": \"#000000\"}, \"showarrow\": false, \"text\": \"[{'start_timestamp': 1541088000, 'start_local_time': datetime.date(2018, 11, 2), 'end_timestamp': 1541692800, 'end_local_time': datetime.date(2018, 11, 9), 'title': '\\u91c7\\u8d2d\\u8ba1\\u5212_20181031\\uff08\\u652f\\u6301\\u9006\\u5411\\u7ed3\\u7b97API\\uff09- \\u6d4b\\u8bd5', 'effort': 162000}, {'start_timestamp': 1541433600, 'start_local_time': datetime.date(2018, 11, 6), 'end_timestamp': 1542556800, 'end_local_time': datetime.date(2018, 11, 19), 'title': '\\u91c7\\u8d2d\\u8ba1\\u5212_20181102\\uff08CA\\u3001\\u4f18\\u5316\\u9700\\u6c42\\uff09- \\u6d4b\\u8bd5', 'effort': 280800}, {'start_timestamp': 1541865600, 'start_local_time': datetime.date(2018, 11, 11), 'end_timestamp': 1542816000, 'end_local_time': datetime.date(2018, 11, 22), 'title': '\\u91c7\\u8d2d\\u8ba1\\u5212_20181109\\uff08Ocean\\u8fc1\\u79fb\\u7248\\u672c\\uff09- \\u6d4b\\u8bd5', 'effort': 275400}, {'start_timestamp': 1542816000, 'start_local_time': datetime.date(2018, 11, 22), 'end_timestamp': 1543852800, 'end_local_time': datetime.date(2018, 12, 4), 'title': '\\u91c7\\u8d2d\\u8ba1\\u5212_20181121\\uff08\\u91c7\\u8d2d\\u8ba1\\u5212\\u529f\\u80fd\\u8fed\\u4ee3\\u65b0\\u589e\\uff09- \\u6d4b\\u8bd5', 'effort': 241200}, {'start_timestamp': 1544112000, 'start_local_time': datetime.date(2018, 12, 7), 'end_timestamp': 1544544000, 'end_local_time': datetime.date(2018, 12, 12), 'title': '\\u91c7\\u8d2d\\u8ba1\\u5212_20181206\\uff08\\u8fd0\\u8425\\u4f18\\u5316\\u9700\\u6c42\\uff09\\u6d4b\\u8bd5', 'effort': 97200}]\", \"x\": 3.55, \"xanchor\": \"left\", \"xref\": \"x\", \"y\": 42, \"yref\": \"y\"}, {\"align\": \"left\", \"font\": {\"color\": \"#000000\"}, \"showarrow\": false, \"text\": \"\\u5171\\u4eab\\u4e1a\\u52a1\\u8d28\\u91cf\\u4fdd\\u969c\", \"x\": -0.45, \"xanchor\": \"left\", \"xref\": \"x\", \"y\": 43, \"yref\": \"y\"}, {\"align\": \"left\", \"font\": {\"color\": \"#000000\"}, \"showarrow\": false, \"text\": \"\\u65e0\\u989c\", \"x\": 0.55, \"xanchor\": \"left\", \"xref\": \"x\", \"y\": 43, \"yref\": \"y\"}, {\"align\": \"left\", \"font\": {\"color\": \"#000000\"}, \"showarrow\": false, \"text\": \"14\", \"x\": 1.55, \"xanchor\": \"left\", \"xref\": \"x\", \"y\": 43, \"yref\": \"y\"}, {\"align\": \"left\", \"font\": {\"color\": \"#000000\"}, \"showarrow\": false, \"text\": \"\\u65e0\\u989c\", \"x\": 2.55, \"xanchor\": \"left\", \"xref\": \"x\", \"y\": 43, \"yref\": \"y\"}, {\"align\": \"left\", \"font\": {\"color\": \"#000000\"}, \"showarrow\": false, \"text\": \"[{'start_timestamp': 1541692800, 'start_local_time': datetime.date(2018, 11, 9), 'end_timestamp': 1542816000, 'end_local_time': datetime.date(2018, 11, 22), 'title': '\\u6536\\u8d39_20181122\\uff08\\u8b66\\u5907\\u9986\\uff09- \\u6d4b\\u8bd5', 'effort': 259200}, {'start_timestamp': 1543075200, 'start_local_time': datetime.date(2018, 11, 25), 'end_timestamp': 1543507200, 'end_local_time': datetime.date(2018, 11, 30), 'title': '\\u6d4b\\u8bd5', 'effort': 144000}]\", \"x\": 3.55, \"xanchor\": \"left\", \"xref\": \"x\", \"y\": 43, \"yref\": \"y\"}, {\"align\": \"left\", \"font\": {\"color\": \"#000000\"}, \"showarrow\": false, \"text\": \"\\u653f\\u91c7\\u4e91\\u9a7b\\u573a\", \"x\": -0.45, \"xanchor\": \"left\", \"xref\": \"x\", \"y\": 44, \"yref\": \"y\"}, {\"align\": \"left\", \"font\": {\"color\": \"#000000\"}, \"showarrow\": false, \"text\": \"\\u4e3d\\u5a1c\", \"x\": 0.55, \"xanchor\": \"left\", \"xref\": \"x\", \"y\": 44, \"yref\": \"y\"}, {\"align\": \"left\", \"font\": {\"color\": \"#000000\"}, \"showarrow\": false, \"text\": \"20\", \"x\": 1.55, \"xanchor\": \"left\", \"xref\": \"x\", \"y\": 44, \"yref\": \"y\"}, {\"align\": \"left\", \"font\": {\"color\": \"#000000\"}, \"showarrow\": false, \"text\": \"\\u4e3d\\u5a1c\", \"x\": 2.55, \"xanchor\": \"left\", \"xref\": \"x\", \"y\": 44, \"yref\": \"y\"}, {\"align\": \"left\", \"font\": {\"color\": \"#000000\"}, \"showarrow\": false, \"text\": \"[{'start_timestamp': 1541001600, 'start_local_time': datetime.date(2018, 11, 1), 'end_timestamp': 1542038400, 'end_local_time': datetime.date(2018, 11, 13), 'title': '\\u624b\\u5de5\\u5408\\u540c_20181108\\uff08\\u676d\\u5dde\\u5408\\u540c\\u9006\\u5411\\u9700\\u6c42\\uff09 - \\u6d4b\\u8bd5', 'effort': 230400}, {'start_timestamp': 1541347200, 'start_local_time': datetime.date(2018, 11, 5), 'end_timestamp': 1541692800, 'end_local_time': datetime.date(2018, 11, 9), 'title': '\\u7ed3\\u7b97_20181115\\uff08\\u524d\\u7aef\\u7f16\\u8bd1\\u4f18\\u5316\\u3001\\u914d\\u5408\\u7f51\\u8d85\\u8fd0\\u8d39\\u9700\\u6c42\\uff09- \\u6d4b\\u8bd5', 'effort': 115200}, {'start_timestamp': 1541865600, 'start_local_time': datetime.date(2018, 11, 11), 'end_timestamp': 1542816000, 'end_local_time': datetime.date(2018, 11, 22), 'title': '\\u91c7\\u8d2d\\u8ba1\\u5212_20181109\\uff08Ocean\\u8fc1\\u79fb\\u7248\\u672c\\uff09- \\u6d4b\\u8bd5', 'effort': 275400}, {'start_timestamp': 1542816000, 'start_local_time': datetime.date(2018, 11, 22), 'end_timestamp': 1543248000, 'end_local_time': datetime.date(2018, 11, 27), 'title': '\\u7ed3\\u7b97_20181129\\uff08\\u5f00\\u653e\\u5e73\\u53f0ocean \\u8f6ckong API\\u8865\\u5145\\u3001\\u79aa\\u9053\\u4f18\\u5316\\u9700\\u6c42\\uff09- \\u6d4b\\u8bd5', 'effort': 100800}]\", \"x\": 3.55, \"xanchor\": \"left\", \"xref\": \"x\", \"y\": 44, \"yref\": \"y\"}, {\"align\": \"left\", \"font\": {\"color\": \"#000000\"}, \"showarrow\": false, \"text\": \"\\u5171\\u4eab\\u4e1a\\u52a1\\u8d28\\u91cf\\u4fdd\\u969c\", \"x\": -0.45, \"xanchor\": \"left\", \"xref\": \"x\", \"y\": 45, \"yref\": \"y\"}, {\"align\": \"left\", \"font\": {\"color\": \"#000000\"}, \"showarrow\": false, \"text\": \"\\u5723\\u6654\", \"x\": 0.55, \"xanchor\": \"left\", \"xref\": \"x\", \"y\": 45, \"yref\": \"y\"}, {\"align\": \"left\", \"font\": {\"color\": \"#000000\"}, \"showarrow\": false, \"text\": \"18\", \"x\": 1.55, \"xanchor\": \"left\", \"xref\": \"x\", \"y\": 45, \"yref\": \"y\"}, {\"align\": \"left\", \"font\": {\"color\": \"#000000\"}, \"showarrow\": false, \"text\": \"\\u5723\\u6654\", \"x\": 2.55, \"xanchor\": \"left\", \"xref\": \"x\", \"y\": 45, \"yref\": \"y\"}, {\"align\": \"left\", \"font\": {\"color\": \"#000000\"}, \"showarrow\": false, \"text\": \"[{'start_timestamp': 1541433600, 'start_local_time': datetime.date(2018, 11, 6), 'end_timestamp': 1542556800, 'end_local_time': datetime.date(2018, 11, 19), 'title': '\\u91c7\\u8d2d\\u8ba1\\u5212_20181102\\uff08CA\\u3001\\u4f18\\u5316\\u9700\\u6c42\\uff09- \\u6d4b\\u8bd5', 'effort': 280800}, {'start_timestamp': 1542816000, 'start_local_time': datetime.date(2018, 11, 22), 'end_timestamp': 1543852800, 'end_local_time': datetime.date(2018, 12, 4), 'title': '\\u91c7\\u8d2d\\u8ba1\\u5212_20181121\\uff08\\u91c7\\u8d2d\\u8ba1\\u5212\\u529f\\u80fd\\u8fed\\u4ee3\\u65b0\\u589e\\uff09- \\u6d4b\\u8bd5', 'effort': 241200}]\", \"x\": 3.55, \"xanchor\": \"left\", \"xref\": \"x\", \"y\": 45, \"yref\": \"y\"}, {\"align\": \"left\", \"font\": {\"color\": \"#000000\"}, \"showarrow\": false, \"text\": \"\\u5546\\u54c1\\u4e2d\\u5fc3\", \"x\": -0.45, \"xanchor\": \"left\", \"xref\": \"x\", \"y\": 46, \"yref\": \"y\"}, {\"align\": \"left\", \"font\": {\"color\": \"#000000\"}, \"showarrow\": false, \"text\": \"\\u6e0a\\u8679\", \"x\": 0.55, \"xanchor\": \"left\", \"xref\": \"x\", \"y\": 46, \"yref\": \"y\"}, {\"align\": \"left\", \"font\": {\"color\": \"#000000\"}, \"showarrow\": false, \"text\": \"0\", \"x\": 1.55, \"xanchor\": \"left\", \"xref\": \"x\", \"y\": 46, \"yref\": \"y\"}, {\"align\": \"left\", \"font\": {\"color\": \"#000000\"}, \"showarrow\": false, \"text\": \"\\u6e0a\\u8679\", \"x\": 2.55, \"xanchor\": \"left\", \"xref\": \"x\", \"y\": 46, \"yref\": \"y\"}, {\"align\": \"left\", \"font\": {\"color\": \"#000000\"}, \"showarrow\": false, \"text\": \"[]\", \"x\": 3.55, \"xanchor\": \"left\", \"xref\": \"x\", \"y\": 46, \"yref\": \"y\"}, {\"align\": \"left\", \"font\": {\"color\": \"#000000\"}, \"showarrow\": false, \"text\": \"\\u5546\\u54c1\\u4e2d\\u5fc3\", \"x\": -0.45, \"xanchor\": \"left\", \"xref\": \"x\", \"y\": 47, \"yref\": \"y\"}, {\"align\": \"left\", \"font\": {\"color\": \"#000000\"}, \"showarrow\": false, \"text\": \"\\u51c9\\u4e00\", \"x\": 0.55, \"xanchor\": \"left\", \"xref\": \"x\", \"y\": 47, \"yref\": \"y\"}, {\"align\": \"left\", \"font\": {\"color\": \"#000000\"}, \"showarrow\": false, \"text\": \"0\", \"x\": 1.55, \"xanchor\": \"left\", \"xref\": \"x\", \"y\": 47, \"yref\": \"y\"}, {\"align\": \"left\", \"font\": {\"color\": \"#000000\"}, \"showarrow\": false, \"text\": \"\\u51c9\\u4e00\", \"x\": 2.55, \"xanchor\": \"left\", \"xref\": \"x\", \"y\": 47, \"yref\": \"y\"}, {\"align\": \"left\", \"font\": {\"color\": \"#000000\"}, \"showarrow\": false, \"text\": \"[]\", \"x\": 3.55, \"xanchor\": \"left\", \"xref\": \"x\", \"y\": 47, \"yref\": \"y\"}, {\"align\": \"left\", \"font\": {\"color\": \"#000000\"}, \"showarrow\": false, \"text\": \"\\u5546\\u54c1\\u4e2d\\u5fc3\", \"x\": -0.45, \"xanchor\": \"left\", \"xref\": \"x\", \"y\": 48, \"yref\": \"y\"}, {\"align\": \"left\", \"font\": {\"color\": \"#000000\"}, \"showarrow\": false, \"text\": \"\\u5955\\u94ed\", \"x\": 0.55, \"xanchor\": \"left\", \"xref\": \"x\", \"y\": 48, \"yref\": \"y\"}, {\"align\": \"left\", \"font\": {\"color\": \"#000000\"}, \"showarrow\": false, \"text\": \"0\", \"x\": 1.55, \"xanchor\": \"left\", \"xref\": \"x\", \"y\": 48, \"yref\": \"y\"}, {\"align\": \"left\", \"font\": {\"color\": \"#000000\"}, \"showarrow\": false, \"text\": \"\\u5955\\u94ed\", \"x\": 2.55, \"xanchor\": \"left\", \"xref\": \"x\", \"y\": 48, \"yref\": \"y\"}, {\"align\": \"left\", \"font\": {\"color\": \"#000000\"}, \"showarrow\": false, \"text\": \"[]\", \"x\": 3.55, \"xanchor\": \"left\", \"xref\": \"x\", \"y\": 48, \"yref\": \"y\"}, {\"align\": \"left\", \"font\": {\"color\": \"#000000\"}, \"showarrow\": false, \"text\": \"\\u5546\\u54c1\\u4e2d\\u5fc3\", \"x\": -0.45, \"xanchor\": \"left\", \"xref\": \"x\", \"y\": 49, \"yref\": \"y\"}, {\"align\": \"left\", \"font\": {\"color\": \"#000000\"}, \"showarrow\": false, \"text\": \"\\u5927\\u58a8\", \"x\": 0.55, \"xanchor\": \"left\", \"xref\": \"x\", \"y\": 49, \"yref\": \"y\"}, {\"align\": \"left\", \"font\": {\"color\": \"#000000\"}, \"showarrow\": false, \"text\": \"27\", \"x\": 1.55, \"xanchor\": \"left\", \"xref\": \"x\", \"y\": 49, \"yref\": \"y\"}, {\"align\": \"left\", \"font\": {\"color\": \"#000000\"}, \"showarrow\": false, \"text\": \"\\u5927\\u58a8\", \"x\": 2.55, \"xanchor\": \"left\", \"xref\": \"x\", \"y\": 49, \"yref\": \"y\"}, {\"align\": \"left\", \"font\": {\"color\": \"#000000\"}, \"showarrow\": false, \"text\": \"[{'start_timestamp': 1541001600, 'start_local_time': datetime.date(2018, 11, 1), 'end_timestamp': 1541088000, 'end_local_time': datetime.date(2018, 11, 2), 'title': '\\u9884\\u8b66\\u7b49\\u7ea7\\u5347\\u7ea7\\u4ee3\\u7801\\u903b\\u8f91\\u53d8\\u66f4', 'effort': 28800}, {'start_timestamp': 1541001600, 'start_local_time': datetime.date(2018, 11, 1), 'end_timestamp': 1541088000, 'end_local_time': datetime.date(2018, 11, 2), 'title': '\\u9884\\u8b66\\u63a5\\u53e3\\u7684\\u9ad8\\u5e76\\u53d1\\u573a\\u666f\\u7528\\u4f8b\\u7f16\\u5199\\u53ca\\u6d4b\\u8bd5', 'effort': 36900}, {'start_timestamp': 1541001600, 'start_local_time': datetime.date(2018, 11, 1), 'end_timestamp': 1541088000, 'end_local_time': datetime.date(2018, 11, 2), 'title': '\\u603b\\u89c8\\u754c\\u9762\\u8054\\u8c03', 'effort': 28800}, {'start_timestamp': 1541088000, 'start_local_time': datetime.date(2018, 11, 2), 'end_timestamp': 1541347200, 'end_local_time': datetime.date(2018, 11, 5), 'title': '\\u5192\\u70df\\u7528\\u4f8b', 'effort': 28800}, {'start_timestamp': 1541347200, 'start_local_time': datetime.date(2018, 11, 5), 'end_timestamp': 1541520000, 'end_local_time': datetime.date(2018, 11, 7), 'title': '\\u9884\\u8b664.2 \\u6d4b\\u8bd5\\u95ee\\u9898\\u8ddf\\u8e2a', 'effort': 57600}, {'start_timestamp': 1541520000, 'start_local_time': datetime.date(2018, 11, 7), 'end_timestamp': 1542297600, 'end_local_time': datetime.date(2018, 11, 16), 'title': '\\u8bda\\u4fe1\\u5956\\u60e9\\u5de5\\u4f5c\\u53f0\\u5bf9\\u63a5\\u624b\\u52a8\\u9884\\u8b66', 'effort': 216000}, {'start_timestamp': 1541520000, 'start_local_time': datetime.date(2018, 11, 7), 'end_timestamp': 1541692800, 'end_local_time': datetime.date(2018, 11, 9), 'title': '\\u9884\\u8b66\\u901a\\u77e5\\u8bda\\u4fe1\\u7b49\\u7ea7\\u5347\\u7ea7\\u673a\\u5236', 'effort': 57600}, {'start_timestamp': 1541606400, 'start_local_time': datetime.date(2018, 11, 8), 'end_timestamp': 1542211200, 'end_local_time': datetime.date(2018, 11, 15), 'title': '\\u5bf9\\u63a5\\u65b9\\u6848\\u5b9e\\u65bd', 'effort': 144000}, {'start_timestamp': 1542038400, 'start_local_time': datetime.date(2018, 11, 13), 'end_timestamp': 1542038400, 'end_local_time': datetime.date(2018, 11, 13), 'title': '\\u771f\\u7ebf\\u83dc\\u5355\\u6743\\u9650\\u3001\\u89d2\\u8272\\u6811\\u914d\\u7f6e', 'effort': 14400}, {'start_timestamp': 1542124800, 'start_local_time': datetime.date(2018, 11, 14), 'end_timestamp': 1542729600, 'end_local_time': datetime.date(2018, 11, 21), 'title': '\\u5ef6\\u65f6\\u961f\\u5217\\u9884\\u5b9a\\u65f6\\u957f\\u8bbe\\u7f6e\\u65e0\\u4e0a\\u9650', 'effort': 144000}, {'start_timestamp': 1542124800, 'start_local_time': datetime.date(2018, 11, 14), 'end_timestamp': 1542556800, 'end_local_time': datetime.date(2018, 11, 19), 'title': '\\u96c6\\u6210\\u6d4b\\u8bd5\\u53ca\\u95ee\\u9898\\u8ddf\\u8e2a', 'effort': 86400}, {'start_timestamp': 1542643200, 'start_local_time': datetime.date(2018, 11, 20), 'end_timestamp': 1543766400, 'end_local_time': datetime.date(2018, 12, 3), 'title': '\\u4f9b\\u5e94\\u5546\\u4e32\\u6807\\u6316\\u6398', 'effort': 259200}, {'start_timestamp': 1542643200, 'start_local_time': datetime.date(2018, 11, 20), 'end_timestamp': 1543766400, 'end_local_time': datetime.date(2018, 12, 3), 'title': '\\u4f9b\\u5e94\\u5546\\u53ca\\u91c7\\u8d2d\\u4eba\\u5173\\u7cfb\\u56fe\\u8c31', 'effort': 259200}, {'start_timestamp': 1542643200, 'start_local_time': datetime.date(2018, 11, 20), 'end_timestamp': 1542729600, 'end_local_time': datetime.date(2018, 11, 21), 'title': '\\u5bf9\\u63a5\\u65b9\\u6848\\u8ba8\\u8bba', 'effort': 28800}, {'start_timestamp': 1542729600, 'start_local_time': datetime.date(2018, 11, 21), 'end_timestamp': 1543334400, 'end_local_time': datetime.date(2018, 11, 28), 'title': '\\u5bf9\\u63a5\\u5b9e\\u65bd', 'effort': 144000}, {'start_timestamp': 1543334400, 'start_local_time': datetime.date(2018, 11, 28), 'end_timestamp': 1543507200, 'end_local_time': datetime.date(2018, 11, 30), 'title': '\\u95ee\\u9898\\u8ddf\\u8e2a', 'effort': 57600}]\", \"x\": 3.55, \"xanchor\": \"left\", \"xref\": \"x\", \"y\": 49, \"yref\": \"y\"}, {\"align\": \"left\", \"font\": {\"color\": \"#000000\"}, \"showarrow\": false, \"text\": \"\\u5546\\u54c1\\u4e2d\\u5fc3\", \"x\": -0.45, \"xanchor\": \"left\", \"xref\": \"x\", \"y\": 50, \"yref\": \"y\"}, {\"align\": \"left\", \"font\": {\"color\": \"#000000\"}, \"showarrow\": false, \"text\": \"\\u9e7f\\u9e23\", \"x\": 0.55, \"xanchor\": \"left\", \"xref\": \"x\", \"y\": 50, \"yref\": \"y\"}, {\"align\": \"left\", \"font\": {\"color\": \"#000000\"}, \"showarrow\": false, \"text\": \"26\", \"x\": 1.55, \"xanchor\": \"left\", \"xref\": \"x\", \"y\": 50, \"yref\": \"y\"}, {\"align\": \"left\", \"font\": {\"color\": \"#000000\"}, \"showarrow\": false, \"text\": \"\\u9e7f\\u9e23\", \"x\": 2.55, \"xanchor\": \"left\", \"xref\": \"x\", \"y\": 50, \"yref\": \"y\"}, {\"align\": \"left\", \"font\": {\"color\": \"#000000\"}, \"showarrow\": false, \"text\": \"[{'start_timestamp': 1541001600, 'start_local_time': datetime.date(2018, 11, 1), 'end_timestamp': 1541088000, 'end_local_time': datetime.date(2018, 11, 2), 'title': '\\u653f\\u7b56\\u6cd5\\u5f8b\\u6cd5\\u89c4\\u754c\\u9762\\u8054\\u8c03', 'effort': 28800}, {'start_timestamp': 1541001600, 'start_local_time': datetime.date(2018, 11, 1), 'end_timestamp': 1541088000, 'end_local_time': datetime.date(2018, 11, 2), 'title': '\\u8fdd\\u6cd5\\u8fdd\\u89c4\\u884c\\u4e3a\\u7ba1\\u7406\\u754c\\u9762\\u8054\\u8c03', 'effort': 28800}, {'start_timestamp': 1541088000, 'start_local_time': datetime.date(2018, 11, 2), 'end_timestamp': 1541347200, 'end_local_time': datetime.date(2018, 11, 5), 'title': '\\u5192\\u70df\\u7528\\u4f8b', 'effort': 28800}, {'start_timestamp': 1541347200, 'start_local_time': datetime.date(2018, 11, 5), 'end_timestamp': 1541520000, 'end_local_time': datetime.date(2018, 11, 7), 'title': '\\u9884\\u8b664.2 \\u6d4b\\u8bd5\\u95ee\\u9898\\u8ddf\\u8e2a', 'effort': 57600}, {'start_timestamp': 1541520000, 'start_local_time': datetime.date(2018, 11, 7), 'end_timestamp': 1542297600, 'end_local_time': datetime.date(2018, 11, 16), 'title': '\\u8bda\\u4fe1\\u5956\\u60e9\\u5de5\\u4f5c\\u53f0\\u5bf9\\u63a5\\u624b\\u52a8\\u9884\\u8b66', 'effort': 216000}, {'start_timestamp': 1541520000, 'start_local_time': datetime.date(2018, 11, 7), 'end_timestamp': 1541692800, 'end_local_time': datetime.date(2018, 11, 9), 'title': '\\u660e\\u786e\\u5bf9\\u63a5\\u65b9\\u6848\\u8ba8\\u8bba', 'effort': 57600}, {'start_timestamp': 1541606400, 'start_local_time': datetime.date(2018, 11, 8), 'end_timestamp': 1541952000, 'end_local_time': datetime.date(2018, 11, 12), 'title': '\\u9879\\u76ee\\u91c7\\u8d2d\\u5bf9\\u63a5\\u81ea\\u5b9a\\u4e49\\u9884\\u8b66\\u65b9\\u6848\\u8ba8\\u8bba', 'effort': 57600}, {'start_timestamp': 1541952000, 'start_local_time': datetime.date(2018, 11, 12), 'end_timestamp': 1542556800, 'end_local_time': datetime.date(2018, 11, 19), 'title': '\\u9879\\u76ee\\u91c7\\u8d2d\\u6392\\u540d\\u9884\\u8b66\\u5bf9\\u63a5\\u9884\\u8b66\\u5b9e\\u65bd', 'effort': 144000}, {'start_timestamp': 1542038400, 'start_local_time': datetime.date(2018, 11, 13), 'end_timestamp': 1542038400, 'end_local_time': datetime.date(2018, 11, 13), 'title': '\\u771f\\u7ebf\\u83dc\\u5355\\u6743\\u9650\\u3001\\u89d2\\u8272\\u6811\\u914d\\u7f6e', 'effort': 14400}, {'start_timestamp': 1542556800, 'start_local_time': datetime.date(2018, 11, 19), 'end_timestamp': 1542729600, 'end_local_time': datetime.date(2018, 11, 21), 'title': '\\u8054\\u8c03\\u53ca\\u95ee\\u9898\\u8ddf\\u8e2a', 'effort': 57600}, {'start_timestamp': 1542643200, 'start_local_time': datetime.date(2018, 11, 20), 'end_timestamp': 1543766400, 'end_local_time': datetime.date(2018, 12, 3), 'title': '\\u4f9b\\u5e94\\u5546\\u4e32\\u6807\\u6316\\u6398', 'effort': 259200}, {'start_timestamp': 1542643200, 'start_local_time': datetime.date(2018, 11, 20), 'end_timestamp': 1543766400, 'end_local_time': datetime.date(2018, 12, 3), 'title': '\\u4f9b\\u5e94\\u5546\\u53ca\\u91c7\\u8d2d\\u4eba\\u5173\\u7cfb\\u56fe\\u8c31', 'effort': 259200}]\", \"x\": 3.55, \"xanchor\": \"left\", \"xref\": \"x\", \"y\": 50, \"yref\": \"y\"}, {\"align\": \"left\", \"font\": {\"color\": \"#000000\"}, \"showarrow\": false, \"text\": \"\\u5546\\u54c1\\u4e2d\\u5fc3\", \"x\": -0.45, \"xanchor\": \"left\", \"xref\": \"x\", \"y\": 51, \"yref\": \"y\"}, {\"align\": \"left\", \"font\": {\"color\": \"#000000\"}, \"showarrow\": false, \"text\": \"\\u71a0\\u7136\", \"x\": 0.55, \"xanchor\": \"left\", \"xref\": \"x\", \"y\": 51, \"yref\": \"y\"}, {\"align\": \"left\", \"font\": {\"color\": \"#000000\"}, \"showarrow\": false, \"text\": \"10\", \"x\": 1.55, \"xanchor\": \"left\", \"xref\": \"x\", \"y\": 51, \"yref\": \"y\"}, {\"align\": \"left\", \"font\": {\"color\": \"#000000\"}, \"showarrow\": false, \"text\": \"\\u71a0\\u7136\", \"x\": 2.55, \"xanchor\": \"left\", \"xref\": \"x\", \"y\": 51, \"yref\": \"y\"}, {\"align\": \"left\", \"font\": {\"color\": \"#000000\"}, \"showarrow\": false, \"text\": \"[{'start_timestamp': 1541001600, 'start_local_time': datetime.date(2018, 11, 1), 'end_timestamp': 1542211200, 'end_local_time': datetime.date(2018, 11, 15), 'title': '\\u5956\\u60e9\\u5de5\\u4f5c\\u53f0\\u3001\\u6848\\u4f8b\\u4e8b\\u4ef6\\u7814\\u53d1', 'effort': 288000}, {'start_timestamp': 1541001600, 'start_local_time': datetime.date(2018, 11, 1), 'end_timestamp': 1541433600, 'end_local_time': datetime.date(2018, 11, 6), 'title': '\\u7533\\u8bc9\\u53d1\\u5e03\\u610f\\u89c1\\u529f\\u80fd\\u8c03\\u6574\\uff0c\\u589e\\u52a0\\u77ed\\u4fe1\\u63d0\\u9192\\u7814\\u53d1', 'effort': 86400}, {'start_timestamp': 1541001600, 'start_local_time': datetime.date(2018, 11, 1), 'end_timestamp': 1541347200, 'end_local_time': datetime.date(2018, 11, 5), 'title': '\\u9884\\u8b66\\u5347\\u7ea7\\u6216\\u64a4\\u9500\\u9006\\u5411\\u4e8b\\u4ef6\\u6e05\\u7406\\u7814\\u53d1', 'effort': 57600}, {'start_timestamp': 1541001600, 'start_local_time': datetime.date(2018, 11, 1), 'end_timestamp': 1541088000, 'end_local_time': datetime.date(2018, 11, 2), 'title': '\\u5956\\u60e9\\u65e5\\u5fd7\\u5bf9\\u63a5\\u9884\\u8b66\\u7814\\u53d1', 'effort': 28800}]\", \"x\": 3.55, \"xanchor\": \"left\", \"xref\": \"x\", \"y\": 51, \"yref\": \"y\"}, {\"align\": \"left\", \"font\": {\"color\": \"#000000\"}, \"showarrow\": false, \"text\": \"\\u5546\\u54c1\\u4e2d\\u5fc3\", \"x\": -0.45, \"xanchor\": \"left\", \"xref\": \"x\", \"y\": 52, \"yref\": \"y\"}, {\"align\": \"left\", \"font\": {\"color\": \"#000000\"}, \"showarrow\": false, \"text\": \"\\u661f\\u6cb3\", \"x\": 0.55, \"xanchor\": \"left\", \"xref\": \"x\", \"y\": 52, \"yref\": \"y\"}, {\"align\": \"left\", \"font\": {\"color\": \"#000000\"}, \"showarrow\": false, \"text\": \"10\", \"x\": 1.55, \"xanchor\": \"left\", \"xref\": \"x\", \"y\": 52, \"yref\": \"y\"}, {\"align\": \"left\", \"font\": {\"color\": \"#000000\"}, \"showarrow\": false, \"text\": \"\\u661f\\u6cb3\", \"x\": 2.55, \"xanchor\": \"left\", \"xref\": \"x\", \"y\": 52, \"yref\": \"y\"}, {\"align\": \"left\", \"font\": {\"color\": \"#000000\"}, \"showarrow\": false, \"text\": \"[{'start_timestamp': 1541001600, 'start_local_time': datetime.date(2018, 11, 1), 'end_timestamp': 1542211200, 'end_local_time': datetime.date(2018, 11, 15), 'title': '\\u8bda\\u4fe1\\u6863\\u6848\\u8c03\\u6574\\u3001\\u7528\\u6237\\u753b\\u50cf\\u8c03\\u6574\\u7814\\u53d1', 'effort': 288000}, {'start_timestamp': 1541001600, 'start_local_time': datetime.date(2018, 11, 1), 'end_timestamp': 1541606400, 'end_local_time': datetime.date(2018, 11, 8), 'title': '\\u6848\\u4f8b\\u4e8b\\u4ef6\\u5bf9\\u63a5\\u9884\\u8b66\\u7814\\u53d1', 'effort': 144000}]\", \"x\": 3.55, \"xanchor\": \"left\", \"xref\": \"x\", \"y\": 52, \"yref\": \"y\"}, {\"align\": \"left\", \"font\": {\"color\": \"#000000\"}, \"showarrow\": false, \"text\": \"\\u5171\\u4eab\\u524d\\u7aef\", \"x\": -0.45, \"xanchor\": \"left\", \"xref\": \"x\", \"y\": 53, \"yref\": \"y\"}, {\"align\": \"left\", \"font\": {\"color\": \"#000000\"}, \"showarrow\": false, \"text\": \"\\u5b50\\u6728\", \"x\": 0.55, \"xanchor\": \"left\", \"xref\": \"x\", \"y\": 53, \"yref\": \"y\"}, {\"align\": \"left\", \"font\": {\"color\": \"#000000\"}, \"showarrow\": false, \"text\": \"0\", \"x\": 1.55, \"xanchor\": \"left\", \"xref\": \"x\", \"y\": 53, \"yref\": \"y\"}, {\"align\": \"left\", \"font\": {\"color\": \"#000000\"}, \"showarrow\": false, \"text\": \"\\u5b50\\u6728\", \"x\": 2.55, \"xanchor\": \"left\", \"xref\": \"x\", \"y\": 53, \"yref\": \"y\"}, {\"align\": \"left\", \"font\": {\"color\": \"#000000\"}, \"showarrow\": false, \"text\": \"[]\", \"x\": 3.55, \"xanchor\": \"left\", \"xref\": \"x\", \"y\": 53, \"yref\": \"y\"}, {\"align\": \"left\", \"font\": {\"color\": \"#000000\"}, \"showarrow\": false, \"text\": \"\\u5171\\u4eab\\u524d\\u7aef\", \"x\": -0.45, \"xanchor\": \"left\", \"xref\": \"x\", \"y\": 54, \"yref\": \"y\"}, {\"align\": \"left\", \"font\": {\"color\": \"#000000\"}, \"showarrow\": false, \"text\": \"\\u9a6c\\u98de\", \"x\": 0.55, \"xanchor\": \"left\", \"xref\": \"x\", \"y\": 54, \"yref\": \"y\"}, {\"align\": \"left\", \"font\": {\"color\": \"#000000\"}, \"showarrow\": false, \"text\": \"11\", \"x\": 1.55, \"xanchor\": \"left\", \"xref\": \"x\", \"y\": 54, \"yref\": \"y\"}, {\"align\": \"left\", \"font\": {\"color\": \"#000000\"}, \"showarrow\": false, \"text\": \"\\u9a6c\\u98de\", \"x\": 2.55, \"xanchor\": \"left\", \"xref\": \"x\", \"y\": 54, \"yref\": \"y\"}, {\"align\": \"left\", \"font\": {\"color\": \"#000000\"}, \"showarrow\": false, \"text\": \"[{'start_timestamp': 1541001600, 'start_local_time': datetime.date(2018, 11, 1), 'end_timestamp': 1541088000, 'end_local_time': datetime.date(2018, 11, 2), 'title': '\\u653f\\u7b56\\u6cd5\\u5f8b\\u6cd5\\u89c4\\u754c\\u9762\\u8054\\u8c03', 'effort': 28800}, {'start_timestamp': 1541001600, 'start_local_time': datetime.date(2018, 11, 1), 'end_timestamp': 1541088000, 'end_local_time': datetime.date(2018, 11, 2), 'title': '\\u603b\\u89c8\\u754c\\u9762\\u8054\\u8c03', 'effort': 28800}, {'start_timestamp': 1541001600, 'start_local_time': datetime.date(2018, 11, 1), 'end_timestamp': 1541088000, 'end_local_time': datetime.date(2018, 11, 2), 'title': '\\u8fdd\\u6cd5\\u8fdd\\u89c4\\u884c\\u4e3a\\u7ba1\\u7406\\u754c\\u9762\\u8054\\u8c03', 'effort': 28800}, {'start_timestamp': 1541088000, 'start_local_time': datetime.date(2018, 11, 2), 'end_timestamp': 1541347200, 'end_local_time': datetime.date(2018, 11, 5), 'title': '\\u5192\\u70df\\u7528\\u4f8b', 'effort': 28800}, {'start_timestamp': 1541347200, 'start_local_time': datetime.date(2018, 11, 5), 'end_timestamp': 1541520000, 'end_local_time': datetime.date(2018, 11, 7), 'title': '\\u9884\\u8b664.2 \\u6d4b\\u8bd5\\u95ee\\u9898\\u8ddf\\u8e2a', 'effort': 57600}, {'start_timestamp': 1541520000, 'start_local_time': datetime.date(2018, 11, 7), 'end_timestamp': 1542124800, 'end_local_time': datetime.date(2018, 11, 14), 'title': '\\u89c4\\u5219\\u5e93\\u7ec4\\u4ef6\\u5316', 'effort': 144000}, {'start_timestamp': 1542297600, 'start_local_time': datetime.date(2018, 11, 16), 'end_timestamp': 1542643200, 'end_local_time': datetime.date(2018, 11, 20), 'title': '\\u6548\\u80fd\\u9884\\u8b66\\u89c4\\u5219\\u914d\\u7f6e\\u754c\\u9762\\u8c03\\u6574', 'effort': 57600}]\", \"x\": 3.55, \"xanchor\": \"left\", \"xref\": \"x\", \"y\": 54, \"yref\": \"y\"}, {\"align\": \"left\", \"font\": {\"color\": \"#000000\"}, \"showarrow\": false, \"text\": \"\\u5171\\u4eab\\u524d\\u7aef\", \"x\": -0.45, \"xanchor\": \"left\", \"xref\": \"x\", \"y\": 55, \"yref\": \"y\"}, {\"align\": \"left\", \"font\": {\"color\": \"#000000\"}, \"showarrow\": false, \"text\": \"\\u6d77\\u79cb\", \"x\": 0.55, \"xanchor\": \"left\", \"xref\": \"x\", \"y\": 55, \"yref\": \"y\"}, {\"align\": \"left\", \"font\": {\"color\": \"#000000\"}, \"showarrow\": false, \"text\": \"5\", \"x\": 1.55, \"xanchor\": \"left\", \"xref\": \"x\", \"y\": 55, \"yref\": \"y\"}, {\"align\": \"left\", \"font\": {\"color\": \"#000000\"}, \"showarrow\": false, \"text\": \"\\u6d77\\u79cb\", \"x\": 2.55, \"xanchor\": \"left\", \"xref\": \"x\", \"y\": 55, \"yref\": \"y\"}, {\"align\": \"left\", \"font\": {\"color\": \"#000000\"}, \"showarrow\": false, \"text\": \"[{'start_timestamp': 1541001600, 'start_local_time': datetime.date(2018, 11, 1), 'end_timestamp': 1541606400, 'end_local_time': datetime.date(2018, 11, 8), 'title': '\\u6848\\u4f8b\\u4e8b\\u4ef6\\u5bf9\\u63a5\\u5904\\u7f5a\\u7814\\u53d1', 'effort': 144000}, {'start_timestamp': 1541001600, 'start_local_time': datetime.date(2018, 11, 1), 'end_timestamp': 1541520000, 'end_local_time': datetime.date(2018, 11, 7), 'title': '\\u8bc4\\u4ef7\\u4e09\\u671f\\uff1a\\u7f51\\u8d85\\u5b9a\\u5236\\u529f\\u80fd\\u7814\\u53d1', 'effort': 115200}, {'start_timestamp': 1541001600, 'start_local_time': datetime.date(2018, 11, 1), 'end_timestamp': 1541088000, 'end_local_time': datetime.date(2018, 11, 2), 'title': '\\u5956\\u60e9\\u65e5\\u5fd7\\u5bf9\\u63a5\\u9884\\u8b66\\u7814\\u53d1', 'effort': 28800}]\", \"x\": 3.55, \"xanchor\": \"left\", \"xref\": \"x\", \"y\": 55, \"yref\": \"y\"}, {\"align\": \"left\", \"font\": {\"color\": \"#000000\"}, \"showarrow\": false, \"text\": \"\\u5171\\u4eab\\u4e1a\\u52a1\\u8d28\\u91cf\\u4fdd\\u969c\", \"x\": -0.45, \"xanchor\": \"left\", \"xref\": \"x\", \"y\": 56, \"yref\": \"y\"}, {\"align\": \"left\", \"font\": {\"color\": \"#000000\"}, \"showarrow\": false, \"text\": \"\\u4e00\\u5f26\", \"x\": 0.55, \"xanchor\": \"left\", \"xref\": \"x\", \"y\": 56, \"yref\": \"y\"}, {\"align\": \"left\", \"font\": {\"color\": \"#000000\"}, \"showarrow\": false, \"text\": \"0\", \"x\": 1.55, \"xanchor\": \"left\", \"xref\": \"x\", \"y\": 56, \"yref\": \"y\"}, {\"align\": \"left\", \"font\": {\"color\": \"#000000\"}, \"showarrow\": false, \"text\": \"\\u4e00\\u5f26\", \"x\": 2.55, \"xanchor\": \"left\", \"xref\": \"x\", \"y\": 56, \"yref\": \"y\"}, {\"align\": \"left\", \"font\": {\"color\": \"#000000\"}, \"showarrow\": false, \"text\": \"[]\", \"x\": 3.55, \"xanchor\": \"left\", \"xref\": \"x\", \"y\": 56, \"yref\": \"y\"}], \"height\": 1760, \"margin\": {\"b\": 0, \"l\": 0, \"r\": 0, \"t\": 0}, \"xaxis\": {\"dtick\": 1, \"gridwidth\": 2, \"showticklabels\": false, \"tick0\": -0.5, \"ticks\": \"\", \"zeroline\": false}, \"yaxis\": {\"autorange\": \"reversed\", \"dtick\": 1, \"gridwidth\": 2, \"showticklabels\": false, \"tick0\": 0.5, \"ticks\": \"\", \"zeroline\": false}}, {\"showLink\": true, \"linkText\": \"Export to plot.ly\"})});</script><script type=\"text/javascript\">window.addEventListener(\"resize\", function(){window._Plotly.Plots.resize(document.getElementById(\"088f7919-2a4d-4c9c-8fda-a44b8028867a\"));});</script>"
      ]
     },
     "metadata": {},
     "output_type": "display_data"
    }
   ],
   "source": [
    "table = ff.create_table(d)\n",
    "py.iplot(table)"
   ]
  },
  {
   "cell_type": "code",
   "execution_count": 10,
   "metadata": {},
   "outputs": [
    {
     "data": {
      "text/plain": [
       "(56, 5)"
      ]
     },
     "execution_count": 10,
     "metadata": {},
     "output_type": "execute_result"
    }
   ],
   "source": [
    "d.shape"
   ]
  },
  {
   "cell_type": "markdown",
   "metadata": {},
   "source": [
    "共有56位员工信息，每位员工保存有姓名、部门、工时等6个字段信息"
   ]
  },
  {
   "cell_type": "code",
   "execution_count": 11,
   "metadata": {},
   "outputs": [
    {
     "data": {
      "text/plain": [
       "['电子卖场1',\n",
       " '平台运营',\n",
       " '计划管理',\n",
       " '交易载体',\n",
       " '支付结算',\n",
       " '共享前端',\n",
       " '财政管理',\n",
       " '共享业务质量保障',\n",
       " '政采云驻场',\n",
       " '商品中心']"
      ]
     },
     "execution_count": 11,
     "metadata": {},
     "output_type": "execute_result"
    }
   ],
   "source": [
    "d['department'].unique().tolist()"
   ]
  },
  {
   "cell_type": "markdown",
   "metadata": {},
   "source": [
    "56位员工来自以上10个部门"
   ]
  },
  {
   "cell_type": "code",
   "execution_count": 12,
   "metadata": {},
   "outputs": [
    {
     "data": {
      "text/plain": [
       "18.178571428571427"
      ]
     },
     "execution_count": 12,
     "metadata": {},
     "output_type": "execute_result"
    }
   ],
   "source": [
    "d['effort'].mean()"
   ]
  },
  {
   "cell_type": "markdown",
   "metadata": {},
   "source": [
    "56位员工的平均工时为18天/月"
   ]
  },
  {
   "cell_type": "code",
   "execution_count": 13,
   "metadata": {},
   "outputs": [
    {
     "data": {
      "text/plain": [
       "['虫二', '泽溥', '灰谷', '渊虹', '凉一', '奕铭', '子木', '一弦']"
      ]
     },
     "execution_count": 13,
     "metadata": {},
     "output_type": "execute_result"
    }
   ],
   "source": [
    "d['displayName'][d['effort'] == 0].tolist()"
   ]
  },
  {
   "cell_type": "markdown",
   "metadata": {},
   "source": [
    "其中有以上8位员工的工时为0"
   ]
  },
  {
   "cell_type": "code",
   "execution_count": 14,
   "metadata": {
    "scrolled": true
   },
   "outputs": [
    {
     "data": {
      "text/plain": [
       "21.208333333333332"
      ]
     },
     "execution_count": 14,
     "metadata": {},
     "output_type": "execute_result"
    }
   ],
   "source": [
    "d['effort'][d['effort'] != 0].mean()"
   ]
  },
  {
   "cell_type": "markdown",
   "metadata": {},
   "source": [
    "剔除工时为0的员工后，剩下员工的平均工时为21天/月"
   ]
  },
  {
   "cell_type": "markdown",
   "metadata": {},
   "source": [
    "## 3. 数据分析与可视化"
   ]
  },
  {
   "cell_type": "markdown",
   "metadata": {},
   "source": [
    "### 3.1 员工工时分析"
   ]
  },
  {
   "cell_type": "code",
   "execution_count": 15,
   "metadata": {},
   "outputs": [
    {
     "data": {
      "application/vnd.plotly.v1+json": {
       "data": [
        {
         "marker": {
          "color": "#EB89B5"
         },
         "opacity": 0.7,
         "type": "histogram",
         "uid": "41c3c562-ec10-4a94-a878-2163b9ccc237",
         "x": [
          31,
          13,
          13,
          31,
          22,
          0,
          10,
          10,
          0,
          37,
          20,
          0,
          19,
          20,
          11,
          19,
          16,
          37,
          13,
          31,
          27,
          25,
          9,
          35,
          21,
          12,
          35,
          35,
          28,
          37,
          27,
          26,
          18,
          31,
          31,
          12,
          24,
          24,
          14,
          18,
          9,
          26,
          14,
          20,
          18,
          0,
          0,
          0,
          27,
          26,
          10,
          10,
          0,
          11,
          5,
          0
         ]
        }
       ],
       "layout": {
        "bargap": 0.1,
        "bargroupgap": 0.1,
        "title": "员工工时分布直方图",
        "xaxis": {
         "title": "工时"
        },
        "yaxis": {
         "title": "计数"
        }
       }
      },
      "text/html": [
       "<div id=\"47484bc9-1387-4bf5-af9f-8c178ad54a19\" style=\"height: 525px; width: 100%;\" class=\"plotly-graph-div\"></div><script type=\"text/javascript\">require([\"plotly\"], function(Plotly) { window.PLOTLYENV=window.PLOTLYENV || {};window.PLOTLYENV.BASE_URL=\"https://plot.ly\";Plotly.newPlot(\"47484bc9-1387-4bf5-af9f-8c178ad54a19\", [{\"marker\": {\"color\": \"#EB89B5\"}, \"opacity\": 0.7, \"x\": [31, 13, 13, 31, 22, 0, 10, 10, 0, 37, 20, 0, 19, 20, 11, 19, 16, 37, 13, 31, 27, 25, 9, 35, 21, 12, 35, 35, 28, 37, 27, 26, 18, 31, 31, 12, 24, 24, 14, 18, 9, 26, 14, 20, 18, 0, 0, 0, 27, 26, 10, 10, 0, 11, 5, 0], \"type\": \"histogram\", \"uid\": \"41c3c562-ec10-4a94-a878-2163b9ccc237\"}], {\"bargap\": 0.1, \"bargroupgap\": 0.1, \"title\": \"\\u5458\\u5de5\\u5de5\\u65f6\\u5206\\u5e03\\u76f4\\u65b9\\u56fe\", \"xaxis\": {\"title\": \"\\u5de5\\u65f6\"}, \"yaxis\": {\"title\": \"\\u8ba1\\u6570\"}}, {\"showLink\": true, \"linkText\": \"Export to plot.ly\"})});</script><script type=\"text/javascript\">window.addEventListener(\"resize\", function(){window._Plotly.Plots.resize(document.getElementById(\"47484bc9-1387-4bf5-af9f-8c178ad54a19\"));});</script>"
      ],
      "text/vnd.plotly.v1+html": [
       "<div id=\"47484bc9-1387-4bf5-af9f-8c178ad54a19\" style=\"height: 525px; width: 100%;\" class=\"plotly-graph-div\"></div><script type=\"text/javascript\">require([\"plotly\"], function(Plotly) { window.PLOTLYENV=window.PLOTLYENV || {};window.PLOTLYENV.BASE_URL=\"https://plot.ly\";Plotly.newPlot(\"47484bc9-1387-4bf5-af9f-8c178ad54a19\", [{\"marker\": {\"color\": \"#EB89B5\"}, \"opacity\": 0.7, \"x\": [31, 13, 13, 31, 22, 0, 10, 10, 0, 37, 20, 0, 19, 20, 11, 19, 16, 37, 13, 31, 27, 25, 9, 35, 21, 12, 35, 35, 28, 37, 27, 26, 18, 31, 31, 12, 24, 24, 14, 18, 9, 26, 14, 20, 18, 0, 0, 0, 27, 26, 10, 10, 0, 11, 5, 0], \"type\": \"histogram\", \"uid\": \"41c3c562-ec10-4a94-a878-2163b9ccc237\"}], {\"bargap\": 0.1, \"bargroupgap\": 0.1, \"title\": \"\\u5458\\u5de5\\u5de5\\u65f6\\u5206\\u5e03\\u76f4\\u65b9\\u56fe\", \"xaxis\": {\"title\": \"\\u5de5\\u65f6\"}, \"yaxis\": {\"title\": \"\\u8ba1\\u6570\"}}, {\"showLink\": true, \"linkText\": \"Export to plot.ly\"})});</script><script type=\"text/javascript\">window.addEventListener(\"resize\", function(){window._Plotly.Plots.resize(document.getElementById(\"47484bc9-1387-4bf5-af9f-8c178ad54a19\"));});</script>"
      ]
     },
     "metadata": {},
     "output_type": "display_data"
    }
   ],
   "source": [
    "data = [Histogram(\n",
    "    x = d['effort'],\n",
    "    #histnorm='probability',\n",
    "    marker = dict(\n",
    "        color = '#EB89B5'\n",
    "    ),\n",
    "    opacity = 0.7\n",
    ")]\n",
    "\n",
    "layout = Layout(\n",
    "    title = '员工工时分布直方图',\n",
    "    xaxis=dict(\n",
    "        title='工时'\n",
    "    ),\n",
    "    yaxis=dict(\n",
    "        title='计数'\n",
    "    ),\n",
    "    bargap=0.1,\n",
    "    bargroupgap=0.1\n",
    ")\n",
    "\n",
    "fig = go.Figure(data=data, layout=layout)\n",
    "py.iplot(fig)"
   ]
  },
  {
   "cell_type": "markdown",
   "metadata": {},
   "source": [
    "从以上员工工时分布直方图中可以看出，工时在10-14天之间的员工最多，有13人；工时超过30天的员工有11人。"
   ]
  },
  {
   "cell_type": "code",
   "execution_count": 16,
   "metadata": {},
   "outputs": [],
   "source": [
    "def bar_charts(dataframe, x_column, y_column, chart_title = None, x_title = None, y_title = None):\n",
    "    \n",
    "    x = dataframe[x_column]\n",
    "    y = dataframe[y_column]\n",
    "    \n",
    "    data = [Bar(\n",
    "        x = x,\n",
    "        y = y,\n",
    "        marker = dict(\n",
    "        color = '#EB89B5'\n",
    "        ),\n",
    "        opacity = 0.7\n",
    "    )]\n",
    "    \n",
    "    layout = Layout(\n",
    "        title = chart_title,\n",
    "        xaxis = dict(title = x_title, tickmode = 'linear'),\n",
    "        yaxis = dict(title = y_title)\n",
    "    )\n",
    "    \n",
    "    fig = Figure(data = data, layout = layout)\n",
    "    py.iplot(fig)"
   ]
  },
  {
   "cell_type": "code",
   "execution_count": 98,
   "metadata": {},
   "outputs": [
    {
     "data": {
      "application/vnd.plotly.v1+json": {
       "data": [
        {
         "marker": {
          "color": "#EB89B5"
         },
         "opacity": 0.7,
         "type": "bar",
         "uid": "b92e187a-8d45-4a59-816e-f20d9b250af7",
         "x": [
          "宇尘",
          "白起",
          "致虑",
          "修远",
          "海根",
          "黎墨",
          "白龙",
          "赵伟",
          "越陌",
          "威仔",
          "兴宇",
          "晴天",
          "子洋",
          "大墨",
          "十三",
          "鹿鸣",
          "简名",
          "居易",
          "白杨",
          "亚格",
          "和歌",
          "老曹",
          "关尔",
          "彬彬",
          "丽娜",
          "幽明",
          "双毅",
          "澎湃",
          "晨兮",
          "圣晔",
          "鲲鹏",
          "季节",
          "伊布",
          "无颜",
          "阿飞",
          "三斤",
          "玲玲",
          "游侠",
          "向阳",
          "东风",
          "马飞",
          "贝塔",
          "尼采",
          "星河",
          "熠然",
          "江月",
          "恺辰",
          "海秋",
          "子木",
          "渊虹",
          "灰谷",
          "奕铭",
          "凉一",
          "虫二",
          "泽溥",
          "一弦"
         ],
         "y": [
          37,
          37,
          37,
          35,
          35,
          35,
          31,
          31,
          31,
          31,
          31,
          28,
          27,
          27,
          27,
          26,
          26,
          26,
          25,
          24,
          24,
          22,
          21,
          20,
          20,
          20,
          19,
          19,
          18,
          18,
          18,
          16,
          14,
          14,
          13,
          13,
          13,
          12,
          12,
          11,
          11,
          10,
          10,
          10,
          10,
          9,
          9,
          5,
          0,
          0,
          0,
          0,
          0,
          0,
          0,
          0
         ]
        }
       ],
       "layout": {
        "title": "员工工时分布",
        "xaxis": {
         "tickmode": "linear",
         "title": "员工"
        },
        "yaxis": {
         "title": "工时"
        }
       }
      },
      "text/html": [
       "<div id=\"a661c95a-2e7f-4984-a976-144a56b19221\" style=\"height: 525px; width: 100%;\" class=\"plotly-graph-div\"></div><script type=\"text/javascript\">require([\"plotly\"], function(Plotly) { window.PLOTLYENV=window.PLOTLYENV || {};window.PLOTLYENV.BASE_URL=\"https://plot.ly\";Plotly.newPlot(\"a661c95a-2e7f-4984-a976-144a56b19221\", [{\"marker\": {\"color\": \"#EB89B5\"}, \"opacity\": 0.7, \"x\": [\"\\u5b87\\u5c18\", \"\\u767d\\u8d77\", \"\\u81f4\\u8651\", \"\\u4fee\\u8fdc\", \"\\u6d77\\u6839\", \"\\u9ece\\u58a8\", \"\\u767d\\u9f99\", \"\\u8d75\\u4f1f\", \"\\u8d8a\\u964c\", \"\\u5a01\\u4ed4\", \"\\u5174\\u5b87\", \"\\u6674\\u5929\", \"\\u5b50\\u6d0b\", \"\\u5927\\u58a8\", \"\\u5341\\u4e09\", \"\\u9e7f\\u9e23\", \"\\u7b80\\u540d\", \"\\u5c45\\u6613\", \"\\u767d\\u6768\", \"\\u4e9a\\u683c\", \"\\u548c\\u6b4c\", \"\\u8001\\u66f9\", \"\\u5173\\u5c14\", \"\\u5f6c\\u5f6c\", \"\\u4e3d\\u5a1c\", \"\\u5e7d\\u660e\", \"\\u53cc\\u6bc5\", \"\\u6f8e\\u6e43\", \"\\u6668\\u516e\", \"\\u5723\\u6654\", \"\\u9cb2\\u9e4f\", \"\\u5b63\\u8282\", \"\\u4f0a\\u5e03\", \"\\u65e0\\u989c\", \"\\u963f\\u98de\", \"\\u4e09\\u65a4\", \"\\u73b2\\u73b2\", \"\\u6e38\\u4fa0\", \"\\u5411\\u9633\", \"\\u4e1c\\u98ce\", \"\\u9a6c\\u98de\", \"\\u8d1d\\u5854\", \"\\u5c3c\\u91c7\", \"\\u661f\\u6cb3\", \"\\u71a0\\u7136\", \"\\u6c5f\\u6708\", \"\\u607a\\u8fb0\", \"\\u6d77\\u79cb\", \"\\u5b50\\u6728\", \"\\u6e0a\\u8679\", \"\\u7070\\u8c37\", \"\\u5955\\u94ed\", \"\\u51c9\\u4e00\", \"\\u866b\\u4e8c\", \"\\u6cfd\\u6ea5\", \"\\u4e00\\u5f26\"], \"y\": [37, 37, 37, 35, 35, 35, 31, 31, 31, 31, 31, 28, 27, 27, 27, 26, 26, 26, 25, 24, 24, 22, 21, 20, 20, 20, 19, 19, 18, 18, 18, 16, 14, 14, 13, 13, 13, 12, 12, 11, 11, 10, 10, 10, 10, 9, 9, 5, 0, 0, 0, 0, 0, 0, 0, 0], \"type\": \"bar\", \"uid\": \"b92e187a-8d45-4a59-816e-f20d9b250af7\"}], {\"title\": \"\\u5458\\u5de5\\u5de5\\u65f6\\u5206\\u5e03\", \"xaxis\": {\"tickmode\": \"linear\", \"title\": \"\\u5458\\u5de5\"}, \"yaxis\": {\"title\": \"\\u5de5\\u65f6\"}}, {\"showLink\": true, \"linkText\": \"Export to plot.ly\"})});</script><script type=\"text/javascript\">window.addEventListener(\"resize\", function(){window._Plotly.Plots.resize(document.getElementById(\"a661c95a-2e7f-4984-a976-144a56b19221\"));});</script>"
      ],
      "text/vnd.plotly.v1+html": [
       "<div id=\"a661c95a-2e7f-4984-a976-144a56b19221\" style=\"height: 525px; width: 100%;\" class=\"plotly-graph-div\"></div><script type=\"text/javascript\">require([\"plotly\"], function(Plotly) { window.PLOTLYENV=window.PLOTLYENV || {};window.PLOTLYENV.BASE_URL=\"https://plot.ly\";Plotly.newPlot(\"a661c95a-2e7f-4984-a976-144a56b19221\", [{\"marker\": {\"color\": \"#EB89B5\"}, \"opacity\": 0.7, \"x\": [\"\\u5b87\\u5c18\", \"\\u767d\\u8d77\", \"\\u81f4\\u8651\", \"\\u4fee\\u8fdc\", \"\\u6d77\\u6839\", \"\\u9ece\\u58a8\", \"\\u767d\\u9f99\", \"\\u8d75\\u4f1f\", \"\\u8d8a\\u964c\", \"\\u5a01\\u4ed4\", \"\\u5174\\u5b87\", \"\\u6674\\u5929\", \"\\u5b50\\u6d0b\", \"\\u5927\\u58a8\", \"\\u5341\\u4e09\", \"\\u9e7f\\u9e23\", \"\\u7b80\\u540d\", \"\\u5c45\\u6613\", \"\\u767d\\u6768\", \"\\u4e9a\\u683c\", \"\\u548c\\u6b4c\", \"\\u8001\\u66f9\", \"\\u5173\\u5c14\", \"\\u5f6c\\u5f6c\", \"\\u4e3d\\u5a1c\", \"\\u5e7d\\u660e\", \"\\u53cc\\u6bc5\", \"\\u6f8e\\u6e43\", \"\\u6668\\u516e\", \"\\u5723\\u6654\", \"\\u9cb2\\u9e4f\", \"\\u5b63\\u8282\", \"\\u4f0a\\u5e03\", \"\\u65e0\\u989c\", \"\\u963f\\u98de\", \"\\u4e09\\u65a4\", \"\\u73b2\\u73b2\", \"\\u6e38\\u4fa0\", \"\\u5411\\u9633\", \"\\u4e1c\\u98ce\", \"\\u9a6c\\u98de\", \"\\u8d1d\\u5854\", \"\\u5c3c\\u91c7\", \"\\u661f\\u6cb3\", \"\\u71a0\\u7136\", \"\\u6c5f\\u6708\", \"\\u607a\\u8fb0\", \"\\u6d77\\u79cb\", \"\\u5b50\\u6728\", \"\\u6e0a\\u8679\", \"\\u7070\\u8c37\", \"\\u5955\\u94ed\", \"\\u51c9\\u4e00\", \"\\u866b\\u4e8c\", \"\\u6cfd\\u6ea5\", \"\\u4e00\\u5f26\"], \"y\": [37, 37, 37, 35, 35, 35, 31, 31, 31, 31, 31, 28, 27, 27, 27, 26, 26, 26, 25, 24, 24, 22, 21, 20, 20, 20, 19, 19, 18, 18, 18, 16, 14, 14, 13, 13, 13, 12, 12, 11, 11, 10, 10, 10, 10, 9, 9, 5, 0, 0, 0, 0, 0, 0, 0, 0], \"type\": \"bar\", \"uid\": \"b92e187a-8d45-4a59-816e-f20d9b250af7\"}], {\"title\": \"\\u5458\\u5de5\\u5de5\\u65f6\\u5206\\u5e03\", \"xaxis\": {\"tickmode\": \"linear\", \"title\": \"\\u5458\\u5de5\"}, \"yaxis\": {\"title\": \"\\u5de5\\u65f6\"}}, {\"showLink\": true, \"linkText\": \"Export to plot.ly\"})});</script><script type=\"text/javascript\">window.addEventListener(\"resize\", function(){window._Plotly.Plots.resize(document.getElementById(\"a661c95a-2e7f-4984-a976-144a56b19221\"));});</script>"
      ]
     },
     "metadata": {},
     "output_type": "display_data"
    }
   ],
   "source": [
    "d1 = d.sort_values(by = ['effort'], ascending=False)\n",
    "bar_charts(d1, 'displayName', 'effort', '员工工时分布', '员工', '工时' )"
   ]
  },
  {
   "cell_type": "markdown",
   "metadata": {},
   "source": [
    "以上柱状图为每个员工的工时分布，宇尘，白起，致虑三位员工的所花工时最多，为37天。"
   ]
  },
  {
   "cell_type": "code",
   "execution_count": 17,
   "metadata": {},
   "outputs": [
    {
     "data": {
      "application/vnd.plotly.v1+json": {
       "data": [
        {
         "name": "交易载体",
         "opacity": 0.8,
         "type": "bar",
         "uid": "de226eb3-c3c1-47c1-b4cf-160f21f45074",
         "x": [
          "黎墨",
          "关尔",
          "向阳"
         ],
         "y": [
          35,
          21,
          12
         ]
        },
        {
         "name": "共享业务质量保障",
         "opacity": 0.8,
         "type": "bar",
         "uid": "6a6f17c9-bb74-40a9-a794-1a86ca7dd661",
         "x": [
          "晨兮",
          "江月",
          "居易",
          "无颜",
          "圣晔",
          "一弦"
         ],
         "y": [
          18,
          9,
          26,
          14,
          18,
          0
         ]
        },
        {
         "name": "共享前端",
         "opacity": 0.8,
         "type": "bar",
         "uid": "d2ff6c13-3f30-4be8-a174-d2159a36b4c1",
         "x": [
          "子洋",
          "简名",
          "赵伟",
          "亚格",
          "子木",
          "马飞",
          "海秋"
         ],
         "y": [
          27,
          26,
          31,
          24,
          0,
          11,
          5
         ]
        },
        {
         "name": "商品中心",
         "opacity": 0.8,
         "type": "bar",
         "uid": "e338780c-bc65-4a19-8836-3719d70a80bc",
         "x": [
          "渊虹",
          "凉一",
          "奕铭",
          "大墨",
          "鹿鸣",
          "熠然",
          "星河"
         ],
         "y": [
          0,
          0,
          0,
          27,
          26,
          10,
          10
         ]
        },
        {
         "name": "平台运营",
         "opacity": 0.8,
         "type": "bar",
         "uid": "ffff231c-e8b1-46de-89e0-01effb72588b",
         "x": [
          "玲玲"
         ],
         "y": [
          13
         ]
        },
        {
         "name": "支付结算",
         "opacity": 0.8,
         "type": "bar",
         "uid": "6baa0d27-ec2a-497c-91a7-7bd6a4a01073",
         "x": [
          "海根",
          "修远",
          "晴天",
          "白起",
          "鲲鹏",
          "游侠",
          "和歌"
         ],
         "y": [
          35,
          35,
          28,
          37,
          18,
          12,
          24
         ]
        },
        {
         "name": "政采云驻场",
         "opacity": 0.8,
         "type": "bar",
         "uid": "5a284df2-2b2d-412c-9858-c6caf89d92ee",
         "x": [
          "丽娜"
         ],
         "y": [
          20
         ]
        },
        {
         "name": "电子卖场1",
         "opacity": 0.8,
         "type": "bar",
         "uid": "b4c9f9b1-d552-4ba1-90a0-f1084425e7c9",
         "x": [
          "白龙",
          "三斤",
          "阿飞",
          "越陌",
          "老曹",
          "虫二",
          "贝塔",
          "尼采",
          "泽溥",
          "致虑",
          "彬彬",
          "灰谷",
          "双毅",
          "幽明",
          "东风",
          "澎湃",
          "季节",
          "宇尘",
          "兴宇"
         ],
         "y": [
          31,
          13,
          13,
          31,
          22,
          0,
          10,
          10,
          0,
          37,
          20,
          0,
          19,
          20,
          11,
          19,
          16,
          37,
          31
         ]
        },
        {
         "name": "计划管理",
         "opacity": 0.8,
         "type": "bar",
         "uid": "78f2746c-45cf-4877-93c9-5447fef1fdfb",
         "x": [
          "十三",
          "白杨",
          "恺辰",
          "威仔"
         ],
         "y": [
          27,
          25,
          9,
          31
         ]
        },
        {
         "name": "财政管理",
         "opacity": 0.8,
         "type": "bar",
         "uid": "05432913-f129-46a9-9fc6-52ee99687799",
         "x": [
          "伊布"
         ],
         "y": [
          14
         ]
        },
        {
         "line": {
          "color": "#FF3333"
         },
         "mode": "lines",
         "name": "平均工时",
         "type": "scatter",
         "uid": "d5768dfd-2696-42be-b0c2-a22b43d95041",
         "x": [
          "白龙",
          "三斤",
          "阿飞",
          "越陌",
          "老曹",
          "虫二",
          "贝塔",
          "尼采",
          "泽溥",
          "致虑",
          "彬彬",
          "灰谷",
          "双毅",
          "幽明",
          "东风",
          "澎湃",
          "季节",
          "宇尘",
          "玲玲",
          "兴宇",
          "十三",
          "白杨",
          "恺辰",
          "黎墨",
          "关尔",
          "向阳",
          "海根",
          "修远",
          "晴天",
          "白起",
          "子洋",
          "简名",
          "鲲鹏",
          "威仔",
          "赵伟",
          "游侠",
          "和歌",
          "亚格",
          "伊布",
          "晨兮",
          "江月",
          "居易",
          "无颜",
          "丽娜",
          "圣晔",
          "渊虹",
          "凉一",
          "奕铭",
          "大墨",
          "鹿鸣",
          "熠然",
          "星河",
          "子木",
          "马飞",
          "海秋",
          "一弦"
         ],
         "y": [
          18.178571428571427,
          18.178571428571427,
          18.178571428571427,
          18.178571428571427,
          18.178571428571427,
          18.178571428571427,
          18.178571428571427,
          18.178571428571427,
          18.178571428571427,
          18.178571428571427,
          18.178571428571427,
          18.178571428571427,
          18.178571428571427,
          18.178571428571427,
          18.178571428571427,
          18.178571428571427,
          18.178571428571427,
          18.178571428571427,
          18.178571428571427,
          18.178571428571427,
          18.178571428571427,
          18.178571428571427,
          18.178571428571427,
          18.178571428571427,
          18.178571428571427,
          18.178571428571427,
          18.178571428571427,
          18.178571428571427,
          18.178571428571427,
          18.178571428571427,
          18.178571428571427,
          18.178571428571427,
          18.178571428571427,
          18.178571428571427,
          18.178571428571427,
          18.178571428571427,
          18.178571428571427,
          18.178571428571427,
          18.178571428571427,
          18.178571428571427,
          18.178571428571427,
          18.178571428571427,
          18.178571428571427,
          18.178571428571427,
          18.178571428571427,
          18.178571428571427,
          18.178571428571427,
          18.178571428571427,
          18.178571428571427,
          18.178571428571427,
          18.178571428571427,
          18.178571428571427,
          18.178571428571427,
          18.178571428571427,
          18.178571428571427,
          18.178571428571427
         ]
        }
       ],
       "layout": {
        "paper_bgcolor": "rgb(243, 243, 243)",
        "plot_bgcolor": "rgb(243, 243, 243)",
        "title": "研发工时分布图",
        "xaxis": {
         "gridcolor": "rgb(255, 255, 255)",
         "gridwidth": 2,
         "ticklen": 5,
         "title": "员工"
        },
        "yaxis": {
         "gridcolor": "rgb(255, 255, 255)",
         "gridwidth": 2,
         "ticklen": 5,
         "title": "工时"
        }
       }
      },
      "text/html": [
       "<div id=\"ac17b0f4-e022-46b2-a958-e29f9fa4d7b9\" style=\"height: 525px; width: 100%;\" class=\"plotly-graph-div\"></div><script type=\"text/javascript\">require([\"plotly\"], function(Plotly) { window.PLOTLYENV=window.PLOTLYENV || {};window.PLOTLYENV.BASE_URL=\"https://plot.ly\";Plotly.newPlot(\"ac17b0f4-e022-46b2-a958-e29f9fa4d7b9\", [{\"name\": \"\\u4ea4\\u6613\\u8f7d\\u4f53\", \"opacity\": 0.8, \"x\": [\"\\u9ece\\u58a8\", \"\\u5173\\u5c14\", \"\\u5411\\u9633\"], \"y\": [35, 21, 12], \"type\": \"bar\", \"uid\": \"de226eb3-c3c1-47c1-b4cf-160f21f45074\"}, {\"name\": \"\\u5171\\u4eab\\u4e1a\\u52a1\\u8d28\\u91cf\\u4fdd\\u969c\", \"opacity\": 0.8, \"x\": [\"\\u6668\\u516e\", \"\\u6c5f\\u6708\", \"\\u5c45\\u6613\", \"\\u65e0\\u989c\", \"\\u5723\\u6654\", \"\\u4e00\\u5f26\"], \"y\": [18, 9, 26, 14, 18, 0], \"type\": \"bar\", \"uid\": \"6a6f17c9-bb74-40a9-a794-1a86ca7dd661\"}, {\"name\": \"\\u5171\\u4eab\\u524d\\u7aef\", \"opacity\": 0.8, \"x\": [\"\\u5b50\\u6d0b\", \"\\u7b80\\u540d\", \"\\u8d75\\u4f1f\", \"\\u4e9a\\u683c\", \"\\u5b50\\u6728\", \"\\u9a6c\\u98de\", \"\\u6d77\\u79cb\"], \"y\": [27, 26, 31, 24, 0, 11, 5], \"type\": \"bar\", \"uid\": \"d2ff6c13-3f30-4be8-a174-d2159a36b4c1\"}, {\"name\": \"\\u5546\\u54c1\\u4e2d\\u5fc3\", \"opacity\": 0.8, \"x\": [\"\\u6e0a\\u8679\", \"\\u51c9\\u4e00\", \"\\u5955\\u94ed\", \"\\u5927\\u58a8\", \"\\u9e7f\\u9e23\", \"\\u71a0\\u7136\", \"\\u661f\\u6cb3\"], \"y\": [0, 0, 0, 27, 26, 10, 10], \"type\": \"bar\", \"uid\": \"e338780c-bc65-4a19-8836-3719d70a80bc\"}, {\"name\": \"\\u5e73\\u53f0\\u8fd0\\u8425\", \"opacity\": 0.8, \"x\": [\"\\u73b2\\u73b2\"], \"y\": [13], \"type\": \"bar\", \"uid\": \"ffff231c-e8b1-46de-89e0-01effb72588b\"}, {\"name\": \"\\u652f\\u4ed8\\u7ed3\\u7b97\", \"opacity\": 0.8, \"x\": [\"\\u6d77\\u6839\", \"\\u4fee\\u8fdc\", \"\\u6674\\u5929\", \"\\u767d\\u8d77\", \"\\u9cb2\\u9e4f\", \"\\u6e38\\u4fa0\", \"\\u548c\\u6b4c\"], \"y\": [35, 35, 28, 37, 18, 12, 24], \"type\": \"bar\", \"uid\": \"6baa0d27-ec2a-497c-91a7-7bd6a4a01073\"}, {\"name\": \"\\u653f\\u91c7\\u4e91\\u9a7b\\u573a\", \"opacity\": 0.8, \"x\": [\"\\u4e3d\\u5a1c\"], \"y\": [20], \"type\": \"bar\", \"uid\": \"5a284df2-2b2d-412c-9858-c6caf89d92ee\"}, {\"name\": \"\\u7535\\u5b50\\u5356\\u573a1\", \"opacity\": 0.8, \"x\": [\"\\u767d\\u9f99\", \"\\u4e09\\u65a4\", \"\\u963f\\u98de\", \"\\u8d8a\\u964c\", \"\\u8001\\u66f9\", \"\\u866b\\u4e8c\", \"\\u8d1d\\u5854\", \"\\u5c3c\\u91c7\", \"\\u6cfd\\u6ea5\", \"\\u81f4\\u8651\", \"\\u5f6c\\u5f6c\", \"\\u7070\\u8c37\", \"\\u53cc\\u6bc5\", \"\\u5e7d\\u660e\", \"\\u4e1c\\u98ce\", \"\\u6f8e\\u6e43\", \"\\u5b63\\u8282\", \"\\u5b87\\u5c18\", \"\\u5174\\u5b87\"], \"y\": [31, 13, 13, 31, 22, 0, 10, 10, 0, 37, 20, 0, 19, 20, 11, 19, 16, 37, 31], \"type\": \"bar\", \"uid\": \"b4c9f9b1-d552-4ba1-90a0-f1084425e7c9\"}, {\"name\": \"\\u8ba1\\u5212\\u7ba1\\u7406\", \"opacity\": 0.8, \"x\": [\"\\u5341\\u4e09\", \"\\u767d\\u6768\", \"\\u607a\\u8fb0\", \"\\u5a01\\u4ed4\"], \"y\": [27, 25, 9, 31], \"type\": \"bar\", \"uid\": \"78f2746c-45cf-4877-93c9-5447fef1fdfb\"}, {\"name\": \"\\u8d22\\u653f\\u7ba1\\u7406\", \"opacity\": 0.8, \"x\": [\"\\u4f0a\\u5e03\"], \"y\": [14], \"type\": \"bar\", \"uid\": \"05432913-f129-46a9-9fc6-52ee99687799\"}, {\"line\": {\"color\": \"#FF3333\"}, \"mode\": \"lines\", \"name\": \"\\u5e73\\u5747\\u5de5\\u65f6\", \"x\": [\"\\u767d\\u9f99\", \"\\u4e09\\u65a4\", \"\\u963f\\u98de\", \"\\u8d8a\\u964c\", \"\\u8001\\u66f9\", \"\\u866b\\u4e8c\", \"\\u8d1d\\u5854\", \"\\u5c3c\\u91c7\", \"\\u6cfd\\u6ea5\", \"\\u81f4\\u8651\", \"\\u5f6c\\u5f6c\", \"\\u7070\\u8c37\", \"\\u53cc\\u6bc5\", \"\\u5e7d\\u660e\", \"\\u4e1c\\u98ce\", \"\\u6f8e\\u6e43\", \"\\u5b63\\u8282\", \"\\u5b87\\u5c18\", \"\\u73b2\\u73b2\", \"\\u5174\\u5b87\", \"\\u5341\\u4e09\", \"\\u767d\\u6768\", \"\\u607a\\u8fb0\", \"\\u9ece\\u58a8\", \"\\u5173\\u5c14\", \"\\u5411\\u9633\", \"\\u6d77\\u6839\", \"\\u4fee\\u8fdc\", \"\\u6674\\u5929\", \"\\u767d\\u8d77\", \"\\u5b50\\u6d0b\", \"\\u7b80\\u540d\", \"\\u9cb2\\u9e4f\", \"\\u5a01\\u4ed4\", \"\\u8d75\\u4f1f\", \"\\u6e38\\u4fa0\", \"\\u548c\\u6b4c\", \"\\u4e9a\\u683c\", \"\\u4f0a\\u5e03\", \"\\u6668\\u516e\", \"\\u6c5f\\u6708\", \"\\u5c45\\u6613\", \"\\u65e0\\u989c\", \"\\u4e3d\\u5a1c\", \"\\u5723\\u6654\", \"\\u6e0a\\u8679\", \"\\u51c9\\u4e00\", \"\\u5955\\u94ed\", \"\\u5927\\u58a8\", \"\\u9e7f\\u9e23\", \"\\u71a0\\u7136\", \"\\u661f\\u6cb3\", \"\\u5b50\\u6728\", \"\\u9a6c\\u98de\", \"\\u6d77\\u79cb\", \"\\u4e00\\u5f26\"], \"y\": [18.178571428571427, 18.178571428571427, 18.178571428571427, 18.178571428571427, 18.178571428571427, 18.178571428571427, 18.178571428571427, 18.178571428571427, 18.178571428571427, 18.178571428571427, 18.178571428571427, 18.178571428571427, 18.178571428571427, 18.178571428571427, 18.178571428571427, 18.178571428571427, 18.178571428571427, 18.178571428571427, 18.178571428571427, 18.178571428571427, 18.178571428571427, 18.178571428571427, 18.178571428571427, 18.178571428571427, 18.178571428571427, 18.178571428571427, 18.178571428571427, 18.178571428571427, 18.178571428571427, 18.178571428571427, 18.178571428571427, 18.178571428571427, 18.178571428571427, 18.178571428571427, 18.178571428571427, 18.178571428571427, 18.178571428571427, 18.178571428571427, 18.178571428571427, 18.178571428571427, 18.178571428571427, 18.178571428571427, 18.178571428571427, 18.178571428571427, 18.178571428571427, 18.178571428571427, 18.178571428571427, 18.178571428571427, 18.178571428571427, 18.178571428571427, 18.178571428571427, 18.178571428571427, 18.178571428571427, 18.178571428571427, 18.178571428571427, 18.178571428571427], \"type\": \"scatter\", \"uid\": \"d5768dfd-2696-42be-b0c2-a22b43d95041\"}], {\"paper_bgcolor\": \"rgb(243, 243, 243)\", \"plot_bgcolor\": \"rgb(243, 243, 243)\", \"title\": \"\\u7814\\u53d1\\u5de5\\u65f6\\u5206\\u5e03\\u56fe\", \"xaxis\": {\"gridcolor\": \"rgb(255, 255, 255)\", \"gridwidth\": 2, \"ticklen\": 5, \"title\": \"\\u5458\\u5de5\"}, \"yaxis\": {\"gridcolor\": \"rgb(255, 255, 255)\", \"gridwidth\": 2, \"ticklen\": 5, \"title\": \"\\u5de5\\u65f6\"}}, {\"showLink\": true, \"linkText\": \"Export to plot.ly\"})});</script><script type=\"text/javascript\">window.addEventListener(\"resize\", function(){window._Plotly.Plots.resize(document.getElementById(\"ac17b0f4-e022-46b2-a958-e29f9fa4d7b9\"));});</script>"
      ],
      "text/vnd.plotly.v1+html": [
       "<div id=\"ac17b0f4-e022-46b2-a958-e29f9fa4d7b9\" style=\"height: 525px; width: 100%;\" class=\"plotly-graph-div\"></div><script type=\"text/javascript\">require([\"plotly\"], function(Plotly) { window.PLOTLYENV=window.PLOTLYENV || {};window.PLOTLYENV.BASE_URL=\"https://plot.ly\";Plotly.newPlot(\"ac17b0f4-e022-46b2-a958-e29f9fa4d7b9\", [{\"name\": \"\\u4ea4\\u6613\\u8f7d\\u4f53\", \"opacity\": 0.8, \"x\": [\"\\u9ece\\u58a8\", \"\\u5173\\u5c14\", \"\\u5411\\u9633\"], \"y\": [35, 21, 12], \"type\": \"bar\", \"uid\": \"de226eb3-c3c1-47c1-b4cf-160f21f45074\"}, {\"name\": \"\\u5171\\u4eab\\u4e1a\\u52a1\\u8d28\\u91cf\\u4fdd\\u969c\", \"opacity\": 0.8, \"x\": [\"\\u6668\\u516e\", \"\\u6c5f\\u6708\", \"\\u5c45\\u6613\", \"\\u65e0\\u989c\", \"\\u5723\\u6654\", \"\\u4e00\\u5f26\"], \"y\": [18, 9, 26, 14, 18, 0], \"type\": \"bar\", \"uid\": \"6a6f17c9-bb74-40a9-a794-1a86ca7dd661\"}, {\"name\": \"\\u5171\\u4eab\\u524d\\u7aef\", \"opacity\": 0.8, \"x\": [\"\\u5b50\\u6d0b\", \"\\u7b80\\u540d\", \"\\u8d75\\u4f1f\", \"\\u4e9a\\u683c\", \"\\u5b50\\u6728\", \"\\u9a6c\\u98de\", \"\\u6d77\\u79cb\"], \"y\": [27, 26, 31, 24, 0, 11, 5], \"type\": \"bar\", \"uid\": \"d2ff6c13-3f30-4be8-a174-d2159a36b4c1\"}, {\"name\": \"\\u5546\\u54c1\\u4e2d\\u5fc3\", \"opacity\": 0.8, \"x\": [\"\\u6e0a\\u8679\", \"\\u51c9\\u4e00\", \"\\u5955\\u94ed\", \"\\u5927\\u58a8\", \"\\u9e7f\\u9e23\", \"\\u71a0\\u7136\", \"\\u661f\\u6cb3\"], \"y\": [0, 0, 0, 27, 26, 10, 10], \"type\": \"bar\", \"uid\": \"e338780c-bc65-4a19-8836-3719d70a80bc\"}, {\"name\": \"\\u5e73\\u53f0\\u8fd0\\u8425\", \"opacity\": 0.8, \"x\": [\"\\u73b2\\u73b2\"], \"y\": [13], \"type\": \"bar\", \"uid\": \"ffff231c-e8b1-46de-89e0-01effb72588b\"}, {\"name\": \"\\u652f\\u4ed8\\u7ed3\\u7b97\", \"opacity\": 0.8, \"x\": [\"\\u6d77\\u6839\", \"\\u4fee\\u8fdc\", \"\\u6674\\u5929\", \"\\u767d\\u8d77\", \"\\u9cb2\\u9e4f\", \"\\u6e38\\u4fa0\", \"\\u548c\\u6b4c\"], \"y\": [35, 35, 28, 37, 18, 12, 24], \"type\": \"bar\", \"uid\": \"6baa0d27-ec2a-497c-91a7-7bd6a4a01073\"}, {\"name\": \"\\u653f\\u91c7\\u4e91\\u9a7b\\u573a\", \"opacity\": 0.8, \"x\": [\"\\u4e3d\\u5a1c\"], \"y\": [20], \"type\": \"bar\", \"uid\": \"5a284df2-2b2d-412c-9858-c6caf89d92ee\"}, {\"name\": \"\\u7535\\u5b50\\u5356\\u573a1\", \"opacity\": 0.8, \"x\": [\"\\u767d\\u9f99\", \"\\u4e09\\u65a4\", \"\\u963f\\u98de\", \"\\u8d8a\\u964c\", \"\\u8001\\u66f9\", \"\\u866b\\u4e8c\", \"\\u8d1d\\u5854\", \"\\u5c3c\\u91c7\", \"\\u6cfd\\u6ea5\", \"\\u81f4\\u8651\", \"\\u5f6c\\u5f6c\", \"\\u7070\\u8c37\", \"\\u53cc\\u6bc5\", \"\\u5e7d\\u660e\", \"\\u4e1c\\u98ce\", \"\\u6f8e\\u6e43\", \"\\u5b63\\u8282\", \"\\u5b87\\u5c18\", \"\\u5174\\u5b87\"], \"y\": [31, 13, 13, 31, 22, 0, 10, 10, 0, 37, 20, 0, 19, 20, 11, 19, 16, 37, 31], \"type\": \"bar\", \"uid\": \"b4c9f9b1-d552-4ba1-90a0-f1084425e7c9\"}, {\"name\": \"\\u8ba1\\u5212\\u7ba1\\u7406\", \"opacity\": 0.8, \"x\": [\"\\u5341\\u4e09\", \"\\u767d\\u6768\", \"\\u607a\\u8fb0\", \"\\u5a01\\u4ed4\"], \"y\": [27, 25, 9, 31], \"type\": \"bar\", \"uid\": \"78f2746c-45cf-4877-93c9-5447fef1fdfb\"}, {\"name\": \"\\u8d22\\u653f\\u7ba1\\u7406\", \"opacity\": 0.8, \"x\": [\"\\u4f0a\\u5e03\"], \"y\": [14], \"type\": \"bar\", \"uid\": \"05432913-f129-46a9-9fc6-52ee99687799\"}, {\"line\": {\"color\": \"#FF3333\"}, \"mode\": \"lines\", \"name\": \"\\u5e73\\u5747\\u5de5\\u65f6\", \"x\": [\"\\u767d\\u9f99\", \"\\u4e09\\u65a4\", \"\\u963f\\u98de\", \"\\u8d8a\\u964c\", \"\\u8001\\u66f9\", \"\\u866b\\u4e8c\", \"\\u8d1d\\u5854\", \"\\u5c3c\\u91c7\", \"\\u6cfd\\u6ea5\", \"\\u81f4\\u8651\", \"\\u5f6c\\u5f6c\", \"\\u7070\\u8c37\", \"\\u53cc\\u6bc5\", \"\\u5e7d\\u660e\", \"\\u4e1c\\u98ce\", \"\\u6f8e\\u6e43\", \"\\u5b63\\u8282\", \"\\u5b87\\u5c18\", \"\\u73b2\\u73b2\", \"\\u5174\\u5b87\", \"\\u5341\\u4e09\", \"\\u767d\\u6768\", \"\\u607a\\u8fb0\", \"\\u9ece\\u58a8\", \"\\u5173\\u5c14\", \"\\u5411\\u9633\", \"\\u6d77\\u6839\", \"\\u4fee\\u8fdc\", \"\\u6674\\u5929\", \"\\u767d\\u8d77\", \"\\u5b50\\u6d0b\", \"\\u7b80\\u540d\", \"\\u9cb2\\u9e4f\", \"\\u5a01\\u4ed4\", \"\\u8d75\\u4f1f\", \"\\u6e38\\u4fa0\", \"\\u548c\\u6b4c\", \"\\u4e9a\\u683c\", \"\\u4f0a\\u5e03\", \"\\u6668\\u516e\", \"\\u6c5f\\u6708\", \"\\u5c45\\u6613\", \"\\u65e0\\u989c\", \"\\u4e3d\\u5a1c\", \"\\u5723\\u6654\", \"\\u6e0a\\u8679\", \"\\u51c9\\u4e00\", \"\\u5955\\u94ed\", \"\\u5927\\u58a8\", \"\\u9e7f\\u9e23\", \"\\u71a0\\u7136\", \"\\u661f\\u6cb3\", \"\\u5b50\\u6728\", \"\\u9a6c\\u98de\", \"\\u6d77\\u79cb\", \"\\u4e00\\u5f26\"], \"y\": [18.178571428571427, 18.178571428571427, 18.178571428571427, 18.178571428571427, 18.178571428571427, 18.178571428571427, 18.178571428571427, 18.178571428571427, 18.178571428571427, 18.178571428571427, 18.178571428571427, 18.178571428571427, 18.178571428571427, 18.178571428571427, 18.178571428571427, 18.178571428571427, 18.178571428571427, 18.178571428571427, 18.178571428571427, 18.178571428571427, 18.178571428571427, 18.178571428571427, 18.178571428571427, 18.178571428571427, 18.178571428571427, 18.178571428571427, 18.178571428571427, 18.178571428571427, 18.178571428571427, 18.178571428571427, 18.178571428571427, 18.178571428571427, 18.178571428571427, 18.178571428571427, 18.178571428571427, 18.178571428571427, 18.178571428571427, 18.178571428571427, 18.178571428571427, 18.178571428571427, 18.178571428571427, 18.178571428571427, 18.178571428571427, 18.178571428571427, 18.178571428571427, 18.178571428571427, 18.178571428571427, 18.178571428571427, 18.178571428571427, 18.178571428571427, 18.178571428571427, 18.178571428571427, 18.178571428571427, 18.178571428571427, 18.178571428571427, 18.178571428571427], \"type\": \"scatter\", \"uid\": \"d5768dfd-2696-42be-b0c2-a22b43d95041\"}], {\"paper_bgcolor\": \"rgb(243, 243, 243)\", \"plot_bgcolor\": \"rgb(243, 243, 243)\", \"title\": \"\\u7814\\u53d1\\u5de5\\u65f6\\u5206\\u5e03\\u56fe\", \"xaxis\": {\"gridcolor\": \"rgb(255, 255, 255)\", \"gridwidth\": 2, \"ticklen\": 5, \"title\": \"\\u5458\\u5de5\"}, \"yaxis\": {\"gridcolor\": \"rgb(255, 255, 255)\", \"gridwidth\": 2, \"ticklen\": 5, \"title\": \"\\u5de5\\u65f6\"}}, {\"showLink\": true, \"linkText\": \"Export to plot.ly\"})});</script><script type=\"text/javascript\">window.addEventListener(\"resize\", function(){window._Plotly.Plots.resize(document.getElementById(\"ac17b0f4-e022-46b2-a958-e29f9fa4d7b9\"));});</script>"
      ]
     },
     "metadata": {},
     "output_type": "display_data"
    }
   ],
   "source": [
    "#bubble_size = []\n",
    "#for _, row in d.iterrows():\n",
    "#    bubble_size.append(math.sqrt(row['effort'])*150)    \n",
    "#d['size'] = bubble_size\n",
    "data = []\n",
    "d3 = d.groupby('department').groups.keys()\n",
    "for department in d3:\n",
    "    trace = Bar(\n",
    "        x = d['displayName'][d['department'] == department],\n",
    "        y = d['effort'][d['department'] == department],\n",
    "        name = department,\n",
    "        opacity = 0.8,\n",
    "        #mode = 'markers',\n",
    "        #marker=dict(\n",
    "            #symbol = 'circle',\n",
    "            #size = d['size'][d['department'] == department],\n",
    "            #sizemode = 'area',\n",
    "            #line = dict(\n",
    "                #width=2\n",
    "            #),\n",
    "        #)\n",
    "    )\n",
    "    data.append(trace)\n",
    "\n",
    "ave_line = Scatter(\n",
    "    x = d['displayName'],\n",
    "    y = np.full(d.shape[0], d['effort'].mean()),\n",
    "    name = '平均工时',\n",
    "    mode = 'lines',\n",
    "    line=dict(color = '#FF3333')\n",
    ")\n",
    "\n",
    "\n",
    "data.append(ave_line)\n",
    "    \n",
    "\n",
    "layout = Layout(\n",
    "    title='研发工时分布图',\n",
    "    xaxis=dict(\n",
    "        title='员工',\n",
    "        gridcolor='rgb(255, 255, 255)',\n",
    "        #range=[2.003297660701705, 5.191505530708712],\n",
    "        #type='log',\n",
    "        #zerolinewidth=1,\n",
    "        ticklen=5,\n",
    "        gridwidth=2,\n",
    "    ),\n",
    "    yaxis=dict(\n",
    "        title='工时',\n",
    "        gridcolor='rgb(255, 255, 255)',\n",
    "        #range=[36.12621671352166, 91.72921793264332],\n",
    "        #zerolinewidth=1,\n",
    "        ticklen=5,\n",
    "        gridwidth=2,\n",
    "    ),\n",
    "    paper_bgcolor='rgb(243, 243, 243)',\n",
    "    plot_bgcolor='rgb(243, 243, 243)',\n",
    ")\n",
    "\n",
    "fig = go.Figure(data=data, layout=layout)\n",
    "py.iplot(fig)"
   ]
  },
  {
   "cell_type": "markdown",
   "metadata": {},
   "source": [
    "以上柱状图为员工研发工时分布图，不同颜色代表不同的部门，红色水平线代表所有员工的平均工时。平台运营、政采云驻场、财政管理三个部门均只有一个员工，电子卖场1部门拥有最多员工。支付结算部门大多数员工工时超过平均水平，而共享业务质量保障部门大多数员工工时低于平均水平。"
   ]
  },
  {
   "cell_type": "markdown",
   "metadata": {},
   "source": [
    "### 3.2 部门人均工时分析"
   ]
  },
  {
   "cell_type": "code",
   "execution_count": 18,
   "metadata": {},
   "outputs": [
    {
     "data": {
      "application/vnd.plotly.v1+json": {
       "data": [
        {
         "marker": {
          "color": "#EB89B5"
         },
         "opacity": 0.7,
         "type": "bar",
         "uid": "c72ef8ab-c29c-4bc8-8632-49c4a169ff6f",
         "x": [
          "支付结算",
          "计划管理",
          "交易载体",
          "政采云驻场",
          "电子卖场1",
          "共享前端",
          "共享业务质量保障",
          "财政管理",
          "平台运营",
          "商品中心"
         ],
         "y": [
          27,
          23,
          22.666666666666668,
          20,
          17.894736842105264,
          17.714285714285715,
          14.166666666666666,
          14,
          13,
          10.428571428571429
         ]
        }
       ],
       "layout": {
        "title": "部门人均工时分布",
        "xaxis": {
         "tickmode": "linear",
         "title": "部门"
        },
        "yaxis": {
         "title": "人均工时"
        }
       }
      },
      "text/html": [
       "<div id=\"07951b3c-7383-4b59-a402-f0c276283d33\" style=\"height: 525px; width: 100%;\" class=\"plotly-graph-div\"></div><script type=\"text/javascript\">require([\"plotly\"], function(Plotly) { window.PLOTLYENV=window.PLOTLYENV || {};window.PLOTLYENV.BASE_URL=\"https://plot.ly\";Plotly.newPlot(\"07951b3c-7383-4b59-a402-f0c276283d33\", [{\"marker\": {\"color\": \"#EB89B5\"}, \"opacity\": 0.7, \"x\": [\"\\u652f\\u4ed8\\u7ed3\\u7b97\", \"\\u8ba1\\u5212\\u7ba1\\u7406\", \"\\u4ea4\\u6613\\u8f7d\\u4f53\", \"\\u653f\\u91c7\\u4e91\\u9a7b\\u573a\", \"\\u7535\\u5b50\\u5356\\u573a1\", \"\\u5171\\u4eab\\u524d\\u7aef\", \"\\u5171\\u4eab\\u4e1a\\u52a1\\u8d28\\u91cf\\u4fdd\\u969c\", \"\\u8d22\\u653f\\u7ba1\\u7406\", \"\\u5e73\\u53f0\\u8fd0\\u8425\", \"\\u5546\\u54c1\\u4e2d\\u5fc3\"], \"y\": [27.0, 23.0, 22.666666666666668, 20.0, 17.894736842105264, 17.714285714285715, 14.166666666666666, 14.0, 13.0, 10.428571428571429], \"type\": \"bar\", \"uid\": \"c72ef8ab-c29c-4bc8-8632-49c4a169ff6f\"}], {\"title\": \"\\u90e8\\u95e8\\u4eba\\u5747\\u5de5\\u65f6\\u5206\\u5e03\", \"xaxis\": {\"tickmode\": \"linear\", \"title\": \"\\u90e8\\u95e8\"}, \"yaxis\": {\"title\": \"\\u4eba\\u5747\\u5de5\\u65f6\"}}, {\"showLink\": true, \"linkText\": \"Export to plot.ly\"})});</script><script type=\"text/javascript\">window.addEventListener(\"resize\", function(){window._Plotly.Plots.resize(document.getElementById(\"07951b3c-7383-4b59-a402-f0c276283d33\"));});</script>"
      ],
      "text/vnd.plotly.v1+html": [
       "<div id=\"07951b3c-7383-4b59-a402-f0c276283d33\" style=\"height: 525px; width: 100%;\" class=\"plotly-graph-div\"></div><script type=\"text/javascript\">require([\"plotly\"], function(Plotly) { window.PLOTLYENV=window.PLOTLYENV || {};window.PLOTLYENV.BASE_URL=\"https://plot.ly\";Plotly.newPlot(\"07951b3c-7383-4b59-a402-f0c276283d33\", [{\"marker\": {\"color\": \"#EB89B5\"}, \"opacity\": 0.7, \"x\": [\"\\u652f\\u4ed8\\u7ed3\\u7b97\", \"\\u8ba1\\u5212\\u7ba1\\u7406\", \"\\u4ea4\\u6613\\u8f7d\\u4f53\", \"\\u653f\\u91c7\\u4e91\\u9a7b\\u573a\", \"\\u7535\\u5b50\\u5356\\u573a1\", \"\\u5171\\u4eab\\u524d\\u7aef\", \"\\u5171\\u4eab\\u4e1a\\u52a1\\u8d28\\u91cf\\u4fdd\\u969c\", \"\\u8d22\\u653f\\u7ba1\\u7406\", \"\\u5e73\\u53f0\\u8fd0\\u8425\", \"\\u5546\\u54c1\\u4e2d\\u5fc3\"], \"y\": [27.0, 23.0, 22.666666666666668, 20.0, 17.894736842105264, 17.714285714285715, 14.166666666666666, 14.0, 13.0, 10.428571428571429], \"type\": \"bar\", \"uid\": \"c72ef8ab-c29c-4bc8-8632-49c4a169ff6f\"}], {\"title\": \"\\u90e8\\u95e8\\u4eba\\u5747\\u5de5\\u65f6\\u5206\\u5e03\", \"xaxis\": {\"tickmode\": \"linear\", \"title\": \"\\u90e8\\u95e8\"}, \"yaxis\": {\"title\": \"\\u4eba\\u5747\\u5de5\\u65f6\"}}, {\"showLink\": true, \"linkText\": \"Export to plot.ly\"})});</script><script type=\"text/javascript\">window.addEventListener(\"resize\", function(){window._Plotly.Plots.resize(document.getElementById(\"07951b3c-7383-4b59-a402-f0c276283d33\"));});</script>"
      ]
     },
     "metadata": {},
     "output_type": "display_data"
    }
   ],
   "source": [
    "d2 = d.groupby(['department'], as_index=False).agg({'displayName': 'count', 'effort': 'sum'})\n",
    "d2['dept_ave_effort'] = d2['effort']/d2['displayName']\n",
    "d2 = d2.sort_values(by = ['dept_ave_effort'], ascending=False)\n",
    "\n",
    "bar_charts(d2, 'department', 'dept_ave_effort', '部门人均工时分布', '部门', '人均工时' )"
   ]
  },
  {
   "cell_type": "markdown",
   "metadata": {},
   "source": [
    "以上柱状图为每个部门的人均工时分布，支付结算部门的人均工时最多，为27天，而商品中心部门的人均工时最少，为10.4天"
   ]
  },
  {
   "cell_type": "code",
   "execution_count": 19,
   "metadata": {
    "scrolled": false
   },
   "outputs": [
    {
     "data": {
      "application/vnd.plotly.v1+json": {
       "data": [
        {
         "name": "交易载体",
         "type": "box",
         "uid": "366b56cc-3655-4ccd-a26e-0db2f2f4d169",
         "y": [
          35,
          21,
          12
         ]
        },
        {
         "name": "共享业务质量保障",
         "type": "box",
         "uid": "2e3ee0d1-d3eb-4bfb-a593-403371be76c3",
         "y": [
          18,
          9,
          26,
          14,
          18,
          0
         ]
        },
        {
         "name": "共享前端",
         "type": "box",
         "uid": "b75edb28-e2c1-4cae-8e7d-042525ab85d1",
         "y": [
          27,
          26,
          31,
          24,
          0,
          11,
          5
         ]
        },
        {
         "name": "商品中心",
         "type": "box",
         "uid": "d1c88bfb-1126-41cf-9a56-b61a009369a8",
         "y": [
          0,
          0,
          0,
          27,
          26,
          10,
          10
         ]
        },
        {
         "name": "平台运营",
         "type": "box",
         "uid": "19cfb5bb-9914-4d53-ab36-b001ff0a50a2",
         "y": [
          13
         ]
        },
        {
         "name": "支付结算",
         "type": "box",
         "uid": "6bf75ee7-6eed-4ea7-95ba-7e86449d400e",
         "y": [
          35,
          35,
          28,
          37,
          18,
          12,
          24
         ]
        },
        {
         "name": "政采云驻场",
         "type": "box",
         "uid": "8e1994b8-39a1-4e35-9e11-fc5ea7785d23",
         "y": [
          20
         ]
        },
        {
         "name": "电子卖场1",
         "type": "box",
         "uid": "4df670e1-c1a3-490c-a4ae-e66f118f455e",
         "y": [
          31,
          13,
          13,
          31,
          22,
          0,
          10,
          10,
          0,
          37,
          20,
          0,
          19,
          20,
          11,
          19,
          16,
          37,
          31
         ]
        },
        {
         "name": "计划管理",
         "type": "box",
         "uid": "b9539e6a-ff76-4438-a6c9-dd97d253efda",
         "y": [
          27,
          25,
          9,
          31
         ]
        },
        {
         "name": "财政管理",
         "type": "box",
         "uid": "4460c14d-1fd4-4370-b9cd-99987e2cfb80",
         "y": [
          14
         ]
        },
        {
         "line": {
          "color": "#FF3333"
         },
         "mode": "lines",
         "name": "全体员工工时中位数",
         "type": "scatter",
         "uid": "ee7e7dfc-4b69-447b-b243-aceaab663826",
         "x": [
          "电子卖场1",
          "平台运营",
          "计划管理",
          "交易载体",
          "支付结算",
          "共享前端",
          "财政管理",
          "共享业务质量保障",
          "政采云驻场",
          "商品中心"
         ],
         "y": [
          18.5,
          18.5,
          18.5,
          18.5,
          18.5,
          18.5,
          18.5,
          18.5,
          18.5,
          18.5
         ]
        }
       ],
       "layout": {}
      },
      "text/html": [
       "<div id=\"be6adc5f-6d71-4ce1-9932-76b744ce4f4c\" style=\"height: 525px; width: 100%;\" class=\"plotly-graph-div\"></div><script type=\"text/javascript\">require([\"plotly\"], function(Plotly) { window.PLOTLYENV=window.PLOTLYENV || {};window.PLOTLYENV.BASE_URL=\"https://plot.ly\";Plotly.newPlot(\"be6adc5f-6d71-4ce1-9932-76b744ce4f4c\", [{\"name\": \"\\u4ea4\\u6613\\u8f7d\\u4f53\", \"y\": [35, 21, 12], \"type\": \"box\", \"uid\": \"c096ce65-48f6-4b7e-bd7a-15e8a0838204\"}, {\"name\": \"\\u5171\\u4eab\\u4e1a\\u52a1\\u8d28\\u91cf\\u4fdd\\u969c\", \"y\": [18, 9, 26, 14, 18, 0], \"type\": \"box\", \"uid\": \"b167f4bb-6bca-4bec-8eff-33409c0ab6db\"}, {\"name\": \"\\u5171\\u4eab\\u524d\\u7aef\", \"y\": [27, 26, 31, 24, 0, 11, 5], \"type\": \"box\", \"uid\": \"30bb1c06-9984-4a81-82e9-2e73a2072dd7\"}, {\"name\": \"\\u5546\\u54c1\\u4e2d\\u5fc3\", \"y\": [0, 0, 0, 27, 26, 10, 10], \"type\": \"box\", \"uid\": \"841272c8-9d2f-4367-b043-d119d68e9ae9\"}, {\"name\": \"\\u5e73\\u53f0\\u8fd0\\u8425\", \"y\": [13], \"type\": \"box\", \"uid\": \"a8794d65-5c3e-4ead-b3ec-d23eb423207e\"}, {\"name\": \"\\u652f\\u4ed8\\u7ed3\\u7b97\", \"y\": [35, 35, 28, 37, 18, 12, 24], \"type\": \"box\", \"uid\": \"ece6a045-ebad-4e67-8e5e-2170980c49c0\"}, {\"name\": \"\\u653f\\u91c7\\u4e91\\u9a7b\\u573a\", \"y\": [20], \"type\": \"box\", \"uid\": \"53078b92-8b1a-46cb-9840-35c79478436c\"}, {\"name\": \"\\u7535\\u5b50\\u5356\\u573a1\", \"y\": [31, 13, 13, 31, 22, 0, 10, 10, 0, 37, 20, 0, 19, 20, 11, 19, 16, 37, 31], \"type\": \"box\", \"uid\": \"c0ad05c9-63db-4710-8a75-b15882872c56\"}, {\"name\": \"\\u8ba1\\u5212\\u7ba1\\u7406\", \"y\": [27, 25, 9, 31], \"type\": \"box\", \"uid\": \"c7b544fc-0c27-4497-b674-d61e1b71a3d6\"}, {\"name\": \"\\u8d22\\u653f\\u7ba1\\u7406\", \"y\": [14], \"type\": \"box\", \"uid\": \"938a02f2-2ad4-40a2-81b9-07ab3721c926\"}, {\"line\": {\"color\": \"#FF3333\"}, \"mode\": \"lines\", \"name\": \"\\u5168\\u4f53\\u5458\\u5de5\\u5de5\\u65f6\\u4e2d\\u4f4d\\u6570\", \"x\": [\"\\u7535\\u5b50\\u5356\\u573a1\", \"\\u5e73\\u53f0\\u8fd0\\u8425\", \"\\u8ba1\\u5212\\u7ba1\\u7406\", \"\\u4ea4\\u6613\\u8f7d\\u4f53\", \"\\u652f\\u4ed8\\u7ed3\\u7b97\", \"\\u5171\\u4eab\\u524d\\u7aef\", \"\\u8d22\\u653f\\u7ba1\\u7406\", \"\\u5171\\u4eab\\u4e1a\\u52a1\\u8d28\\u91cf\\u4fdd\\u969c\", \"\\u653f\\u91c7\\u4e91\\u9a7b\\u573a\", \"\\u5546\\u54c1\\u4e2d\\u5fc3\"], \"y\": [18.5, 18.5, 18.5, 18.5, 18.5, 18.5, 18.5, 18.5, 18.5, 18.5], \"type\": \"scatter\", \"uid\": \"cc9cd1ac-db42-4317-9e7e-73b2d29121be\"}], {}, {\"showLink\": true, \"linkText\": \"Export to plot.ly\"})});</script><script type=\"text/javascript\">window.addEventListener(\"resize\", function(){window._Plotly.Plots.resize(document.getElementById(\"be6adc5f-6d71-4ce1-9932-76b744ce4f4c\"));});</script>"
      ],
      "text/vnd.plotly.v1+html": [
       "<div id=\"be6adc5f-6d71-4ce1-9932-76b744ce4f4c\" style=\"height: 525px; width: 100%;\" class=\"plotly-graph-div\"></div><script type=\"text/javascript\">require([\"plotly\"], function(Plotly) { window.PLOTLYENV=window.PLOTLYENV || {};window.PLOTLYENV.BASE_URL=\"https://plot.ly\";Plotly.newPlot(\"be6adc5f-6d71-4ce1-9932-76b744ce4f4c\", [{\"name\": \"\\u4ea4\\u6613\\u8f7d\\u4f53\", \"y\": [35, 21, 12], \"type\": \"box\", \"uid\": \"c096ce65-48f6-4b7e-bd7a-15e8a0838204\"}, {\"name\": \"\\u5171\\u4eab\\u4e1a\\u52a1\\u8d28\\u91cf\\u4fdd\\u969c\", \"y\": [18, 9, 26, 14, 18, 0], \"type\": \"box\", \"uid\": \"b167f4bb-6bca-4bec-8eff-33409c0ab6db\"}, {\"name\": \"\\u5171\\u4eab\\u524d\\u7aef\", \"y\": [27, 26, 31, 24, 0, 11, 5], \"type\": \"box\", \"uid\": \"30bb1c06-9984-4a81-82e9-2e73a2072dd7\"}, {\"name\": \"\\u5546\\u54c1\\u4e2d\\u5fc3\", \"y\": [0, 0, 0, 27, 26, 10, 10], \"type\": \"box\", \"uid\": \"841272c8-9d2f-4367-b043-d119d68e9ae9\"}, {\"name\": \"\\u5e73\\u53f0\\u8fd0\\u8425\", \"y\": [13], \"type\": \"box\", \"uid\": \"a8794d65-5c3e-4ead-b3ec-d23eb423207e\"}, {\"name\": \"\\u652f\\u4ed8\\u7ed3\\u7b97\", \"y\": [35, 35, 28, 37, 18, 12, 24], \"type\": \"box\", \"uid\": \"ece6a045-ebad-4e67-8e5e-2170980c49c0\"}, {\"name\": \"\\u653f\\u91c7\\u4e91\\u9a7b\\u573a\", \"y\": [20], \"type\": \"box\", \"uid\": \"53078b92-8b1a-46cb-9840-35c79478436c\"}, {\"name\": \"\\u7535\\u5b50\\u5356\\u573a1\", \"y\": [31, 13, 13, 31, 22, 0, 10, 10, 0, 37, 20, 0, 19, 20, 11, 19, 16, 37, 31], \"type\": \"box\", \"uid\": \"c0ad05c9-63db-4710-8a75-b15882872c56\"}, {\"name\": \"\\u8ba1\\u5212\\u7ba1\\u7406\", \"y\": [27, 25, 9, 31], \"type\": \"box\", \"uid\": \"c7b544fc-0c27-4497-b674-d61e1b71a3d6\"}, {\"name\": \"\\u8d22\\u653f\\u7ba1\\u7406\", \"y\": [14], \"type\": \"box\", \"uid\": \"938a02f2-2ad4-40a2-81b9-07ab3721c926\"}, {\"line\": {\"color\": \"#FF3333\"}, \"mode\": \"lines\", \"name\": \"\\u5168\\u4f53\\u5458\\u5de5\\u5de5\\u65f6\\u4e2d\\u4f4d\\u6570\", \"x\": [\"\\u7535\\u5b50\\u5356\\u573a1\", \"\\u5e73\\u53f0\\u8fd0\\u8425\", \"\\u8ba1\\u5212\\u7ba1\\u7406\", \"\\u4ea4\\u6613\\u8f7d\\u4f53\", \"\\u652f\\u4ed8\\u7ed3\\u7b97\", \"\\u5171\\u4eab\\u524d\\u7aef\", \"\\u8d22\\u653f\\u7ba1\\u7406\", \"\\u5171\\u4eab\\u4e1a\\u52a1\\u8d28\\u91cf\\u4fdd\\u969c\", \"\\u653f\\u91c7\\u4e91\\u9a7b\\u573a\", \"\\u5546\\u54c1\\u4e2d\\u5fc3\"], \"y\": [18.5, 18.5, 18.5, 18.5, 18.5, 18.5, 18.5, 18.5, 18.5, 18.5], \"type\": \"scatter\", \"uid\": \"cc9cd1ac-db42-4317-9e7e-73b2d29121be\"}], {}, {\"showLink\": true, \"linkText\": \"Export to plot.ly\"})});</script><script type=\"text/javascript\">window.addEventListener(\"resize\", function(){window._Plotly.Plots.resize(document.getElementById(\"be6adc5f-6d71-4ce1-9932-76b744ce4f4c\"));});</script>"
      ]
     },
     "metadata": {},
     "output_type": "display_data"
    }
   ],
   "source": [
    "data = []\n",
    "d3 = d.groupby('department').groups.keys()\n",
    "for department in d3:\n",
    "    trace = Box(\n",
    "        y = d['effort'][d['department'] == department],\n",
    "        name = department,\n",
    "    )\n",
    "    data.append(trace)\n",
    "\n",
    "medium_line = Scatter(\n",
    "    x = d['department'].unique(),\n",
    "    y = np.full(len(d['department'].unique()), d['effort'].quantile(q=0.5)),\n",
    "    name = '全体员工工时中位数',\n",
    "    mode = 'lines',\n",
    "    line=dict(color = '#FF3333')\n",
    ")\n",
    "\n",
    "data.append(medium_line)\n",
    " \n",
    "py.iplot(data)"
   ]
  },
  {
   "cell_type": "markdown",
   "metadata": {},
   "source": [
    "以上图形为各部门员工工时分布的箱线图，其中：   \n",
    "支付结算、计划管理、交易载体这3个部门员工研发工时较多，高于全体中位数，并且员工工时分布比较集中；  \n",
    "共享前端部门员工研发工时中位数高于全体中位数，但是员工工时分布比较分散，有部分员工工时较少；  \n",
    "电子卖场1部门员工研发工时中位数与全体中位数持平；  \n",
    "共享业务质量保证部门所有员工研发工时低于全体中位数，并且员工工时分布比较集中；  \n",
    "商品中心部门员工研发工时中位数远低于全体中位数，员工工时分布比较分散。"
   ]
  },
  {
   "cell_type": "markdown",
   "metadata": {},
   "source": [
    "### 3.3 3D图总体分析"
   ]
  },
  {
   "cell_type": "code",
   "execution_count": 26,
   "metadata": {},
   "outputs": [
    {
     "data": {
      "text/html": [
       "<script>\n",
       "    require.config({\n",
       "        paths: {\n",
       "            'echarts': '/nbextensions/echarts/echarts.min', 'echartsgl': '/nbextensions/echarts/echarts-gl.min'\n",
       "        }\n",
       "    });\n",
       "</script>\n",
       "    <div id=\"bc370953f56241e7ba3be2e69097207c\" style=\"width:1200px;height:600px;\"></div>\n",
       "\n",
       "\n",
       "<script>\n",
       "    require(['echarts', 'echartsgl'], function(echarts) {\n",
       "        \n",
       "var myChart_bc370953f56241e7ba3be2e69097207c = echarts.init(document.getElementById('bc370953f56241e7ba3be2e69097207c'), 'light', {renderer: 'canvas'});\n",
       "\n",
       "var option_bc370953f56241e7ba3be2e69097207c = {\n",
       "    \"title\": [\n",
       "        {\n",
       "            \"text\": \"\\u7814\\u53d1\\u5de5\\u65f6\\u5206\\u5e03\\u56fe\",\n",
       "            \"left\": \"auto\",\n",
       "            \"top\": \"auto\",\n",
       "            \"textStyle\": {\n",
       "                \"fontSize\": 18\n",
       "            },\n",
       "            \"subtextStyle\": {\n",
       "                \"fontSize\": 12\n",
       "            }\n",
       "        }\n",
       "    ],\n",
       "    \"toolbox\": {\n",
       "        \"show\": true,\n",
       "        \"orient\": \"vertical\",\n",
       "        \"left\": \"95%\",\n",
       "        \"top\": \"center\",\n",
       "        \"feature\": {\n",
       "            \"saveAsImage\": {\n",
       "                \"show\": true,\n",
       "                \"title\": \"save as image\"\n",
       "            },\n",
       "            \"restore\": {\n",
       "                \"show\": true,\n",
       "                \"title\": \"restore\"\n",
       "            },\n",
       "            \"dataView\": {\n",
       "                \"show\": true,\n",
       "                \"title\": \"data view\"\n",
       "            }\n",
       "        }\n",
       "    },\n",
       "    \"series_id\": 5247718,\n",
       "    \"tooltip\": {\n",
       "        \"trigger\": \"item\",\n",
       "        \"triggerOn\": \"mousemove|click\",\n",
       "        \"axisPointer\": {\n",
       "            \"type\": \"line\"\n",
       "        },\n",
       "        \"textStyle\": {\n",
       "            \"fontSize\": 14\n",
       "        },\n",
       "        \"backgroundColor\": \"rgba(50,50,50,0.7)\",\n",
       "        \"borderColor\": \"#333\",\n",
       "        \"borderWidth\": 0\n",
       "    },\n",
       "    \"series\": [\n",
       "        {\n",
       "            \"type\": \"bar3D\",\n",
       "            \"data\": [\n",
       "                [\n",
       "                    \"\\u767d\\u9f99\",\n",
       "                    \"\\u7535\\u5b50\\u5356\\u573a1\",\n",
       "                    31\n",
       "                ],\n",
       "                [\n",
       "                    \"\\u4e09\\u65a4\",\n",
       "                    \"\\u7535\\u5b50\\u5356\\u573a1\",\n",
       "                    13\n",
       "                ],\n",
       "                [\n",
       "                    \"\\u963f\\u98de\",\n",
       "                    \"\\u7535\\u5b50\\u5356\\u573a1\",\n",
       "                    13\n",
       "                ],\n",
       "                [\n",
       "                    \"\\u8d8a\\u964c\",\n",
       "                    \"\\u7535\\u5b50\\u5356\\u573a1\",\n",
       "                    31\n",
       "                ],\n",
       "                [\n",
       "                    \"\\u8001\\u66f9\",\n",
       "                    \"\\u7535\\u5b50\\u5356\\u573a1\",\n",
       "                    22\n",
       "                ],\n",
       "                [\n",
       "                    \"\\u866b\\u4e8c\",\n",
       "                    \"\\u7535\\u5b50\\u5356\\u573a1\",\n",
       "                    0\n",
       "                ],\n",
       "                [\n",
       "                    \"\\u8d1d\\u5854\",\n",
       "                    \"\\u7535\\u5b50\\u5356\\u573a1\",\n",
       "                    10\n",
       "                ],\n",
       "                [\n",
       "                    \"\\u5c3c\\u91c7\",\n",
       "                    \"\\u7535\\u5b50\\u5356\\u573a1\",\n",
       "                    10\n",
       "                ],\n",
       "                [\n",
       "                    \"\\u6cfd\\u6ea5\",\n",
       "                    \"\\u7535\\u5b50\\u5356\\u573a1\",\n",
       "                    0\n",
       "                ],\n",
       "                [\n",
       "                    \"\\u81f4\\u8651\",\n",
       "                    \"\\u7535\\u5b50\\u5356\\u573a1\",\n",
       "                    37\n",
       "                ],\n",
       "                [\n",
       "                    \"\\u5f6c\\u5f6c\",\n",
       "                    \"\\u7535\\u5b50\\u5356\\u573a1\",\n",
       "                    20\n",
       "                ],\n",
       "                [\n",
       "                    \"\\u7070\\u8c37\",\n",
       "                    \"\\u7535\\u5b50\\u5356\\u573a1\",\n",
       "                    0\n",
       "                ],\n",
       "                [\n",
       "                    \"\\u53cc\\u6bc5\",\n",
       "                    \"\\u7535\\u5b50\\u5356\\u573a1\",\n",
       "                    19\n",
       "                ],\n",
       "                [\n",
       "                    \"\\u5e7d\\u660e\",\n",
       "                    \"\\u7535\\u5b50\\u5356\\u573a1\",\n",
       "                    20\n",
       "                ],\n",
       "                [\n",
       "                    \"\\u4e1c\\u98ce\",\n",
       "                    \"\\u7535\\u5b50\\u5356\\u573a1\",\n",
       "                    11\n",
       "                ],\n",
       "                [\n",
       "                    \"\\u6f8e\\u6e43\",\n",
       "                    \"\\u7535\\u5b50\\u5356\\u573a1\",\n",
       "                    19\n",
       "                ],\n",
       "                [\n",
       "                    \"\\u5b63\\u8282\",\n",
       "                    \"\\u7535\\u5b50\\u5356\\u573a1\",\n",
       "                    16\n",
       "                ],\n",
       "                [\n",
       "                    \"\\u5b87\\u5c18\",\n",
       "                    \"\\u7535\\u5b50\\u5356\\u573a1\",\n",
       "                    37\n",
       "                ],\n",
       "                [\n",
       "                    \"\\u73b2\\u73b2\",\n",
       "                    \"\\u5e73\\u53f0\\u8fd0\\u8425\",\n",
       "                    13\n",
       "                ],\n",
       "                [\n",
       "                    \"\\u5174\\u5b87\",\n",
       "                    \"\\u7535\\u5b50\\u5356\\u573a1\",\n",
       "                    31\n",
       "                ],\n",
       "                [\n",
       "                    \"\\u5341\\u4e09\",\n",
       "                    \"\\u8ba1\\u5212\\u7ba1\\u7406\",\n",
       "                    27\n",
       "                ],\n",
       "                [\n",
       "                    \"\\u767d\\u6768\",\n",
       "                    \"\\u8ba1\\u5212\\u7ba1\\u7406\",\n",
       "                    25\n",
       "                ],\n",
       "                [\n",
       "                    \"\\u607a\\u8fb0\",\n",
       "                    \"\\u8ba1\\u5212\\u7ba1\\u7406\",\n",
       "                    9\n",
       "                ],\n",
       "                [\n",
       "                    \"\\u9ece\\u58a8\",\n",
       "                    \"\\u4ea4\\u6613\\u8f7d\\u4f53\",\n",
       "                    35\n",
       "                ],\n",
       "                [\n",
       "                    \"\\u5173\\u5c14\",\n",
       "                    \"\\u4ea4\\u6613\\u8f7d\\u4f53\",\n",
       "                    21\n",
       "                ],\n",
       "                [\n",
       "                    \"\\u5411\\u9633\",\n",
       "                    \"\\u4ea4\\u6613\\u8f7d\\u4f53\",\n",
       "                    12\n",
       "                ],\n",
       "                [\n",
       "                    \"\\u6d77\\u6839\",\n",
       "                    \"\\u652f\\u4ed8\\u7ed3\\u7b97\",\n",
       "                    35\n",
       "                ],\n",
       "                [\n",
       "                    \"\\u4fee\\u8fdc\",\n",
       "                    \"\\u652f\\u4ed8\\u7ed3\\u7b97\",\n",
       "                    35\n",
       "                ],\n",
       "                [\n",
       "                    \"\\u6674\\u5929\",\n",
       "                    \"\\u652f\\u4ed8\\u7ed3\\u7b97\",\n",
       "                    28\n",
       "                ],\n",
       "                [\n",
       "                    \"\\u767d\\u8d77\",\n",
       "                    \"\\u652f\\u4ed8\\u7ed3\\u7b97\",\n",
       "                    37\n",
       "                ],\n",
       "                [\n",
       "                    \"\\u5b50\\u6d0b\",\n",
       "                    \"\\u5171\\u4eab\\u524d\\u7aef\",\n",
       "                    27\n",
       "                ],\n",
       "                [\n",
       "                    \"\\u7b80\\u540d\",\n",
       "                    \"\\u5171\\u4eab\\u524d\\u7aef\",\n",
       "                    26\n",
       "                ],\n",
       "                [\n",
       "                    \"\\u9cb2\\u9e4f\",\n",
       "                    \"\\u652f\\u4ed8\\u7ed3\\u7b97\",\n",
       "                    18\n",
       "                ],\n",
       "                [\n",
       "                    \"\\u5a01\\u4ed4\",\n",
       "                    \"\\u8ba1\\u5212\\u7ba1\\u7406\",\n",
       "                    31\n",
       "                ],\n",
       "                [\n",
       "                    \"\\u8d75\\u4f1f\",\n",
       "                    \"\\u5171\\u4eab\\u524d\\u7aef\",\n",
       "                    31\n",
       "                ],\n",
       "                [\n",
       "                    \"\\u6e38\\u4fa0\",\n",
       "                    \"\\u652f\\u4ed8\\u7ed3\\u7b97\",\n",
       "                    12\n",
       "                ],\n",
       "                [\n",
       "                    \"\\u548c\\u6b4c\",\n",
       "                    \"\\u652f\\u4ed8\\u7ed3\\u7b97\",\n",
       "                    24\n",
       "                ],\n",
       "                [\n",
       "                    \"\\u4e9a\\u683c\",\n",
       "                    \"\\u5171\\u4eab\\u524d\\u7aef\",\n",
       "                    24\n",
       "                ],\n",
       "                [\n",
       "                    \"\\u4f0a\\u5e03\",\n",
       "                    \"\\u8d22\\u653f\\u7ba1\\u7406\",\n",
       "                    14\n",
       "                ],\n",
       "                [\n",
       "                    \"\\u6668\\u516e\",\n",
       "                    \"\\u5171\\u4eab\\u4e1a\\u52a1\\u8d28\\u91cf\\u4fdd\\u969c\",\n",
       "                    18\n",
       "                ],\n",
       "                [\n",
       "                    \"\\u6c5f\\u6708\",\n",
       "                    \"\\u5171\\u4eab\\u4e1a\\u52a1\\u8d28\\u91cf\\u4fdd\\u969c\",\n",
       "                    9\n",
       "                ],\n",
       "                [\n",
       "                    \"\\u5c45\\u6613\",\n",
       "                    \"\\u5171\\u4eab\\u4e1a\\u52a1\\u8d28\\u91cf\\u4fdd\\u969c\",\n",
       "                    26\n",
       "                ],\n",
       "                [\n",
       "                    \"\\u65e0\\u989c\",\n",
       "                    \"\\u5171\\u4eab\\u4e1a\\u52a1\\u8d28\\u91cf\\u4fdd\\u969c\",\n",
       "                    14\n",
       "                ],\n",
       "                [\n",
       "                    \"\\u4e3d\\u5a1c\",\n",
       "                    \"\\u653f\\u91c7\\u4e91\\u9a7b\\u573a\",\n",
       "                    20\n",
       "                ],\n",
       "                [\n",
       "                    \"\\u5723\\u6654\",\n",
       "                    \"\\u5171\\u4eab\\u4e1a\\u52a1\\u8d28\\u91cf\\u4fdd\\u969c\",\n",
       "                    18\n",
       "                ],\n",
       "                [\n",
       "                    \"\\u6e0a\\u8679\",\n",
       "                    \"\\u5546\\u54c1\\u4e2d\\u5fc3\",\n",
       "                    0\n",
       "                ],\n",
       "                [\n",
       "                    \"\\u51c9\\u4e00\",\n",
       "                    \"\\u5546\\u54c1\\u4e2d\\u5fc3\",\n",
       "                    0\n",
       "                ],\n",
       "                [\n",
       "                    \"\\u5955\\u94ed\",\n",
       "                    \"\\u5546\\u54c1\\u4e2d\\u5fc3\",\n",
       "                    0\n",
       "                ],\n",
       "                [\n",
       "                    \"\\u5927\\u58a8\",\n",
       "                    \"\\u5546\\u54c1\\u4e2d\\u5fc3\",\n",
       "                    27\n",
       "                ],\n",
       "                [\n",
       "                    \"\\u9e7f\\u9e23\",\n",
       "                    \"\\u5546\\u54c1\\u4e2d\\u5fc3\",\n",
       "                    26\n",
       "                ],\n",
       "                [\n",
       "                    \"\\u71a0\\u7136\",\n",
       "                    \"\\u5546\\u54c1\\u4e2d\\u5fc3\",\n",
       "                    10\n",
       "                ],\n",
       "                [\n",
       "                    \"\\u661f\\u6cb3\",\n",
       "                    \"\\u5546\\u54c1\\u4e2d\\u5fc3\",\n",
       "                    10\n",
       "                ],\n",
       "                [\n",
       "                    \"\\u5b50\\u6728\",\n",
       "                    \"\\u5171\\u4eab\\u524d\\u7aef\",\n",
       "                    0\n",
       "                ],\n",
       "                [\n",
       "                    \"\\u9a6c\\u98de\",\n",
       "                    \"\\u5171\\u4eab\\u524d\\u7aef\",\n",
       "                    11\n",
       "                ],\n",
       "                [\n",
       "                    \"\\u6d77\\u79cb\",\n",
       "                    \"\\u5171\\u4eab\\u524d\\u7aef\",\n",
       "                    5\n",
       "                ],\n",
       "                [\n",
       "                    \"\\u4e00\\u5f26\",\n",
       "                    \"\\u5171\\u4eab\\u4e1a\\u52a1\\u8d28\\u91cf\\u4fdd\\u969c\",\n",
       "                    0\n",
       "                ]\n",
       "            ],\n",
       "            \"label\": {\n",
       "                \"normal\": {\n",
       "                    \"show\": false,\n",
       "                    \"position\": \"top\",\n",
       "                    \"textStyle\": {\n",
       "                        \"fontSize\": 12\n",
       "                    }\n",
       "                },\n",
       "                \"emphasis\": {\n",
       "                    \"show\": true,\n",
       "                    \"textStyle\": {\n",
       "                        \"fontSize\": 12\n",
       "                    }\n",
       "                }\n",
       "            },\n",
       "            \"shading\": \"realistic\",\n",
       "            \"itemStyle\": {\n",
       "                \"opacity\": 1\n",
       "            }\n",
       "        }\n",
       "    ],\n",
       "    \"legend\": [\n",
       "        {\n",
       "            \"data\": [\n",
       "                \"\"\n",
       "            ],\n",
       "            \"selectedMode\": \"multiple\",\n",
       "            \"show\": true,\n",
       "            \"left\": \"center\",\n",
       "            \"top\": \"top\",\n",
       "            \"orient\": \"horizontal\",\n",
       "            \"textStyle\": {\n",
       "                \"fontSize\": 12\n",
       "            }\n",
       "        }\n",
       "    ],\n",
       "    \"animation\": true,\n",
       "    \"xAxis3D\": {\n",
       "        \"nameGap\": 20,\n",
       "        \"nameTextStyle\": {\n",
       "            \"fontSize\": 16\n",
       "        },\n",
       "        \"type\": \"category\",\n",
       "        \"axisLabel\": {\n",
       "            \"margin\": 8,\n",
       "            \"interval\": \"auto\"\n",
       "        },\n",
       "        \"data\": [\n",
       "            \"\\u767d\\u9f99\",\n",
       "            \"\\u4e09\\u65a4\",\n",
       "            \"\\u963f\\u98de\",\n",
       "            \"\\u8d8a\\u964c\",\n",
       "            \"\\u8001\\u66f9\",\n",
       "            \"\\u866b\\u4e8c\",\n",
       "            \"\\u8d1d\\u5854\",\n",
       "            \"\\u5c3c\\u91c7\",\n",
       "            \"\\u6cfd\\u6ea5\",\n",
       "            \"\\u81f4\\u8651\",\n",
       "            \"\\u5f6c\\u5f6c\",\n",
       "            \"\\u7070\\u8c37\",\n",
       "            \"\\u53cc\\u6bc5\",\n",
       "            \"\\u5e7d\\u660e\",\n",
       "            \"\\u4e1c\\u98ce\",\n",
       "            \"\\u6f8e\\u6e43\",\n",
       "            \"\\u5b63\\u8282\",\n",
       "            \"\\u5b87\\u5c18\",\n",
       "            \"\\u73b2\\u73b2\",\n",
       "            \"\\u5174\\u5b87\",\n",
       "            \"\\u5341\\u4e09\",\n",
       "            \"\\u767d\\u6768\",\n",
       "            \"\\u607a\\u8fb0\",\n",
       "            \"\\u9ece\\u58a8\",\n",
       "            \"\\u5173\\u5c14\",\n",
       "            \"\\u5411\\u9633\",\n",
       "            \"\\u6d77\\u6839\",\n",
       "            \"\\u4fee\\u8fdc\",\n",
       "            \"\\u6674\\u5929\",\n",
       "            \"\\u767d\\u8d77\",\n",
       "            \"\\u5b50\\u6d0b\",\n",
       "            \"\\u7b80\\u540d\",\n",
       "            \"\\u9cb2\\u9e4f\",\n",
       "            \"\\u5a01\\u4ed4\",\n",
       "            \"\\u8d75\\u4f1f\",\n",
       "            \"\\u6e38\\u4fa0\",\n",
       "            \"\\u548c\\u6b4c\",\n",
       "            \"\\u4e9a\\u683c\",\n",
       "            \"\\u4f0a\\u5e03\",\n",
       "            \"\\u6668\\u516e\",\n",
       "            \"\\u6c5f\\u6708\",\n",
       "            \"\\u5c45\\u6613\",\n",
       "            \"\\u65e0\\u989c\",\n",
       "            \"\\u4e3d\\u5a1c\",\n",
       "            \"\\u5723\\u6654\",\n",
       "            \"\\u6e0a\\u8679\",\n",
       "            \"\\u51c9\\u4e00\",\n",
       "            \"\\u5955\\u94ed\",\n",
       "            \"\\u5927\\u58a8\",\n",
       "            \"\\u9e7f\\u9e23\",\n",
       "            \"\\u71a0\\u7136\",\n",
       "            \"\\u661f\\u6cb3\",\n",
       "            \"\\u5b50\\u6728\",\n",
       "            \"\\u9a6c\\u98de\",\n",
       "            \"\\u6d77\\u79cb\",\n",
       "            \"\\u4e00\\u5f26\"\n",
       "        ]\n",
       "    },\n",
       "    \"yAxis3D\": {\n",
       "        \"nameGap\": 20,\n",
       "        \"nameTextStyle\": {\n",
       "            \"fontSize\": 16\n",
       "        },\n",
       "        \"type\": \"category\",\n",
       "        \"axisLabel\": {\n",
       "            \"margin\": 8,\n",
       "            \"interval\": \"auto\"\n",
       "        },\n",
       "        \"data\": [\n",
       "            \"\\u7535\\u5b50\\u5356\\u573a1\",\n",
       "            \"\\u5e73\\u53f0\\u8fd0\\u8425\",\n",
       "            \"\\u8ba1\\u5212\\u7ba1\\u7406\",\n",
       "            \"\\u4ea4\\u6613\\u8f7d\\u4f53\",\n",
       "            \"\\u652f\\u4ed8\\u7ed3\\u7b97\",\n",
       "            \"\\u5171\\u4eab\\u524d\\u7aef\",\n",
       "            \"\\u8d22\\u653f\\u7ba1\\u7406\",\n",
       "            \"\\u5171\\u4eab\\u4e1a\\u52a1\\u8d28\\u91cf\\u4fdd\\u969c\",\n",
       "            \"\\u653f\\u91c7\\u4e91\\u9a7b\\u573a\",\n",
       "            \"\\u5546\\u54c1\\u4e2d\\u5fc3\"\n",
       "        ]\n",
       "    },\n",
       "    \"zAxis3D\": {\n",
       "        \"nameGap\": 20,\n",
       "        \"nameTextStyle\": {\n",
       "            \"fontSize\": 16\n",
       "        },\n",
       "        \"type\": \"value\",\n",
       "        \"axisLabel\": {\n",
       "            \"margin\": 8\n",
       "        }\n",
       "    },\n",
       "    \"grid3D\": {\n",
       "        \"boxWidth\": 200,\n",
       "        \"boxHeight\": 100,\n",
       "        \"boxDepth\": 80,\n",
       "        \"viewControl\": {\n",
       "            \"autoRotate\": false,\n",
       "            \"autoRotateSpeed\": 10,\n",
       "            \"rotateSensitivity\": 1\n",
       "        }\n",
       "    },\n",
       "    \"color\": [\n",
       "        \"#c23531\",\n",
       "        \"#2f4554\",\n",
       "        \"#61a0a8\",\n",
       "        \"#d48265\",\n",
       "        \"#749f83\",\n",
       "        \"#ca8622\",\n",
       "        \"#bda29a\",\n",
       "        \"#6e7074\",\n",
       "        \"#546570\",\n",
       "        \"#c4ccd3\",\n",
       "        \"#f05b72\",\n",
       "        \"#ef5b9c\",\n",
       "        \"#f47920\",\n",
       "        \"#905a3d\",\n",
       "        \"#fab27b\",\n",
       "        \"#2a5caa\",\n",
       "        \"#444693\",\n",
       "        \"#726930\",\n",
       "        \"#b2d235\",\n",
       "        \"#6d8346\",\n",
       "        \"#ac6767\",\n",
       "        \"#1d953f\",\n",
       "        \"#6950a1\",\n",
       "        \"#918597\",\n",
       "        \"#f6f5ec\"\n",
       "    ],\n",
       "    \"visualMap\": {\n",
       "        \"type\": \"continuous\",\n",
       "        \"min\": 0,\n",
       "        \"max\": 30,\n",
       "        \"text\": [\n",
       "            \"high\",\n",
       "            \"low\"\n",
       "        ],\n",
       "        \"textStyle\": {},\n",
       "        \"inRange\": {\n",
       "            \"color\": [\n",
       "                \"#50a3ba\",\n",
       "                \"#eac763\",\n",
       "                \"#d94e5d\"\n",
       "            ]\n",
       "        },\n",
       "        \"calculable\": true,\n",
       "        \"splitNumber\": 5,\n",
       "        \"orient\": \"vertical\",\n",
       "        \"left\": \"left\",\n",
       "        \"top\": \"bottom\",\n",
       "        \"showLabel\": true\n",
       "    }\n",
       "};\n",
       "myChart_bc370953f56241e7ba3be2e69097207c.setOption(option_bc370953f56241e7ba3be2e69097207c);\n",
       "\n",
       "    });\n",
       "</script>\n"
      ],
      "text/plain": [
       "<pyecharts.charts.bar3D.Bar3D at 0x1a1afa79e8>"
      ]
     },
     "execution_count": 26,
     "metadata": {},
     "output_type": "execute_result"
    }
   ],
   "source": [
    "bar3d = Bar3D(\"研发工时分布图\", width=1200, height=600)\n",
    "x_axis = d['displayName']\n",
    "y_axis = d['department'].unique()\n",
    "data = []\n",
    "for index, row in d.iterrows():\n",
    "    data.append([row['displayName'], row['department'], row['effort']])\n",
    "bar3d.add(\n",
    "    \"\",\n",
    "    x_axis,\n",
    "    y_axis,\n",
    "    data,\n",
    "    is_visualmap=True,\n",
    "    visual_range=[0, 30],\n",
    "    grid3d_width=200,\n",
    "    grid3d_depth=80,\n",
    "    grid3d_shading=\"realistic\"\n",
    ")\n",
    "bar3d"
   ]
  },
  {
   "cell_type": "markdown",
   "metadata": {},
   "source": [
    "以上3D图可直观地展现每个员工的所属部门，以及研发工时是否太多或者太少。"
   ]
  },
  {
   "cell_type": "markdown",
   "metadata": {},
   "source": [
    "## 4. 结论"
   ]
  },
  {
   "cell_type": "markdown",
   "metadata": {},
   "source": [
    "1. 剔除工时为0的员工后，全体员工的平均研发工时为21天，处在正常水平；  \n",
    "2. 支付结算部门员工的研发压力最大，7人中有5人的工时超过20天，其中海根、修远、白起3人的研发工时超过35天，承担着过大的压力，建议可以把这三人的一些任务分摊给同部门研发工时较少的同事鲲鹏和游侠； \n",
    "3. 计划管理和交易载体两个部门的研发压力其次，并且同样存在任务分配不均问题； \n",
    "4. 电子卖场部门的任务分配不均问题严重，有5人的工时超过30天，其中致虑和宇尘的工时为37天，同时有8人工时少于20天，3人工时为0，建议合理分配任务，降低致虑和宇尘等同学的压力； \n",
    "5. 共享前端部门的研发压力中等，部门平均工时在25天左右，但有少部分人的工时过少； \n",
    "6. 商品中心部门的研发压力较小，但也存在任务分配不均问题； \n",
    "7. 共享业务质量保证部门的研发压力最小，普遍低于全体平均水平； \n"
   ]
  }
 ],
 "metadata": {
  "kernelspec": {
   "display_name": "Python 3",
   "language": "python",
   "name": "python3"
  },
  "language_info": {
   "codemirror_mode": {
    "name": "ipython",
    "version": 3
   },
   "file_extension": ".py",
   "mimetype": "text/x-python",
   "name": "python",
   "nbconvert_exporter": "python",
   "pygments_lexer": "ipython3",
   "version": "3.7.1"
  }
 },
 "nbformat": 4,
 "nbformat_minor": 2
}
